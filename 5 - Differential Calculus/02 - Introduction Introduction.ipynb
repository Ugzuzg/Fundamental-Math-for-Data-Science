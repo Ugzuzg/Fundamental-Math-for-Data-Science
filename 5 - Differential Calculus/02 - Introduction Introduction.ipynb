{
 "cells": [
  {
   "cell_type": "markdown",
   "metadata": {},
   "source": [
    "# Introduction\n",
    "\n",
    "Data scientists often are asked to make data-driven recommendations on the best way to solve a problem. Along the way, they build and fit statistical models to support their claims, make predictions, and more. While creating these models, we often need to find the best solution out of all possible solutions, which is where calculus comes in.\n",
    "\n",
    "Calculus gives us ways to determine how a response variable (like profit, or revenue, or click-through rate) changes with related independent variables (like gas prices, or click-through rate, or time). Understanding how independent variables change with respect to a response variable is essential for choosing an ideal model because it allows us to answer the following question: “what is the most effective model for our given situation?”\n",
    "\n",
    "In this lesson, we will learn some fundamentals of calculus and gain some tools that data scientists use in their everyday jobs.\n",
    "\n",
    "## Instructions\n",
    "\n",
    "The comic to the right shows a problem where we want to find the “best” solution from all possible solutions. The problem here is “what is the optimal time to spend on making a routine more efficient before you spend more time than you save?” Data science is full of problems like these, and to solve them, we often have to use calculus fundamentals!\n"
   ]
  },
  {
   "cell_type": "markdown",
   "metadata": {},
   "source": [
    "![](./assets/optimization-comic.webp)"
   ]
  }
 ],
 "metadata": {
  "interpreter": {
   "hash": "e7370f93d1d0cde622a1f8e1c04877d8463912d04d973331ad4851f04de6915a"
  },
  "kernelspec": {
   "display_name": "Python 3.10.2 64-bit",
   "language": "python",
   "name": "python3"
  },
  "language_info": {
   "name": "python",
   "version": "3.10.2"
  },
  "orig_nbformat": 4
 },
 "nbformat": 4,
 "nbformat_minor": 2
}

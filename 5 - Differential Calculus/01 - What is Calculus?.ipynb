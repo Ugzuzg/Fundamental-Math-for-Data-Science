{
 "cells": [
  {
   "cell_type": "markdown",
   "metadata": {},
   "source": [
    "# What is Calculus?\n",
    "\n",
    "**Learn about what calculus is and how it is important in the field of data science.**\n",
    "\n",
    "The core task of a data scientist is to make data-driven recommendations on the best way to solve a problem. Along the way, data scientists build and fit statistical models to support their claims, make predictions, and more. In this article, we will look at what calculus is and why it is vital in the data science process.\n",
    "\n",
    "## Rate of Change\n",
    "\n",
    "*Differential calculus* is the field that studies rates of change. By quantifying how variables relate to each other, we can better understand our statistical model or physical system. For example, as a data scientist at a t-shirt company, we may want to know how a change in the marketing budget impacts the company’s total profit. Spend too little, and our product won’t be well known; spend too much, and we might reach a point of diminishing returns where our money would be better spent elsewhere. How can we find the optimal size of our marketing budget?\n",
    "\n",
    "## Optimization\n",
    "\n",
    "The last question above is the sort of questions asked and answered by the field of *mathematical optimization*, which intertwines closely with calculus. Optimization problems involve looking for the best solution to a problem. Perhaps that’s finding the ‘optimal’ size of the marketing budget for our company, the point where we maximize our profits with a budget that allows us to reach a broad audience without paying too much. Perhaps that means finding the statistical model that ‘best’ fits our data according to some criteria that we define ourselves— mathematical optimization gives us a way to decide among all our possible options. It is a powerful field that underpins much of the modern machine learning revolution and it is built upon the fundamentals of calculus we will investigate.\n",
    "\n",
    "## Infinitesimal Analysis\n",
    "\n",
    "One of the fundamental paradigms in calculus is to think via *infinitesimals* (extremely small quantities) to say things about instantaneous rates of change. We will discuss this at length in the upcoming lesson. To give a rough overview, however, the idea is that by ‘zooming in’ enough and considering how a variable changes over an infinitesimal time frame, we can learn how that variable is changing instantaneously, at a specific moment in time.\n",
    "\n",
    "## Recap\n",
    "\n",
    "To recap, calculus is essential for a data scientist because it provides a foundation for mathematical optimization, a field used to tune machine learning models to classify and make predictions. With that in mind, let’s dive in.\n"
   ]
  }
 ],
 "metadata": {
  "interpreter": {
   "hash": "e7370f93d1d0cde622a1f8e1c04877d8463912d04d973331ad4851f04de6915a"
  },
  "kernelspec": {
   "display_name": "Python 3.10.2 64-bit",
   "language": "python",
   "name": "python3"
  },
  "language_info": {
   "name": "python",
   "version": "3.10.2"
  },
  "orig_nbformat": 4
 },
 "nbformat": 4,
 "nbformat_minor": 2
}

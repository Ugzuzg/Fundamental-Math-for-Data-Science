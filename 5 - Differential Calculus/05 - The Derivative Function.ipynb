{
 "cells": [
  {
   "cell_type": "markdown",
   "metadata": {},
   "source": [
    "# The Derivative Function\n",
    "\n",
    "In the previous exercise, we discussed the idea of the derivative at a point as the instantaneous rate of change at that point. The idea behind the definition is that by finding how the function changes over increasingly small intervals starting at a point, we can understand how a function changes exactly at that point. The formal expression of this concept is written as:\n",
    "\n",
    "$$\n",
    "\\lim_{h \\rightarrow 0} \\frac{f(x+h) - f(x)}{h}\n",
    "$$\n",
    "\n",
    "An equivalent interpretation is that the derivative is the slope of the tangent line at a point. A *tangent line* at a point is the line that touches the function at that point. Just as the slope of a line describes how a line changes, the slope of the tangent line describes how a “curvier” function changes at a specific point. The visual below shows what a tangent line looks like:\n",
    "\n",
    "![A graph shaped like a sin function with a tangent line on the left part of the graph.](./assets/220px-Tangent_to_a_curve.svg.png)\n",
    "\n",
    "In the applet to the right, you can play around with the tangent line and see how it changes as you move to different values of *x*.\n",
    "\n",
    "Our discussion of taking increasingly smaller intervals in the last exercise gives us a way to calculate the derivative of a function at a point, but this would be a laborious process if we always had to find the derivative at a point this way.\n",
    "\n",
    "Fortunately, many common functions have corresponding derivative functions. Derivative functions are often denoted *f’(x)* (read *f* prime of *x*) or *df/dx* (read derivative of *f* at *x*). If *f(x)* represents the function value at a point *x*, the corresponding derivative function *f’(x)* represents how a function is changing at the same point *x*. Essentially, it saves us from having to draw a tangent line or take a limit to compute the derivative at a point. In later exercises, we will see a number of different rules at our disposal that allow us to calculate the derivatives of common functions. "
   ]
  },
  {
   "cell_type": "markdown",
   "metadata": {},
   "source": [
    "<iframe src=\"https://static-assets.codecademy.com/skillpaths/ds-math/calculus/tangent-1/index.html\" width=\"100%\" height=\"600px\" style=\"border: 0\">"
   ]
  }
 ],
 "metadata": {
  "interpreter": {
   "hash": "e7370f93d1d0cde622a1f8e1c04877d8463912d04d973331ad4851f04de6915a"
  },
  "kernelspec": {
   "display_name": "Python 3.10.2 64-bit",
   "language": "python",
   "name": "python3"
  },
  "language_info": {
   "name": "python",
   "version": "3.10.2"
  },
  "orig_nbformat": 4
 },
 "nbformat": 4,
 "nbformat_minor": 2
}

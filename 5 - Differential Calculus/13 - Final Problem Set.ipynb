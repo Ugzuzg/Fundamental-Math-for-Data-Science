{
 "cells": [
  {
   "cell_type": "markdown",
   "metadata": {},
   "source": [
    "# Final Problem Set\n",
    "\n",
    "**Assess your math skills with a problem set.**\n",
    "\n",
    "Congrats for making it through Fundamental Math for Data Science! To assess your knowledge of content from the path, we put together some questions for you to try.\n",
    "\n",
    "Here are some things you should know before you begin:\n",
    "\n",
    "- Some problems are designed to be done by hand, while some are coding questions.\n",
    "- All problems are based on the material taught in the exercises; using outside sources to solve these problems is discouraged.\n",
    "- If you feel stuck, feel free to use the hint provided to help you out.\n",
    "- When you submit your final answer, an example solution will be provided to you so you can compare both your answer and strategy to solve it.\n"
   ]
  },
  {
   "cell_type": "markdown",
   "metadata": {},
   "source": [
    "## Probability Questions\n",
    "\n",
    "### Problem 1\n",
    "\n",
    "Set A is the set of all multiples of 2. Set B is the set of all multiples of 5. Set C is the set of all multiples of 7. What is A ⋂ B ⋂ C ?\n",
    "\n",
    "<details>\n",
    "    <summary>Answer</summary>\n",
    "\n",
    "\n",
    "Let us write sets A, B, and C using set notation:\n",
    "\n",
    "A, the set of all multiples of 2 = {2, 4, 6, 8, 10, …}\n",
    "B, the set of all multiples of 5 = {5, 10, 15, 20, …}\n",
    "C, the set of all multiples of 7 = {7, 14, 21, 28, …}\n",
    "\n",
    "Step 1: The set of all elements that belong to both A and B, A ⋂ B = {10, 20, 30, …}. Note that this is the set of all multiples of 10.\n",
    "\n",
    "Step 2: The set of all elements that belong to A, B, and C, (A ⋂ B) ⋂ C = {70, 140, …}. Note that this is the set of all multiples of 70.\n",
    "</details>\n",
    "\n"
   ]
  },
  {
   "cell_type": "markdown",
   "metadata": {},
   "source": [
    "### Problem 2\n",
    "\n",
    "We roll three six-sided dice. What is the probability that all rolls come up as a six?\n",
    "\n",
    "<details>\n",
    "    <summary>Answer</summary>\n",
    "\n",
    "We use the product rule for independent events.\n",
    "\n",
    "$$\n",
    "A = Die\\ one\\ roll\\ is\\ a\\ 6,\\ B = Die\\ two\\ roll\\ is\\ a\\ 6,\\ C = Die\\ three\\ roll\\ is\\ a\\ 6\n",
    "$$\n",
    "\n",
    "Each die has a one in six chance of being a 6.\n",
    "\n",
    "$$\n",
    "P(A) = P(B) = P(C) = \\frac{1}{6}\n",
    "$$\n",
    "\n",
    "Using the product rule, we say:\n",
    "\n",
    "$$\n",
    "P(A\\ and\\ B\\ and\\ C) = P(A)\\cdot P(B) \\cdot P(C) \\\\ P(A\\ and\\ B\\ and\\ C) = \\frac{1}{6}\\cdot \\frac{1}{6} \\cdot \\frac{1}{6}\n",
    "$$\n",
    "</details>"
   ]
  },
  {
   "cell_type": "markdown",
   "metadata": {},
   "source": [
    "### Problem 3\n",
    "\n",
    "A patient goes to see their doctor to get tested for a virus. The test is accurate 95 percent of the time given a patient tests positive, but it is only 80 percent accurate given they test negative. The doctor giving the test knows that about 4 percent of the city has the virus. If the patient, tests negative, what are the chances that they actually do have the virus?\n",
    "\n",
    "\n",
    "<details>\n",
    "    <summary>Answer</summary>\n",
    "\n",
    "Start off by organizing what we know:\n",
    "\n",
    "$$\n",
    "P(+|virus) = 0.95\\ \\textit{Probability of positive test given patient has virus}\\\\ P(+|no\\ virus) = 0.05\\ \\textit{Probability of tests positive given patient has no virus} \\\\ P(-|no\\ virus) = 0.80\\ \\textit{Probability of tests negative given patient has no virus} \\\\ P(-|virus) = 0.20\\ \\textit{Probability of tests negative given patient has virus} \\\\ P(virus) = 0.04\\ \\textit{Probability patient has virus} \\\\ P(no\\ virus) = 0.96\\ \\textit{Probability patient has no virus} \\\\\n",
    "$$\n",
    "\n",
    "We are looking for:\n",
    "\n",
    "$$\n",
    "P(virus \\mid -)\n",
    "$$\n",
    "\n",
    "Using Bayes’ Theorem, we write out:\n",
    "\n",
    "$$\n",
    "P(virus \\mid -) = \\frac{P(-|virus) \\cdot P(virus)}{P(-)}\n",
    "$$\n",
    "\n",
    "We can find P(-) by summing two events:\n",
    "\n",
    "$$\n",
    "P(-) = P(-\\ and\\ no\\ virus) + P(-\\ and\\ virus)\n",
    "$$\n",
    "\n",
    "Recall that:\n",
    "\n",
    "$$\n",
    "P(A|B)\\cdot P(B) = P(A\\ and\\ B)\n",
    "$$\n",
    "\n",
    "Therefore, we say:\n",
    "\n",
    "$$\n",
    "P(-\\ and\\ no\\ virus) + P(-\\ and\\ virus) = P(- | no\\ virus)\\cdot P(no\\ virus) + P(-|virus)\\cdot P(virus) \\\\\n",
    "$$\n",
    "\n",
    "Plugging this into the Bayes’ theorem equation, we have:\n",
    "\n",
    "$$\n",
    "P(virus \\mid -) = \\frac{P(-|virus) \\cdot P(virus)}{P(- | no\\ virus)\\cdot P(no\\ virus) + P(-|virus)\\cdot P(virus)}\n",
    "$$\n",
    "\n",
    "P(−∣virus)⋅P(virus)​\n",
    "\n",
    "Finally, plugging in numbers, we have:\n",
    "\n",
    "$$\n",
    "P(virus | -) \\approx .01\n",
    "$$\n",
    "\n",
    "Therefore, even though the test is not 100 percent accurate, we know there is only about a one percent chance a patient has the virus given they test negative.\n",
    "</details>"
   ]
  },
  {
   "cell_type": "markdown",
   "metadata": {},
   "source": [
    "## Statistics Questions\n",
    "\n",
    "### Problem 1\n",
    "\n",
    "Write a program that calculates the average of `my_array` in a variable called `my_array_average`.\n"
   ]
  },
  {
   "cell_type": "code",
   "execution_count": null,
   "metadata": {},
   "outputs": [],
   "source": [
    "import numpy as np\n",
    "\n",
    "my_array = np.array([2, 6, -2, 3, 2, 7])\n"
   ]
  },
  {
   "cell_type": "markdown",
   "metadata": {},
   "source": [
    "#### Solution"
   ]
  },
  {
   "cell_type": "code",
   "execution_count": null,
   "metadata": {},
   "outputs": [],
   "source": [
    "import numpy as np\n",
    "\n",
    "my_array = np.array([2, 6, -2, 3, 2, 7])\n",
    "my_array_average = my_array.mean()"
   ]
  },
  {
   "cell_type": "markdown",
   "metadata": {},
   "source": [
    "### Problem 2\n",
    "\n",
    "Out of a sample of 100 shoppers who visit a website, 23 people bought something. Suppose we are running a hypothesis test for this sample with the following null and alternative hypotheses:\n",
    "\n",
    "- Null hypothesis: 20% of shoppers who visit the website buy something\n",
    "- Alternative hypothesis: More than 20% of shoppers who visit the website buy something\n",
    "\n",
    "Write a program in Python to run a one-sided binomial hypothesis test and save it in a variable called `p_value`. Print out `p_value`. What is your conclusion based on the result?\n"
   ]
  },
  {
   "cell_type": "code",
   "execution_count": null,
   "metadata": {},
   "outputs": [],
   "source": [
    "from scipy.stats import binom_test\n"
   ]
  },
  {
   "cell_type": "markdown",
   "metadata": {},
   "source": [
    "#### Solution"
   ]
  },
  {
   "cell_type": "code",
   "execution_count": 1,
   "metadata": {},
   "outputs": [
    {
     "name": "stdout",
     "output_type": "stream",
     "text": [
      "0.26106724766909445\n"
     ]
    }
   ],
   "source": [
    "from scipy.stats import binom_test\n",
    "\n",
    "p_value = binom_test(23, 100, 0.2, alternative = 'greater')\n",
    "print(p_value)"
   ]
  },
  {
   "cell_type": "markdown",
   "metadata": {},
   "source": [
    "## Linear Algebra Questions\n",
    "\n",
    "### Problem 1\n",
    "\n",
    "Use Gauss-Jordan elimination to solve the following system of equations:\n",
    "\n",
    "$$\n",
    "x-3y+z = 4 \\\\ 2x-8y + 8z = -2 \\\\ -6x+3y-15z = 9 \\\\\n",
    "$$\n",
    "\n",
    "<details>\n",
    "    <summary>Stuck? Get a hint</summary>\n",
    "\n",
    "Write the system of equations in augmented matrix form, and do the following row operations:\n",
    "\n",
    "$$\n",
    "R_{2}: -2R_{1} + R_{2} \\\\ R_{3}: 6R_{1} + R_{3} \\\\ R_{2}: -\\frac{1}{2}R_{2} \\\\ R_{3}: \\frac{1}{3}R_{3} \\\\ R_{3}: -5R_{2} + R_{3} \\\\ R_{3}: -\\frac{1}{18}R_{3}\n",
    "$$\n",
    "\n",
    "After these row operations we have the following system of equations:\n",
    "\n",
    "$$\n",
    "x-3y+z = 4 \\\\ y-3z = 5 \\\\ z = -2\n",
    "$$\n",
    "\n",
    "Our final solutions are:\n",
    "\n",
    "$$\n",
    "x=3\\\\ y=-1 \\\\ z = -2\n",
    "$$\n",
    "</details>"
   ]
  },
  {
   "cell_type": "markdown",
   "metadata": {},
   "source": [
    "### Problem 2\n",
    "\n",
    "Find the inverse of the following matrix:\n",
    "\n",
    "$$\n",
    "\\begin{bmatrix} 2 & 4 & -2 \\\\ -2 & 0 & 1 \\\\ 3 & -3 & 0 \\end{bmatrix}\n",
    "$$\n",
    "\n",
    "<details>\n",
    "    <summary>Answer</summary>\n",
    "\n",
    "Using Gauss-Jordan elimination, we find the following solution:\n",
    "\n",
    "$$\n",
    "A^{-1} = \\begin{bmatrix} \\frac{1}{2} & 1 & \\frac{2}{3} \\\\ \\frac{1}{2} & 1 & \\frac{1}{3} \\\\ 1 & 3 & \\frac{4}{3} \\\\ \\end{bmatrix}\n",
    "$$\n",
    "</details>"
   ]
  },
  {
   "cell_type": "markdown",
   "metadata": {},
   "source": [
    "## Calculus Questions\n",
    "\n",
    "### Problem 1\n",
    "\n",
    "At x=1 is the following function increasing, decreasing, or neither?\n",
    "\n",
    "$$\n",
    "f(x) = x^2 + sin(x)\n",
    "$$\n",
    "\n",
    "<details>\n",
    "    <summary>Answer</summary>\n",
    "\n",
    "The derivative of f(x) is:\n",
    "\n",
    "$$\n",
    "f'(x) = 2x+cos(x)\n",
    "$$\n",
    "\n",
    "At x=1:\n",
    "\n",
    "$$\n",
    "f'(1) = 2(1) + cos(1) > 0\n",
    "$$\n",
    "\n",
    "Therefore, f(x) is INCREASING at x=1.\n",
    "</details>"
   ]
  },
  {
   "cell_type": "markdown",
   "metadata": {},
   "source": [
    "Problem 2\n",
    "Free Response Question\n",
    "\n",
    "Find the derivative of the following function:\n",
    "\n",
    "$$\n",
    "f(x) = 2*ln(x)*sin(x)\n",
    "$$\n",
    "\n",
    "<details>\n",
    "    <summary>Answer</summary>\n",
    "\n",
    "We use the product rule:\n",
    "\n",
    "$$\n",
    "f'(x) = 2ln(x)*(cos(x))+sin(x)*\\frac{2}{x} \\\\ f'(x) = 2ln(x)cos(x)+\\frac{2sin(x)}{x} \\\\\n",
    "$$\n",
    "</details>\n"
   ]
  }
 ],
 "metadata": {
  "interpreter": {
   "hash": "e7370f93d1d0cde622a1f8e1c04877d8463912d04d973331ad4851f04de6915a"
  },
  "kernelspec": {
   "display_name": "Python 3.10.2 64-bit",
   "language": "python",
   "name": "python3"
  },
  "language_info": {
   "codemirror_mode": {
    "name": "ipython",
    "version": 3
   },
   "file_extension": ".py",
   "mimetype": "text/x-python",
   "name": "python",
   "nbconvert_exporter": "python",
   "pygments_lexer": "ipython3",
   "version": "3.10.2"
  },
  "orig_nbformat": 4
 },
 "nbformat": 4,
 "nbformat_minor": 2
}

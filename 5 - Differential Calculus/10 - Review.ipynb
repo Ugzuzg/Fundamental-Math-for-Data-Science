{
 "cells": [
  {
   "cell_type": "markdown",
   "metadata": {},
   "source": [
    "# Review\n",
    "\n",
    "Congrats! You have finished your exploration of differential calculus. This has been a jam-packed lesson, so pat yourself on the back for making it through the material. Let’s review what we have learned throughout the exercises:\n",
    "\n",
    "## Important Concepts\n",
    "\n",
    "- A *limit* is the value of a function approaches as we move to some x value.\n",
    "- The *limit definition of a derivative* shows us how to measure the instantaneous rate of change of a function at a specific point.\n",
    "- A *derivative* is the slope of a tangent line at a specific point. The derivative of a function *f(x)* is denoted as *f’(x)*.\n",
    "- The derivative of a function allows us to determine when a function is increasing, decreasing, or is at a minimum or maximum value.\n",
    "\n",
    "## Derivative Rules\n",
    "\n",
    "We learned the following general derivative rules:\n",
    "\n",
    "$$\n",
    "\\frac{d}{dx} c f(x) = c f'(x) \\\\ \\frac{d}{dx}(f(x) + g(x)) = \\frac{d}{dx}f(x) + \\frac{d}{dx}g(x) \\\\ \\frac{d}{dx}c = 0 \\\\ f(x) = u(x)v(x) \\rightarrow f'(x) =u(x)v'(x) + v(x)u'(x)\n",
    "$$\n",
    "\n",
    "We also learned how to calculate derivatives for explicit functions:\n",
    "\n",
    "$$\n",
    "\\frac{d}{dx}x^{n} = nx^{n-1} \\frac{d}{dx}ln(x) = \\frac{1}{x} \\\\ \\frac{d}{dx}e^x = e^x \\\\ \\frac{d}{dx}sin(x) = cos(x) \\\\ \\frac{d}{dx}cos(x) = -sin(x)\n",
    "$$\n",
    "\n",
    "## Derivatives in Python\n",
    "\n",
    "- `np.gradient()` allows us to calculate derivatives of functions represented by arrays.\n"
   ]
  }
 ],
 "metadata": {
  "language_info": {
   "name": "python"
  },
  "orig_nbformat": 4
 },
 "nbformat": 4,
 "nbformat_minor": 2
}

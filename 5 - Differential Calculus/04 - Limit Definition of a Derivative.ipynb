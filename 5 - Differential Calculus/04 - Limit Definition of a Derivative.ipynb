{
 "cells": [
  {
   "cell_type": "markdown",
   "metadata": {},
   "source": [
    "# Limit Definition of a Derivative\n",
    "\n",
    "Suppose we wanted to measure a runner’s instantaneous speed using a stopwatch. By instantaneous speed, we mean their speed at an exact moment in time.\n",
    "\n",
    "Let’s define *f(t)* as the runner’s distance from the start time at time *t*. How could we find the runner’s instantaneous speed at 1 second after the race? We could record their positions at 1 second and some time after 1 second and then do some calculations. Let’s say we measure their distance from the start at *f(1)* and *f(3)*. The change in position is *f(3) - f(1)*, and the time between 1 second and 3 seconds is 2 seconds, so we can calculate the runner’s average speed to be the following:\n",
    "\n",
    "$$\n",
    "average\\ speed = \\frac{f(3)-f(1)}{3-1}\n",
    "$$\n",
    "\n",
    "However, this gives us the average speed, not the instantaneous speed. We don’t know the runner’s speed at *t=1*; we only know their speed on average over the 2-second interval.\n",
    "\n",
    "If we repeated the process but instead took our second measurement at 1.1 seconds, we could be more accurate since we would find the average speed between 1 and 1.1 seconds. If we took our second measurement at a tiny increment, such as *t=1.0000001*, we would be **approaching** instantaneous speed and get a very accurate measurement. The animation to the right demonstrates this concept.\n",
    "\n",
    "We can generalize this using limits. Define *t = 1* to be the first measurement time, and let’s say we wait *h* seconds until taking the second measurement. Then the second time is *x+h*, and the positions at the two times are *f(x)* and *f(x+h)*. Repeating the exact process as above, we define the runner’s average speed as:\n",
    "\n",
    "$$\n",
    "average\\ speed = \\frac{f(x+h)-f(x)}{(x+h)-x}\n",
    "$$\n",
    "\n",
    "Simplifies to:\n",
    "\n",
    "$$\n",
    "average\\ speed = \\frac{f(x+h)-f(x)}{h}\n",
    "$$\n",
    "\n",
    "Using limits, we can make *h* very small. By taking the limit as *h* goes to 0, we can find the instantaneous rate of change!\n",
    "\n",
    "$$\n",
    "instantaneous\\ rate\\ of\\ change\\ = \\lim_{h \\rightarrow 0} \\frac{f(x+h)}{h}\n",
    "$$\n",
    "\n",
    "This is called the *derivative at a point*, which is the function’s slope (rate of change) at a specific point. In the next few exercises, we will dive further into derivatives.\n",
    "\n",
    "**Note**: We have shown examples where *h* is positive, but it can also be a negative value approaching 0. "
   ]
  },
  {
   "cell_type": "markdown",
   "metadata": {},
   "source": [
    "<iframe src=\"https://static-assets.codecademy.com/skillpaths/ds-math/calculus/limit-derivative/index.html\" width=\"100%\" height=\"600px\" style=\"border: 0\">"
   ]
  }
 ],
 "metadata": {
  "interpreter": {
   "hash": "e7370f93d1d0cde622a1f8e1c04877d8463912d04d973331ad4851f04de6915a"
  },
  "kernelspec": {
   "display_name": "Python 3.10.2 64-bit",
   "language": "python",
   "name": "python3"
  },
  "language_info": {
   "name": "python",
   "version": "3.10.2"
  },
  "orig_nbformat": 4
 },
 "nbformat": 4,
 "nbformat_minor": 2
}

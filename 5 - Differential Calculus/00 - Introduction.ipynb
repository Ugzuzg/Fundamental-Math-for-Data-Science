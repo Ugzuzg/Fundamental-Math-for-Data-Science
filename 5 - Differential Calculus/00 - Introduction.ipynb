{
 "cells": [
  {
   "cell_type": "markdown",
   "metadata": {},
   "source": [
    "# Introduction: Differential Calculus\n",
    "\n",
    "**Find out what you’ll learn about differential calculus and why it’s important.**\n",
    "\n",
    "## Welcome to Differential Calculus\n",
    "\n",
    "In this unit, we will cover fundamentals of differential calculus and investigate how we can use limits and derivatives to analyze functions.\n",
    "\n",
    "### Why is this important?\n",
    "\n",
    "Differential calculus deals with the study of rates of change. It allows us to quantify how one variable relates to another. In the field of data science, this is invaluable information to understand. Learning models are built upon quantifying how variables relate to each other to make predictions or understand patterns. Whether you are just starting on your data science journey or have worked with machine learning models, understanding the principles of calculus is an invaluable asset to add to your toolbelt!\n",
    "\n",
    "### What will you learn?\n",
    "\n",
    "At the end of this module, you will be able to:\n",
    "\n",
    "- Use limits to understand function behavior at specific points.\n",
    "- Use derivatives to analyze functions and quantify rates of change.\n"
   ]
  }
 ],
 "metadata": {
  "interpreter": {
   "hash": "e7370f93d1d0cde622a1f8e1c04877d8463912d04d973331ad4851f04de6915a"
  },
  "kernelspec": {
   "display_name": "Python 3.10.2 64-bit",
   "language": "python",
   "name": "python3"
  },
  "language_info": {
   "name": "python",
   "version": "3.10.2"
  },
  "orig_nbformat": 4
 },
 "nbformat": 4,
 "nbformat_minor": 2
}

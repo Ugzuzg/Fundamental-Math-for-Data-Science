{
 "cells": [
  {
   "cell_type": "markdown",
   "metadata": {},
   "source": [
    "# Limits\n",
    "\n",
    "The first concept we will look at is something called a *limit*. Limits quantify what happens to the values of a function as we approach a given point. This can be defined notationally as:\n",
    "\n",
    "$$\n",
    "\\lim_{x \\rightarrow 6} f(x) = L\n",
    "$$\n",
    "\n",
    "We can read this in simple terms as “the limit as x goes to 6 of f(x) approaches some value L”. To evaluate this limit, we take points increasingly closer and closer to 6— as close to 6 as we can get, but not 6 itself! We then evaluate where the function is headed at those points.\n",
    "\n",
    "If we look at the limit of a function as x approaches a value from one direction, this is called a *one-sided* limit. For example, we might look at the values of *f(5)*, *f(5.9)*, *f(5.999)* and see if they are trending towards the value of *f(6)*. This is represented as:\n",
    "\n",
    "$$\n",
    "\\lim_{x \\rightarrow 6^{-}} f(x) = L\n",
    "$$\n",
    "\n",
    "We read this as “the limit as x approaches 6 from the left side approaches some value L.”\n",
    "\n",
    "Whereas if we looked at the values of *f(6.1)*, *f(6.01)*, *f(6.0005)* and see if they are trending towards *f(6)*, we would represent this as:\n",
    "\n",
    "$$\n",
    "\\lim_{x \\rightarrow 6^{+}} f(x) = L\n",
    "$$\n",
    "\n",
    "We read this as “the limit as x goes to 6 from the right side approaches some value L.”\n",
    "\n",
    "This takes us to the final key concept about limits. The limit as *x* approaches 6 exists only if the limit as *x* approaches 6 from the left side is equal to the limit as *x* approaches 6 from the right side. This is written out as:\n",
    "\n",
    "if\n",
    "\n",
    "$$\n",
    "\\lim_{x \\rightarrow 6^{-}} f(x) = \\lim_{x \\rightarrow 6^{+}} f(x) = L\n",
    "$$\n",
    "\n",
    "then\n",
    "\n",
    "$$\n",
    "\\lim_{x \\rightarrow 6} f(x) = L\n",
    "$$\n",
    "\n",
    "if\n",
    "\n",
    "$$\n",
    "\\lim_{x \\rightarrow 6^{-}} f(x) \\neq \\lim_{x \\rightarrow 6^{+}} f(x)\n",
    "$$\n",
    "\n",
    "then\n",
    "\n",
    "$$\n",
    "\\lim_{x \\rightarrow 6} f(x)\\ does\\ not\\ exist\n",
    "$$\n",
    "\n",
    "## Instructions\n",
    "\n",
    "The animation to the right shows limit calculations for the function at x=-4 and x=2. In this animation, take note of the following:\n",
    "\n",
    "- At x=-4, the limit as x approaches -4 does not exist. This is because the one-sided limits each approach a different value\n",
    "- A x=2, the limit as x approaches 2 exists since both one-sided limits approach the same value.\n",
    "\n"
   ]
  },
  {
   "cell_type": "markdown",
   "metadata": {},
   "source": [
    "<iframe src=\"https://static-assets.codecademy.com/skillpaths/ds-math/calculus/limit/index.html\" width=\"100%\" height=\"600px\" style=\"border: 0\">"
   ]
  }
 ],
 "metadata": {
  "interpreter": {
   "hash": "e7370f93d1d0cde622a1f8e1c04877d8463912d04d973331ad4851f04de6915a"
  },
  "kernelspec": {
   "display_name": "Python 3.10.2 64-bit",
   "language": "python",
   "name": "python3"
  },
  "language_info": {
   "name": "python",
   "version": "3.10.2"
  },
  "orig_nbformat": 4
 },
 "nbformat": 4,
 "nbformat_minor": 2
}

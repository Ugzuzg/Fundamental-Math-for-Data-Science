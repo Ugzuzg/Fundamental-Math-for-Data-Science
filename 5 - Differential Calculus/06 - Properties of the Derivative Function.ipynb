{
 "cells": [
  {
   "cell_type": "markdown",
   "metadata": {},
   "source": [
    "# Properties of the Derivative Function\n",
    "\n",
    "Derivative functions contain important information. Let’s look at a couple of examples. Going back to our running example, *f(t)* describes a runner’s position as a function of time; therefore, the derivative function *f’(t)* describes the runner’s speed at any time *t*. Let’s say we have a function *s(t)* that describes the real-time sales of a particular product; the corresponding derivative function *s’(t)* describes how those sales are changing in real-time.\n",
    "\n",
    "Let’s look at the general information we can get as well. If *f’(x)* > 0, the corresponding function *f(x)* is increasing. Keep in mind that *f(x)* itself may be negative even though the derivative *f’(x)* is positive. The derivative says nothing about the value of the original function, only about how it is changing. Similarly, if *f’(x)* < 0, then the original function is decreasing.\n",
    "\n",
    "If *f’(x)* = 0, then the function is not changing. This can mean one of a few things.\n",
    "\n",
    "- It may mean that the function has reached a *local maximum* (or maxima). A local maximum is a value of x where *f’(x)* changes from positive to negative and thus hits 0 along the way. In *f(x)*, the local maximum is higher than all the points around it.\n",
    "- It may also mean that the function has reached what is called a *local minimum*. A local minimum is lower than the points around it. When *f’(x)* goes from negative values to 0 to positive values, a local minimum forms.\n",
    "- It may be an *inflection poin*t. This is a point where a function has a change in the direction of curvature. For example, the curve of the function goes from “facing down” to “facing up.” Finding inflection points involves a second derivative test, which we will not get to in this lesson.\n",
    "\n",
    "*Global maxima* and *global minima* are the largest or smallest over the entire range of a function.\n",
    "\n",
    "In machine learning models, maxima and minima are key concepts as they’re usually what we are trying to find when we optimize!\n"
   ]
  },
  {
   "cell_type": "markdown",
   "metadata": {},
   "source": [
    "## Instructions\n",
    "\n",
    "The animation to the right outlines our newfound knowledge of extrema. The first image shows a part of a function that is increasing. What do we know about the value of *f’(x)* in this section of *f(x)*? Click below to check your answer.\n",
    "\n",
    "<details>\n",
    "    <summary>Solution</summary>\n",
    "\n",
    "*f'(x) > 0* because the slope of the function is positive.\n",
    "</details>\n",
    "\n",
    "In the second image, we see a global maximum. This is the largest value over the entire range of the function. What do we know about the value of *f’(x)* at this point?\n",
    "\n",
    "<details>\n",
    "    <summary>Solution</summary>\n",
    "\n",
    "*f'(x) = 0* because the slope of the function is going from positive to negative and at the global maximum it is equal to zero,\n",
    "</details>\n",
    "\n",
    "In the third image, we see a part of the function that is decreasing. What do we know about the value of *f’(x)* at this point?\n",
    "<details>\n",
    "    <summary>Solution</summary>\n",
    "\n",
    "*f'(x) < 0* because the slope of the function is negative.\n",
    "</details>\n",
    "\n",
    "In the fourth image, we see a local minimum. This is the smallest value over a specific range of the function. What do we know about the value of *f’(x)* at this point?\n",
    "\n",
    "<details>\n",
    "    <summary>Stuck? Get a hint</summary>\n",
    "\n",
    "*f'(x) = 0* because the slope of the function is going from negative to positive and at the local minimum it is equal to zero,\n",
    "</details>\n",
    "\n",
    "In the final image, we see a local maximum. This is the largest value over a specific range of the function. What do we know about the value of *f’(x)* at this point?\n",
    "\n",
    "<details>\n",
    "    <summary>Stuck? Get a hint</summary>\n",
    "\n",
    "*f'(x) = 0* because the slope of the function is going from positive to negative and at the local maximum it is equal to zero, \n",
    "</details>"
   ]
  },
  {
   "cell_type": "markdown",
   "metadata": {},
   "source": [
    "<iframe src=\"https://static-assets.codecademy.com/skillpaths/ds-math/extrema/animation.html\" width=\"100%\" height=\"600px\" style=\"border: 0\">"
   ]
  }
 ],
 "metadata": {
  "interpreter": {
   "hash": "e7370f93d1d0cde622a1f8e1c04877d8463912d04d973331ad4851f04de6915a"
  },
  "kernelspec": {
   "display_name": "Python 3.10.2 64-bit",
   "language": "python",
   "name": "python3"
  },
  "language_info": {
   "name": "python",
   "version": "3.10.2"
  },
  "orig_nbformat": 4
 },
 "nbformat": 4,
 "nbformat_minor": 2
}

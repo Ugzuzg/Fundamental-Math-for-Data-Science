{
 "cells": [
  {
   "cell_type": "markdown",
   "metadata": {},
   "source": [
    "# Calculating Probabilities\n",
    "\n",
    "Once we know the sampling distribution of the mean, we can also use it to estimate the probability of observing a particular range of sample means, given some information (either known or assumed) about the population. To do this, we can use the *Cumulative Distribution Function, or (CDF)* of the normal distribution.\n",
    "\n",
    "Let’s work through this with our salmon fish example. Let’s say we are transporting the salmon and want to make sure the crate we carry the fish in will be strong enough to hold the weight.\n",
    "\n",
    "\n",
    "- Suppose we estimate that the salmon population has an average weight of 60 lbs with a standard deviation of 40 lbs.\n",
    "- We have a crate that supports 750 lbs, and we want to be able to transport 10 fish at a time.\n",
    "- We want to calculate the probability that the average weight of those 10 fish is less than or equal to 75 (750/10).\n",
    "\n",
    "Using the CLT, we first estimate that the mean weight of 10 randomly sampled salmon from this population is normally distributed with mean = 60 and standard error = (40^2)/10. Then, we can use this probability distribution to calculate the probability that 10 randomly sampled fish will have a mean weight less than or equal to 75.\n",
    "\n",
    "```python\n",
    "x = 75\n",
    "mean = 60\n",
    "std_dev = 40\n",
    "samp_size = 10\n",
    "standard_error = std_dev / (samp_size**.5)\n",
    "# remember that **.5 is raising to the power of one half, or taking the square root\n",
    " \n",
    "stats.norm.cdf(x,mean,standard_error)\n",
    "```\n",
    "\n",
    "This returns 0.882, or a probability of 88.2% that the average weight of our sample of 10 fish will be less than or equal to 75. "
   ]
  },
  {
   "cell_type": "markdown",
   "metadata": {},
   "source": [
    "## Instructions\n",
    "\n",
    "1. Let’s calculate the same probability for our cod fish population.\n",
    "\n",
    "    We know that cod have an average weight of 36 lbs with a standard deviation of 20. We want to try to fit 25 cod fish into our same crate that can hold up to 750 lbs.\n",
    "    \n",
    "    Our first step is to calculate the standard error for a sample size of 25. Using the above information, calculate the standard error and assign it to a variable called `standard_error`.\n",
    "\n",
    "    <details>\n",
    "        <summary>Stuck? Get a hint</summary>\n",
    "    \n",
    "    Because we are looking at 25 fish,\n",
    "\n",
    "    - Set `std_dev` equal to 20.\n",
    "    - Set `samp_size` equal to 25. Remember the formula for calculating standard error is:\n",
    "\n",
    "    ```python\n",
    "    standard_error = std_dev / (samp_size**.5)\n",
    "    ```\n",
    "    </details>\n",
    "\n",
    "2. Awesome! Now that we have our standard error, we can use the normal CDF to calculate the probability that a sample of 25 fish has a mean weight of 30 lbs. Using the function `stats.norm.cdf()`, calculate this probability and assign it to a variable `cod_cdf`.\n",
    "\n",
    "    <details>\n",
    "        <summary>Stuck? Get a hint</summary>\n",
    "    \n",
    "    Because we want 25 fish to weigh less than 750 lbs, we want our sample mean to be 750/25, or 30 lbs.\n",
    "\n",
    "    - Set `x` equal to 750/25 (or 30).\n",
    "    - Set `mean` equal to 36.\n",
    "    </details>\n",
    "\n",
    "3. Given the probability you calculated in the last checkpoint, would you recommend trying to carry 25 cod in the crate?\n",
    "\n",
    "    Click <kbd>Run</kbd> to move onto the next exercise.\n",
    "\n",
    "    <details>\n",
    "        <summary>Stuck? Get a hint</summary>\n",
    "    \n",
    "    The probability of 25 fish having an average weight of 30 or less is 10%. Based on this, it’s probably a good idea to put less fish in the crate or to get a sturdier crate.\n",
    "    </details>\n"
   ]
  },
  {
   "cell_type": "code",
   "execution_count": null,
   "metadata": {},
   "outputs": [],
   "source": [
    "import numpy as np\n",
    "import matplotlib.pyplot as plt\n",
    "from scipy import stats\n",
    "\n",
    "## Setting up our parameters\n",
    "# std_dev = \n",
    "# samp_size = \n",
    "\n"
   ]
  },
  {
   "cell_type": "markdown",
   "metadata": {},
   "source": [
    "### Solution"
   ]
  },
  {
   "cell_type": "code",
   "execution_count": 1,
   "metadata": {},
   "outputs": [
    {
     "name": "stdout",
     "output_type": "stream",
     "text": [
      "0.06680720126885807\n"
     ]
    }
   ],
   "source": [
    "import numpy as np\n",
    "import matplotlib.pyplot as plt\n",
    "from scipy import stats\n",
    "\n",
    "## Setting up our parameters\n",
    "std_dev = 20\n",
    "samp_size = 25\n",
    "\n",
    "standard_error = std_dev / (samp_size ** .5)\n",
    "\n",
    "cod_cdf = stats.norm.cdf(750/25, 36, standard_error)\n",
    "print(cod_cdf)"
   ]
  }
 ],
 "metadata": {
  "interpreter": {
   "hash": "e7370f93d1d0cde622a1f8e1c04877d8463912d04d973331ad4851f04de6915a"
  },
  "kernelspec": {
   "display_name": "Python 3.10.2 64-bit",
   "language": "python",
   "name": "python3"
  },
  "language_info": {
   "codemirror_mode": {
    "name": "ipython",
    "version": 3
   },
   "file_extension": ".py",
   "mimetype": "text/x-python",
   "name": "python",
   "nbconvert_exporter": "python",
   "pygments_lexer": "ipython3",
   "version": "3.10.2"
  },
  "orig_nbformat": 4
 },
 "nbformat": 4,
 "nbformat_minor": 2
}

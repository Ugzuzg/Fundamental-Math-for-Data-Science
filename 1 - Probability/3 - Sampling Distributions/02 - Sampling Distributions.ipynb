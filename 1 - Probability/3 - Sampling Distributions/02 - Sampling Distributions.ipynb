{
 "cells": [
  {
   "cell_type": "markdown",
   "metadata": {},
   "source": [
    "# Sampling Distributions\n",
    "\n",
    "As we saw in the last example, each time we sample from a population, we will get a slightly different sample mean. In order to understand how much variation we can expect in those sample means, we can do the following:\n",
    "\n",
    "- Take a bunch of random samples of fish, each of the same size (50 fish in this example)\n",
    "- Calculate the sample mean for each one\n",
    "- Plot a histogram of all the sample means\n",
    "\n",
    "This process gives us an estimate of the sampling distribution of the mean for a sample size of 50 fish.\n",
    "\n",
    "The code to accomplish this is shown below:\n",
    "\n",
    "```python\n",
    "salmon_population = population['Salmon_Weight']\n",
    " \n",
    "sample_size = 50\n",
    "sample_means = []\n",
    " \n",
    "# loop 500 times to get 500 random sample means\n",
    "for i in range(500):\n",
    "  # take a sample from the data:\n",
    "  samp = np.random.choice(salmon_population, sample_size, replace = False)\n",
    "  # calculate the mean of this sample:\n",
    "  this_sample_mean = np.mean(samp)\n",
    "  # append this sample mean to a list of sample means\n",
    "  sample_means.append(this_sample_mean)\n",
    " \n",
    "# plot all the sample means to show the sampling distribution\n",
    "sns.histplot(sample_means, stat='density')\n",
    "plt.title(\"Sampling Distribution of the Mean\")\n",
    "plt.show()\n",
    "```\n",
    "\n",
    "The distribution of the `sample_means` looks like this:\n",
    "\n",
    "![This is a sampling distribution with a sample of 500. The distribution is centered around x=60 and looks fairly symmetrical.](./assets/sampling_dist.svg)\n",
    "\n",
    "Note that we can look at a sampling distribution for any statistic. For example, we could estimate the sampling distribution of the maximum by calculating the maximum of each sample, rather than the mean (as shown above)."
   ]
  },
  {
   "cell_type": "markdown",
   "metadata": {},
   "source": [
    "## Instructions\n",
    "\n",
    "1. Let’s estimate the sampling distribution of the mean using a population of cod fish. As we did with salmon fish, we will pretend we are all-knowing and have captured weight data on every cod fish in the ocean. In the workspace, we’ve loaded in the cod weight data.\n",
    "\n",
    "    We’ve set the sample size equal to 50 and created a for loop to take 500 random samples.\n",
    "\n",
    "    - Inside the for loop, use the function `np.mean()` to calculate the mean of each sample. Save this to a variable called `this_sample_mean`.\n",
    "    - Then, still inside the for loop, append `this_sample_mean` to the list `sample_means` and run the simulation.\n",
    "\n",
    "    <details>\n",
    "        <summary>Stuck? Get a hint</summary>\n",
    "    \n",
    "    Make sure your lines of code are indented to be INSIDE the for loop (indented), like this:\n",
    "\n",
    "    ```python\n",
    "    for i in range(500):\n",
    "        samp = np.random.choice(population, sample_size, replace = False)\n",
    "        this_sample_mean = np.mean(samp)\n",
    "        sample_means.append(this_sample_mean)\n",
    "    ```\n",
    "    </details>\n",
    "\n",
    "2. Awesome, you’ve now estimated the sampling distribution of the mean for a sample size of 50! Inspect the histogram. What do you notice?\n",
    "\n",
    "    Click <kbd>Run</kbd> to move onto the next exercise.\n",
    "\n",
    "    <details>\n",
    "        <summary>Stuck? Get a hint</summary>\n",
    "    \n",
    "    The tail of the population distribution is quite long on the right, so we can describe it as right-skewed. However, the sampling distribution seems normally distributed. You might be wondering why the sampling distribution is not right-skewed like the population distribution. We will investigate this in the next exercise!\n",
    "    </details>\n"
   ]
  },
  {
   "cell_type": "code",
   "execution_count": 2,
   "metadata": {},
   "outputs": [
    {
     "data": {
      "image/png": "[encoded data removed]",
      "text/plain": [
       "<Figure size 432x288 with 1 Axes>"
      ]
     },
     "metadata": {
      "needs_background": "light"
     },
     "output_type": "display_data"
    }
   ],
   "source": [
    "import numpy as np\n",
    "import pandas as pd\n",
    "import matplotlib.pyplot as plt\n",
    "import seaborn as sns\n",
    "\n",
    "population = pd.read_csv(\"data/cod_population.csv\")\n",
    "# Save transaction times to a separate numpy array\n",
    "population = population['Cod_Weight']\n",
    "\n",
    "sample_size = 50\n",
    "sample_means = []\n",
    "\n",
    "for i in range(500):\n",
    "  samp = np.random.choice(population, sample_size, replace = False)\n",
    "  # calculate mean here\n",
    "  # append here\n",
    "\n",
    "sns.histplot(sample_means,stat='density')\n",
    "plt.title(\"Sampling Distribution of the Mean\")\n",
    "plt.xlabel(\"Weight (lbs)\")\n",
    "plt.show()"
   ]
  },
  {
   "cell_type": "markdown",
   "metadata": {},
   "source": [
    "### Solution"
   ]
  },
  {
   "cell_type": "code",
   "execution_count": 7,
   "metadata": {},
   "outputs": [
    {
     "data": {
      "image/png": "[encoded data removed]",
      "text/plain": [
       "<Figure size 432x288 with 1 Axes>"
      ]
     },
     "metadata": {
      "needs_background": "light"
     },
     "output_type": "display_data"
    }
   ],
   "source": [
    "import numpy as np\n",
    "import pandas as pd\n",
    "import matplotlib.pyplot as plt\n",
    "import seaborn as sns\n",
    "\n",
    "population = pd.read_csv(\"data/cod_population.csv\")\n",
    "# Save transaction times to a separate numpy array\n",
    "population = population['Cod_Weight']\n",
    "\n",
    "sample_size = 50\n",
    "sample_means = []\n",
    "\n",
    "for i in range(500):\n",
    "  samp = np.random.choice(population, sample_size, replace = False)\n",
    "  # calculate mean here\n",
    "  # append here\n",
    "  this_sample_mean = np.mean(samp)\n",
    "  sample_means.append(this_sample_mean)\n",
    "\n",
    "sns.histplot(sample_means,stat='density')\n",
    "plt.title(\"Sampling Distribution of the Mean\")\n",
    "plt.xlabel(\"Weight (lbs)\")\n",
    "plt.show()"
   ]
  }
 ],
 "metadata": {
  "interpreter": {
   "hash": "e7370f93d1d0cde622a1f8e1c04877d8463912d04d973331ad4851f04de6915a"
  },
  "kernelspec": {
   "display_name": "Python 3.10.2 64-bit",
   "language": "python",
   "name": "python3"
  },
  "language_info": {
   "codemirror_mode": {
    "name": "ipython",
    "version": 3
   },
   "file_extension": ".py",
   "mimetype": "text/x-python",
   "name": "python",
   "nbconvert_exporter": "python",
   "pygments_lexer": "ipython3",
   "version": "3.10.2"
  },
  "orig_nbformat": 4
 },
 "nbformat": 4,
 "nbformat_minor": 2
}

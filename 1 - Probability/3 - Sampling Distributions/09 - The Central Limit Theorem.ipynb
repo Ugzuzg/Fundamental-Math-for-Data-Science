{
 "cells": [
  {
   "cell_type": "markdown",
   "metadata": {},
   "source": [
    "# The Central Limit Theorem\n",
    "\n",
    "**An introduction to the Central Limit Theorem using simulation**\n",
    "\n",
    "## What is the Central Limit Theorem?\n",
    "\n",
    "The *Central Limit Theorem (CLT)* is a powerful statistical tool that is useful in quantifying uncertainty around sample mean estimates. It is also the basis for common hypothesis tests, such as Z- and t-tests. A formal proof of the CLT requires some complex math, but this article will demonstrate it using a simulation!\n",
    "\n",
    "## Building intuition for the CLT\n",
    "\n",
    "Imagine that a data scientist wants to know the average hourly wage for all working U.S. adults who make under 150 dollars per hour. This is a very large population — it would be unrealistic to collect wage data for every person meeting these criteria. Instead, suppose that the data scientist surveys a random sample of 150 people, records each person’s hourly wage, and calculates a sample mean of 17.74 dollars per hour. Here’s a histogram of this sample, with a black dotted line at 17.74:\n",
    "\n",
    "![sample distribution](./assets/samp1_dens.svg)\n",
    "\n",
    "A good data scientist knows that this sample mean is not EXACTLY the same as the population mean, but hopes that it is close ENOUGH. The next question is:\n",
    "\n",
    "How far from the population mean could this sample mean realistically be?\n",
    "\n",
    "To answer this, let’s temporarily pretend that we are all-knowing and can actually inspect the hourly wages of all people in the population of interest. Suppose that the true average wage is 18.84 dollars per hour and a histogram of the full population looks like this:\n",
    "\n",
    "![population distribution](./assets/pop_dens2.svg)\n",
    "\n",
    "In real life, we usually only observe a single sample — but in order to quantify our uncertainty about that sample, it is useful to think about what WOULD happen if we could observe more. Consider the following thought experiment: imagine that we could take some large number (say, 10,000) random samples of 150 people from the population and calculate the mean hourly wage for each of those samples. We could then inspect the 10,000 sample means to see how much they vary. A large amount of variation would make us less confident that any individual sample mean is representative of the population; less variation would make us more confident.\n",
    "\n",
    "The Python code below does this in a loop. The `population` object is a list containing all wages in the full population. In each iteration of the loop, we do the following:\n",
    "\n",
    "- take a random sample of 150 wages from the population\n",
    "- store the sample mean in a list called `sample_means`\n",
    "\n",
    "Finally, after collecting 10,000 sample means, we can inspect them using a histogram.\n",
    "\n",
    "```python\n",
    "import numpy as np\n",
    "import matplotlib.pyplot as plt\n",
    "import random\n",
    " \n",
    "sample_means = []\n",
    " \n",
    "for i in range(10000):\n",
    "    samp = random.sample(population, 150)\n",
    "    sample_means.append(np.mean(samp))\n",
    " \n",
    "plt.hist(sample_means, bins = 30)\n",
    "plt.vlines(np.mean(sample_means), 0, 1000, lw=3, linestyles='dashed')\n",
    "```\n",
    "\n",
    "![sampling distribution](./assets/samp_dist.svg)\n",
    "\n",
    "There are a few interesting things to notice about this distribution, which is called the *sampling distribution of the mean*:\n",
    "\n",
    "- Unlike the population distribution, which is very right-skewed, this distribution is (almost) normally distributed: symmetric with a single mode.\n",
    "- The average of the sample means (black dotted line) is approximately equal to the population mean (18.84).\n",
    "- The 10,000 sample means range approximately between 14 and 24 (plus or minus 5 dollars from the true mean).\n",
    "\n",
    "Specifically, the NumPy `percentile()` function can be used to calculate that 95% of the sample means from the above simulation fall in a range from 16.14 to 21.87 dollars per hour (plus or minus around 2.87 dollars from the mean):\n",
    "\n",
    "```python\n",
    "percentiles = np.percentile(sample_means, [2.5, 97.5])\n",
    "print(percentiles)\n",
    "# output: array([16.13810156, 21.87180969])\n",
    "```"
   ]
  },
  {
   "cell_type": "markdown",
   "metadata": {},
   "source": [
    "## Formally defining the CLT\n",
    "\n",
    "It’s now time to formally define the CLT, which tells us that the sampling distribution of the mean:\n",
    "\n",
    "- is normally distributed (for large enough sample size)\n",
    "- is centered at the population mean\n",
    "- has standard deviation equal to the population standard deviation divided by the square root of the sample size. This is called Standard Error.\n",
    "\n",
    "With respect to the standard error formula described above, note that there are two levers on the width of the sampling distribution:\n",
    "\n",
    "- **The population standard deviation**. Populations with more variation will yield sample means with more variation. For example, imagine sampling the heights of 5 year olds compared to sampling heights of 5-18 year olds. There is more variation in the heights of 5-18 year olds, so there will be more variation in individual samples.\n",
    "\n",
    "- **The sample size**. The larger the sample size, the smaller the variation in repeated sample means. In the wage example above, imagine sampling only five people instead of 150. Those five sampled people could include one outlier that throws the whole sample mean off. If we sample 150 (or even more) people, we’re more likely to have high and low outliers that cancel each other out.\n",
    "\n",
    "To build your intuition, the following simulation may be helpful. We can use the `random.normal()` function from NumPy to generate a `population` of values with a particular standard deviation (`pop_stdev`) and mean (arbitrarily set to 10 in this example). As before, we can do the following:\n",
    "\n",
    "- take random samples of some size (`samp_size`) from the population\n",
    "- record the sample mean for each one\n",
    "- plot a histogram of the sample means\n"
   ]
  },
  {
   "cell_type": "markdown",
   "metadata": {},
   "source": [
    "### Code Challenge\n",
    "\n",
    "Try changing `samp_size` to any number between 2 and 20. Then, leaving `samp_size = 2`, try changing the value of `pop_stdev` to any number between 1 and 10 (higher values mean more variation in the population). Observe how higher values of `samp_size` and lower values of `pop_stdev` result in a skinnier distribution (smaller standard error)."
   ]
  },
  {
   "cell_type": "code",
   "execution_count": 2,
   "metadata": {},
   "outputs": [
    {
     "data": {
      "image/png": "[encoded data removed]",
      "text/plain": [
       "<Figure size 432x288 with 1 Axes>"
      ]
     },
     "metadata": {
      "needs_background": "light"
     },
     "output_type": "display_data"
    }
   ],
   "source": [
    "import numpy as np\n",
    "import random\n",
    "import matplotlib.pyplot as plt\n",
    "\n",
    "### try changing samp_size and pop_stdev and re-running the code\n",
    "# try values of samp_size between 2 and 20\n",
    "# try values of pop_stdev between 1 and 10\n",
    "samp_size = 2\n",
    "pop_stdev = 10\n",
    "\n",
    "population = np.random.normal(loc = 10, scale = pop_stdev, size = 100000)\n",
    "population = list(population)\n",
    "\n",
    "sample_means = []\n",
    "\n",
    "for i in range(10000):\n",
    "    samp = random.sample(population, samp_size)\n",
    "    sample_means.append(np.mean(samp))\n",
    "\n",
    "plt.hist(sample_means, bins = 30)\n",
    "plt.title('Sampling Distribution')\n",
    "plt.xlim(-10, 30)\n",
    "\n",
    "plt.show()"
   ]
  },
  {
   "cell_type": "markdown",
   "metadata": {},
   "source": [
    "## How does this help the data scientist?\n",
    "\n",
    "In real life, the data scientist is still stuck with their one sample mean as a best guess for the population mean. However, they can leverage the CLT to estimate the standard error — the amount of variation in imagined, repeated samples!\n",
    "\n",
    "Remember that the CLT tells us that the standard error (SE) can be calculated as follows:\n",
    "\n",
    "$$\n",
    "SE = \\frac{PopulationStandardDeviation}{\\sqrt{SampleSize}}\n",
    "$$\n",
    "\n",
    "While a researcher or data scientist probably does not know the population standard deviation, they can use the standard deviation of their sample to estimate it.\n",
    "\n",
    "Let’s return to the data scientist who collected a single sample of 150 wages and calculated an average wage of 17.74 dollars. To quantify the uncertainty around this sample mean, this data scientist can first estimate the standard error:\n",
    "\n",
    "```python\n",
    "std_error = np.std(my_sample)/(150 ** 0.5)\n",
    "print(std_error)\n",
    "# output: 1.275\n",
    "```\n",
    "\n",
    "Then, leveraging the part of the CLT that says the sampling distribution is normally distributed, our data scientist can use a nifty property of normal distributions: 95% of normally distributed values are within about 1.96 standard deviations of the mean. This allows the data scientist to estimate the width of the sampling distribution above, without actually knowing the population distribution! \n",
    "\n",
    "First, the data scientist needs to multiply 1.275 by the estimated standard error: 1.96 * 1.275 = 2.50. The interpretation of this number is as follows:\n",
    "\n",
    "- Imagine taking a large number of samples of size 150 from a population with the same amount of variation as in the observed sample.\n",
    "- 95% of those samples would be within about 2.50 dollars from the true population mean.\n",
    "- Therefore, there is about a 95% probability that the observed sample mean of 17.74 is no more than 2.50 dollars away from the population mean. In other words, there is about a 95% probability that the population mean is between 15.24 and 20.24. This is referred to as a 95% confidence interval.\n",
    "\n",
    "Note that the estimate of 2.50 is similar to the value of 2.87 that we calculated as all-knowing beings with access to the full population. With only a single sample in hand, the data scientist can express the uncertainty in their sample mean fairly accurately!"
   ]
  }
 ],
 "metadata": {
  "interpreter": {
   "hash": "e7370f93d1d0cde622a1f8e1c04877d8463912d04d973331ad4851f04de6915a"
  },
  "kernelspec": {
   "display_name": "Python 3.10.2 64-bit",
   "language": "python",
   "name": "python3"
  },
  "language_info": {
   "codemirror_mode": {
    "name": "ipython",
    "version": 3
   },
   "file_extension": ".py",
   "mimetype": "text/x-python",
   "name": "python",
   "nbconvert_exporter": "python",
   "pygments_lexer": "ipython3",
   "version": "3.10.2"
  },
  "orig_nbformat": 4
 },
 "nbformat": 4,
 "nbformat_minor": 2
}

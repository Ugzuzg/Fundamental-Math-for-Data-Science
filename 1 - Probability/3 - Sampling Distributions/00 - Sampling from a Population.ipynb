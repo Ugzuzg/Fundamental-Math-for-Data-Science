{
 "cells": [
  {
   "cell_type": "markdown",
   "metadata": {},
   "source": [
    "# Sampling from a Population\n",
    "\n",
    "In statistics, we often want to learn about a large population. Since collecting data for an entire population is often impossible, researchers may use a smaller sample of data to try to answer their questions.\n",
    "\n",
    "To do this, a researcher might calculate a statistic such as mean or median for a sample of data. Then they can use that statistic as an estimate for the population value they really care about.\n",
    "\n",
    "For example, suppose that a researcher wants to know the average weight of all Atlantic Salmon fish. It would be impossible to catch every single fish. Instead, the researchers might collect a sample of 50 fish off the coast of Alaska and determine that the average weight of those fish is x. If the same researchers collected 50 new fish and took the new average weight, that average would likely be slightly different than the first sample average.\n",
    "\n",
    "Over the course of this lesson, we will go over how we can extrapolate from sample data in order to describe our uncertainty about the statistics of the full population."
   ]
  },
  {
   "cell_type": "markdown",
   "metadata": {},
   "source": [
    "## Instructions\n",
    "\n",
    "The applet to the right shows a population distribution and a sample distribution that was randomly drawn from that population. The <kbd>Generate</kbd> button will randomly select a new sample of a particular size (indicated by the “sample size” field).\n",
    "\n",
    "Set the sample size to 6 and click <kbd>Generate</kbd>. Compare the sample mean to the population mean.\n",
    "\n",
    "- If a researcher used this sample to estimate the population mean, how far off would they be? Click <kbd>Generate</kbd> a few more times, paying attention to the sample mean.\n",
    "- The sample size of 6 is incredibly small, so the sample mean varies a lot depending on which salmon we randomly choose.\n",
    "- Because of this, each individual sample may not accurately describe the full population of salmon. Since the sample size is so small, extreme values will have a greater impact on our estimate of the population mean.\n",
    "\n",
    "Next, increase the sample size to 100 and click <kbd>Generate</kbd> a few times, paying attention to the sample mean.\n",
    "\n",
    "- With a larger sample size, do the sample means now seem closer to the population mean?\n",
    "- Generally with larger sample sizes, the sample mean is closer to the population mean. Extreme values will now have a smaller impact on our estimate of the population mean.\n"
   ]
  },
  {
   "cell_type": "markdown",
   "metadata": {},
   "source": [
    "<iframe src=\"https://6a94797dc1fd4e1ba155e7f5599c1d01.cc-propeller.cloud/index.html\" width=\"100%\" height=\"700px\" style=\"border: 0\">"
   ]
  }
 ],
 "metadata": {
  "interpreter": {
   "hash": "e7370f93d1d0cde622a1f8e1c04877d8463912d04d973331ad4851f04de6915a"
  },
  "kernelspec": {
   "display_name": "Python 3.10.2 64-bit",
   "language": "python",
   "name": "python3"
  },
  "language_info": {
   "name": "python",
   "version": "3.10.2"
  },
  "orig_nbformat": 4
 },
 "nbformat": 4,
 "nbformat_minor": 2
}

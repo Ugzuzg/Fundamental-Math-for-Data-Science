{
 "cells": [
  {
   "cell_type": "markdown",
   "metadata": {},
   "source": [
    "# Review\n",
    "\n",
    "Let’s recap what we’ve learned in this lesson:\n",
    "\n",
    "- A sampling distribution is obtained by taking a random sample of a certain size multiple times, taking a sample statistic, and plotting the distribution of this sample statistic.\n",
    "- The Central Limit Theorem establishes that the sampling distribution of the mean will be normally distributed (even if the original population was not normally distributed).\n",
    "- A statistic is called an unbiased estimator of a population parameter if the mean of the sampling distribution of the statistic is equal to the value of the statistic for the population. The mean is an unbiased estimator.\n",
    "- We can use the Standard Error of our sample mean distribution in order to calculate probabilities of obtaining a sample with a certain statistic using the CDF."
   ]
  },
  {
   "cell_type": "markdown",
   "metadata": {},
   "source": [
    "## Instructions\n",
    "\n",
    "In order to review, let’s consider an example from a restaurant serving quarter-pounder burgers. Their quarter-pounders weigh an average of 0.25 lbs with a standard deviation of 0.2 lbs.\n",
    "\n",
    "1. Let’s say we weigh all their burgers that they cook for dinner on a given night. 64 people order quarter-pounders. What is the probability that the mean will be 0.24 lbs or less?\n",
    "\n",
    "2. Set up the parameters at the top of the code by filling in values for `x`, `population_mean`, `population_std_dev`, and `samp_size`.\n",
    "\n",
    "3. Hit Run. The CDF is printed in the title of the 2nd plot. Take a mental note of the probability of 64 burgers having a mean of 0.24 lbs or less.\n",
    "\n",
    "On the next night, there’s a delicious special, and fewer people order the burger. Our sample size is now 10.\n",
    "\n",
    "1. Set the sample size in the simulator to 10 and consider the standard error. Has it changed in the direction you expected?\n",
    "\n",
    "2. Let’s say your family went to the restaurant and all 5 of you ordered the burger. What is the probability that you receive burgers with an average weight of 0.24 lbs or less?\n",
    "\n"
   ]
  },
  {
   "cell_type": "code",
   "execution_count": null,
   "metadata": {},
   "outputs": [],
   "source": [
    "import numpy as np\n",
    "import matplotlib.pyplot as plt\n",
    "import seaborn as sns\n",
    "from scipy import stats\n",
    "\n",
    "# Set up parameters here:\n",
    "x = None\n",
    "population_mean = None\n",
    "population_std_dev = None\n",
    "samp_size = None\n",
    "\n",
    "### Below is code to create simulated dataset and calculate Standard Error\n",
    "standard_error = population_std_dev / (samp_size**.5)\n",
    "\n",
    "this_cdf = round(stats.norm.cdf(x,population_mean,standard_error),3)\n",
    "\n",
    "# Create the population\n",
    "population = np.random.normal(population_mean, population_std_dev, size = 100000)\n",
    "\n",
    "# Simulate the sampling distribution\n",
    "sample_means = []\n",
    "for i in range(500):\n",
    "    samp = np.random.choice(population, samp_size, replace = False)\n",
    "    sample_means.append(np.mean(samp))\n",
    "\n",
    "mean_sampling_distribution = round(np.mean(sample_means),3)\n",
    "std_sampling_distribution = round(np.std(sample_means),3)\n",
    "\n",
    "std_error = population_std_dev / (samp_size **0.5)\n",
    "\n",
    "sns.histplot(population, stat = 'density')\n",
    "plt.title(f\"Population Mean: {population_mean} \\n Population Std Dev: {population_std_dev} \\n Standard Error = {population_std_dev} / sq rt({samp_size}) \\n Standard Error = {std_error} \")\n",
    "plt.xlabel(\"\")\n",
    "plt.show()\n",
    "plt.clf()\n",
    "\n",
    "# Plot the sampling distribution\n",
    "sns.histplot(sample_means, stat = 'density')\n",
    "plt.axvline(x,color='r',linestyle='dashed')\n",
    "plt.title(f\"Sampling Dist Mean: {mean_sampling_distribution} \\n Sampling Dist Standard Deviation: {std_sampling_distribution}\\n CDF for x={x}: {this_cdf}\")\n",
    "plt.xlabel(\"\")\n",
    "plt.show()"
   ]
  }
 ],
 "metadata": {
  "interpreter": {
   "hash": "e7370f93d1d0cde622a1f8e1c04877d8463912d04d973331ad4851f04de6915a"
  },
  "kernelspec": {
   "display_name": "Python 3.10.2 64-bit",
   "language": "python",
   "name": "python3"
  },
  "language_info": {
   "name": "python",
   "version": "3.10.2"
  },
  "orig_nbformat": 4
 },
 "nbformat": 4,
 "nbformat_minor": 2
}

{
 "cells": [
  {
   "cell_type": "markdown",
   "metadata": {},
   "source": [
    "# Central Limit Theorem\n",
    "\n",
    "So far, we’ve defined the term *sampling distribution* and shown how we can simulate an approximated sampling distribution for a few different statistics (mean, maximum, variance, etc.). The *Central Limit Theorem (CLT)* allows us to specifically describe the sampling distribution of the mean.\n",
    "\n",
    "The CLT states that the sampling distribution of the mean is normally distributed as long as the population is not too skewed or the sample size is large enough. Using a sample size of n > 30 is usually a good rule of thumb, regardless of what the distribution of the population is like. If the distribution of the population is normal, the sample size can be smaller than that.\n",
    "\n",
    "Let’s take another look at the salmon weight to see how the CLT applies here. The first plot below shows the population distribution. The salmon weight is skewed right, meaning the tail of the distribution is longer on the right than on the left.\n",
    "\n",
    "![This graph shows the distribution of salmon weights across the entire population. The distribution is right-skewed as it ranges from 0 to almost 300 pounds.](./assets/pop_distribution.svg)\n",
    "\n",
    "Next, we’ve simulated a sampling distribution of the mean (using a sample size of 100) and super-imposed a normal distribution on top of it. Note how the estimated sampling distribution follows the normal curve almost perfectly. \n",
    "\n",
    "![This graph shows the sampling distribution of salmon weights across a sample size of 50. The sampling distribution is approximately normal, despite the population distribution being right-skewed, showcasing one of the key ideas behind the central limit theorem.](./assets/normal_samp_distribution.svg)\n",
    "\n",
    "Note that the CLT only applies to the sampling distribution of the mean and not other statistics like maximum, minimum, and variance!"
   ]
  },
  {
   "cell_type": "markdown",
   "metadata": {},
   "source": [
    "## Instructions\n",
    "\n",
    "1. In order to see the Central Limit Theorem in action, let’s look at another population of fish that is not normally distributed.\n",
    "\n",
    "    We have loaded this data on the weight of cod fish into the workspace.\n",
    "    \n",
    "    Uncomment the three lines underneath `## Checkpoint 1` to see the plot of the distribution of cod fish. Note the distribution.\n",
    "\n",
    "    <details>\n",
    "        <summary>Stuck? Get a hint</summary>\n",
    "\n",
    "    Make sure these lines are uncommented:\n",
    "\n",
    "    ```python\n",
    "    plt.hist(population, bins=50, density=True)\n",
    "    plt.title(\"Population Distribution\")\n",
    "    plt.show()\n",
    "    ```\n",
    "\n",
    "    The distribution is not normal (which would look like a bell curve). It is highly skewed right.\n",
    "    </details>\n",
    "\n",
    "2. Now that we have seen the skewed population distribution, let’s simulate a sampling distribution of the mean. According to the CLT, we will see a normal distribution once the sampling size is large enough. To start, we have set the sample size to 6.\n",
    "\n",
    "    Uncomment the five lines at the very bottom, run the code once, and take a look at the sampling distribution.\n",
    "    \n",
    "    *Remember to scroll down to see the second plot.*\n",
    "\n",
    "    <details>\n",
    "        <summary>Stuck? Get a hint</summary>\n",
    "    \n",
    "    With such a small sample size, the sampling distribution looks slightly skewed. This is because the population was not normally distributed *and* we have a small sample size.\n",
    "    </details>\n",
    "\n",
    "3. Now change the sample size to 50 and run the code. Does the estimated sampling distribution look more normal now?\n",
    "\n",
    "    <details>\n",
    "        <summary>Stuck? Get a hint</summary>\n",
    "    \n",
    "    Change the variable named `samp_size` to 50. Now that we have increased the sample size, the sampling distribution should look more normal.\n",
    "    </details>\n"
   ]
  },
  {
   "cell_type": "code",
   "execution_count": null,
   "metadata": {},
   "outputs": [],
   "source": [
    "import numpy as np\n",
    "import pandas as pd\n",
    "import matplotlib.pyplot as plt\n",
    "import matplotlib as mpl\n",
    "import seaborn as sns\n",
    "\n",
    "cod_population = pd.read_csv(\"data/cod_population.csv\")\n",
    "# Save transaction times to a separate numpy array\n",
    "population = cod_population['Cod_Weight']\n",
    "\n",
    "## Checkpoint 1:\n",
    "#sns.histplot(population, stat = 'density' )\n",
    "#plt.title(\"Population Distribution\")\n",
    "#plt.show()\n",
    "\n",
    "sample_means = []\n",
    "\n",
    "# Below is our sample size\n",
    "samp_size = 6\n",
    "\n",
    "for i in range(500):\n",
    "    samp = np.random.choice(population, samp_size, replace = False)\n",
    "    this_sample_mean = np.mean(samp)\n",
    "    sample_means.append(this_sample_mean)\n",
    "\n",
    "## Checkpoint 2\n",
    "#plt.clf() # this closes the previous plot\n",
    "#sns.histplot(sample_means, stat = 'density' )\n",
    "#plt.title(\"Sampling Distribution of the Mean\")\n",
    "#plt.xlabel(\"Weight (lbs)\")\n",
    "#plt.show()"
   ]
  },
  {
   "cell_type": "markdown",
   "metadata": {},
   "source": [
    "### Solution"
   ]
  },
  {
   "cell_type": "code",
   "execution_count": 1,
   "metadata": {},
   "outputs": [
    {
     "data": {
      "image/png": "[encoded data removed]",
      "text/plain": [
       "<Figure size 432x288 with 1 Axes>"
      ]
     },
     "metadata": {
      "needs_background": "light"
     },
     "output_type": "display_data"
    },
    {
     "data": {
      "image/png": "[encoded data removed]",
      "text/plain": [
       "<Figure size 432x288 with 1 Axes>"
      ]
     },
     "metadata": {
      "needs_background": "light"
     },
     "output_type": "display_data"
    }
   ],
   "source": [
    "import numpy as np\n",
    "import pandas as pd\n",
    "import matplotlib.pyplot as plt\n",
    "import matplotlib as mpl\n",
    "import seaborn as sns\n",
    "\n",
    "cod_population = pd.read_csv(\"data/cod_population.csv\")\n",
    "# Save transaction times to a separate numpy array\n",
    "population = cod_population['Cod_Weight']\n",
    "\n",
    "## Checkpoint 1:\n",
    "sns.histplot(population, stat = 'density' )\n",
    "plt.title(\"Population Distribution\")\n",
    "plt.show()\n",
    "\n",
    "sample_means = []\n",
    "\n",
    "# Below is our sample size\n",
    "samp_size = 50\n",
    "\n",
    "for i in range(500):\n",
    "    samp = np.random.choice(population, samp_size, replace = False)\n",
    "    this_sample_mean = np.mean(samp)\n",
    "    sample_means.append(this_sample_mean)\n",
    "\n",
    "## Checkpoint 2\n",
    "plt.clf() # this closes the previous plot\n",
    "sns.histplot(sample_means, stat = 'density' )\n",
    "plt.title(\"Sampling Distribution of the Mean\")\n",
    "plt.xlabel(\"Weight (lbs)\")\n",
    "plt.show()"
   ]
  }
 ],
 "metadata": {
  "interpreter": {
   "hash": "e7370f93d1d0cde622a1f8e1c04877d8463912d04d973331ad4851f04de6915a"
  },
  "kernelspec": {
   "display_name": "Python 3.10.2 64-bit",
   "language": "python",
   "name": "python3"
  },
  "language_info": {
   "codemirror_mode": {
    "name": "ipython",
    "version": 3
   },
   "file_extension": ".py",
   "mimetype": "text/x-python",
   "name": "python",
   "nbconvert_exporter": "python",
   "pygments_lexer": "ipython3",
   "version": "3.10.2"
  },
  "orig_nbformat": 4
 },
 "nbformat": 4,
 "nbformat_minor": 2
}

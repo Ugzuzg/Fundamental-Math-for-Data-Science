{
 "cells": [
  {
   "cell_type": "markdown",
   "metadata": {},
   "source": [
    "# Calculating Probabilities using Python\n",
    "\n",
    "The `binom.pmf()` method from the `scipy.stats` library can be used to calculate the PMF of the binomial distribution at any value. This method takes 3 values:\n",
    "\n",
    "- `x`: the value of interest\n",
    "- `n`: the number of trials\n",
    "- `p`: the probability of success\n",
    "\n",
    "For example, suppose we flip a fair coin 10 times and count the number of heads. We can use the `binom.pmf()` function to calculate the probability of observing 6 heads as follows:\n",
    "\n",
    "```python\n",
    "# import necessary library\n",
    "import scipy.stats as stats\n",
    " \n",
    "# st.binom.pmf(x, n, p)\n",
    "print(stats.binom.pmf(6, 10, 0.5))\n",
    "```\n",
    "\n",
    "Output:\n",
    "\n",
    "```python\n",
    "# 0.205078\n",
    "```\n",
    "\n",
    "Notice that two of the three values that go into the `stats.binomial.pmf()` method are the parameters that define the binomial distribution: `n` represents the number of trials and `p` represents the probability of success."
   ]
  },
  {
   "cell_type": "markdown",
   "metadata": {},
   "source": [
    "## Instructions\n",
    "\n",
    "1. Change the scaffolded code to calculate the probability of observing 3 heads in 10 fair coin flips. Save this probability to `prob_1`.\n",
    "\n",
    "    Update `x` and `n` in **script.py** accordingly.\n",
    "\n",
    "    <details>\n",
    "        <summary>Stuck? Get a hint</summary>\n",
    "    \n",
    "    If we wanted to calculate the probability of seeing 4 heads out of 5 fair coin flips:\n",
    "\n",
    "    ```python\n",
    "    x = 4\n",
    "    n = 5\n",
    "    ```\n",
    "    </details>\n",
    "\n",
    "2. Using the same logic in question 1, calculate `prob_2` to be the probability of observing 7 heads out of 20 fair coin flips. However, this time, directly input values into the `stats.binomial.pmf()` method.\n",
    "\n",
    "    Then print `prob_2`.\n",
    "\n",
    "    <details>\n",
    "        <summary>Stuck? Get a hint</summary>\n",
    "    \n",
    "    If we wanted to calculate the probability of seeing 12 heads out of 15 fair coin flips, we could directly input those values and use the method:\n",
    "\n",
    "    ```python\n",
    "    stats.binom.pmf(12, 15, 0.5)\n",
    "    ```\n",
    "    </details>"
   ]
  },
  {
   "cell_type": "code",
   "execution_count": null,
   "metadata": {},
   "outputs": [],
   "source": [
    "import scipy.stats as stats\n",
    "\n",
    "# value of interest\n",
    "# change this\n",
    "x = 1\n",
    "\n",
    "# sample size\n",
    "# change this\n",
    "n = 5\n",
    "\n",
    "# calculate probability\n",
    "prob_1 = stats.binom.pmf(x, n, 0.5)\n",
    "print(prob_1)\n",
    "\n",
    "## Question 2\n",
    "#prob_2 = \n"
   ]
  },
  {
   "cell_type": "markdown",
   "metadata": {},
   "source": [
    "### Solution"
   ]
  },
  {
   "cell_type": "code",
   "execution_count": null,
   "metadata": {},
   "outputs": [],
   "source": [
    "\n",
    "import scipy.stats as stats\n",
    "\n",
    "# value of interest\n",
    "# change this\n",
    "x = 3\n",
    "\n",
    "# sample size\n",
    "# change this\n",
    "n = 10\n",
    "\n",
    "# calculate probability\n",
    "prob_1 = stats.binom.pmf(x, n, 0.5)\n",
    "print(prob_1)\n",
    "\n",
    "## Question 2\n",
    "prob_2 = stats.binom.pmf(7, 20, 0.5)\n",
    "print(prob_2)\n"
   ]
  }
 ],
 "metadata": {
  "interpreter": {
   "hash": "e7370f93d1d0cde622a1f8e1c04877d8463912d04d973331ad4851f04de6915a"
  },
  "kernelspec": {
   "display_name": "Python 3.10.2 64-bit",
   "language": "python",
   "name": "python3"
  },
  "language_info": {
   "name": "python",
   "version": "3.10.2"
  },
  "orig_nbformat": 4
 },
 "nbformat": 4,
 "nbformat_minor": 2
}

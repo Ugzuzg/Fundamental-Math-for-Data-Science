{
 "cells": [
  {
   "cell_type": "markdown",
   "metadata": {},
   "source": [
    "# Probability Density Functions\n",
    "\n",
    "Similar to how discrete random variables relate to probability mass functions, continuous random variables relate to probability density functions. They define the probability distributions of continuous random variables and span across all possible values that the given random variable can take on.\n",
    "\n",
    "When graphed, a probability density function is a curve across all possible values the random variable can take on, and the total area under this curve adds up to 1.\n",
    "\n",
    "The following image shows a probability density function. The highlighted area represents the probability of observing a value within the highlighted range.\n",
    "\n",
    "![GIF or visual of the area under the curve highlighted and showing the calculated area under the curve](./assets/Adding-Area.webp)\n",
    "\n",
    "In a probability density function, we cannot calculate the probability at a single point. This is because the area of the curve underneath a single point is always zero. The gif below showcases this.\n",
    "\n",
    "![GIF or visual of the highlighted area under the curve getting smaller and smaller until the area equals 0](./assets/Normal-Distribution-Area-to-Zero.webp)\n",
    "\n",
    "As we can see from the visual above, as the interval becomes smaller, the width of the area under the curve becomes smaller as well. When trying to evaluate the area under the curve at a specific point, the width of that area becomes 0, and therefore the probability equals 0.\n",
    "\n",
    "We can calculate the area under the curve using the cumulative distribution function for the given probability distribution.\n",
    "\n",
    "For example, heights fall under a type of probability distribution called a *normal distribution*. The parameters for the normal distribution are the mean and the standard deviation, and we use the form *Normal(mean, standard deviation)* as shorthand.\n",
    "\n",
    "We know that women’s heights have a mean of 167.64 cm with a standard deviation of 8 cm, which makes them fall under the Normal(167.64, 8) distribution.\n",
    "\n",
    "Let’s say we want to know the probability that a randomly chosen woman is less than 158 cm tall. We can use the cumulative distribution function to calculate the area under the probability density function curve from 0 to 158 to find that probability.\n",
    "\n",
    "![Image to show the area under the curve highlighted from 0 to 158 cm](./assets/norm_pdf_167_8_filled.svg)\n",
    "\n",
    "We can calculate the area of the blue region in Python using the `norm.cdf()` method from the `scipy.stats` library. This method takes on 3 values:\n",
    "\n",
    "- `x`: the value of interest\n",
    "- `loc`: the mean of the probability distribution\n",
    "- `scale`: the standard deviation of the probability distribution\n",
    "\n",
    "```python\n",
    "import scipy.stats as stats\n",
    " \n",
    "# stats.norm.cdf(x, loc, scale)\n",
    "print(stats.norm.cdf(158, 167.64, 8))\n",
    "```\n",
    "\n",
    "Output:\n",
    "\n",
    "```python\n",
    "0.1141\n",
    "```"
   ]
  },
  {
   "cell_type": "markdown",
   "metadata": {},
   "source": [
    "## Instructions\n",
    "\n",
    "1. Following the same Normal(167.64, 8) distribution, assign the variable `prob` the probability that a randomly chosen woman is less than 175 cm tall. You should use the `stats.norm.cdf()` method.\n",
    "\n",
    "    Be sure to print `prob`.\n",
    "\n",
    "    <details>\n",
    "        <summary>Stuck? Get a hint</summary>\n",
    "    \n",
    "    If we wanted to calculate the probability of a randomly chosen man being less than 170cm when the average height of men is 176.5cm with a standard deviation of 8cm, we could use the following code:\n",
    "\n",
    "    ```python\n",
    "    print(st.norm.cdf(170, 176.5, 8))\n",
    "    ```\n",
    "    </details>"
   ]
  },
  {
   "cell_type": "code",
   "execution_count": null,
   "metadata": {},
   "outputs": [],
   "source": [
    "import scipy.stats as stats\n",
    "\n",
    "#prob = "
   ]
  },
  {
   "cell_type": "markdown",
   "metadata": {},
   "source": [
    "### Solution"
   ]
  },
  {
   "cell_type": "code",
   "execution_count": 1,
   "metadata": {},
   "outputs": [
    {
     "name": "stdout",
     "output_type": "stream",
     "text": [
      "0.8212136203856288\n"
     ]
    }
   ],
   "source": [
    "\n",
    "import scipy.stats as stats\n",
    "\n",
    "prob = stats.norm.cdf(175, 167.64, 8)\n",
    "print(prob)"
   ]
  }
 ],
 "metadata": {
  "interpreter": {
   "hash": "e7370f93d1d0cde622a1f8e1c04877d8463912d04d973331ad4851f04de6915a"
  },
  "kernelspec": {
   "display_name": "Python 3.10.2 64-bit",
   "language": "python",
   "name": "python3"
  },
  "language_info": {
   "codemirror_mode": {
    "name": "ipython",
    "version": 3
   },
   "file_extension": ".py",
   "mimetype": "text/x-python",
   "name": "python",
   "nbconvert_exporter": "python",
   "pygments_lexer": "ipython3",
   "version": "3.10.2"
  },
  "orig_nbformat": 4
 },
 "nbformat": 4,
 "nbformat_minor": 2
}

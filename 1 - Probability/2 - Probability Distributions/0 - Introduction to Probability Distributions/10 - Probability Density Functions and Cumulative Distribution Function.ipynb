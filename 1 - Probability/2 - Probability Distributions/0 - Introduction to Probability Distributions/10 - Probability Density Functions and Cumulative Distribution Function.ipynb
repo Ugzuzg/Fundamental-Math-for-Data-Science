{
 "cells": [
  {
   "cell_type": "markdown",
   "metadata": {},
   "source": [
    "# Probability Density Functions and Cumulative Distribution Function\n",
    "\n",
    "We can take the difference between two overlapping ranges to calculate the probability that a random selection will be within a range of values for continuous distributions. This is essentially the same process as calculating the probability of a range of values for discrete distributions.\n",
    "\n",
    "![Gif with two overlapping densities, subtract one out to find the difference, and therefore the probability in that range](./assets/Normal-PDF-Range.gif)\n",
    "\n",
    "Let’s say we wanted to calculate the probability of randomly observing a woman between 165 cm to 175 cm, assuming heights still follow the Normal(167.74, 8) distribution. We can calculate the probability of observing these values or less. The difference between these two probabilities will be the probability of randomly observing a woman in this given range. This can be done in python using the `norm.cdf()` method from the `scipy.stats` library. As mentioned before, this method takes on 3 values:\n",
    "\n",
    "- `x`: the value of interest\n",
    "- `loc`: the mean of the probability distribution\n",
    "- `scale`: the standard deviation of the probability distribution\n",
    "\n",
    "```python\n",
    "import scipy.stats as stats\n",
    "# P(165 < X < 175) = P(X < 175) - P(X < 165)\n",
    "# stats.norm.cdf(x, loc, scale) - stats.norm.cdf(x, loc, scale)\n",
    "print(stats.norm.cdf(175, 167.74, 8) - stats.norm.cdf(165, 167.74, 8))\n",
    "```\n",
    "\n",
    "Output:\n",
    "\n",
    "```python\n",
    "0.45194\n",
    "```\n",
    "\n",
    "We can also calculate the probability of randomly observing a value or greater by subtracting the probability of observing less than than the given value from 1. This is possible because we know that the total area under the curve is 1, so the probability of observing something greater than a value is 1 minus the probability of observing something less than the given value.\n",
    "\n",
    "Let’s say we wanted to calculate the probability of observing a woman taller than 172 centimeters, assuming heights still follow the Normal(167.74, 8) distribution. We can think of this as the opposite of observing a woman shorter than 172 centimeters. We can visualize it this way:\n",
    "\n",
    "![Image showing how P(X > 172) = 1 - P(X < 172)](./assets/norm_pdf_167_8_filled2.svg)\n",
    "\n",
    "We can use the following code to calculate the blue area by taking 1 minus the red area:\n",
    "\n",
    "```python\n",
    "import scipy.stats as stats\n",
    " \n",
    "# P(X > 172) = 1 - P(X < 172)\n",
    "# 1 - stats.norm.cdf(x, loc, scale)\n",
    "print(1 - stats.norm.cdf(172, 167.74, 8))\n",
    "```\n",
    "\n",
    "Output:\n",
    "\n",
    "```python\n",
    "0.29718\n",
    "```"
   ]
  },
  {
   "cell_type": "markdown",
   "metadata": {},
   "source": [
    "## Instructions\n",
    "\n",
    "1. The weather in the Galapagos islands follows a Normal distribution with a mean of 20 degrees Celcius and a standard deviation of 3 degrees.\n",
    "\n",
    "    Uncomment `temp_prob_1` and set the variable to equal the probability that the weather on a randomly selected day will be between 18 to 25 degrees Celcius using the `norm.cdf()` method.\n",
    "\n",
    "    Be sure to print `temp_prob_1`.\n",
    "\n",
    "    <details>\n",
    "        <summary>Stuck? Get a hint</summary>\n",
    "    \n",
    "    If we wanted to calculate the probability of the weather on a randomly selected day being between 12 and 14 degrees, we would use the following code:\n",
    "\n",
    "    ```python\n",
    "    st.norm.cdf(14, 20, 3) - st.norm.cdf(12, 20, 3)\n",
    "    ```\n",
    "    </details>\n",
    "\n",
    "2. Using the same information about the Galapagos Islands, uncomment `temp_prob_2` and assign the variable to equal the probability that the weather on a randomly selected day will be greater than 24 degrees Celsius.\n",
    "\n",
    "    Be sure to print `temp_prob_2`.\n",
    "\n",
    "    <details>\n",
    "        <summary>Stuck? Get a hint</summary>\n",
    "    \n",
    "    If we wanted to calculate the probability that the weather on a randomly selected day is greater than 21 degrees, we would use the following code:\n",
    "\n",
    "    ```python\n",
    "    1 - st.norm.cdf(21, 20, 3)\n",
    "    ```\n",
    "    </details>"
   ]
  },
  {
   "cell_type": "code",
   "execution_count": null,
   "metadata": {},
   "outputs": [],
   "source": [
    "import scipy.stats as stats\n",
    "\n",
    "## Checkpoint 1\n",
    "#temp_prob_1 =\n",
    "\n",
    "\n",
    "## Checkpoint 2\n",
    "#temp_prob_2 ="
   ]
  },
  {
   "cell_type": "markdown",
   "metadata": {},
   "source": [
    "### Solution"
   ]
  },
  {
   "cell_type": "code",
   "execution_count": 1,
   "metadata": {},
   "outputs": [
    {
     "name": "stdout",
     "output_type": "stream",
     "text": [
      "0.6997171101802624\n",
      "0.09121121972586788\n"
     ]
    }
   ],
   "source": [
    "\n",
    "import scipy.stats as stats\n",
    "\n",
    "## Checkpoint 1\n",
    "temp_prob_1 = stats.norm.cdf(25, 20, 3) - stats.norm.cdf(18, 20, 3)\n",
    "print(temp_prob_1)\n",
    "\n",
    "\n",
    "## Checkpoint 2\n",
    "temp_prob_2 = 1 - stats.norm.cdf(24, 20, 3)\n",
    "print(temp_prob_2)"
   ]
  }
 ],
 "metadata": {
  "interpreter": {
   "hash": "e7370f93d1d0cde622a1f8e1c04877d8463912d04d973331ad4851f04de6915a"
  },
  "kernelspec": {
   "display_name": "Python 3.10.2 64-bit",
   "language": "python",
   "name": "python3"
  },
  "language_info": {
   "codemirror_mode": {
    "name": "ipython",
    "version": 3
   },
   "file_extension": ".py",
   "mimetype": "text/x-python",
   "name": "python",
   "nbconvert_exporter": "python",
   "pygments_lexer": "ipython3",
   "version": "3.10.2"
  },
  "orig_nbformat": 4
 },
 "nbformat": 4,
 "nbformat_minor": 2
}

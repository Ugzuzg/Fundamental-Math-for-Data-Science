{
 "cells": [
  {
   "cell_type": "markdown",
   "metadata": {},
   "source": [
    "# Using the Probability Mass Function Over a Range\n",
    "\n",
    "We have seen that we can calculate the probability of observing a specific value using a probability mass function. What if we want to find the probability of observing a range of values for a discrete random variable? One way we could do this is by adding up the probability of each value.\n",
    "\n",
    "For example, let’s say we flip a fair coin 5 times, and want to know the probability of getting between 1 and 3 heads. We can visualize this scenario with the probability mass function:\n",
    "\n",
    "![GIF of highlighting selected bars on a histogram](./assets/Binomial-Distribution-PMF-Probability-over-a-Range.gif)\n",
    "\n",
    "We can calculate this using the following equation where P(x) is the probability of observing the number x successes (heads in this case):\n",
    "\n",
    "$$\n",
    "P(1\\;to\\;3\\;heads) = P(1 <= X <= 3) \\\\\n",
    "P(1\\;to\\;3\\;heads) = P(X=1) + P(X=2) + P(X=3) \\\\\n",
    "P(1\\;to\\;3\\;heads) = 0.1562 + 0.3125 + 0.3125 \\\\\n",
    "P(1\\;to\\;3\\;heads) = 0.7812 \n",
    "$$"
   ]
  },
  {
   "cell_type": "markdown",
   "metadata": {},
   "source": [
    "## Instructions\n",
    "\n",
    "Let’s visualize what it means to take the probability of a range. Use the sliders to select a range of values representing the number of heads we might observe from 10 fair coin flips.\n",
    "\n",
    "Try different ranges to see how the probabilities change for different values. Roll your cursor over an individual bar to see the height of the bar (which corresponds to the probability of the value occurring)."
   ]
  },
  {
   "cell_type": "markdown",
   "metadata": {},
   "source": [
    "<iframe src=\"https://static-assets.codecademy.com/skillpaths/master-stats-ii/probability-distributions/binomial-range/index.html\" width=\"100%\" height=\"900px\" style=\"border: 0\">"
   ]
  }
 ],
 "metadata": {
  "interpreter": {
   "hash": "e7370f93d1d0cde622a1f8e1c04877d8463912d04d973331ad4851f04de6915a"
  },
  "kernelspec": {
   "display_name": "Python 3.10.2 64-bit",
   "language": "python",
   "name": "python3"
  },
  "language_info": {
   "name": "python",
   "version": "3.10.2"
  },
  "orig_nbformat": 4
 },
 "nbformat": 4,
 "nbformat_minor": 2
}

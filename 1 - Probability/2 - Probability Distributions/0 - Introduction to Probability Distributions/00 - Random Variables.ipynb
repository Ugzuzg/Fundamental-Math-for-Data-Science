{
 "cells": [
  {
   "cell_type": "markdown",
   "metadata": {},
   "source": [
    "# Random Variables\n",
    "\n",
    "A *random variable* is, in its simplest form, a function. In probability, we often use random variables to represent random events. For example, we could use a random variable to represent the outcome of a die roll: any number between one and six.\n",
    "\n",
    "Random variables must be numeric, meaning they always take on a number rather than a characteristic or quality. If we want to use a random variable to represent an event with non-numeric outcomes, we can choose numbers to represent those outcomes. For example, we could represent a coin flip as a random variable by assigning “heads” a value of 1 and “tails” a value of 0.\n",
    "\n",
    "In this lesson, we will use `random.choice(a, size = size, replace = True/False)` from the `numpy` library to simulate random variables in python. In this method:\n",
    "\n",
    "- `a` is a list or other object that has values we are sampling from\n",
    "- `size` is a number that represents how many values to choose\n",
    "- `replace` can be equal to `True` or `False`, and determines whether we keep a value in a after drawing it (`replace = True`) or remove it from the pool (`replace = False`).\n",
    "\n",
    "The following code simulates the outcome of rolling a fair die twice using `np.random.choice()`:\n",
    "\n",
    "```python\n",
    "import numpy as np\n",
    " \n",
    "# 7 is not included in the range function\n",
    "die_6 = range(1, 7)\n",
    " \n",
    "rolls = np.random.choice(die_6, size = 2, replace = True)\n",
    " \n",
    "print(rolls)\n",
    "```\n",
    "\n",
    "Output:\n",
    "\n",
    "```python\n",
    "# [2, 5]\n",
    "```"
   ]
  },
  {
   "cell_type": "markdown",
   "metadata": {},
   "source": [
    "## Instructions\n",
    "\n",
    "1. Run the given as is code to simulate rolling a die five times.\n",
    "\n",
    "    <details>\n",
    "        <summary>Stuck? Get a hint</summary>\n",
    "\n",
    "    Running the given code without any edits should return 5 values between 1 and 6, representing the outcomes of 5 dice rolls.\n",
    "    </details>\n",
    "\n",
    "2. Change the value of `num_rolls` so that `results_1` has the results of rolling a die ten times.\n",
    "\n",
    "    <details>\n",
    "        <summary>Stuck? Get a hint</summary>\n",
    "\n",
    "    Changing the value of `num_rolls` to 8 will simulate 8 die rolls. Using that logic, how would you change the code to make 10 rolls?\n",
    "    </details>\n",
    "\n",
    "3. Using the `range()` function, create a 12-sided die called `die_12`. Use similar logic as `die_6`.\n",
    "\n",
    "    <details>\n",
    "        <summary>Stuck? Get a hint</summary>\n",
    "\n",
    "    If we wanted to make a 10-sided die, we would have:\n",
    "\n",
    "    ```python\n",
    "    die_10 = range(1, 11)\n",
    "    ```\n",
    "\n",
    "    Remember that the second argument in the `range()` function is not included!\n",
    "    </details>\n",
    "\n",
    "4. Simulate rolling `die_12` ten times, and save the rolls as `results_2`. Use the `np.random.choice()` function to simulate the rolls, and be sure to print out your results!\n",
    "    \n",
    "    <details>\n",
    "        <summary>Stuck? Get a hint</summary>\n",
    "\n",
    "    Using the same strategy as `results_1`, you should have the following code:\n",
    "\n",
    "    ```python\n",
    "    results_2 = np.random.choice(die_12, size = num_rolls, replace = True)\n",
    "    print(results_2)\n",
    "    ```\n",
    "    </details>"
   ]
  },
  {
   "cell_type": "code",
   "execution_count": null,
   "metadata": {},
   "outputs": [],
   "source": [
    "import numpy as np\n",
    "\n",
    "# create 6 sided \"die\"\n",
    "die_6 = range(1, 7)\n",
    "\n",
    "# set number of rolls\n",
    "num_rolls = 5\n",
    "\n",
    "# roll the \"die\" the set amount of times\n",
    "results_1 = np.random.choice(die_6, size = num_rolls, replace = True)\n",
    "print(results_1)\n",
    "\n",
    "# create 12-sided \"die\"\n",
    "#die_12 =\n",
    "\n",
    "# roll the 12-sided \"die\" 10 times\n",
    "#results_2 = \n",
    "\n"
   ]
  },
  {
   "cell_type": "markdown",
   "metadata": {},
   "source": [
    "### Solution"
   ]
  },
  {
   "cell_type": "code",
   "execution_count": null,
   "metadata": {},
   "outputs": [],
   "source": [
    "\n",
    "import numpy as np\n",
    "\n",
    "# create 6 sided \"die\"\n",
    "die_6 = range(1, 7)\n",
    "\n",
    "# set number of rolls\n",
    "num_rolls = 10\n",
    "\n",
    "# roll the \"die\" the set amount of times\n",
    "results_1 = np.random.choice(die_6, size = num_rolls, replace = True)\n",
    "print(results_1)\n",
    "\n",
    "# create 12-sided \"die\"\n",
    "die_12 = range(1, 13)\n",
    "\n",
    "# roll the 12-sided \"die\" 10 times\n",
    "results_2 = np.random.choice(die_12, size = num_rolls, replace = True)\n",
    "print(results_2)\n"
   ]
  }
 ],
 "metadata": {
  "interpreter": {
   "hash": "e7370f93d1d0cde622a1f8e1c04877d8463912d04d973331ad4851f04de6915a"
  },
  "kernelspec": {
   "display_name": "Python 3.10.2 64-bit",
   "language": "python",
   "name": "python3"
  },
  "language_info": {
   "name": "python",
   "version": "3.10.2"
  },
  "orig_nbformat": 4
 },
 "nbformat": 4,
 "nbformat_minor": 2
}

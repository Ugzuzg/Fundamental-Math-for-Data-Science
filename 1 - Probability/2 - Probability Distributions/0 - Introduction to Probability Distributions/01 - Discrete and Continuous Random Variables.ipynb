{
 "cells": [
  {
   "cell_type": "markdown",
   "metadata": {},
   "source": [
    "# Continuous Random Variables\n",
    "## Discrete Random Variables\n",
    "\n",
    "Random variables with a countable number of possible values are called *discrete random variables*. For example, rolling a regular 6-sided die would be considered a discrete random variable because the outcome options are limited to the numbers on the die.\n",
    "\n",
    "Discrete random variables are also common when observing counting events, such as how many people entered a store on a randomly selected day. In this case, the values are countable in that they are limited to whole numbers (you can’t observe half of a person).\n",
    "\n",
    "## Continuous Random Variables\n",
    "\n",
    "When the possible values of a random variable are uncountable, it is called a *continuous random variable*. These are generally measurement variables and are uncountable because measurements can always be more precise – meters, centimeters, millimeters, etc.\n",
    "\n",
    "For example, the temperature in Los Angeles on a randomly chosen day is a continuous random variable. We can always be more precise about the temperature by expanding to another decimal place (96 degrees, 96.44 degrees, 96.437 degrees, etc.)."
   ]
  },
  {
   "cell_type": "markdown",
   "metadata": {},
   "source": [
    "## Instructions\n",
    "\n",
    "1. Suppose you have a random variable that represents the time it takes a randomly selected person to run a mile. Is this variable discrete or continuous? In script.py, set the value of `mile_time` to `'discrete'` or `'continuous'` to answer.\n",
    "    \n",
    "    <details>\n",
    "        <summary>Stuck? Get a hint</summary>\n",
    "    \n",
    "    This is considered a continuous random variable because it represents something being measured. And technically time can be more and more specific (hours, minutes, seconds, milliseconds, etc).\n",
    "    </details>\n",
    "\n",
    "2. Suppose you have a random variable that represents the individual pieces of candy a randomly selected child receives on a candy-giving holiday. Is this variable discrete or continuous? In script.py, set the value of `candy` to `'discrete'` or `'continuous'` to answer.\n",
    "    \n",
    "    <details>\n",
    "        <summary>Stuck? Get a hint</summary>\n",
    "    \n",
    "    This is considered a discrete random variable because the pieces of candy are countable.\n",
    "    </details>"
   ]
  },
  {
   "cell_type": "code",
   "execution_count": 1,
   "metadata": {},
   "outputs": [],
   "source": [
    "mile_time = 'fill your answer here'\n",
    "\n",
    "candy = 'fill your answer here'"
   ]
  },
  {
   "cell_type": "markdown",
   "metadata": {},
   "source": [
    "### Solution"
   ]
  },
  {
   "cell_type": "code",
   "execution_count": null,
   "metadata": {},
   "outputs": [],
   "source": [
    "\n",
    "mile_time = 'continuous'\n",
    "\n",
    "candy = 'discrete'"
   ]
  }
 ],
 "metadata": {
  "interpreter": {
   "hash": "e7370f93d1d0cde622a1f8e1c04877d8463912d04d973331ad4851f04de6915a"
  },
  "kernelspec": {
   "display_name": "Python 3.10.2 64-bit",
   "language": "python",
   "name": "python3"
  },
  "language_info": {
   "codemirror_mode": {
    "name": "ipython",
    "version": 3
   },
   "file_extension": ".py",
   "mimetype": "text/x-python",
   "name": "python",
   "nbconvert_exporter": "python",
   "pygments_lexer": "ipython3",
   "version": "3.10.2"
  },
  "orig_nbformat": 4
 },
 "nbformat": 4,
 "nbformat_minor": 2
}

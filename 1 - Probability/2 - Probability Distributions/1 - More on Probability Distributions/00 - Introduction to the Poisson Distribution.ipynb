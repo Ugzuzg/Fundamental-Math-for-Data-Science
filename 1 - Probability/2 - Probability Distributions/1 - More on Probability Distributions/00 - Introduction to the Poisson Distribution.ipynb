{
 "cells": [
  {
   "cell_type": "markdown",
   "metadata": {},
   "source": [
    "# Introduction to the Poisson Distribution\n",
    "\n",
    "There are numerous probability distributions used to represent almost any random event. In the previous lesson, we learned about the binomial distribution to represent events like any number of coin flips as well as the normal distribution to represent events such as the height of a randomly selected woman.\n",
    "\n",
    "The Poisson distribution is another common distribution, and it is used to describe the number of times a certain event occurs within a fixed time or space interval. For example, the Poisson distribution can be used to describe the number of cars that pass through a specific intersection between 4pm and 5pm on a given day. It can also be used to describe the number of calls received in an office between 1pm to 3pm on a certain day.\n",
    "\n",
    "The Poisson distribution is defined by the rate parameter, symbolized by the Greek letter lambda, λ.\n",
    "\n",
    "Lambda represents the expected value — or the average value — of the distribution. For example, if our expected number of customers between 1pm and 2pm is 7, then we would set the parameter for the Poisson distribution to be 7. The PMF for the Poisson(7) distribution is as follows:\n",
    "\n",
    "![This plot shows the PMF of the Poisson(7) distribution. The plot is centered around 7](./assets/pois_7_pmf.svg)"
   ]
  },
  {
   "cell_type": "markdown",
   "metadata": {},
   "source": [
    "## Instructions\n",
    "\n",
    "What does the PMF of the Poisson distribution look like with different values in the lambda parameter?\n",
    "\n",
    "Use the slider on the applet to see how the distribution of the probability mass function changes as lambda changes between 1 and 10. The height of the bars represents the probability of observing the number along the x-axis. You can roll your cursor over any specific bar and see the specific probability of that value.\n"
   ]
  },
  {
   "cell_type": "markdown",
   "metadata": {},
   "source": [
    "<iframe src=\"https://static-assets.codecademy.com/skillpaths/master-stats-ii/probability-distributions/poisson-slider/index.html\" width=\"100%\" height=\"900px\" style=\"border: 0\">"
   ]
  }
 ],
 "metadata": {
  "interpreter": {
   "hash": "e7370f93d1d0cde622a1f8e1c04877d8463912d04d973331ad4851f04de6915a"
  },
  "kernelspec": {
   "display_name": "Python 3.10.2 64-bit",
   "language": "python",
   "name": "python3"
  },
  "language_info": {
   "name": "python",
   "version": "3.10.2"
  },
  "orig_nbformat": 4
 },
 "nbformat": 4,
 "nbformat_minor": 2
}

{
 "cells": [
  {
   "cell_type": "markdown",
   "metadata": {},
   "source": [
    "# Calculating Probabilities of a Range using the Cumulative Density Function\n",
    "\n",
    "We can use the `poisson.cdf()` method in the `scipy.stats` library to evaluate the probability of observing a specific number or less given the expected value of a distribution. For example, if we wanted to calculate the probability of observing 6 or fewer rain events in the next 30 days when we expected 10, we could do the following:\n",
    "\n",
    "```python\n",
    "import scipy.stats as stats\n",
    "# expected value = 10, probability of observing 6 or less\n",
    "stats.poisson.cdf(6, 10)\n",
    "```\n",
    "\n",
    "Output:\n",
    "\n",
    "```python\n",
    "0.130141420882483\n",
    "```\n",
    "\n",
    "This means that there is roughly a 13% chance that there will be 6 or fewer rainfalls in the month in question.\n",
    "\n",
    "We can also use this method to evaluate the probability of observing a specific number or more given the expected value of the distribution. For example, if we wanted to calculate the probability of observing 12 or more rain events in the next 30 days when we expected 10, we could do the following: \n",
    "\n",
    "```python\n",
    "import scipy.stats as stats\n",
    "# expected value = 10, probability of observing 12 or more\n",
    "1 - stats.poisson.cdf(11, 10)\n",
    "```\n",
    "\n",
    "Output:\n",
    "\n",
    "```\n",
    "0.30322385369689386\n",
    "```\n",
    "\n",
    "This means that there is roughly a 30% chance that there will be 12 or more rain events in the month in question.\n",
    "\n",
    "Note that we used 11 in the statement above even though 12 was the value given in the prompt. We wanted to calculate the probability of observing 12 or more rains, which includes 12. `stats.poisson.cdf(11, 10)` evaluates the probability of observing 11 or fewer rains, so `1 - stats.poisson.cdf(11, 10)` would equal the probability of observing 12 or more rains.\n",
    "\n",
    "Summing individual probabilities over a wide range can be cumbersome. It is often easier to calculate the probability of a range using the cumulative density function instead of the probability mass function. We can do this by taking the difference between the CDF of the larger endpoint and the CDF of one less than the smaller endpoint of the range.\n",
    "\n",
    "For example, while still expecting 10 rainfalls in the next 30 days, we could use the following code to calculate the probability of observing between 12 and 18 rainfall events:\n",
    "\n",
    "```python\n",
    "import scipy.stats as stats\n",
    "# expected value = 10, probability of observing between 12 and 18\n",
    "stats.poisson.cdf(18, 10) - stats.poisson.cdf(11, 10)\n",
    "```\n",
    "\n",
    "Output:\n",
    "\n",
    "```python\n",
    "0.29603734909303947\n",
    "```"
   ]
  },
  {
   "cell_type": "markdown",
   "metadata": {},
   "source": [
    "## Instructions\n",
    "\n",
    "1. Working at a call center where the average number of calls between 9am and 10am is 15 calls, what is the probability of observing more than 20 calls?\n",
    "\n",
    "    Uncomment `prob_more_than_20` and assign this probability to the variable. Then print `prob_more_than_20`.\n",
    "\n",
    "    <details>\n",
    "        <summary>Stuck? Get a hint</summary>\n",
    "    \n",
    "    If we were to calculate the probability of observing more than 7 calls if our expected number of calls is 4, we would write the following line of code:\n",
    "\n",
    "    ```python\n",
    "    1 - stats.poisson.cdf(7, 4)\n",
    "    ```\n",
    "\n",
    "    Note that we are evaluating MORE THAN 7, which does not include 7.\n",
    "\n",
    "    </details>\n",
    "\n",
    "2. What is the probability of observing between 17 to 21 calls when the expected number of calls is 15?\n",
    "\n",
    "    Uncomment `prob_17_to_21` and assign this probability to the variable. Then print `prob_17_to_21`.\n",
    "\n",
    "    <details>\n",
    "        <summary>Stuck? Get a hint</summary>\n",
    "    \n",
    "    If we wanted to calculate the probability of observing between 4 and 8 calls when the expected number of calls is 6, we would write the following line of code:\n",
    "\n",
    "    ```python\n",
    "    stats.poisson.cdf(8, 6) - stats.poisson.cdf(3, 6)\n",
    "    ```\n",
    "    </details>"
   ]
  },
  {
   "cell_type": "code",
   "execution_count": null,
   "metadata": {},
   "outputs": [],
   "source": [
    "import scipy.stats as stats\n",
    "\n",
    "## Checkpoint 1\n",
    "# calculate prob_more_than_20\n",
    "#prob_more_than_20 = \n",
    "\n",
    "# print prob_more_than_20\n",
    "\n",
    "## Checkpoint \n",
    "# calculate prob_17_to_21\n",
    "#prob_17_to_21 = \n",
    "\n",
    "# print prob_17_to_21\n"
   ]
  },
  {
   "cell_type": "markdown",
   "metadata": {},
   "source": [
    "### Solution"
   ]
  },
  {
   "cell_type": "code",
   "execution_count": 1,
   "metadata": {},
   "outputs": [
    {
     "name": "stdout",
     "output_type": "stream",
     "text": [
      "0.08297091003146029\n",
      "0.2827703929341844\n"
     ]
    }
   ],
   "source": [
    "\n",
    "import scipy.stats as stats\n",
    "\n",
    "## Checkpoint 1\n",
    "# calculate prob_more_than_20\n",
    "prob_more_than_20 = 1 - stats.poisson.cdf(20, 15)\n",
    "\n",
    "# print prob_more_than_20\n",
    "print(prob_more_than_20)\n",
    "\n",
    "## Checkpoint \n",
    "# calculate prob_17_to_21\n",
    "prob_17_to_21 = stats.poisson.cdf(21, 15) - stats.poisson.cdf(16, 15)\n",
    "\n",
    "# print prob_17_to_21\n",
    "print(prob_17_to_21)"
   ]
  }
 ],
 "metadata": {
  "interpreter": {
   "hash": "e7370f93d1d0cde622a1f8e1c04877d8463912d04d973331ad4851f04de6915a"
  },
  "kernelspec": {
   "display_name": "Python 3.10.2 64-bit",
   "language": "python",
   "name": "python3"
  },
  "language_info": {
   "codemirror_mode": {
    "name": "ipython",
    "version": 3
   },
   "file_extension": ".py",
   "mimetype": "text/x-python",
   "name": "python",
   "nbconvert_exporter": "python",
   "pygments_lexer": "ipython3",
   "version": "3.10.2"
  },
  "orig_nbformat": 4
 },
 "nbformat": 4,
 "nbformat_minor": 2
}

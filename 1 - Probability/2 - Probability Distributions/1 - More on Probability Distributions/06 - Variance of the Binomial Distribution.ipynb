{
 "cells": [
  {
   "cell_type": "markdown",
   "metadata": {},
   "source": [
    "# Variance of the Binomial Distribution\n",
    "\n",
    "Variance for the Binomial distribution is similarly calculated using the `n` and `p` parameters. Let’s use the 10 fair coin flips example to try to understand how variance is calculated. Each coin flip has a certain probability of landing as heads or tails: 0.5 and 0.5, respectively.\n",
    "\n",
    "The variance of a single coin flip will be the probability that the success happens times the probability that it does not happen: *p·(1-p)*, or 0.5 x 0.5. Because we have *n = 10* number of coin flips, the variance of a single fair coin flip is multiplied by the number of flips. Thus we get the equation:\n",
    "\n",
    "$$\n",
    "Variance(\\#\\;of\\;Heads) = Var(X) = n \\times p \\times (1-p) \\\\\n",
    "Variance(\\#\\;of\\;Heads) = 10 \\times 0.5 \\times (1 - 0.5) = 2.5\n",
    "$$\n",
    "\n",
    "Let’s consider our 20 multiple choice quiz again. The variance around getting an individual question correct would be *p·(1-p)*, or 0.25 x 0.75. We then multiply this variance for all 20 questions in the quiz and get:\n",
    "\n",
    "$$Variance(\\#\\;of\\;Correct\\;Answers) = 20 \\times 0.25 \\times (1 - 0.25) = 3.75$$\n",
    "\n",
    "We would expect to get 5 correct answers, but the overall variance of the probability distribution is 3.75."
   ]
  },
  {
   "cell_type": "markdown",
   "metadata": {},
   "source": [
    "## Instructions\n",
    "\n",
    "1. A certain basketball player has an 85% chance of making a given free throw. Uncomment `variance_baskets` and set it equal to the variance of free throws made from 20 shots.\n",
    "\n",
    "    Then print `variance_baskets`.\n",
    "\n",
    "    <details>\n",
    "        <summary>Stuck? Get a hint</summary>\n",
    "    \n",
    "    If the player made free-throws 65% of the time, out of 20 attempts, the variance would be:\n",
    "\n",
    "    $$\n",
    "    n \\times p \\times (1-p) \\\\\n",
    "    20 \\times 0.65 \\times (1 - 0.65)\n",
    "    $$\n",
    "    </details>\n",
    "\n",
    "\n",
    "2. Let’s say a student has a 98% chance of arriving on time to class. Uncomment `variance_late` and set it equal to the variance of days the student will arrive late to class throughout the 180 school days in a school year.\n",
    "\n",
    "    Then print `variance_late`.\n",
    "\n",
    "    <details>\n",
    "        <summary>Stuck? Get a hint</summary>\n",
    "    \n",
    "    If the student had a 90% chance of being on time, then they have a 10% chance of being late. The variance would then be:\n",
    "\n",
    "    $$\n",
    "    n \\times p \\times (1-p) \\\\\n",
    "    180 \\times 0.10 \\times (1 - 0.10)\n",
    "    $$\n",
    "\n",
    "\n",
    "\n",
    "    </details>"
   ]
  },
  {
   "cell_type": "code",
   "execution_count": null,
   "metadata": {},
   "outputs": [],
   "source": [
    "## Checkpoint 1\n",
    "#variance_baskets = \n",
    "\n",
    "\n",
    "## Checkpoint 2\n",
    "#variance_late = "
   ]
  },
  {
   "cell_type": "markdown",
   "metadata": {},
   "source": [
    "### Solution"
   ]
  },
  {
   "cell_type": "code",
   "execution_count": 1,
   "metadata": {},
   "outputs": [
    {
     "name": "stdout",
     "output_type": "stream",
     "text": [
      "2.5500000000000003\n",
      "3.528000000000003\n"
     ]
    }
   ],
   "source": [
    "## Checkpoint 1\n",
    "variance_baskets = 20 * 0.85 * (1 - 0.85)\n",
    "print(variance_baskets)\n",
    "\n",
    "\n",
    "## Checkpoint 2\n",
    "variance_late = 180 * 0.98 * (1 - 0.98)\n",
    "print(variance_late)"
   ]
  }
 ],
 "metadata": {
  "interpreter": {
   "hash": "e7370f93d1d0cde622a1f8e1c04877d8463912d04d973331ad4851f04de6915a"
  },
  "kernelspec": {
   "display_name": "Python 3.10.2 64-bit",
   "language": "python",
   "name": "python3"
  },
  "language_info": {
   "codemirror_mode": {
    "name": "ipython",
    "version": 3
   },
   "file_extension": ".py",
   "mimetype": "text/x-python",
   "name": "python",
   "nbconvert_exporter": "python",
   "pygments_lexer": "ipython3",
   "version": "3.10.2"
  },
  "orig_nbformat": 4
 },
 "nbformat": 4,
 "nbformat_minor": 2
}

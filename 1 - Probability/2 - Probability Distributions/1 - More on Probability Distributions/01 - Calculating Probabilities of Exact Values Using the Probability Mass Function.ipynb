{
 "cells": [
  {
   "cell_type": "markdown",
   "metadata": {},
   "source": [
    "# Calculating Probabilities of Exact Values Using the Probability Mass Function\n",
    "\n",
    "The Poisson distribution is a discrete probability distribution, so it can be described by a probability mass function and cumulative distribution function.\n",
    "\n",
    "We can use the `poisson.pmf()` method in the `scipy.stats` library to evaluate the probability of observing a specific number given the parameter (expected value) of a distribution. For example, suppose that we expect it to rain 10 times in the next 30 days. The number of times it rains in the next 30 days is “Poisson distributed” with lambda = 10. We can calculate the probability of exactly 6 times of rain as follows:\n",
    "\n",
    "```python\n",
    "import scipy.stats as stats\n",
    "# expected value = 10, probability of observing 6\n",
    "stats.poisson.pmf(6, 10)\n",
    "```\n",
    "\n",
    "Output:\n",
    "\n",
    "```\n",
    "0.06305545800345125\n",
    "```\n",
    "\n",
    "Like previous probability mass functions of discrete random variables, individual probabilities can be summed together to find the probability of observing a value in a range.\n",
    "\n",
    "For example, if we expect it to rain 10 times in the next 30 days, the number of times it rains in the next 30 days is “Poisson distributed” with lambda = 10. We can calculate the probability of 12-14 times of rain as follows:\n",
    "\n",
    "```python\n",
    "import scipy.stats as stats\n",
    "# expected value = 10, probability of observing 12-14\n",
    "stats.poisson.pmf(12, 10) + stats.poisson.pmf(13, 10) + stats.poisson.pmf(14, 10)\n",
    "```\n",
    "\n",
    "Output:\n",
    "\n",
    "```\n",
    "0.21976538076223123\n",
    "```"
   ]
  },
  {
   "cell_type": "markdown",
   "metadata": {},
   "source": [
    "## Instructions\n",
    "\n",
    "1. We are working in a call center, and we expect the average number of calls in our call center between 9am and 10am to be 15 calls. What is the probability that we would see exactly 15 calls in that time frame?\n",
    "\n",
    "    Uncomment `prob_15` and assign this probability to the variable. Use the `poisson.pmf()` method.\n",
    "\n",
    "    Be sure to print `prob_15`.\n",
    "\n",
    "    <details>\n",
    "        <summary>Stuck? Get a hint</summary>\n",
    "    \n",
    "    If we wanted to calculate the probability of 8 calls when the average is 8, we could use the following code:\n",
    "\n",
    "    ```python\n",
    "    stats.poisson.pmf(8, 8)\n",
    "    ```\n",
    "    </details>\n",
    "\n",
    "2. What is the probability we would get between 7 and 9 calls?\n",
    "\n",
    "    Save this probability to the variable `prob_7_to_9` and then print `prob_7_to_9`. Be sure to use the `poisson.pmf()` method.\n",
    "\n",
    "    <details>\n",
    "        <summary>Stuck? Get a hint</summary>\n",
    "    \n",
    "    If we wanted to calculate the probability of 6 to 8 calls when the average is 12, we could use the following code:\n",
    "\n",
    "    ```python\n",
    "    stats.poisson.pmf(6, 12) + stats.poisson.pmf(7, 12) + stats.poisson.pmf(8, 12)\n",
    "    ```\n",
    "    </details>"
   ]
  },
  {
   "cell_type": "code",
   "execution_count": null,
   "metadata": {},
   "outputs": [],
   "source": [
    "import scipy.stats as stats\n",
    "\n",
    "## Checkpoint 1\n",
    "# calculate prob_15\n",
    "#prob_15 = \n",
    "\n",
    "# print prob_15\n",
    "\n",
    "\n",
    "## Checkpoint \n",
    "# calculate prob_7_to_9\n",
    "#prob_7_to_9 = \n",
    "\n",
    "# print prob_7_to_9"
   ]
  },
  {
   "cell_type": "markdown",
   "metadata": {},
   "source": [
    "### Solution"
   ]
  },
  {
   "cell_type": "code",
   "execution_count": 1,
   "metadata": {},
   "outputs": [
    {
     "name": "stdout",
     "output_type": "stream",
     "text": [
      "0.1024358666645339\n",
      "0.062221761061894816\n"
     ]
    }
   ],
   "source": [
    "\n",
    "import scipy.stats as stats\n",
    "\n",
    "## Checkpoint 1\n",
    "# calculate prob_15\n",
    "prob_15 = stats.poisson.pmf(15, 15)\n",
    "\n",
    "# print prob_15\n",
    "print(prob_15)\n",
    "\n",
    "\n",
    "## Checkpoint \n",
    "# calculate prob_7_to_9\n",
    "prob_7_to_9 = sum([stats.poisson.pmf(x, 15) for x in range(7, 10)])\n",
    "\n",
    "# print prob_7_to_9\n",
    "print(prob_7_to_9)"
   ]
  }
 ],
 "metadata": {
  "interpreter": {
   "hash": "e7370f93d1d0cde622a1f8e1c04877d8463912d04d973331ad4851f04de6915a"
  },
  "kernelspec": {
   "display_name": "Python 3.10.2 64-bit",
   "language": "python",
   "name": "python3"
  },
  "language_info": {
   "codemirror_mode": {
    "name": "ipython",
    "version": 3
   },
   "file_extension": ".py",
   "mimetype": "text/x-python",
   "name": "python",
   "nbconvert_exporter": "python",
   "pygments_lexer": "ipython3",
   "version": "3.10.2"
  },
  "orig_nbformat": 4
 },
 "nbformat": 4,
 "nbformat_minor": 2
}

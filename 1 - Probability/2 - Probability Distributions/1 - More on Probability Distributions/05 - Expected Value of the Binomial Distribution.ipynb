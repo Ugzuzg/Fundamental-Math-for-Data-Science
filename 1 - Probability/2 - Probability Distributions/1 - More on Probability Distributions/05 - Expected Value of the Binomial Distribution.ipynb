{
 "cells": [
  {
   "cell_type": "markdown",
   "metadata": {},
   "source": [
    "# Expected Value of the Binomial Distribution\n",
    "\n",
    "Other types of distributions have expected values and variances based on the given parameters, just like the Poisson distribution. Recall that the Binomial distribution has parameters n, representing the number of events and p, representing the probability of “success” (or the specific outcome we are looking for occurring).\n",
    "\n",
    "Consider the following scenario: we flip a fair coin 10 times and count the number of heads we observe. How many heads would you expect to see? You might naturally think 5, and you would be right! What we are doing is calculating the expected value without even realizing it. We take the 10 coin flips and multiply it by the chance of getting heads, or one-half, getting the answer of 5 heads. And that is exactly the equation for the expected value of the binomial distribution:\n",
    "\n",
    "$$Expected(\\#\\;of\\;Heads) = E(X) = n \\times p$$\n",
    "\n",
    "Note that if we were counting the number of heads out of 5 fair coin flips, the expected value would be:\n",
    "\n",
    "$$5 \\times 0.5 = 2.5$$\n",
    "\n",
    "It is ok for the expected value to be a fraction or have decimal values, though it would be impossible to observe 2.5 heads.\n",
    "\n",
    "Let’s look at a different example. Let’s say we forgot to study, and we are going to guess **B** on all 20 questions of a multiple-choice quiz. If we assume that every letter option (A, B, C, and D) has the same probability of being the right answer for each question, how many questions would we expect to get correct? `n` would equal 20, because there are 20 questions, and `p` would equal 0.25, because there is a 1 in 4 chance that **B** will be the right answer. Using the equation, we can calculate:\n",
    "\n",
    "$$Expected(\\#\\;right\\;answers) = E(X) = 20 \\times 0.25 = 5$$"
   ]
  },
  {
   "cell_type": "markdown",
   "metadata": {},
   "source": [
    "## Instructions\n",
    "\n",
    "1. A certain basketball player has an 85% chance of making a given free throw and takes 20 free throws.\n",
    "\n",
    "    Uncomment `expected_baskets` and set it equal to the number of free throws they are expected to make.\n",
    "\n",
    "    Then print `expected_baskets`.\n",
    "\n",
    "    <details>\n",
    "        <summary>Stuck? Get a hint</summary>\n",
    "    \n",
    "    If the player made free-throws 65% of the time, out of 20 attempts, we would expect:\n",
    "\n",
    "    ```python\n",
    "    expected_baskets = 20 * 0.65\n",
    "    ```\n",
    "    </details>\n",
    "\n",
    "2. Let’s say a student has a 98% chance of arriving early or on time to class. Uncomment the variable called `expected_late` and set it equal to the expected number of times the student will arrive late to class throughout the 180 school days in a school year.\n",
    "\n",
    "    Be sure to print `expected_late`.\n",
    "\n",
    "    <details>\n",
    "        <summary>Stuck? Get a hint</summary>\n",
    "    \n",
    "    Note that the probability of arriving on time is 98%, so the probability of arriving late would be 1 - 0.98.\n",
    "    </details>"
   ]
  },
  {
   "cell_type": "code",
   "execution_count": null,
   "metadata": {},
   "outputs": [],
   "source": [
    "## Checkpoint 1\n",
    "#expected_baskets = \n",
    "\n",
    "\n",
    "## Checkpoint 2\n",
    "#expected_late = "
   ]
  },
  {
   "cell_type": "markdown",
   "metadata": {},
   "source": [
    "### Solution"
   ]
  },
  {
   "cell_type": "code",
   "execution_count": 7,
   "metadata": {},
   "outputs": [
    {
     "name": "stdout",
     "output_type": "stream",
     "text": [
      "17.0\n",
      "3.600000000000003\n"
     ]
    }
   ],
   "source": [
    "## Checkpoint 1\n",
    "expected_baskets = 20 * 0.85\n",
    "print(expected_baskets)\n",
    "\n",
    "## Checkpoint 2\n",
    "expected_late = 180 * (1 - 0.98)\n",
    "print(expected_late)"
   ]
  }
 ],
 "metadata": {
  "interpreter": {
   "hash": "e7370f93d1d0cde622a1f8e1c04877d8463912d04d973331ad4851f04de6915a"
  },
  "kernelspec": {
   "display_name": "Python 3.10.2 64-bit",
   "language": "python",
   "name": "python3"
  },
  "language_info": {
   "codemirror_mode": {
    "name": "ipython",
    "version": 3
   },
   "file_extension": ".py",
   "mimetype": "text/x-python",
   "name": "python",
   "nbconvert_exporter": "python",
   "pygments_lexer": "ipython3",
   "version": "3.10.2"
  },
  "orig_nbformat": 4
 },
 "nbformat": 4,
 "nbformat_minor": 2
}

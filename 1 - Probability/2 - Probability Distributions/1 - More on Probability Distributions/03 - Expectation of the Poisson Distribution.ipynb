{
 "cells": [
  {
   "cell_type": "markdown",
   "metadata": {},
   "source": [
    "# Expectation of the Poisson Distribution\n",
    "\n",
    "Earlier, we mentioned that the parameter lambda (λ) is the expected value (or average value) of the Poisson distribution. But what does this mean?\n",
    "\n",
    "Let’s put this into context: let’s say we are salespeople, and after many weeks of work, we calculate our average to be 10 sales per week. If we take this value to be our expected value of a Poisson Distribution, the probability mass function will look as follows:\n",
    "\n",
    "![This is a plot of the probability mass function for the Poisson distribution with the expected value equal to 10. The bar at 10 is colored red, and the rest of the bars are colored blue.](./assets/pois_10_pmf_red.svg)\n",
    "\n",
    "The tallest bar represents the value with the highest probability of occurring. In this case, the tallest bar is at 10. This does not, however, mean that we will make 10 sales. It means that on average, across all weeks, we expect our average to equal about 10 sales per week. \n",
    "\n",
    "Let’s look at this another way. Let’s take a sample of 1000 random values from the Poisson distribution with the expected value of 10. We can use the `poisson.rvs()` method in the `scipy.stats` library to generate random values:\n",
    "\n",
    "```python\n",
    "import scipy.stats as stats\n",
    " \n",
    "# generate random variable\n",
    "# stats.poisson.rvs(lambda, size = num_values)\n",
    "rvs = stats.poisson.rvs(10, size = 1000)\n",
    "```\n",
    "\n",
    "The histogram of this sampling looks like the following:\n",
    "\n",
    "![This plot is a histogram of 1000 random samples from the Poisson(10) distribution](./assets/pois_10_1000samp.svg)\n",
    "\n",
    "We can see observations of as low as 2 but as high as 20. The tallest bars are at 9 and 10. If we took the average of the 1000 random samples, we would get:\n",
    "\n",
    "```python\n",
    "print(rvs.mean())\n",
    "```\n",
    "\n",
    "Output:\n",
    "\n",
    "```python\n",
    "10.009\n",
    "```\n",
    "\n",
    "This value is very close to 10, confirming that over the 1000 observations, the expected value (or average) is 10.\n",
    "\n",
    "When we talk about the expected value, we mean the average over many observations. This relates to the Law of Large Numbers: the more samples we have, the more likely samples will resemble the true population, and the mean of the samples will approach the expected value. So even though the salesperson may make 3 sales one week, they may make 16 the next, and 11 the week after. In the long run, after many weeks, the expected value (or average) would still be 10."
   ]
  },
  {
   "cell_type": "markdown",
   "metadata": {},
   "source": [
    "## Instructions\n",
    "\n",
    "1. Uncomment `rand_vars` and set it equal to 1000 random variates from the Poisson distribution with lambda equal to 15.\n",
    "\n",
    "    <details>\n",
    "        <summary>Stuck? Get a hint</summary>\n",
    "    \n",
    "    We can use the following code to generate 50 random variables from the Poisson distribution with lambda = 2:\n",
    "\n",
    "    ```python\n",
    "    vars = stats.poisson.rvs(2, size = 50)\n",
    "    ```\n",
    "    </details>\n",
    "\n",
    "2. Calculate and print the mean `rand_vars`.\n",
    "\n",
    "    <details>\n",
    "        <summary>Stuck? Get a hint</summary>\n",
    "    \n",
    "    We can find the mean of these values using:\n",
    "\n",
    "    ```python\n",
    "    print(vars.mean())\n",
    "    ```\n",
    "    </details>\n",
    "\n",
    "3. We have preloaded a function `histogram_function()` that takes a list of random variables and plots them to a histogram.\n",
    "\n",
    "    Using the same `rand_vars` variable, run the histogram_function function with `rand_vars` as the argument to produce the histogram of the data.\n",
    "\n",
    "    <details>\n",
    "        <summary>Stuck? Get a hint</summary>\n",
    "    \n",
    "    If our list of random variables was called `vars`, we could use the preloaded `histogram_function()` with the following line of code:\n",
    "\n",
    "    ```python\n",
    "    histogram_function(vars)\n",
    "    ```\n",
    "    </details>\n"
   ]
  },
  {
   "cell_type": "code",
   "execution_count": null,
   "metadata": {},
   "outputs": [],
   "source": [
    "import scipy.stats as stats\n",
    "\n",
    "import matplotlib.pyplot as plt\n",
    "import numpy as np\n",
    "\n",
    "def histogram_function(rand_vars):\n",
    "  plt.hist(rand_vars, bins = np.arange(len(set(rand_vars)))-0.5, edgecolor = \"black\")\n",
    "  plt.xticks(list(range(rand_vars.max())))\n",
    "  plt.show()\n",
    "\n",
    "## Checkpoint 1\n",
    "# lambda = 15, 1000 random draws \n",
    "#rand_vars =\n",
    "\n",
    "## Checkpoint 2\n",
    "# print the mean of rand_vars\n",
    "\n",
    "\n",
    "## Checkpoint 3\n"
   ]
  },
  {
   "cell_type": "markdown",
   "metadata": {},
   "source": [
    "### Solution"
   ]
  },
  {
   "cell_type": "code",
   "execution_count": 1,
   "metadata": {},
   "outputs": [
    {
     "name": "stdout",
     "output_type": "stream",
     "text": [
      "15.113\n"
     ]
    },
    {
     "data": {
      "image/png": "[encoded data removed]",
      "text/plain": [
       "<Figure size 432x288 with 1 Axes>"
      ]
     },
     "metadata": {
      "needs_background": "light"
     },
     "output_type": "display_data"
    }
   ],
   "source": [
    "\n",
    "import scipy.stats as stats\n",
    "\n",
    "import matplotlib.pyplot as plt\n",
    "import numpy as np\n",
    "\n",
    "def histogram_function(rand_vars):\n",
    "  plt.hist(rand_vars, bins = np.arange(len(set(rand_vars)))-0.5, edgecolor = \"black\")\n",
    "  plt.xticks(list(range(rand_vars.max())))\n",
    "  plt.show()\n",
    "\n",
    "## Checkpoint 1\n",
    "# lambda = 15, 1000 random draws \n",
    "rand_vars = stats.poisson.rvs(15, size = 1000)\n",
    "\n",
    "## Checkpoint 2\n",
    "# print the mean of rand_vars\n",
    "print(rand_vars.mean())\n",
    "\n",
    "## Checkpoint 3\n",
    "histogram_function(rand_vars)\n"
   ]
  }
 ],
 "metadata": {
  "interpreter": {
   "hash": "e7370f93d1d0cde622a1f8e1c04877d8463912d04d973331ad4851f04de6915a"
  },
  "kernelspec": {
   "display_name": "Python 3.10.2 64-bit",
   "language": "python",
   "name": "python3"
  },
  "language_info": {
   "codemirror_mode": {
    "name": "ipython",
    "version": 3
   },
   "file_extension": ".py",
   "mimetype": "text/x-python",
   "name": "python",
   "nbconvert_exporter": "python",
   "pygments_lexer": "ipython3",
   "version": "3.10.2"
  },
  "orig_nbformat": 4
 },
 "nbformat": 4,
 "nbformat_minor": 2
}

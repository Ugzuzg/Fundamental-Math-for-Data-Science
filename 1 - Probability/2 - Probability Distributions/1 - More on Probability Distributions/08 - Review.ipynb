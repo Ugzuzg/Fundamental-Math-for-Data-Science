{
 "cells": [
  {
   "cell_type": "markdown",
   "metadata": {},
   "source": [
    "# Review\n",
    "\n",
    "Congrats! We have finished our second lesson on probability distributions! Let’s review some of the things we’ve learned:\n",
    "\n",
    "- The Poisson distribution and its parameter lambda (λ)\n",
    "- How the probability mass function of the Poisson distribution changes with different values of lambda (λ)\n",
    "- Calculating probabilities of specific values and ranges of values from the Poisson distribution\n",
    "- Calculating probabilities of ranges using the cumulative density function of the Poisson distribution\n",
    "- Generating random values from a distribution\n",
    "- Principles of expectation and variance of various distributions\n",
    "- Universal properties of expectation and variance"
   ]
  },
  {
   "cell_type": "markdown",
   "metadata": {},
   "source": [
    "## Instructions\n",
    "\n",
    "Let’s practice calculating different values from the Poisson distribution. Below are some questions you can try out using **script.py**. If you get stuck, feel free to use **solution.py**, which contains the answer to each of these questions.\n",
    "\n",
    "1. You work at ambulance dispatch where the number of calls that come in daily follows the Poisson distribution with lambda equal to 9. There’s a rule that a team can go on no more than 12 calls a day. But how often could this happen?\n",
    "\n",
    "    Create a variable `calls` that is the probability of observing more than 12 calls on a given day. Then print `calls`.\n",
    "\n",
    "2. Let’s say that you have to call in a backup team if you have 10 or more calls in a given day. But you don’t want to have to call in a backup team unless they really will be needed. But what is the probability that they will be called and not needed?\n",
    "\n",
    "    Create and print a variable `false_backup` that is the probability of observing a minimum of 10 calls, but no more than 12. Then print `false_backup`.\n",
    "\n",
    "3. A certain tennis star has a first-serve rate of 62%. Let’s say they serve 80 times in a given match. What is the expected value of the number of serves they make?\n",
    "\n",
    "    Create and print a variable `expected_serves` that is the number of first-serves they are expected to make.\n",
    "\n",
    "4. At the same first-serve rate, what is the variance of this player’s first-serves?\n",
    "\n",
    "    Create and print a variable `variance_serves` that is the variance of the player making their first serve.\n",
    "\n"
   ]
  },
  {
   "cell_type": "code",
   "execution_count": null,
   "metadata": {},
   "outputs": [],
   "source": [
    "import scipy.stats as stats\n",
    "\n",
    "## Practice Question 1\n",
    "\n",
    "\n",
    "## Practice Question 2\n",
    "\n",
    "\n",
    "## Practice Question 3\n",
    "\n",
    "\n",
    "## Practice Question 4\n"
   ]
  },
  {
   "cell_type": "markdown",
   "metadata": {},
   "source": [
    "### Solution"
   ]
  },
  {
   "cell_type": "code",
   "execution_count": 1,
   "metadata": {},
   "outputs": [
    {
     "name": "stdout",
     "output_type": "stream",
     "text": [
      "0.1242265708290351\n",
      "0.2883651848390232\n",
      "49.6\n",
      "18.848000000000003\n"
     ]
    }
   ],
   "source": [
    "import scipy.stats as stats\n",
    "\n",
    "## Practice Question 1\n",
    "calls = 1 - stats.poisson.cdf(12, 9)\n",
    "print(calls)\n",
    "\n",
    "## Practice Question 2\n",
    "false_backup = stats.poisson.cdf(12, 9) - stats.poisson.cdf(9, 9)\n",
    "print(false_backup)\n",
    "\n",
    "## Practice Question 3\n",
    "expected_serves = 80*0.62\n",
    "print(expected_serves)\n",
    "\n",
    "## Practice Question 4\n",
    "variance_serves = 80*0.62*(1-0.62)\n",
    "print(variance_serves)"
   ]
  }
 ],
 "metadata": {
  "interpreter": {
   "hash": "e7370f93d1d0cde622a1f8e1c04877d8463912d04d973331ad4851f04de6915a"
  },
  "kernelspec": {
   "display_name": "Python 3.10.2 64-bit",
   "language": "python",
   "name": "python3"
  },
  "language_info": {
   "codemirror_mode": {
    "name": "ipython",
    "version": 3
   },
   "file_extension": ".py",
   "mimetype": "text/x-python",
   "name": "python",
   "nbconvert_exporter": "python",
   "pygments_lexer": "ipython3",
   "version": "3.10.2"
  },
  "orig_nbformat": 4
 },
 "nbformat": 4,
 "nbformat_minor": 2
}

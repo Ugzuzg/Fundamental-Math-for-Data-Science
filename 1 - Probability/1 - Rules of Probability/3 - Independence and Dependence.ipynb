{
 "cells": [
  {
   "cell_type": "markdown",
   "metadata": {},
   "source": [
    "# Independence and Dependence\n",
    "\n",
    "Imagine that we flip a fair coin 5 times and get 5 heads in a row. Does this affect the probability of getting heads on the next flip? Even though we may feel like it’s time to see “tails”, it is impossible for a past coin flip to impact a future one. The fact that previous coin flips do not affect future ones is called *independence*. Two events are *independent* if the occurrence of one event does not affect the probability of the other.\n",
    "\n",
    "Are there cases where previous events DO affect the outcome of the next event? Suppose we have a bag of five marbles: two marbles are blue and three marbles are red. If we take one marble out of the bag, what is the probability that the second marble we take out is blue?\n",
    "\n",
    "![A diagram of the possible outcomes of pulling two marbles out of a bag when pulling them out without replacement.](./assets/marble-diagram-1.svg)\n",
    "\n",
    "This describes two events that are *dependent*. The probability of grabbing a blue marble in the second event *depends* on whether we take out a red or a blue marble in the first event. \n",
    "\n",
    "What if we had put back the first marble? Is the probability that we pick a blue marble second independent or dependent on what we pick out first? In this case, the events would be independent.\n",
    "\n",
    "![A diagram of the possible outcomes of pulling two marbles out of a bag when pulling them out with replacement.](./assets/marble-diagram-2.svg)\n",
    "\n",
    "Why do we care if events are independent or dependent? Knowing this helps us quantify the probability of events that depend on preexisting knowledge. This helps researchers understand and predict complex processes such as:\n",
    "\n",
    "- Effectiveness of vaccines\n",
    "- The weather on a particular day\n",
    "- Betting odds for professional sports games\n",
    "\n",
    "We will explore applications of this further in the lesson!"
   ]
  },
  {
   "cell_type": "markdown",
   "metadata": {},
   "source": [
    "## Instructions\n",
    "\n",
    "1. In **quiz.py** we have the following variables: `events_1`, `events_2`, and `events_3`. Given the two events outlined in these exercises, fill in the variables as either `\"dependent\"` or `\"independent\"`.\n",
    "\n",
    "    We pick out two cards from a standard deck of 52 cards without replacement. Event A is that we pick an Ace on the first draw. Event B is that we pick an Ace on the second draw. Are events A and B independent?\n",
    "\n",
    "    Fill in your answer in the `\"insert answer here\"` section of the `events_1` variable. After filling out your answer in quiz.py, hit run.\n",
    "\n",
    "    <details>\n",
    "        <summary>Stuck? Get a hint</summary>\n",
    "    Since we take out two cards without replacement, the outcome of picking out an ace second is dependent on what card we take out first. If we take out an ace first, the probability that we pick out an ace second is 3/51. If we don’t pick out an ace first, the probability we pick out an ace is 4/51.\n",
    "\n",
    "    You should denote your answer in **quiz.py** with the following code:\n",
    "\n",
    "    ```python\n",
    "    events_1 = \"dependent\"\n",
    "    ```\n",
    "    </details>\n",
    "\n",
    "2. Suppose we roll a six-sided die two times. Event A is that we roll a 3 on the first roll. Event B is that we roll a 3 on the second roll. Are events A and B independent?\n",
    "\n",
    "    Fill in your answer in the `\"insert answer here\"` section of the `events_2` variable. After filling out your answer in quiz.py, hit run.\n",
    "\n",
    "    <details>\n",
    "        <summary>Stuck? Get a hint</summary>\n",
    "    Like flipping a fair coin, each roll of a six-sided die is independent of the previous rolls.\n",
    "\n",
    "    You should denote your answer in **quiz.py** with the following code:\n",
    "\n",
    "    ```python\n",
    "    events_2 = \"independent\"\n",
    "    ```\n",
    "    </details>\n",
    "\n",
    "3. Suppose we flip a coin ten times. Event A is that we flip all heads on the first five flips. Event B is that we flip all heads on the second five flips. Are events A and B independent?\n",
    "\n",
    "    Fill in your answer in the `\"insert answer here\"` section of the `events_3` variable. After filling out your answer in quiz.py, hit run.\n",
    "\n",
    "    <details>\n",
    "        <summary>Stuck? Get a hint</summary>\n",
    "    Coin flips are always independent of previous flips. \n",
    "\n",
    "    You should denote your answer in **quiz.py** with the following code:\n",
    "\n",
    "    ```python\n",
    "    events_3 = \"independent\"\n",
    "    ```\n",
    "    </details>"
   ]
  },
  {
   "cell_type": "code",
   "execution_count": 1,
   "metadata": {},
   "outputs": [],
   "source": [
    "events_1 = \"insert answer here\"\n",
    "events_2 = \"insert answer here\"\n",
    "events_3 = \"insert answer here\""
   ]
  },
  {
   "cell_type": "markdown",
   "metadata": {},
   "source": [
    "### Solution"
   ]
  },
  {
   "cell_type": "code",
   "execution_count": 2,
   "metadata": {},
   "outputs": [],
   "source": [
    "\n",
    "events_1 = \"dependent\"\n",
    "events_2 = \"independent\"\n",
    "events_3 = \"independent\""
   ]
  }
 ],
 "metadata": {
  "interpreter": {
   "hash": "e7370f93d1d0cde622a1f8e1c04877d8463912d04d973331ad4851f04de6915a"
  },
  "kernelspec": {
   "display_name": "Python 3.10.2 64-bit",
   "language": "python",
   "name": "python3"
  },
  "language_info": {
   "codemirror_mode": {
    "name": "ipython",
    "version": 3
   },
   "file_extension": ".py",
   "mimetype": "text/x-python",
   "name": "python",
   "nbconvert_exporter": "python",
   "pygments_lexer": "ipython3",
   "version": "3.10.2"
  },
  "orig_nbformat": 4
 },
 "nbformat": 4,
 "nbformat_minor": 2
}

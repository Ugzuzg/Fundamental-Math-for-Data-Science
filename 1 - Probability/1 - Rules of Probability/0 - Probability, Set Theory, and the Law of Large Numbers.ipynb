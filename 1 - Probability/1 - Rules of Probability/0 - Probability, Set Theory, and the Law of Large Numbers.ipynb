{
 "cells": [
  {
   "cell_type": "markdown",
   "metadata": {},
   "source": [
    "# Probability, Set Theory, and the Law of Large Numbers\n",
    "**Learn about what probability is and the language we use to represent it!**"
   ]
  },
  {
   "cell_type": "markdown",
   "metadata": {},
   "source": [
    "\n",
    "## Probability\n",
    "\n",
    "*Probability* is a branch of mathematics that allows us to quantify uncertainty. In our daily lives, we often use probability to make decisions, even without thinking about it!\n",
    "\n",
    "For example, many weather reports give a percent chance that it will rain. If we hear that there is an 80 percent chance of rain, we probably are not going to make many plans outside. However, if there is only a 5 percent chance of rain, we may feel comfortable planning a picnic.\n",
    "\n",
    "In this article, we are going to build a foundation for understanding probability. To do this, we are going to explore a field of mathematics called set theory."
   ]
  },
  {
   "cell_type": "markdown",
   "metadata": {},
   "source": [
    "## Set Theory\n",
    "\n",
    "*Set theory* is a branch of mathematics based around the concept of sets. In simple terms, a set is a collection of things. For example, we can use a set to represent items in a backpack. We might have:\n",
    "\n",
    "$$\n",
    "\\{Book, Paper, Folder, Hat, Pen, Snack\\}\n",
    "$$\n",
    "\n",
    "Notationally, mathematicians often represent sets with curly braces. Sets also follow two key rules:\n",
    "\n",
    "- Each element in a set is distinct.\n",
    "- The elements in a set are in no particular order.\n",
    "\n",
    "Therefore, we can say: \n",
    "\n",
    "$$\n",
    "\\{1, 2, 3, 4, 5\\} = \\{5, 3, 2, 4, 1\\}\n",
    "$$\n",
    "\n",
    "When defining a set, we often use a capital letter. For example:\n",
    "\n",
    "$$\n",
    "A = \\{1, 2, 3, 4, 5\\}\n",
    "$$\n",
    "\n",
    "Sets can also contain *subsets*. Set *A* is a subset of set *B* if all the elements in *A* exist within *B*. For example:\n",
    "\n",
    "$$\n",
    "A = \\{1, 2, 3\\} \\\\\n",
    "B = \\{1, 2, 3, 4, 5\\} \\\\\n",
    "$$\n",
    "\n",
    "Here, set *A* is a subset of *B* because all elements of *A* are contained within *B*."
   ]
  },
  {
   "cell_type": "markdown",
   "metadata": {},
   "source": [
    "## Experiments and Sample Spaces\n",
    "\n",
    "In probability, an *experiment* is something that produces observation(s) with some level of uncertainty. A *sample point* is a single possible outcome of an experiment. Finally, a *sample space* is the set of all possible sample points for an experiment.\n",
    "\n",
    "For example, suppose that we run an experiment where we flip a coin twice and record whether each flip results in heads or tails. There are four sample points in this experiment: two heads (HH), tails and then heads (TH), heads and then tails (HT), or two tails (TT). We can write the full sample space for this experiment as follows: \n",
    "\n",
    "$$\n",
    "S=\\{HH,TT,HT,TH\\}\n",
    "$$\n",
    "\n",
    "Suppose we are interested in the probability of one specific outcome: HH. A specific outcome (or set of outcomes) is known as an *event* and is a subset of the sample space. Three events we might look at in this sample space are:\n",
    "\n",
    "$$\n",
    "\\text{Getting Two Heads} \\\\\n",
    "A = \\{HH\\} \\\\\n",
    "\\text{Getting Two Tails} \\\\\n",
    "B = \\{TT\\} \\\\\n",
    "\\text{Getting Both a Heads and Tails}\\\\\n",
    "C = \\{HT, TH\\}\n",
    "$$\n",
    "\n",
    "The frequentist definition of *probability* is as follows: If we run an experiment an infinite amount of times, the probability of each event is the proportion of times it occurs. Unfortunately, we don’t have the ability to flip two coins an infinite amount of times — but we can estimate probabilities by choosing some other large number, such as 1000. Let’s give it a try!\n",
    "\n",
    "Okay, we have flipped two coins 1000 times. Wasn’t that FUN? Here are each of the outcomes and the number of times we observed each one:\n",
    "- *{HH}*: 252\n",
    "- *{TT}*: 247\n",
    "- *{HT}*: 256\n",
    "- *{TH}*: 245\n",
    "\n",
    "To calculate the estimated probability of any one outcome, we use the following formula:\n",
    "\n",
    "$$\n",
    "P(Event) = \\frac{\\text{Number of Times Event Occurred}}{\\text{Total Number of Trials}}\n",
    "$$\n",
    "\n",
    "In this scenario, a *trial* is a single run of our experiment (two coin flips). So, the probability of two heads on two coin flips is approximately:\n",
    "\n",
    "$$\n",
    "P(HH) =\\frac{252}{1000} = .252\n",
    "$$\n",
    "\n",
    "Based on these 1000 trials, we would estimate there is a 25.2 percent chance of getting two heads on two coin flips. This is great! However, if we do this same procedure over and over again, we may get slightly different results. For example, if we repeat the experiment another 1000 times, we might get two heads only 24.2 percent of the time.\n",
    "\n",
    "If we want to feel confident that we are close to the true probability of a particular event, we can leverage the *law of large numbers*."
   ]
  },
  {
   "cell_type": "markdown",
   "metadata": {},
   "source": [
    "## Law of Large Numbers\n",
    "\n",
    "We can’t repeat our random experiment an infinite amount of times (as much FUN as that would be!). However, we can still flip both coins a large number of times. As we flip both coins more and more, the observed proportion of times each event occurs will converge to its true probability. This is called the *law of large numbers*.\n",
    "\n",
    "Let’s observe the law of large numbers in real-time. We will use Python to simulate flipping both coins as many times as we want and watch the proportion of two heads converge to its true probability.\n",
    "\n",
    "Let’s walk through each part of the code below one step at a time. You do not need to worry about every line of code, but understanding the overall objective will help you build your understanding of probability."
   ]
  },
  {
   "cell_type": "markdown",
   "metadata": {},
   "source": [
    "### Code Challenge\n",
    "\n",
    "In the code editor below, we have written out a function called `coin_flip_experiment()` that simulates flipping two fair coins. Using a `for` loop we run `coin_flip_experiment()` a specific number of times. As this loop iterates, we track how often both coins come up as heads. Finally, using matplotlib, we plot the proportion of experiments resulting in two heads after each trial.\n",
    "\n",
    "The number of times `coin_flip_experiment()` runs is determined by the `num_trials` variable on line 21. Currently, this variable is set to 5. Run the program a few times. On the resulting plot, the orange horizontal line is the true probability of observing two heads (0.25). The blue line is the proportion of heads we see throughout our trials. What do you notice about the blue line after each run?\n",
    "\n",
    "You should see that the proportion of two heads after five trials is inconsistent. In some experiments, we may see zero observations of two heads, while in others, we may see almost all five observations are two heads. To simulate the law of large numbers, we need to do more trials. Set the `num_trials` variable to different values, such as these below:\n",
    "\n",
    "- 100\n",
    "- 1000\n",
    "- 100000\n",
    "\n",
    "Take note of what you observe. Where does the blue line on the graph converge to after many trials?\n"
   ]
  },
  {
   "cell_type": "code",
   "execution_count": 1,
   "metadata": {},
   "outputs": [
    {
     "data": {
      "image/png": "[encoded data removed]",
      "text/plain": [
       "<Figure size 432x288 with 1 Axes>"
      ]
     },
     "metadata": {
      "needs_background": "light"
     },
     "output_type": "display_data"
    }
   ],
   "source": [
    "import matplotlib.pyplot as plt\n",
    "import numpy as np\n",
    "\n",
    "def coin_flip_experiment():\n",
    "  # defining our two coins as lists\n",
    "  coin1 = ['Heads', 'Tails']\n",
    "  coin2 = ['Heads', 'Tails']\n",
    " \n",
    "  # \"flipping\" both coins randomly\n",
    "  coin1_result = np.random.choice(coin1)\n",
    "  coin2_result = np.random.choice(coin2)\n",
    " \n",
    "  # checking if both flips are heads\n",
    "  if coin1_result == 'Heads' and coin2_result == 'Heads':\n",
    "    return 1\n",
    "  else:\n",
    "    return 0\n",
    " \n",
    "# how many times we run the experiment\n",
    "num_trials = 100000\n",
    "prop = []\n",
    "flips = []\n",
    "# keep track of the number of times heads pops up twice\n",
    "two_heads_counter = 0\n",
    " \n",
    "# perform the experiment five times\n",
    "for flip in range(num_trials):\n",
    "  # if both coins are heads add 1 to the counter\n",
    "  two_heads_counter += coin_flip_experiment()\n",
    "  # keep track of the proportion of two heads at each flip \n",
    "  prop.append(two_heads_counter/(flip+1))\n",
    "  # keep a list for number of flips\n",
    "  flips.append(flip+1)\n",
    " \n",
    "# plot all flips and proportion of two heads\n",
    "plt.plot(flips, prop, label='Experimental Probability')\n",
    "plt.xlabel('Number of Flips')\n",
    "plt.ylabel('Proportion of Two Heads')\n",
    "\n",
    "plt.hlines(0.25, 0, num_trials, colors='orange', label='True Probability')\n",
    "plt.legend()\n",
    "\n",
    "\n",
    " \n",
    "plt.show()"
   ]
  },
  {
   "cell_type": "markdown",
   "metadata": {},
   "source": [
    "After setting `num_trials` to large numbers, we see that the proportion of trials resulting in two heads converges to 0.25. The horizontal line at *y=0.25* is completely covered after about one hundred thousand flips. By simulating a huge number of flips in Python, we have shown that the true probability of seeing two heads on two separate coin flips is equal to 0.25. "
   ]
  },
  {
   "cell_type": "markdown",
   "metadata": {},
   "source": [
    "## Review\n",
    "\n",
    "We have covered:\n",
    "\n",
    "- An introduction to probability\n",
    "- An introduction to set theory\n",
    "- Sample spaces and events\n",
    "- The law of large numbers\n",
    "\n",
    "This completes our brief introduction to what probability is and how we can represent it. Now, it’s time to dive into ways we can calculate probability and expand on our knowledge."
   ]
  }
 ],
 "metadata": {
  "interpreter": {
   "hash": "e7370f93d1d0cde622a1f8e1c04877d8463912d04d973331ad4851f04de6915a"
  },
  "kernelspec": {
   "display_name": "Python 3.10.2 64-bit",
   "language": "python",
   "name": "python3"
  },
  "language_info": {
   "codemirror_mode": {
    "name": "ipython",
    "version": 3
   },
   "file_extension": ".py",
   "mimetype": "text/x-python",
   "name": "python",
   "nbconvert_exporter": "python",
   "pygments_lexer": "ipython3",
   "version": "3.10.2"
  },
  "orig_nbformat": 4
 },
 "nbformat": 4,
 "nbformat_minor": 2
}

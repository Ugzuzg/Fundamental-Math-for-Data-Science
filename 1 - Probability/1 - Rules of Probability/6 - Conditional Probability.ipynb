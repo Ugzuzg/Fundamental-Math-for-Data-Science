{
 "cells": [
  {
   "cell_type": "markdown",
   "metadata": {},
   "source": [
    "# Conditional Probability\n",
    "\n",
    "If we want to calculate the probability that a pair of dependent events both occur, we need to define conditional probability. Using a bag of marbles as an example, let’s remind ourselves of the definition of dependent events:\n",
    "\n",
    "![A diagram of the possible outcomes of pulling two marbles out of a bag when pulling them out without replacement.](./assets/marble-diagram-1.svg)\n",
    "\n",
    "If we pick two marbles from a bag of five marbles without replacement, the probability that the second marble is red depends on the color of the first marble. We have a special name for this: *conditional probability*. In short, conditional probability measures the probability of one event occurring, given that another one has already occurred.\n",
    "\n",
    "Notationally, we denote the word “given” with a vertical line. For example, if we want to represent the probability that we choose a red marble given the first marble is blue, we can write:\n",
    "\n",
    "$$\n",
    "P(\\text{Red Second} \\mid \\text{Blue First})\n",
    "$$\n",
    "\n",
    "From the above diagram, we know that:\n",
    "\n",
    "$$\n",
    "P(\\text{Red Second} \\mid \\text{Blue First}) = \\frac{3}{4}\n",
    "$$\n",
    "\n",
    "What if we picked out two marbles with replacement? What does the conditional probability look like? Well, let’s think about this. Regardless of which marble we pick out first, it will be put back into the bag. Therefore, the probability of picking out a red marble or a blue marble second is unaffected by the first outcome.\n",
    "\n",
    "Therefore, for independent events, we can say the following:\n",
    "\n",
    "$$\n",
    "P(A \\mid B) = P(A) \\\\\n",
    "\\text{and} \\\\\n",
    "P(B \\mid A) = P(B) \\\\\n",
    "$$"
   ]
  },
  {
   "cell_type": "markdown",
   "metadata": {},
   "source": [
    "## Instructions\n",
    "\n",
    "To the right is an applet that contains a bag of blue and orange marbles. When you click on any marble, it is removed from the bag, and the probability of selecting either color is updated.\n",
    "\n",
    "Remove two blue marbles from the bag. What is the probability of selecting an orange marble randomly now? Did it increase or decrease?\n",
    "\n",
    "Reset the applet by clicking the <kbd>Reset</kbd> button. Remove one blue marble and one orange marble now. Did the probability of selecting a blue marble randomly increase or decrease? Did the probability of selecting an orange marble randomly increase or decrease?\n",
    "\n",
    "Feel free to play around with the applet as much as you want!\n"
   ]
  },
  {
   "cell_type": "markdown",
   "metadata": {},
   "source": [
    "<iframe src=\"https://static-assets.codecademy.com/skillpaths/master-stats-ii/intro-probability/marble-count/index.html\" width=\"100%\" height=\"550px\" style=\"border: 0\">"
   ]
  }
 ],
 "metadata": {
  "language_info": {
   "name": "python"
  },
  "orig_nbformat": 4
 },
 "nbformat": 4,
 "nbformat_minor": 2
}

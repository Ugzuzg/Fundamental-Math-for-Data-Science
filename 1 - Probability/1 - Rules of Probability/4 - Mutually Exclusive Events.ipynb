{
 "cells": [
  {
   "cell_type": "markdown",
   "metadata": {},
   "source": [
    "# Mutually Exclusive Events\n",
    "\n",
    "Two events are considered *mutually exclusive* if they cannot occur at the same time. For example, consider a single coin flip: the events “tails” and “heads” are mutually exclusive because we cannot get both tails and heads on a single flip.\n",
    "\n",
    "We can visualize two mutually exclusive events as a pair of non-overlapping circles. They do not overlap because there is no outcome for one event that is also in the sample space for the other:\n",
    "\n",
    "![A Venn diagram that shows two non-overlapping circles, one that represents event A and one that represents event B. Nothing is shaded in the Venn diagram.](./assets/mutually-exclusive-venndiagram.svg)\n",
    "\n",
    "What about events that are not mutually exclusive? If event *A* is rolling an odd number and event *B* is rolling a number greater than two, these events are not mutually exclusive. They have an intersection of *{3, 5}*. Any events that have a non-empty intersection are not mutually exclusive.\n"
   ]
  },
  {
   "cell_type": "markdown",
   "metadata": {},
   "source": [
    "## Instructions\n",
    "\n",
    "1. In **quiz.py** we have the following variables: `events_1`, `events_2`, and `events_3`. Given the two events outlined in these exercises, fill in the variables as either `\"mutually exclusive\"` or `\"not mutually exclusive\"`.\n",
    "\n",
    "    We have a bag of five marbles: three are green and two are blue. Suppose that we pick one marble from the bag. Event A is that the marble is green. Event B is that the marble is blue. Are these events mutually exclusive?\n",
    "\n",
    "    Fill in your answer in the `\"insert answer here\"` section of the `events_1` variable. After filling out your answer in quiz.py, hit run.\n",
    "\n",
    "    <details>\n",
    "        <summary>Stuck? Get a hint</summary>\n",
    "    If we take one marble from the bag, we cannot take out both a blue and a green marble at once. Therefore, these events are mutually exclusive. \n",
    "\n",
    "    You should denote your answer in **quiz.py** with the following code:\n",
    "\n",
    "    ```python\n",
    "    events_1 = \"mutually exclusive\"\n",
    "    ```\n",
    "    </details>\n",
    "\n",
    "2. We roll a die once. Event A is rolling an odd number. Event B is rolling a number greater than four. Are these events mutually exclusive? \n",
    "\n",
    "    Fill in your answer in the `\"insert answer here\"` section of the `events_2` variable. After filling out your answer in quiz.py, hit run.\n",
    "\n",
    "    <details>\n",
    "        <summary>Stuck? Get a hint</summary>\n",
    "    These events have a non-empty intersection: rolling a five is both odd and greater than four. Therefore, these events are not mutually exclusive. \n",
    "\n",
    "    You should denote your answer in **quiz.py** with the following code:\n",
    "\n",
    "    ```python\n",
    "    events_2 = \"not mutually exclusive\"\n",
    "    ```\n",
    "    </details>\n",
    "\n",
    "3. We roll a die once. Event A is rolling an even number. Event B is rolling a number less than two. Are these events mutually exclusive? \n",
    "\n",
    "    Fill in your answer in the `\"insert answer here\"` section of the `events_3` variable. After filling out your answer in quiz.py, hit run.\n",
    "\n",
    "    <details>\n",
    "        <summary>Stuck? Get a hint</summary>\n",
    "    These events have an empty intersection. The only number less than two is one, which is odd, so no outcome exists in both sets. Therefore, these events are mutually exclusive.\n",
    "\n",
    "    You should denote your answer in **quiz.py** with the following code:\n",
    "\n",
    "    ```python\n",
    "    events_3 = \"mutually exclusive\"\n",
    "    ```\n",
    "    </details>"
   ]
  },
  {
   "cell_type": "code",
   "execution_count": 1,
   "metadata": {},
   "outputs": [],
   "source": [
    "events_1 = \"insert answer here\"\n",
    "events_2 = \"insert answer here\"\n",
    "events_3 = \"insert answer here\""
   ]
  },
  {
   "cell_type": "markdown",
   "metadata": {},
   "source": [
    "### Solution"
   ]
  },
  {
   "cell_type": "code",
   "execution_count": 2,
   "metadata": {},
   "outputs": [],
   "source": [
    "\n",
    "events_1 = \"mutually exclusive\"\n",
    "events_2 = \"not mutually exclusive\"\n",
    "events_3 = \"mutually exclusive\""
   ]
  }
 ],
 "metadata": {
  "interpreter": {
   "hash": "e7370f93d1d0cde622a1f8e1c04877d8463912d04d973331ad4851f04de6915a"
  },
  "kernelspec": {
   "display_name": "Python 3.10.2 64-bit",
   "language": "python",
   "name": "python3"
  },
  "language_info": {
   "codemirror_mode": {
    "name": "ipython",
    "version": 3
   },
   "file_extension": ".py",
   "mimetype": "text/x-python",
   "name": "python",
   "nbconvert_exporter": "python",
   "pygments_lexer": "ipython3",
   "version": "3.10.2"
  },
  "orig_nbformat": 4
 },
 "nbformat": 4,
 "nbformat_minor": 2
}

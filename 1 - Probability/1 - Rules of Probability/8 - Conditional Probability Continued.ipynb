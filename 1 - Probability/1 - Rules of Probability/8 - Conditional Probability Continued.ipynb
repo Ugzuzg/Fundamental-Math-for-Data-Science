{
 "cells": [
  {
   "cell_type": "markdown",
   "metadata": {},
   "source": [
    "# Conditional Probability Continued\n",
    "\n",
    "We have introduced conditional probability as a part of the multiplication rule for dependent events. However, let’s go a bit more in-depth with it as it is a powerful probability tool that has real-world applications.\n",
    "\n",
    "For this problem, we will follow along the tree diagram on the right.\n",
    "\n",
    "Suppose that the following is true (this is shown in the first set of branches in the diagram):\n",
    "\n",
    "- 20 percent of the population has strep throat.\n",
    "- 80 percent of the population does not have strep throat.\n",
    "\n",
    "Now suppose that we test a bunch of people for strep throat. The possible results of these tests are shown in the next set of branches:\n",
    "\n",
    "- If a person has strep throat, there is an 85% chance their test will be positive and a 15% chance it will be negative. This is labeled as:\n",
    "\n",
    "    $$\n",
    "    P(+ \\mid ST) = 0.85 \\\\ \\text{and} \\\\ P(- \\mid ST) = 0.15\n",
    "    $$\n",
    "\n",
    "- If a person does not have strep throat, there is a 98% chance their test will be negative and a 2% chance it will be positive. This can be labeled as:\n",
    "\n",
    "    $$\n",
    "    P(- \\mid \\text{NO ST}) = 0.98 \\\\ \\text{and} \\\\ P(+ \\mid \\text{NO ST}) = 0.02\n",
    "    $$\n",
    "\n",
    "Finally, let’s look at the four possible pairs of outcomes that form the terminal branches of our diagram:\n",
    "\n",
    "$$\n",
    "P(\\text{ST and +}) = 0.17 \\\\ P(\\text{ST and -}) = 0.03 \\\\ P(\\text{NO ST and +}) = 0.016 \\\\ P(\\text{NO ST and -}) = 0.784\n",
    "$$\n",
    "\n",
    "Together, these add up to one since they capture all potential outcomes after patients are tested. \n",
    "\n",
    "It’s great that we have all this information. However, we are missing something. If someone gets a positive result, what is the probability that they have strep throat? Notationally, we can write this probability as:\n",
    "\n",
    "$$P(ST \\mid +)$$\n",
    "\n",
    "In the next exercise, we’ll explore how we can use our tree diagram to calculate this probability."
   ]
  },
  {
   "cell_type": "markdown",
   "metadata": {},
   "source": [
    "![This diagram outlines the possible outcomes for the events mentioned in the narrative. With the narrative, you should have all the information necessary to do the next exercise's calculations!](./assets/Conditional_Probability_Application.svg)"
   ]
  }
 ],
 "metadata": {
  "interpreter": {
   "hash": "e7370f93d1d0cde622a1f8e1c04877d8463912d04d973331ad4851f04de6915a"
  },
  "kernelspec": {
   "display_name": "Python 3.10.2 64-bit",
   "language": "python",
   "name": "python3"
  },
  "language_info": {
   "name": "python",
   "version": "3.10.2"
  },
  "orig_nbformat": 4
 },
 "nbformat": 4,
 "nbformat_minor": 2
}

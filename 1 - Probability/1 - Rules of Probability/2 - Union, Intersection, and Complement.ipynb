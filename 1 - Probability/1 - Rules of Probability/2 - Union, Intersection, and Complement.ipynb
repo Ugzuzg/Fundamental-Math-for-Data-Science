{
 "cells": [
  {
   "cell_type": "markdown",
   "metadata": {},
   "source": [
    "# Union, Intersection, and Complement\n",
    "\n",
    "Let’s dive into some key concepts we will use throughout this lesson: *union*, *intersection*, and *complement*."
   ]
  },
  {
   "cell_type": "markdown",
   "metadata": {},
   "source": [
    "## Union\n",
    "\n",
    "The *union* of two sets encompasses any element that exists in either one or both of them. We can represent this visually as a *Venn diagram*.\n",
    "\n",
    "![A Venn diagram that shows two overlapping circles, one that represents event A and one that represents event B. Both of these circles are shaded blue.](./assets/union-venndiagram.svg)\n",
    "\n",
    "For example, let’s say we have two sets, *A* and *B*. A represents rolling an odd number with a six-sided die (the set *{1, 3, 5}*). B represents rolling a number greater than two (the set *{3, 4, 5, 6}*). The union of these two sets would be everything in either set *A*, set *B*, or both: *{1, 3, 4, 5, 6}*. We can write the union of two events mathematically as *(A or B)*."
   ]
  },
  {
   "cell_type": "markdown",
   "metadata": {},
   "source": [
    "## Intersection\n",
    "\n",
    "The *intersection* of two sets encompasses any element that exists in both of the sets. Visually:\n",
    "\n",
    "![A Venn diagram that shows two overlapping circles, one that represents event A and one that represents event B. Only the overlap of the two circles is shaded.](./assets/intersection-venndiagram.svg)\n",
    "\n",
    "The intersection of the above sets (*A* represents rolling an odd number on a six-sided die and *B* represents rolling a number greater than two) includes any value that appears in both sets: *{3, 5}*. We can write the intersection of two events mathematically as *(A and B)*."
   ]
  },
  {
   "cell_type": "markdown",
   "metadata": {},
   "source": [
    "## Complement\n",
    "\n",
    "Lastly, the *complement* of a set consists of all possible outcomes outside of the set. Visually:\n",
    "\n",
    "![A Venn diagram that shows a circle representing event A. Everything outside of event A is shaded blue.](./assets/complement-venndiagram.svg)\n",
    "\n",
    "Consider set *A* from the above example (rolling an odd number on a 6-sided die). The complement of this set would be rolling an even number: *{2, 4, 6}*. We can write the complement of set *A* as *A<sup>C</sup>*. One key feature of complements is that a set and its complement cover the entire sample space. In this die roll example, the set of even numbers and odd numbers would cover all possible rolls: *{1, 2, 3, 4, 5, 6}*."
   ]
  },
  {
   "cell_type": "markdown",
   "metadata": {},
   "source": [
    "## Instructions\n",
    "\n",
    "To the right is an applet that shows two overlapping circles: *A* and *B*. The two dropdown menus allow you to choose from different events. Event *A* can be any of the following:\n",
    "\n",
    "- The outcome of a die roll is even\n",
    "- The outcome of a die roll is a five\n",
    "- The outcome of a die roll is less than or equal to three\n",
    "\n",
    "Event *B* can be any of the following:\n",
    "\n",
    "- The outcome of a die roll is odd\n",
    "- The outcome of a die roll is anything but five\n",
    "- The outcome of a die roll is greater than or equal to two\n",
    "\n",
    "Using the applet, find the intersection and union between the following two events:\n",
    "\n",
    "- The outcome of a die roll is less than or equal to three\n",
    "- The outcome of a die roll is anything but five\n",
    "\n",
    "Using the applet, find the complement of the following events:\n",
    "\n",
    "- The outcome of a die roll is greater than or equal to two\n",
    "- The outcome of a die roll is five\n",
    "\n",
    "Feel free to play around with it more!\n"
   ]
  },
  {
   "cell_type": "markdown",
   "metadata": {},
   "source": [
    "<iframe src=\"https://static-assets.codecademy.com/skillpaths/master-stats-ii/intro-probability/venn-diagram-draft-2/venn-diagram.html\" width=\"100%\" height=\"750hx\" style=\"border: 0\">"
   ]
  }
 ],
 "metadata": {
  "interpreter": {
   "hash": "e7370f93d1d0cde622a1f8e1c04877d8463912d04d973331ad4851f04de6915a"
  },
  "kernelspec": {
   "display_name": "Python 3.10.2 64-bit",
   "language": "python",
   "name": "python3"
  },
  "language_info": {
   "name": "python",
   "version": "3.10.2"
  },
  "orig_nbformat": 4
 },
 "nbformat": 4,
 "nbformat_minor": 2
}

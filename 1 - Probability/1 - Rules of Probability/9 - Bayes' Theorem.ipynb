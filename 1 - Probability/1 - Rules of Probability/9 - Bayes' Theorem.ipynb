{
 "cells": [
  {
   "cell_type": "markdown",
   "metadata": {},
   "source": [
    "# Bayes' Theorem\n",
    "\n",
    "Imagine that you are a patient who has recently tested positive for strep throat. You may want to know the probability that you HAVE strep throat, given that you tested positive:\n",
    "\n",
    "$$P(ST \\mid +)$$\n",
    "\n",
    "To calculate this probability, we will use something called Bayes Theorem, which states the following:\n",
    "\n",
    "$$P(B \\mid A) = \\frac{P(A \\mid B) \\cdot P(B)}{P(A)}$$\n",
    "\n",
    "Using Bayes’ theorem:\n",
    "\n",
    "$$P(ST \\mid +) = \\frac{P(+ \\mid ST) \\cdot P(ST)}{P(+)}$$\n",
    "\n",
    "We know:\n",
    "\n",
    "$$P(+ \\mid ST) = 0.85$$\n",
    "\n",
    "We also know:\n",
    "\n",
    "$$P(ST) = 0.20$$\n",
    "\n",
    "What about *P(+)*? Is this something we know? Well, let’s think about this. There are four possible outcomes:\n",
    "\n",
    "- Having strep throat and testing positive\n",
    "- Having strep throat and testing negative\n",
    "- Not having strep throat and testing positive\n",
    "- Not having strep throat and testing negative\n",
    "\n",
    "We only care about the two outcomes where a patient tests positives for *P(+)*. Therefore, we can say:\n",
    "\n",
    "$$\n",
    "P(+) = P(\\text{ST and +}) + P(\\text{NO ST and +}) \\\\\n",
    "P(+) = 0.17 + .016 \\\\\n",
    "P(+) = 0.186 \\\\\n",
    "$$\n",
    "\n",
    "Finally, if we plug all of these into the Bayes’ theorem formula, we get:\n",
    "\n",
    "$$\n",
    "P(ST \\mid +) = \\frac{0.85 \\cdot 0.20}{0.186} = 0.914\n",
    "$$\n",
    "\n",
    "There is a 91.4% chance that you actually have strep throat given you test positive. This is not obvious from the information outlined in our tree diagram, but with the power of Bayes theorem, we were able to calculate it!\n",
    "\n",
    "Let’s practice some more of this in the questions below."
   ]
  },
  {
   "cell_type": "markdown",
   "metadata": {},
   "source": [
    "## Instructions\n",
    "\n",
    "Find:\n",
    "\n",
    "$$P(ST \\mid -)$$\n",
    "\n",
    "<details>\n",
    "    <summary>Click to see answer!</summary>\n",
    "\n",
    "![The final answer is 0.037](./assets/answer-1.png)\n",
    "</details>\n",
    "\n",
    "Find:\n",
    "\n",
    "$$P(\\text{NO ST} \\mid +)$$\n",
    "\n",
    "<details>\n",
    "    <summary>Click to see answer!</summary>\n",
    "\n",
    "![The final answer is 0.086](./assets/answer2.png)\n",
    "</details>\n",
    "\n",
    "\n",
    "Find:\n",
    "\n",
    "$$P(\\text{NO ST} \\mid -)$$\n",
    "\n",
    "<details>\n",
    "    <summary>Click to see answer!</summary>\n",
    "\n",
    "![The final answer is 0.963](./assets/answer3.png)\n",
    "\n",
    "Could you try an alternative method here as well?\n",
    "</details>\n"
   ]
  },
  {
   "cell_type": "markdown",
   "metadata": {},
   "source": [
    "![This diagram outlines the possible outcomes for the events mentioned in the narrative. With the narrative, you should have all the information necessary to do the next exercise's calculations!](./assets/Conditional_Probability_Application.svg)"
   ]
  }
 ],
 "metadata": {
  "interpreter": {
   "hash": "e7370f93d1d0cde622a1f8e1c04877d8463912d04d973331ad4851f04de6915a"
  },
  "kernelspec": {
   "display_name": "Python 3.10.2 64-bit",
   "language": "python",
   "name": "python3"
  },
  "language_info": {
   "name": "python",
   "version": "3.10.2"
  },
  "orig_nbformat": 4
 },
 "nbformat": 4,
 "nbformat_minor": 2
}

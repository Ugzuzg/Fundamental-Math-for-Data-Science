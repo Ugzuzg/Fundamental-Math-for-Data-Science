{
 "cells": [
  {
   "cell_type": "markdown",
   "metadata": {},
   "source": [
    "# Multiplication Rule\n",
    "\n",
    "We have looked at the addition rule, which describes the probability one event OR another event (or both) occurs. What if we want to calculate the probability that two events happen simultaneously? For two events, *A* and *B*, this is *P(A and B)* or the probability of the intersection of *A* and *B*."
   ]
  },
  {
   "cell_type": "markdown",
   "metadata": {},
   "source": [
    "## General Formula\n",
    "\n",
    "The general formula for the probability that two events occur simultaneously is:\n",
    "\n",
    "$$\n",
    "P(A \\text{ and } B) = P(A) \\cdot P(B \\mid A)\n",
    "$$\n",
    "\n",
    "However, for independent events, we can simplify this formula slightly."
   ]
  },
  {
   "cell_type": "markdown",
   "metadata": {},
   "source": [
    "## Dependent Events\n",
    "\n",
    "Let’s go back to our bag of marbles example. We have five marbles: two are blue, and three are red. We pick two marbles without replacement. What if we want to know the probability of choosing a blue marble first AND a blue marble second?\n",
    "\n",
    "Taking conditional probability into account, the multiplication rule for these two dependent events is:\n",
    "\n",
    "$$\n",
    "P(\\text{Blue 1st and Blue 2nd}) = P(\\text{Blue 1st}) \\cdot P(\\text{Blue 2nd} \\mid \\text{Blue 1st}) \\\\\n",
    "P(\\text{Blue 1st and Blue 2nd}) = \\frac{2}{5} \\cdot \\frac{1}{4} \\\\\n",
    "P(\\text{Blue 1st and Blue 2nd}) = \\frac{1}{10}\n",
    "$$\n",
    "\n",
    "This is one potential outcome when picking two marbles out of the bag. One way to visualize all possible outcomes of a pair of events is a *tree diagram*.\n",
    "\n",
    "Tree diagrams have the following properties:\n",
    "\n",
    "- Each branch represents a specific set of events.\n",
    "- The probabilities the terminal branches (all possible sets of outcomes) sum to one.\n",
    "- We multiply across branches (using the multiplication rule!) to calculate the probability that each branch (set of outcomes) will occur.\n",
    "\n",
    "In the browser to the right, you will be able to play with one!"
   ]
  },
  {
   "cell_type": "markdown",
   "metadata": {},
   "source": [
    "## Independent Events\n",
    "\n",
    "For two independent events, the multiplication rule becomes less complicated. The probability of two independent events occurring is:\n",
    "\n",
    "$$\n",
    "P(A \\text{ and } B) = P(A) \\cdot P(B)\n",
    "$$\n",
    "\n",
    "This is because the following is true for independent events:\n",
    "\n",
    "$$\n",
    "P(B \\mid A) = P(B)\n",
    "$$\n",
    "\n",
    "Let’s look at the simplest example: flipping a fair coin twice. Event *A* is that we get tails on the first flip, and event *B* is that we get tails on the second flip. *P(A) = P(B) = 0.5*, so according to our formula, the probability of getting tails on both flips would be:\n",
    "\n",
    "$$\n",
    "P(A \\text{ and } B) = 0.5 \\cdot 0.5 = 0.25\n",
    "$$\n",
    "\n",
    "![Visually on a tree diagram, we see: This visual shows a tree diagram that outlines all possible outcomes of flipping a fair coin two times.](./assets/coin-tree-diagram.svg)"
   ]
  },
  {
   "cell_type": "markdown",
   "metadata": {},
   "source": [
    "## Instructions\n",
    "\n",
    "On the right is an applet where you should see a tree diagram and ten blue and orange marbles below the tree diagram (you may need to scroll down to see the marbles). If you click on one of the marbles, the tree diagram will fill in according to what you have selected. For example, if you click an orange marble, the textbox under *P(1st Orange)* will be filled in with a value. If you click a blue marble after clicking an orange marble first, the textbox under *P(2nd Blue | 1st Orange)* will be filled in with a value.\n",
    "\n",
    "After selecting two marbles, an equation for the product rule will appear above the marbles. When selecting an orange marble and a blue marble, you will see:\n",
    "\n",
    "$$\n",
    "P(1st\\ Orange\\ and\\ 2nd\\ Blue) = (prob1\\ *\\ prob2) = final\\_prob\n",
    "$$\n",
    "\n",
    "The number of orange and blue marbles are randomized each time you hit <kbd>Reset</kbd>, so you will see many different values for *prob1*, *prob2*, and *final_prob*. \n",
    "\n",
    "Try out all of the possible outcomes and observe the tree diagram accordingly:\n",
    "\n",
    "- Orange marble first and blue marble second\n",
    "- Orange marble first and orange marble second\n",
    "- Blue marble first and orange marble second\n",
    "- Blue marble first and blue marble second\n"
   ]
  },
  {
   "cell_type": "markdown",
   "metadata": {},
   "source": [
    "<iframe src=\"https://static-assets.codecademy.com/skillpaths/master-stats-ii/intro-probability/tree-diagram/tree.html\" width=\"100%\" height=\"700px\" style=\"border: 0\">"
   ]
  }
 ],
 "metadata": {
  "interpreter": {
   "hash": "e7370f93d1d0cde622a1f8e1c04877d8463912d04d973331ad4851f04de6915a"
  },
  "kernelspec": {
   "display_name": "Python 3.10.2 64-bit",
   "language": "python",
   "name": "python3"
  },
  "language_info": {
   "name": "python",
   "version": "3.10.2"
  },
  "orig_nbformat": 4
 },
 "nbformat": 4,
 "nbformat_minor": 2
}

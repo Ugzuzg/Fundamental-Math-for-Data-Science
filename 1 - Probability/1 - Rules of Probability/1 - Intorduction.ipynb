{
 "cells": [
  {
   "cell_type": "markdown",
   "metadata": {},
   "source": [
    "# Introduction\n",
    "\n",
    "Probability is a way to quantify uncertainty. When we flip a fair coin, we say that there is a 50 percent chance (probability = 0.5) of it coming up tails. This means that if we flip INFINITELY many fair coins, half of them will come up tails. Similarly, when we roll a six-sided die, we say there is a 1 in 6 chance of rolling a five.\n",
    "\n",
    "What if we flip a coin in one hand and roll a die in the other at the same time. What is the probability that the coin comes up tails AND the die comes up as a five? Is there a way to quantify the probability that these two different events BOTH occur? In this lesson, we will walk through different rules of probability that help us quantify the probability of multiple random events."
   ]
  },
  {
   "cell_type": "markdown",
   "metadata": {},
   "source": [
    "## Instructions\n",
    "\n",
    "Instructions\n",
    "\n",
    "To the right, you should see a virtual coin and die. Click the button to “Flip Coin and Roll Die” simultaneously. Repeat this a few times to get an intuition for the probability that both the coin comes up tails and the die comes up as a five. Do you have an estimate of this probability?\n",
    "\n",
    "After this lesson, you will know how to calculate it!"
   ]
  },
  {
   "cell_type": "markdown",
   "metadata": {},
   "source": [
    "<iframe src=\"https://static-assets.codecademy.com/skillpaths/master-stats-ii/intro-probability/coin-and-die/coin_and_die.html\" width=\"100%\" height=\"350px\" style=\"border: 0\">"
   ]
  },
  {
   "cell_type": "markdown",
   "metadata": {},
   "source": [
    "## Concept Review\n",
    "\n",
    "Want to quickly review some of the concepts you’ve been learning? Take a look at this material's [cheatsheet](https://www.codecademy.com/learn/paths/fundamental-math-for-data-science/tracks/math-ds-probability/modules/math-ds-rules-of-probability/cheatsheet)!"
   ]
  }
 ],
 "metadata": {
  "interpreter": {
   "hash": "e7370f93d1d0cde622a1f8e1c04877d8463912d04d973331ad4851f04de6915a"
  },
  "kernelspec": {
   "display_name": "Python 3.10.2 64-bit",
   "language": "python",
   "name": "python3"
  },
  "language_info": {
   "name": "python",
   "version": "3.10.2"
  },
  "orig_nbformat": 4
 },
 "nbformat": 4,
 "nbformat_minor": 2
}

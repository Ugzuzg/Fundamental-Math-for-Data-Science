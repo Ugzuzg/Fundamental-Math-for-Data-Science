{
 "cells": [
  {
   "cell_type": "markdown",
   "metadata": {},
   "source": [
    "# Review\n",
    "\n",
    "Congratulations, we have finished our exploration into the rules of probability! To recap, we have covered:\n",
    "\n",
    "- The union and intersection of two events\n",
    "- The complement of an event\n",
    "- Independent and dependent events\n",
    "- Mutually exclusive events\n",
    "- How to calculate the union of two events using the addition rule\n",
    "- What conditional probability is and how to calculate it\n",
    "- How to calculate simultaneous events using the multiplication rule\n",
    "- How to use tree diagrams to map out possible outcomes\n",
    "- What Bayes’ theorem is and how to calculate it\n",
    "- Application of conditional probability and Bayes’ theorem\n",
    "\n",
    "Marvel in all that we have covered! For more practice, feel free to use the applet to the right and practice questions below.\n"
   ]
  },
  {
   "cell_type": "markdown",
   "metadata": {},
   "source": [
    "## Instructions\n",
    "\n",
    "To the right is a blank tree diagram. Fill it out according to this scenario:\n",
    "\n",
    "- On any given day, there is a 20% chance it rains in a certain area. There is an 80% chance it doesn’t rain.\n",
    "- Given it rains, there is a 65% chance the train in the area runs late. There is a 35% chance the train still runs on time despite the rain.\n",
    "- Given it doesn’t rain, there is a 95% chance the train in the area runs on time. There is a 5% chance it still runs late despite the lack of rain.\n",
    "\n",
    "Fill in the tree diagram correctly with the given information. To fill in the tree diagram, click the node (black circle) corresponding to each event. When you click one, a blank textbox will appear, and you can fill in each value as a decimal. If you fill in the text box correctly, it will highlight green. If it is the incorrect value, the textbox will highlight yellow.\n",
    "\n",
    "**Note:** Fill in the textboxes *P(Rain)* and *P(No Rain)* FIRST.\n",
    "\n",
    "When you fill out all textboxes correctly, the following probabilities will be calculated automatically for you:\n",
    "\n",
    "$$\n",
    "P(Rain \\text{ AND } Late) \\\\\n",
    "P(Rain \\text{ AND } On\\ Time) \\\\\n",
    "P(No\\ Rain \\text{ AND } Late) \\\\\n",
    "P(No\\ Rain \\text{ AND } On\\ Time) \\\\\n",
    "$$\n",
    "\n",
    "Click <kbd>Reset</kbd> if you want to clear the diagram."
   ]
  },
  {
   "cell_type": "markdown",
   "metadata": {},
   "source": [
    "<iframe src=\"https://static-assets.codecademy.com/skillpaths/master-stats-ii/intro-probability/prob-weather/weather_tree.html\" width=\"100%\" height=\"900px\" style=\"border: 0\">"
   ]
  }
 ],
 "metadata": {
  "interpreter": {
   "hash": "e7370f93d1d0cde622a1f8e1c04877d8463912d04d973331ad4851f04de6915a"
  },
  "kernelspec": {
   "display_name": "Python 3.10.2 64-bit",
   "language": "python",
   "name": "python3"
  },
  "language_info": {
   "name": "python",
   "version": "3.10.2"
  },
  "orig_nbformat": 4
 },
 "nbformat": 4,
 "nbformat_minor": 2
}

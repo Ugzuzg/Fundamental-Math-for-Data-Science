{
 "cells": [
  {
   "cell_type": "markdown",
   "metadata": {},
   "source": [
    "# Introduction to Probability\n",
    "**Find out what you’ll learn in Probability and why it’s important.**\n",
    "\n",
    "## Welcome to Probability\n",
    "\n",
    "In this unit, we will cover the fundamentals of probability. This is useful to quantify uncertainty and describe random events and outcomes.\n",
    "\n",
    "We’ll cover ways of calculating probabilities using formulas along with Python functions, how to visualize these random outcomes on a distribution, and how to represent a population using sample data.\n",
    "\n",
    "## Why is this important?\n",
    "\n",
    "Probability allows us to measure uncertainty. This is essential in many different industries, such as meteorology, medicine, sports, insurance, and countless more.\n",
    "\n",
    "When you check the weather on your phone or computer, you are using probability and intuition to gauge what you will wear that day. Doctors use genetics and medical history to gauge certain risk factors a patient might encounter by analyzing how different events affect the probability of certain outcomes.\n",
    "\n",
    "Knowing how to calculate probabilities based on specific events is essential for data scientists, statisticians, and almost any STEM field!\n",
    "\n",
    "## What will you learn?\n",
    "\n",
    "At the end of this module, you will be able to:\n",
    "- Define probability using the law of large numbers\n",
    "- Quantify uncertain events using:\n",
    "    - The addition rule\n",
    "    - The product rule\n",
    "    - Bayes’ Theorem\n",
    "    - Tree Diagrams\n",
    "- Describe random events using probability distributions\n",
    "- Understand use-cases for the following probability distributions:\n",
    "    - Binomial Distribution\n",
    "    - Poisson Distribution\n",
    "- Describe a population using a sampling distribution and the central limit theorem\n",
    "\n",
    "## Where can you get help and discuss the content?\n",
    "\n",
    "Learning is social. Whatever you’re working on, be sure to connect with the Codecademy community in the forums. Remember to check in with the community regularly, including for things like asking for code reviews on your project work and providing code reviews to others in the projects category, which can help to reinforce what you’ve learned\n"
   ]
  }
 ],
 "metadata": {
  "language_info": {
   "name": "python"
  },
  "orig_nbformat": 4
 },
 "nbformat": 4,
 "nbformat_minor": 2
}

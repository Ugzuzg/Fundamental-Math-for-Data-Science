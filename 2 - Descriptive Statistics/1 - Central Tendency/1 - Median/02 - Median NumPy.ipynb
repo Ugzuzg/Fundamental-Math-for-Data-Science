{
 "cells": [
  {
   "cell_type": "markdown",
   "metadata": {},
   "source": [
    "# Median NumPy\n",
    "\n",
    "Finding the median of a dataset becomes increasingly time-consuming as the size of your dataset increases — imagine finding the median of an unsorted dataset with 10,000 observations.\n",
    "\n",
    "The NumPy `.median()` function can do the work of sorting, then finding the median for you. In the example below, we use `np.median()` to calculate the median of a dataset with ten values:\n",
    "\n",
    "```python\n",
    "example_array = np.array([24, 16, 30, 10, 12, 28, 38, 2, 4, 36, 42])\n",
    " \n",
    "example_median = np.median(example_array)\n",
    " \n",
    "print(example_median)\n",
    "```\n",
    "\n",
    "The code above prints the median of the dataset, `24`. The mean of this dataset is `22`. It’s worth noting these two values are close to one another, but not equal.\n"
   ]
  },
  {
   "cell_type": "markdown",
   "metadata": {},
   "source": [
    "## Instructions\n",
    "\n",
    "1. Use NumPy to find the median of the `author_ages` array. Save the result to `median_age`.\n",
    "\n",
    "    Does the median age of the authors surprise you? If so, how? Is it older, or younger than you expected?\n"
   ]
  },
  {
   "cell_type": "code",
   "execution_count": null,
   "metadata": {},
   "outputs": [],
   "source": [
    "# Import packages\n",
    "import numpy as np\n",
    "import pandas as pd\n",
    "\n",
    "# Read in author data\n",
    "greatest_books = pd.read_csv(\"../data/top-hundred-books.csv\")\n",
    "\n",
    "# Save author ages to author_ages\n",
    "author_ages = greatest_books['Ages']\n",
    "\n",
    "# Use numpy to calculate the median age of the top 100 authors\n",
    "median_age = 0\n",
    "\n",
    "print(\"The median age of the 100 greatest authors, according to a survey by Le Monde is: \" + str(median_age))"
   ]
  },
  {
   "cell_type": "markdown",
   "metadata": {},
   "source": [
    "### Solution"
   ]
  },
  {
   "cell_type": "code",
   "execution_count": 1,
   "metadata": {},
   "outputs": [
    {
     "name": "stdout",
     "output_type": "stream",
     "text": [
      "The median age of the 100 greatest authors, according to a survey by Le Monde is: 41.0\n"
     ]
    }
   ],
   "source": [
    "# Import packages\n",
    "import numpy as np\n",
    "import pandas as pd\n",
    "\n",
    "# Read in author data\n",
    "greatest_books = pd.read_csv(\"../data/top-hundred-books.csv\")\n",
    "\n",
    "# Save author ages to author_ages\n",
    "author_ages = greatest_books['Ages']\n",
    "\n",
    "# Use numpy to calculate the median age of the top 100 authors\n",
    "median_age = np.median(author_ages)\n",
    "\n",
    "print(\"The median age of the 100 greatest authors, according to a survey by Le Monde is: \" + str(median_age))"
   ]
  }
 ],
 "metadata": {
  "interpreter": {
   "hash": "e7370f93d1d0cde622a1f8e1c04877d8463912d04d973331ad4851f04de6915a"
  },
  "kernelspec": {
   "display_name": "Python 3.10.2 64-bit",
   "language": "python",
   "name": "python3"
  },
  "language_info": {
   "codemirror_mode": {
    "name": "ipython",
    "version": 3
   },
   "file_extension": ".py",
   "mimetype": "text/x-python",
   "name": "python",
   "nbconvert_exporter": "python",
   "pygments_lexer": "ipython3",
   "version": "3.10.2"
  },
  "orig_nbformat": 4
 },
 "nbformat": 4,
 "nbformat_minor": 2
}

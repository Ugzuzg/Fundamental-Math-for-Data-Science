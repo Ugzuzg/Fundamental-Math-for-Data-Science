{
 "cells": [
  {
   "cell_type": "markdown",
   "metadata": {},
   "source": [
    "# Median\n",
    "\n",
    "The formal definition for the median of a dataset is:\n",
    "\n",
    "*The value that, assuming the dataset is ordered from smallest to largest, falls in the middle. If there are an even number of values in a dataset, you either report both of the middle two values or their average.*\n",
    "\n",
    "There are always two steps to finding the median of a dataset:\n",
    "\n",
    "1. Order the values in the dataset from smallest to largest\n",
    "2. Identify the number(s) that fall(s) in the middle\n",
    "\n",
    "## Example One: Even Number of Values\n",
    "\n",
    "Say we have a dataset with the following ten numbers:\n",
    "\n",
    "$$\n",
    "24,\\ 16,\\ 30,\\ 10,\\ 12,\\ 28,\\ 38,\\ 2,\\ 4,\\ 36\n",
    "$$\n",
    "\n",
    "The first step is to order these numbers from smallest to largest:\n",
    "\n",
    "$$\n",
    "2,\\ 4,\\ 10,\\ 12,\\ [16,\\ 24],\\ 28,\\ 30,\\ 36,\\ 38\n",
    "$$\n",
    "\n",
    "Because this dataset has an even number of values, there are two medians: `16` and `24` — `16` has four datapoints to the left, and `24` has four datapoints to the right.\n",
    "\n",
    "Although you can report both values as the median, people often average them. If you averaged `16` and `24`, you could report the median as `20`.\n",
    "\n",
    "## Example Two: Odd Number of Values\n",
    "\n",
    "If we added another value (say, `24`) to the dataset and sorted it, we would have:\n",
    "\n",
    "$$\n",
    "2,\\ 4,\\ 10,\\ 12,\\ 16,\\ [24],\\ 24,\\ 28,\\ 30,\\ 36,\\ 38\n",
    "$$\n",
    "\n",
    "The new median is equal to `24`, because there are 5 values to the left of it, and 5 values to the right of it."
   ]
  },
  {
   "cell_type": "markdown",
   "metadata": {},
   "source": [
    "## Instructions\n",
    "\n",
    "1. In the next two steps, you will manually sort an array, and then determine which value in the array is the median.\n",
    "\n",
    "    In script.py, we have an array with the ages of the first five authors from Le Monde’s survey:\n",
    "\n",
    "    $$\n",
    "    29, 49, 42, 43, 32\n",
    "    $$\n",
    "\n",
    "    Under `five_author_ages` there is a variable called `sorted_author_ages`. Change the `0`s in `sorted_author_ages` to the sorted values from `five_author_ages`.\n",
    "    Checkpoint 2 Passed\n",
    "\n",
    "2. Set `median_age` equal to the median of the array.\n"
   ]
  },
  {
   "cell_type": "code",
   "execution_count": null,
   "metadata": {},
   "outputs": [],
   "source": [
    "import numpy as np\n",
    "\n",
    "# Array of the first five author ages\n",
    "five_author_ages = np.array([29, 49, 42, 43, 32])\n",
    "\n",
    "# Fill in the empty array with the values sorted\n",
    "sorted_author_ages = np.array([0, 0, 0, 0, 0])\n",
    "\n",
    "# Save the median value to median_value\n",
    "median_age = 0\n",
    "\n",
    "# Print the sorted array and median value\n",
    "print(\"The sorted array is: \" + str(sorted_author_ages))\n",
    "print(\"The median of the array is: \" + str(median_age))"
   ]
  },
  {
   "cell_type": "markdown",
   "metadata": {},
   "source": [
    "### Solution"
   ]
  },
  {
   "cell_type": "code",
   "execution_count": 1,
   "metadata": {},
   "outputs": [
    {
     "name": "stdout",
     "output_type": "stream",
     "text": [
      "The sorted array is: [29 32 42 43 49]\n",
      "The median of the array is: 42\n"
     ]
    }
   ],
   "source": [
    "import numpy as np\n",
    "\n",
    "# Array of the first five author ages\n",
    "five_author_ages = np.array([29, 49, 42, 43, 32])\n",
    "\n",
    "# Fill in the empty array with the values sorted\n",
    "sorted_author_ages = np.array([29,32,42,43,49])\n",
    "\n",
    "# Save the median value to median_value\n",
    "median_age = 42\n",
    "\n",
    "# Print the sorted array and median value\n",
    "print(\"The sorted array is: \" + str(sorted_author_ages))\n",
    "print(\"The median of the array is: \" + str(median_age))"
   ]
  }
 ],
 "metadata": {
  "interpreter": {
   "hash": "e7370f93d1d0cde622a1f8e1c04877d8463912d04d973331ad4851f04de6915a"
  },
  "kernelspec": {
   "display_name": "Python 3.10.2 64-bit",
   "language": "python",
   "name": "python3"
  },
  "language_info": {
   "codemirror_mode": {
    "name": "ipython",
    "version": 3
   },
   "file_extension": ".py",
   "mimetype": "text/x-python",
   "name": "python",
   "nbconvert_exporter": "python",
   "pygments_lexer": "ipython3",
   "version": "3.10.2"
  },
  "orig_nbformat": 4
 },
 "nbformat": 4,
 "nbformat_minor": 2
}

{
 "cells": [
  {
   "cell_type": "markdown",
   "metadata": {},
   "source": [
    "# Introduction\n",
    "\n",
    "Finding the center of a dataset is one of the most common ways to summarize statistical findings. Often, people communicate the center of data using words like, on *average*, *usually*, or *often*.\n",
    "\n",
    "In this lesson, you will learn how to calculate the mean of a dataset, a common measure of a dataset’s center. We will use the mean to help us answer the question,\n",
    "\n",
    "*When are adults their most creative and productive?*\n",
    "\n",
    "You could define “creative” and “productive” in a lot of ways, making this question impossible to fully answer by the end of this lesson. However, you will form an informed opinion on the question using data of the one hundred greatest novels of all time.\n",
    "\n",
    "We collected the dataset from a survey administered by the French literary magazine, Le Monde. From the dataset, you will calculate the average age of the authors when their books were published."
   ]
  },
  {
   "cell_type": "markdown",
   "metadata": {},
   "source": [
    "## Instructions\n",
    "\n",
    "The histogram to the right displays the ages of 100 authors from the Le Monde survey. Where do you think the data is centered?\n"
   ]
  },
  {
   "cell_type": "code",
   "execution_count": 4,
   "metadata": {},
   "outputs": [
    {
     "data": {
      "image/png": "[encoded data removed]",
      "text/plain": [
       "<Figure size 432x288 with 1 Axes>"
      ]
     },
     "metadata": {
      "needs_background": "light"
     },
     "output_type": "display_data"
    }
   ],
   "source": [
    "# Import packages\n",
    "import numpy as np\n",
    "import pandas as pd\n",
    "\n",
    "# Import matplotlib pyplot\n",
    "from matplotlib import pyplot as plt\n",
    "\n",
    "# Read in transactions data\n",
    "greatest_books = pd.read_csv(\"../data/top-hundred-books.csv\")\n",
    "\n",
    "# Save transaction times to a separate numpy array\n",
    "author_ages = greatest_books['Ages']\n",
    "\n",
    "# Use plt.hist() below\n",
    "plt.hist(author_ages, range=(10, 80), bins=14, edgecolor='black')\n",
    "plt.title(\"Age of Top 100 Authors at Publication\")\n",
    "plt.xlabel(\"Age\")\n",
    "plt.ylabel(\"Count\")\n",
    "\n",
    "plt.show()"
   ]
  }
 ],
 "metadata": {
  "interpreter": {
   "hash": "e7370f93d1d0cde622a1f8e1c04877d8463912d04d973331ad4851f04de6915a"
  },
  "kernelspec": {
   "display_name": "Python 3.10.2 64-bit",
   "language": "python",
   "name": "python3"
  },
  "language_info": {
   "codemirror_mode": {
    "name": "ipython",
    "version": 3
   },
   "file_extension": ".py",
   "mimetype": "text/x-python",
   "name": "python",
   "nbconvert_exporter": "python",
   "pygments_lexer": "ipython3",
   "version": "3.10.2"
  },
  "orig_nbformat": 4
 },
 "nbformat": 4,
 "nbformat_minor": 2
}

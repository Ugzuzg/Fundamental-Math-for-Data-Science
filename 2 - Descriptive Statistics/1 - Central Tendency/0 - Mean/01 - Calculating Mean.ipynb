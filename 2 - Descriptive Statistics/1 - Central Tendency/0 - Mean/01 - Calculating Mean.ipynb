{
 "cells": [
  {
   "cell_type": "markdown",
   "metadata": {},
   "source": [
    "# Calculating Mean\n",
    "\n",
    "The mean, often referred to as the *average*, is a way to measure the center of a dataset.\n",
    "\n",
    "The average of a set is calculated using a two-step process:\n",
    "\n",
    "1. Add all of the observations in your dataset.\n",
    "2. Divide the total sum from step one by the number of points in your dataset.\n",
    "\n",
    "$$\n",
    "\\bar{x} = \\frac{x_1 + x_2 … + x_{n}}{n}\n",
    "$$\n",
    "\n",
    "The equation above is used to calculate mean. `x1`, `x2`, … `xn` are observations from a dataset of `n` observations.\n",
    "\n",
    "## Example\n",
    "\n",
    "Imagine that we wanted to calculate average of a dataset with the following four observations:\n",
    "\n",
    "```python\n",
    "data = [4, 6, 2, 8]\n",
    "```\n",
    "\n",
    "### Step One: Calculate the total\n",
    "\n",
    "$$\n",
    "4 + 6 + 2 + 8 = 20\n",
    "$$\n",
    "\n",
    "### Step Two: Divide by the number of observations\n",
    "\n",
    "The total is equal to 20, and the number of observations is equal to 4.\n",
    "\n",
    "$$\n",
    "\\frac{20}{4} = 5\n",
    "$$\n",
    "\n",
    "The average of this dataset is equal to 5."
   ]
  },
  {
   "cell_type": "markdown",
   "metadata": {},
   "source": [
    "## Instructions\n",
    "\n",
    "1. In this exercise, you will use Python to find the average age of the first four authors in Le Monde’s top 100 books.\n",
    "\n",
    "    $$\n",
    "    29, 49, 42, 43\n",
    "    $$\n",
    "\n",
    "    Add the values together, and set `total` equal to the answer.\n",
    "\n",
    "    <details>\n",
    "        <summary>Stuck? Get a hint</summary>\n",
    "    \n",
    "    Add numbers and save them to a variable using the following syntax:\n",
    "\n",
    "    ```python\n",
    "    my_variable = 4 + 5 + 6 + 7\n",
    "    ```\n",
    "    </details>\n",
    "\n",
    "2. Divide `total` by the number of values in the dataset, and set `mean_value` to the answer.\n",
    "\n",
    "    Take a look at the result in the terminal. Keep that number in your head as you progress through the lesson.\n",
    "\n",
    "    <details>\n",
    "        <summary>Stuck? Get a hint</summary>\n",
    "    \n",
    "    How many observations are there in the dataset? Divide total by that number.\n",
    "    </details>\n"
   ]
  },
  {
   "cell_type": "code",
   "execution_count": null,
   "metadata": {},
   "outputs": [],
   "source": [
    "# Set total equal to the sum\n",
    "total = 0\n",
    "\n",
    "# Set mean_value equal to the mean\n",
    "mean_value = 0\n",
    "\n",
    "# The following code prints the total and mean\n",
    "print(\"The sum total is equal to: \" + str(total))\n",
    "print(\"The mean value is equal to: \" + str(mean_value))"
   ]
  },
  {
   "cell_type": "markdown",
   "metadata": {},
   "source": [
    "### Solution"
   ]
  },
  {
   "cell_type": "code",
   "execution_count": 1,
   "metadata": {},
   "outputs": [
    {
     "name": "stdout",
     "output_type": "stream",
     "text": [
      "The sum total is equal to: 163\n",
      "The mean value is equal to: 40.75\n"
     ]
    }
   ],
   "source": [
    "# Set total equal to the sum\n",
    "total = 29 + 49 + 42 + 43\n",
    "\n",
    "# Set mean_value equal to the mean\n",
    "mean_value = total/4\n",
    "\n",
    "# The following code prints the total and mean\n",
    "print(\"The sum total is equal to: \" + str(total))\n",
    "print(\"The mean value is equal to: \" + str(mean_value))"
   ]
  }
 ],
 "metadata": {
  "interpreter": {
   "hash": "e7370f93d1d0cde622a1f8e1c04877d8463912d04d973331ad4851f04de6915a"
  },
  "kernelspec": {
   "display_name": "Python 3.10.2 64-bit",
   "language": "python",
   "name": "python3"
  },
  "language_info": {
   "codemirror_mode": {
    "name": "ipython",
    "version": 3
   },
   "file_extension": ".py",
   "mimetype": "text/x-python",
   "name": "python",
   "nbconvert_exporter": "python",
   "pygments_lexer": "ipython3",
   "version": "3.10.2"
  },
  "orig_nbformat": 4
 },
 "nbformat": 4,
 "nbformat_minor": 2
}

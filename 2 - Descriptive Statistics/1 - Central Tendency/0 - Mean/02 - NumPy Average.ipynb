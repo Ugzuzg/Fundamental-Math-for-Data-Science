{
 "cells": [
  {
   "cell_type": "markdown",
   "metadata": {},
   "source": [
    "# NumPy Average\n",
    "\n",
    "While you’ve shown that you can calculate the average yourself, it becomes time-consuming as the size of your dataset increases — imagine adding all of the numbers in a dataset with 10,000 observations.\n",
    "\n",
    "The NumPy `.average()` or `.mean()` function can do the work of adding and dividing for you. In the example below, we use np.average() to calculate the average of a dataset with ten values.\n",
    "\n",
    "```python\n",
    "example_array = np.array([24, 16, 30, 10, 12, 28, 38, 2, 4, 36])\n",
    " \n",
    "example_average = np.average(example_array)\n",
    " \n",
    "print(example_average)\n",
    "```\n",
    "\n",
    "The code above calculates the average of `example_array` and saves the value to `example_average`. The resulting average of this array is `20`."
   ]
  },
  {
   "cell_type": "markdown",
   "metadata": {},
   "source": [
    "## Instructions\n",
    "\n",
    "1. Use NumPy to calculate the average value of the `author_ages` array. Save the result to `average_age`.\n",
    "\n",
    "    Does the average age of the authors surprise you? If so, how? Is it older, or younger than you expected?\n"
   ]
  },
  {
   "cell_type": "code",
   "execution_count": null,
   "metadata": {},
   "outputs": [],
   "source": [
    "# Import packages\n",
    "import numpy as np\n",
    "import pandas as pd\n",
    "\n",
    "# Read author data\n",
    "greatest_books = pd.read_csv(\"../data/top-hundred-books.csv\")\n",
    "\n",
    "# Set author ages to a NumPy array\n",
    "author_ages = greatest_books['Ages']\n",
    "\n",
    "# Use numpy to calculate the average age of the top 100 authors\n",
    "average_age = 0\n",
    "\n",
    "print(\"The average age of the 100 greatest authors, according to a survey by Le Monde, is: \" + str(average_age))"
   ]
  },
  {
   "cell_type": "markdown",
   "metadata": {},
   "source": [
    "### Solution"
   ]
  },
  {
   "cell_type": "code",
   "execution_count": 3,
   "metadata": {},
   "outputs": [
    {
     "name": "stdout",
     "output_type": "stream",
     "text": [
      "The average age of the 100 greatest authors, according to a survey by Le Monde, is: 42.12\n"
     ]
    }
   ],
   "source": [
    "# Import packages\n",
    "import numpy as np\n",
    "import pandas as pd\n",
    "\n",
    "# Read author data\n",
    "greatest_books = pd.read_csv(\"../data/top-hundred-books.csv\")\n",
    "\n",
    "# Set author ages to a NumPy array\n",
    "author_ages = greatest_books['Ages']\n",
    "\n",
    "# Use numpy to calculate the average age of the top 100 authors\n",
    "average_age = np.average(author_ages)\n",
    "\n",
    "print(\"The average age of the 100 greatest authors, according to a survey by Le Monde, is: \" + str(average_age))"
   ]
  }
 ],
 "metadata": {
  "interpreter": {
   "hash": "e7370f93d1d0cde622a1f8e1c04877d8463912d04d973331ad4851f04de6915a"
  },
  "kernelspec": {
   "display_name": "Python 3.10.2 64-bit",
   "language": "python",
   "name": "python3"
  },
  "language_info": {
   "codemirror_mode": {
    "name": "ipython",
    "version": 3
   },
   "file_extension": ".py",
   "mimetype": "text/x-python",
   "name": "python",
   "nbconvert_exporter": "python",
   "pygments_lexer": "ipython3",
   "version": "3.10.2"
  },
  "orig_nbformat": 4
 },
 "nbformat": 4,
 "nbformat_minor": 2
}

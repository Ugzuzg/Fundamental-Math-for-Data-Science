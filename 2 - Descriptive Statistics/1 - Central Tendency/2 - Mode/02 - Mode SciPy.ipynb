{
 "cells": [
  {
   "cell_type": "markdown",
   "metadata": {},
   "source": [
    "# Mode SciPy\n",
    "\n",
    "Finding the mode of a dataset becomes increasingly time-consuming as the size of your dataset increases — imagine finding the mode of a dataset with 10,000 observations.\n",
    "\n",
    "The SciPy `stats.mode()` function can do the work of finding the mode for you. In the example below, we import `stats` then use `stats.mode()` to calculate the mode of a dataset with ten values:\n",
    "\n",
    "## Example: One Mode\n",
    "\n",
    "```python\n",
    "from scipy import stats\n",
    " \n",
    "example_array = np.array([24, 16, 12, 10, 12, 28, 38, 12, 28, 24])\n",
    " \n",
    "example_mode = stats.mode(example_array)\n",
    "```\n",
    "\n",
    "The code above calculates the mode of the values in `example_array` and saves it to `example_mode`.\n",
    "\n",
    "The result of `stats.mode()` is an object with the mode value, and its count.\n",
    "\n",
    "```python\n",
    ">>> example_mode\n",
    "ModeResult(mode=array([12]), count=array([3]))\n",
    "```\n",
    "\n",
    "## Example: Two Modes\n",
    "\n",
    "If there are multiple modes, the `stats.mode()` function will always return the smallest mode in the dataset.\n",
    "\n",
    "Let’s look at an array with two modes, `12` and `24`:\n",
    "\n",
    "```python\n",
    "from scipy import stats\n",
    " \n",
    "example_array = np.array([24, 16, 12, 10, 12, 24, 38, 12, 28, 24])\n",
    " \n",
    "example_mode = stats.mode(example_array)\n",
    "```\n",
    "\n",
    "The result of `stats.mode()` is an object with the smallest mode value, and its count.\n",
    "\n",
    "```python\n",
    ">>> example_mode\n",
    "ModeResult(mode=array([12]), count=array([3]))\n",
    "```\n"
   ]
  },
  {
   "cell_type": "markdown",
   "metadata": {},
   "source": [
    "## Instructions\n",
    "\n",
    "1. We have already imported the `stats` library for you.\n",
    "\n",
    "    On line 13, delete the current value set to `mode_age`.\n",
    "\n",
    "    Find the mode of the observations in the `author_ages` array. Save the result to `mode_age`.\n",
    "\n",
    "    <details>\n",
    "        <summary>Stuck? Get a hint</summary>\n",
    "    \n",
    "    Use the following syntax to calculate the mode of an array:\n",
    "\n",
    "    ```python\n",
    "    my_mode = stats.mode(my_array)\n",
    "    ```\n",
    "    </details>\n"
   ]
  },
  {
   "cell_type": "code",
   "execution_count": null,
   "metadata": {},
   "outputs": [],
   "source": [
    "# Import packages\n",
    "import numpy as np\n",
    "import pandas as pd\n",
    "from scipy import stats\n",
    "\n",
    "# Read in author data\n",
    "greatest_books = pd.read_csv(\"../data/top-hundred-books.csv\")\n",
    "\n",
    "# Save author ages to author_ages\n",
    "author_ages = greatest_books['Ages']\n",
    "\n",
    "# Use numpy to calculate the mode age of the top 100 authors\n",
    "mode_age = np.array([np.array([0]),np.array([0])])\n",
    "\n",
    "print(\"The mode age and its frequency of authors from Le Monde's 100 greatest books is: \" + str(mode_age[0][0]) + \" and \" + str(mode_age[1][0]))"
   ]
  },
  {
   "cell_type": "markdown",
   "metadata": {},
   "source": [
    "### Solution"
   ]
  },
  {
   "cell_type": "code",
   "execution_count": 1,
   "metadata": {},
   "outputs": [
    {
     "name": "stdout",
     "output_type": "stream",
     "text": [
      "The mode age and its frequency of authors from Le Monde's 100 greatest books is: 38 and 7\n"
     ]
    }
   ],
   "source": [
    "# Import packages\n",
    "import numpy as np\n",
    "import pandas as pd\n",
    "from scipy import stats\n",
    "\n",
    "# Read in author data\n",
    "greatest_books = pd.read_csv(\"../data/top-hundred-books.csv\")\n",
    "\n",
    "# Save author ages to author_ages\n",
    "author_ages = greatest_books['Ages']\n",
    "\n",
    "# Use numpy to calculate the mode age of the top 100 authors\n",
    "mode_age = stats.mode(author_ages)\n",
    "\n",
    "print(\"The mode age and its frequency of authors from Le Monde's 100 greatest books is: \" + str(mode_age[0][0]) + \" and \" + str(mode_age[1][0]))"
   ]
  }
 ],
 "metadata": {
  "interpreter": {
   "hash": "e7370f93d1d0cde622a1f8e1c04877d8463912d04d973331ad4851f04de6915a"
  },
  "kernelspec": {
   "display_name": "Python 3.10.2 64-bit",
   "language": "python",
   "name": "python3"
  },
  "language_info": {
   "codemirror_mode": {
    "name": "ipython",
    "version": 3
   },
   "file_extension": ".py",
   "mimetype": "text/x-python",
   "name": "python",
   "nbconvert_exporter": "python",
   "pygments_lexer": "ipython3",
   "version": "3.10.2"
  },
  "orig_nbformat": 4
 },
 "nbformat": 4,
 "nbformat_minor": 2
}

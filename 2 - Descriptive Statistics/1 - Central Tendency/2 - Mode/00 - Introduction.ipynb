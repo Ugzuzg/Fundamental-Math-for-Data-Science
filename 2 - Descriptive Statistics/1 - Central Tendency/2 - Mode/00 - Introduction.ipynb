{
 "cells": [
  {
   "cell_type": "markdown",
   "metadata": {},
   "source": [
    "# Introduction\n",
    "\n",
    "In this lesson, you will learn how to find the *mode* of a dataset. Each of the next three exercises will cover the following:\n",
    "\n",
    "- Manually finding the mode of a dataset\n",
    "- Using Python’s SciPy library to find the mode\n",
    "- Comparing mode to mean and median values\n",
    "\n",
    "In the lesson, we will use a dataset of the 100 greatest novels, determined by a French literary magazine, Le Monde. From the dataset, you will use the mode to answer the question:\n",
    "\n",
    "*What is the most common age for a great author to publish their best work?*\n"
   ]
  },
  {
   "cell_type": "markdown",
   "metadata": {},
   "source": [
    "## Instructions\n",
    "\n",
    "The histogram to the right displays the age of authors, at publication, for the top 100 novels from Le Monde’s survey. The red line is the mean age, and the yellow line is the median age.\n",
    "\n",
    "Use the definition of mode below and the histogram to the right to guess where the mode falls. You will calculate the correct answer in the last exercise.\n",
    "\n",
    "*The mode is the most common observation in a dataset.*\n",
    "\n",
    "You will not be able to find the exact mode, because the histogram displays bins with a range of values. However, you can guess a range of values where you are most likely to see the mode.\n"
   ]
  },
  {
   "cell_type": "code",
   "execution_count": 1,
   "metadata": {},
   "outputs": [
    {
     "data": {
      "image/png": "[encoded data removed]",
      "text/plain": [
       "<Figure size 432x288 with 1 Axes>"
      ]
     },
     "metadata": {
      "needs_background": "light"
     },
     "output_type": "display_data"
    }
   ],
   "source": [
    "# Import packages\n",
    "import numpy as np\n",
    "import pandas as pd\n",
    "\n",
    "# Import matplotlib pyplot\n",
    "from matplotlib import pyplot as plt\n",
    "\n",
    "# Read in transactions data\n",
    "greatest_books = pd.read_csv(\"../data/top-hundred-books.csv\")\n",
    "\n",
    "# Save transaction times to a separate numpy array\n",
    "author_ages = greatest_books['Ages']\n",
    "\n",
    "# Use numpy to calculate the average age of the top 100 authors\n",
    "average_age = np.mean(author_ages)\n",
    "median_age = np.median(author_ages)\n",
    "\n",
    "# Plot the figure\n",
    "plt.hist(author_ages, range=(10, 80), bins=14,  edgecolor='black')\n",
    "plt.title(\"Age of Top 100 Novel Authors at Publication\")\n",
    "plt.xlabel(\"Publication Age\")\n",
    "plt.ylabel(\"Count\")\n",
    "plt.axvline(average_age, color='r', linestyle='solid', linewidth=2, label=\"mean\")\n",
    "plt.axvline(median_age, color='y', linestyle='dotted', linewidth=3, label=\"median\")\n",
    "plt.legend()\n",
    "\n",
    "plt.show()"
   ]
  }
 ],
 "metadata": {
  "interpreter": {
   "hash": "e7370f93d1d0cde622a1f8e1c04877d8463912d04d973331ad4851f04de6915a"
  },
  "kernelspec": {
   "display_name": "Python 3.10.2 64-bit",
   "language": "python",
   "name": "python3"
  },
  "language_info": {
   "codemirror_mode": {
    "name": "ipython",
    "version": 3
   },
   "file_extension": ".py",
   "mimetype": "text/x-python",
   "name": "python",
   "nbconvert_exporter": "python",
   "pygments_lexer": "ipython3",
   "version": "3.10.2"
  },
  "orig_nbformat": 4
 },
 "nbformat": 4,
 "nbformat_minor": 2
}

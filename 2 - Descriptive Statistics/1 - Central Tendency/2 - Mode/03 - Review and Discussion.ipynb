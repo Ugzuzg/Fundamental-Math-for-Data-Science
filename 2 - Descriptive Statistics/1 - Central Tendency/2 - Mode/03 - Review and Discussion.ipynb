{
 "cells": [
  {
   "cell_type": "markdown",
   "metadata": {},
   "source": [
    "# Review and Discussion\n",
    "\n",
    "In this lesson, you learned how to find the mode of a dataset in two steps:\n",
    "\n",
    "1. Find the frequency of every unique number in the dataset\n",
    "2. Determine which number has the highest frequency\n",
    "\n",
    "You also learned how to calculate the mode using SciPy:\n",
    "\n",
    "```python\n",
    "stats.mode(my_array)\n",
    "```\n",
    "\n",
    "## Discussion\n",
    "\n",
    "In this lesson, you found that 38 was the most common age, at publication, for an author from the Le Monde survey. How does this number compare to your guess from the beginning of the lesson?\n",
    "\n",
    "The mode is close to the median and mean of the dataset, but it is not in the tallest bucket. This should not be surprising, as the histogram indicates the data is centered between the ages of 30 and 50 — there is a higher chance of a mode in that range than outside of it.\n",
    "\n",
    "The mode is not always this close to the median and mean, and often will not be in the tallest bucket.\n",
    "\n",
    "Look at the 25-30 year-old bin. There are nine observations in it. If all the values in that bin happened to be 27, then the dataset’s mode would be 27. Although unlikely, it is possible. Below, we show what this would look like:\n",
    "\n",
    "![Mode set to 27](../assets/mode-at-27.webp)\n",
    "\n",
    "Based on this graph, it is fair to say the mode may not always be a great measure of where the data is centered. Simply put, mode is a measure of the most frequent observation in the dataset, and is not an indication of the tallest bin in a histogram.\n",
    "\n",
    "In the instructions below, we’ve written a brief explanation that puts mode in the context of our problem.\n",
    "\n",
    "## Instructions\n",
    "\n",
    "The most common age of an author from Le Monde’s 100 greatest books, when they publish their best work, is 38.\n"
   ]
  },
  {
   "cell_type": "code",
   "execution_count": 3,
   "metadata": {},
   "outputs": [
    {
     "data": {
      "image/png": "[encoded data removed]",
      "text/plain": [
       "<Figure size 432x288 with 1 Axes>"
      ]
     },
     "metadata": {
      "needs_background": "light"
     },
     "output_type": "display_data"
    }
   ],
   "source": [
    "# Import packages\n",
    "import numpy as np\n",
    "import pandas as pd\n",
    "from scipy import stats\n",
    "\n",
    "# Import matplotlib pyplot\n",
    "from matplotlib import pyplot as plt\n",
    "\n",
    "# Read in transactions data\n",
    "greatest_books = pd.read_csv(\"../data/top-hundred-books.csv\")\n",
    "\n",
    "# Save transaction times to a separate numpy array\n",
    "author_ages = greatest_books['Ages']\n",
    "\n",
    "# Calculate the average and median value of the author_ages array\n",
    "average_age = np.average(author_ages)\n",
    "median_age = np.median(author_ages)\n",
    "mode_age = 38\n",
    "\n",
    "# Plot the figure\n",
    "plt.hist(author_ages, range=(10, 80), bins=14,  edgecolor='black')\n",
    "plt.title(\"Author Ages at Publication\")\n",
    "plt.xlabel(\"Publication Age\")\n",
    "plt.ylabel(\"Count\")\n",
    "plt.axvline(average_age, color='r', linestyle='solid', linewidth=3, label=\"Mean\")\n",
    "plt.axvline(median_age, color='y', linestyle='dotted', linewidth=3, label=\"Median\")\n",
    "plt.axvline(mode_age, color='orange', linestyle='dashed', linewidth=3, label=\"Mode\")\n",
    "plt.legend()\n",
    "\n",
    "plt.show()"
   ]
  }
 ],
 "metadata": {
  "interpreter": {
   "hash": "e7370f93d1d0cde622a1f8e1c04877d8463912d04d973331ad4851f04de6915a"
  },
  "kernelspec": {
   "display_name": "Python 3.10.2 64-bit",
   "language": "python",
   "name": "python3"
  },
  "language_info": {
   "codemirror_mode": {
    "name": "ipython",
    "version": 3
   },
   "file_extension": ".py",
   "mimetype": "text/x-python",
   "name": "python",
   "nbconvert_exporter": "python",
   "pygments_lexer": "ipython3",
   "version": "3.10.2"
  },
  "orig_nbformat": 4
 },
 "nbformat": 4,
 "nbformat_minor": 2
}

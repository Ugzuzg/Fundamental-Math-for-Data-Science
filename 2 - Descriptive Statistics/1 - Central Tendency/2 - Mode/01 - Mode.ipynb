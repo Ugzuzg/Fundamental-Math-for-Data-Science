{
 "cells": [
  {
   "cell_type": "markdown",
   "metadata": {},
   "source": [
    "Mode\n",
    "\n",
    "The formal definition for the mode of a dataset is:\n",
    "\n",
    "*The most frequently occurring observation in the dataset. A dataset can have multiple modes if there is more than one value with the same maximum frequency.*\n",
    "\n",
    "While you may be able to find the mode of a small dataset by simply looking through it, if you have trouble, we recommend you follow these two steps:\n",
    "\n",
    "1. Find the frequency of every unique number in the dataset\n",
    "2. Determine which number has the highest frequency\n",
    "\n",
    "## Example\n",
    "\n",
    "Say we have a dataset with the following ten numbers:\n",
    "\n",
    "$$\n",
    "24,\\ 16,\\ 12,\\ 10,\\ 12,\\ 28,\\ 38,\\ 12,\\ 28,\\ 24\n",
    "$$\n",
    "\n",
    "Let’s find the frequency of each number:\n",
    "\n",
    "| 24 | 16 | 12 | 10 | 28 | 38 |\n",
    "| -- | -- | -- | -- | -- | -- |\n",
    "| 2 | 1 | 3 | 1 | 2 | 1 |\n",
    "\n",
    "From the table, we can see that our mode is `12`, the most frequent number in our dataset.\n"
   ]
  },
  {
   "cell_type": "markdown",
   "metadata": {},
   "source": [
    "## Instructions\n",
    "\n",
    "1. Determine the mode of the ages for the first ten authors in the Le Monde survey:\n",
    "\n",
    "    $$\n",
    "    29, 49, 42, 43, 32, 38, 37, 41, 27, 27\n",
    "    $$\n",
    "\n",
    "    Save the value to `mode_age`.\n",
    "\n",
    "2. Determine the number of authors who were the age of the mode. Save the number to `mode_count`.\n"
   ]
  },
  {
   "cell_type": "code",
   "execution_count": null,
   "metadata": {},
   "outputs": [],
   "source": [
    "import numpy as np\n",
    "\n",
    "# Set first_ten_authors equal to their ages\n",
    "first_ten_authors = np.array([29, 49, 42, 43, 32, 38, 37, 41, 27, 27])\n",
    "\n",
    "# Save the mode value to mode_age\n",
    "mode_age = 0\n",
    "\n",
    "# Save the count of authors with the mode age\n",
    "mode_count = 0\n",
    "\n",
    "# Print the sorted array and median value\n",
    "print(\"The ages of the first ten authors is: \" + str(first_ten_authors))\n",
    "print(\"The mode of the first ten authors is: \" + str(mode_age))\n",
    "print(\"The number of authors who were \" + str(mode_age) + \" when their book was published is \" + str(mode_count))"
   ]
  },
  {
   "cell_type": "markdown",
   "metadata": {},
   "source": [
    "### Solution"
   ]
  },
  {
   "cell_type": "code",
   "execution_count": 1,
   "metadata": {},
   "outputs": [
    {
     "name": "stdout",
     "output_type": "stream",
     "text": [
      "The ages of the first ten authors is: [29 49 42 43 32 38 37 41 27 27]\n",
      "The mode of the first ten authors is: 27\n",
      "The number of authors who were 27 when their book was published is 2\n"
     ]
    }
   ],
   "source": [
    "import numpy as np\n",
    "\n",
    "# Set first_ten_authors equal to their ages\n",
    "first_ten_authors = np.array([29, 49, 42, 43, 32, 38, 37, 41, 27, 27])\n",
    "\n",
    "# Save the mode value to mode_age\n",
    "mode_age = 27\n",
    "\n",
    "# Save the count of authors with the mode age\n",
    "mode_count = 2\n",
    "\n",
    "# Print the sorted array and median value\n",
    "print(\"The ages of the first ten authors is: \" + str(first_ten_authors))\n",
    "print(\"The mode of the first ten authors is: \" + str(mode_age))\n",
    "print(\"The number of authors who were \" + str(mode_age) + \" when their book was published is \" + str(mode_count))"
   ]
  }
 ],
 "metadata": {
  "interpreter": {
   "hash": "e7370f93d1d0cde622a1f8e1c04877d8463912d04d973331ad4851f04de6915a"
  },
  "kernelspec": {
   "display_name": "Python 3.10.2 64-bit",
   "language": "python",
   "name": "python3"
  },
  "language_info": {
   "codemirror_mode": {
    "name": "ipython",
    "version": 3
   },
   "file_extension": ".py",
   "mimetype": "text/x-python",
   "name": "python",
   "nbconvert_exporter": "python",
   "pygments_lexer": "ipython3",
   "version": "3.10.2"
  },
  "orig_nbformat": 4
 },
 "nbformat": 4,
 "nbformat_minor": 2
}

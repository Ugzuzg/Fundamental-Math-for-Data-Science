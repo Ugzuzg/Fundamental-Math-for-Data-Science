{
 "cells": [
  {
   "cell_type": "markdown",
   "metadata": {},
   "source": [
    "# Introduction: Descriptive Statistics\n",
    "**Find out what you’ll learn in Descriptive Statistics and why it’s important.**\n",
    "\n",
    "## Welcome to Descriptive Statistics\n",
    "\n",
    "In this unit, we will cover numerical summary statistics for a single quantitative variable and for a single categorical variable — including how to calculate these statistics in Python and then interpret them. More specifically, we will cover measures of central tendency and measures of spread. Central tendency tells us something about the middle or most common values in a dataset, whereas spread tells us about how variable a set of numbers are. For example, the values 1, 50, and 100 are more spread out from each other than the values 1, 2, and 3.\n",
    "\n",
    "### Why is this important?\n",
    "\n",
    "Numerical summaries are useful when we have a large amount of data and want to condense it down to a few numbers that provide insights into an entire dataset.\n",
    "\n",
    "Imagine, for example, that you are trying to pick someone to join your running team. For all potential candidates (10 of them), you have one-mile race times for 100 races. It’s not going to do you much good to look at 10 different lists of 100 race times and try to choose someone. Instead, for each candidate, you might want to calculate their average race time, which will tell you something about the “middle” of their 100 race times. You may also want to know how consistent each racer is. One person might have times that are very spread out — 6 minutes in one race and 8 minutes in another; whereas another person might always run a mile in 7 minutes plus or minus a few seconds. Those two runners might have the same average time, but the second one is more consistent because their race times have a smaller spread!\n",
    "\n",
    "### What will you learn?\n",
    "\n",
    "At the end of this module, you will be able to interpret and calculate the following statistics in Python:\n",
    "\n",
    "- Mean (or average)\n",
    "- Median\n",
    "- Mode\n",
    "- Variance\n",
    "- Standard deviation\n",
    "\n",
    "You will also be able to:\n",
    "\n",
    "- Calculate frequencies and proportions for categorical variables\n",
    "- Summarize central tendency and spread for ordinal categorical variables using appropriate summary statistics\n"
   ]
  }
 ],
 "metadata": {
  "interpreter": {
   "hash": "e7370f93d1d0cde622a1f8e1c04877d8463912d04d973331ad4851f04de6915a"
  },
  "kernelspec": {
   "display_name": "Python 3.10.2 64-bit",
   "language": "python",
   "name": "python3"
  },
  "language_info": {
   "name": "python",
   "version": "3.10.2"
  },
  "orig_nbformat": 4
 },
 "nbformat": 4,
 "nbformat_minor": 2
}

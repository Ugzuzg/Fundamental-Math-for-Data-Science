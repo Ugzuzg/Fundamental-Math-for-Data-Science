{
 "cells": [
  {
   "cell_type": "markdown",
   "metadata": {},
   "source": [
    "# Multiple Tests\n",
    "\n",
    "In the previous exercise, we used a two-sample t-test to investigate an association between a quantitative variable (time spent on a website) and a binary categorical variable (an old color scheme or a new color scheme).\n",
    "\n",
    "In some circumstances, we might instead care about an association between a quantitative variable and a **non-binary** categorical variable (non-binary means more than two categories).\n",
    "\n",
    "For example, suppose that we own a chain of stores that sell ants, called VeryAnts. There are three different locations: A, B, and C. We want to know whether customers are spending a significantly different amount per order at any of the locations.\n",
    "\n",
    "There are three different comparisons we could make: A vs. B, B vs. C, and A vs. C. One way to answer our question is to simply run three separate 2-sample t-tests.\n"
   ]
  },
  {
   "cell_type": "markdown",
   "metadata": {},
   "source": [
    "##Instructions\n",
    "\n",
    "1. We have created samples `a`, `b`, and `c`, representing the amount (in U.S.D) spent on orders at VeryAnts at locations A, B, and C, respectively. We want to see if there’s a significant difference in the average spending per order at the three locations.\n",
    "\n",
    "    Code has been provided for you to generate side by side box plots of the sales at each of these stores. Based on this visualization, are there any stores where customers appear to be spending more or less money?\n",
    "\n",
    "    <details>\n",
    "        <summary>Stuck? Get a hint</summary>\n",
    "    \n",
    "    It looks like the largest difference is between stores A and B (the orange box is clearly higher than the blue box). For the other comparisons (A vs. C and B vs. C), it’s a little harder to tell.\n",
    "    </details>\n",
    "\n",
    "2. Perform a 2-Sample T-test between each pair of location data.\n",
    "\n",
    "    Store the p-values in variables called `a_b_pval`, `a_c_pval`, and `b_c_pval`. Print them to the console.\n",
    "\n",
    "    Note that you may see numbers in scientific notation in the print out of one or more p-values. If you see something like `e-05` at the end of a number, that means that the preceding number is multiplied by 10^(-5). In other words, `2.5134230524e-05` is equal to `0.000025134230524`.\n",
    "\n",
    "    <details>\n",
    "        <summary>Stuck? Get a hint</summary>\n",
    "    \n",
    "    For example, to calculate and print a_b_pval, use:\n",
    "\n",
    "    ```python\n",
    "    a_b_tval, a_b_pval = ttest_ind(a,b)\n",
    "    print(a_b_pval)\n",
    "    ```\n",
    "    </details>\n",
    "\n",
    "3. Inspect the p-values that you printed out. Using a significance level of 0.05, for which pairs of stores did you find a significant difference between the average sale price? Assign the values of `a_b_significant`, `a_c_significant` `b_c_significant` to `True` if the p-value indicates a significant difference and False if the p-value does not indicate a significant difference.\n",
    "\n",
    "    <details>\n",
    "        <summary>Stuck? Get a hint</summary>\n",
    "    \n",
    "    P-values less than 0.05 are significant. Remember that `e-05` means to multiply by 10^-5 (equivalent to moving the decimal point to the left 5 spaces and adding zeros). `3.1e-05` is really `.000031`.\n",
    "    </details>\n"
   ]
  },
  {
   "cell_type": "code",
   "execution_count": 1,
   "metadata": {},
   "outputs": [
    {
     "data": {
      "image/png": "[encoded data removed]",
      "text/plain": [
       "<Figure size 432x288 with 1 Axes>"
      ]
     },
     "metadata": {
      "needs_background": "light"
     },
     "output_type": "display_data"
    }
   ],
   "source": [
    "from scipy.stats import ttest_ind\n",
    "import seaborn as sns\n",
    "import matplotlib.pyplot as plt\n",
    "import pandas as pd\n",
    "\n",
    "# store the data\n",
    "veryants = pd.read_csv('../data/veryants.csv')\n",
    "a = veryants.Sale[veryants.Store == 'A']\n",
    "b = veryants.Sale[veryants.Store == 'B']\n",
    "c = veryants.Sale[veryants.Store == 'C']\n",
    "\n",
    "# run t-tests\n",
    "\n",
    "\n",
    "\n",
    "# determine significance\n",
    "a_b_significant = None\n",
    "a_c_significant = None\n",
    "b_c_significant = None\n",
    "\n",
    "# create plot\n",
    "sns.boxplot(data=veryants, x='Store', y='Sale')\n",
    "plt.show()"
   ]
  },
  {
   "cell_type": "markdown",
   "metadata": {},
   "source": [
    "### Solution"
   ]
  },
  {
   "cell_type": "code",
   "execution_count": null,
   "metadata": {},
   "outputs": [],
   "source": [
    "from scipy.stats import ttest_ind\n",
    "import seaborn as sns\n",
    "import matplotlib.pyplot as plt\n",
    "import pandas as pd\n",
    "\n",
    "# store the data\n",
    "veryants = pd.read_csv('../data/veryants.csv')\n",
    "a = veryants.Sale[veryants.Store == 'A']\n",
    "b = veryants.Sale[veryants.Store == 'B']\n",
    "c = veryants.Sale[veryants.Store == 'C']\n",
    "\n",
    "# run t-tests\n",
    "a_b_tval, a_b_pval = ttest_ind(a, b)\n",
    "a_c_tval, a_c_pval = ttest_ind(a, c)\n",
    "b_c_tval, b_c_pval = ttest_ind(b, c)\n",
    "print(a_b_pval, a_c_pval, b_c_pval)\n",
    "\n",
    "\n",
    "# determine significance\n",
    "a_b_significant = a_b_pval < 0.05\n",
    "a_c_significant = a_c_pval < 0.05 \n",
    "b_c_significant = b_c_pval < 0.05\n",
    "print(a_b_significant, a_c_significant, b_c_significant)\n",
    "\n",
    "# create plot\n",
    "sns.boxplot(data=veryants, x='Store', y='Sale')\n",
    "plt.show()"
   ]
  }
 ],
 "metadata": {
  "interpreter": {
   "hash": "e7370f93d1d0cde622a1f8e1c04877d8463912d04d973331ad4851f04de6915a"
  },
  "kernelspec": {
   "display_name": "Python 3.10.2 64-bit",
   "language": "python",
   "name": "python3"
  },
  "language_info": {
   "codemirror_mode": {
    "name": "ipython",
    "version": 3
   },
   "file_extension": ".py",
   "mimetype": "text/x-python",
   "name": "python",
   "nbconvert_exporter": "python",
   "pygments_lexer": "ipython3",
   "version": "3.10.2"
  },
  "orig_nbformat": 4
 },
 "nbformat": 4,
 "nbformat_minor": 2
}

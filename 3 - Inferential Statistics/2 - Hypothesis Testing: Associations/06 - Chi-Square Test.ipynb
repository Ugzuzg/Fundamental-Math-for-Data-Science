{
 "cells": [
  {
   "cell_type": "markdown",
   "metadata": {},
   "source": [
    "# Chi-Square Test\n",
    "\n",
    "If we want to understand whether the outcomes of two categorical variables are associated, we can use a Chi-Square test. It is useful in situations like:\n",
    "\n",
    "- An A/B test where half of users were shown a green submit button and the other half were shown a purple submit button. Was one group more likely to click the submit button?\n",
    "- People under and over age 40 were given a survey asking “Which of the following three products is your favorite?” Did these age groups have significantly different preferences?\n",
    "\n",
    "In SciPy, we can use the function `chi2_contingency()` to perform a Chi-Square test. The input to `chi2_contingency` is a contingency table, which can be created using the pandas `crosstab()` function as follows:\n",
    "\n",
    "```python\n",
    "#create table:\n",
    "import pandas as pd\n",
    "table = pd.crosstab(variable_1, variable_2)\n",
    " \n",
    "#run the test:\n",
    "from scipy.stats import chi2_contingency\n",
    "chi2, pval, dof, expected = chi2_contingency(table)\n",
    "```\n",
    "\n",
    "For example, suppose we want to know whether gender is associated with the probability of a website visitor making a purchase. The null hypothesis is that there’s no association between the variables (eg. males, females, and non-binary people are all equally likely to make a purchase on the website, so gender and purchase-status are not associated). If the p-value is below our chosen threshold (often 0.05), we reject the null hypothesis and can conclude there is a statistically significant association between the two variables (eg. men, women, and non-binary people appear to have different probabilities of making a purchase, so gender is associated with purchase-status).\n"
   ]
  },
  {
   "cell_type": "markdown",
   "metadata": {},
   "source": [
    "## Instructions\n",
    "\n",
    "1. The management at the VeryAnts ant store wants to know if their two most popular species of ants, the Leaf Cutter and the Harvester, vary in popularity between 1st, 2nd, and 3rd graders.\n",
    "\n",
    "    We have provided a dataset named `ants` with a sample of 108 sales to 1st, 2nd, and 3rd grade teachers. The dataset has two columns: `Grade` (equal to `'1st'`, `'2nd'`, or `'3rd'`) and Ant (equal to `'Leaf Cutter'` or `'Harvester'`).\n",
    "\n",
    "    Use this data to create a contingency table of the `Grade` and `Ant` columns, and save the table as `table`.\n",
    "\n",
    "    <details>\n",
    "        <summary>Stuck? Get a hint</summary>\n",
    "    \n",
    "    To access the columns of the dataset, use `ants.Grade` and `ants.Ant`. These are the two variables that you should use to create the contingency table.\n",
    "    </details>\n",
    "\n",
    "2. Use the `chi2_contingency()` function from SciPy to run a Chi-Square test using the contingency table you just created (saved as `table`). Save the p-value as `pval` and print it out.\n",
    "\n",
    "    <details>\n",
    "        <summary>Stuck? Get a hint</summary>\n",
    "    \n",
    "    Fill in the code:\n",
    "\n",
    "    ```python\n",
    "    chi2, pval, dof, expected = chi2_contingency(___)\n",
    "    ```\n",
    "    </details>\n",
    "\n",
    "3. Are certain types of ants more popular among specific grades (is there an association between grade and ant type)? Using a significance threshold of 0.05, indicate your answer by changing the value of `significant` to `True` if there is a significant association between these variables and `False` otherwise.\n",
    "\n",
    "    <details>\n",
    "        <summary>Stuck? Get a hint</summary>\n",
    "    \n",
    "    If the p-value is less than 0.05, then there is a significant association between these variables (the ant types differ in popularity across grades), so `significant = True`. If the p-value is greater than 0.05, `significant = False`\n",
    "    </details>\n"
   ]
  },
  {
   "cell_type": "code",
   "execution_count": null,
   "metadata": {},
   "outputs": [],
   "source": [
    "import pandas as pd\n",
    "from scipy.stats import chi2_contingency\n",
    "\n",
    "# read in and print data\n",
    "ants = pd.read_csv(\"../data/ants_grade.csv\")\n",
    "print(ants.head())\n",
    "\n",
    "# create contingency table\n",
    "table = None\n",
    "print(table)\n",
    "\n",
    "# run Chi-Square test and print p-value\n",
    "\n",
    "\n",
    "# determine significance\n",
    "significant = None"
   ]
  },
  {
   "cell_type": "markdown",
   "metadata": {},
   "source": [
    "### Solution"
   ]
  },
  {
   "cell_type": "code",
   "execution_count": null,
   "metadata": {},
   "outputs": [],
   "source": [
    "import pandas as pd\n",
    "from scipy.stats import chi2_contingency\n",
    "\n",
    "# read in and print data\n",
    "ants = pd.read_csv(\"../data/ants_grade.csv\")\n",
    "print(ants.head())\n",
    "\n",
    "# create contingency table\n",
    "table = pd.crosstab(ants['Grade'], ants['Ant'])\n",
    "print(table)\n",
    "\n",
    "# run Chi-Square test and print p-value\n",
    "chi2, pval, dof, expected = chi2_contingency(table)\n",
    "print(pval)\n",
    "\n",
    "# determine significance\n",
    "significant = pval < 0.05\n",
    "print(significant)"
   ]
  }
 ],
 "metadata": {
  "interpreter": {
   "hash": "e7370f93d1d0cde622a1f8e1c04877d8463912d04d973331ad4851f04de6915a"
  },
  "kernelspec": {
   "display_name": "Python 3.10.2 64-bit",
   "language": "python",
   "name": "python3"
  },
  "language_info": {
   "codemirror_mode": {
    "name": "ipython",
    "version": 3
   },
   "file_extension": ".py",
   "mimetype": "text/x-python",
   "name": "python",
   "nbconvert_exporter": "python",
   "pygments_lexer": "ipython3",
   "version": "3.10.2"
  },
  "orig_nbformat": 4
 },
 "nbformat": 4,
 "nbformat_minor": 2
}

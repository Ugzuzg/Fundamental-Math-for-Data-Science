{
 "cells": [
  {
   "cell_type": "markdown",
   "metadata": {},
   "source": [
    "# Review: Hypothesis Testing\n",
    "\n",
    "**Review all you’ve learned about Hypothesis Testing!**\n",
    "\n",
    "## Review\n",
    "\n",
    "Congratulations! The goal of this unit was to learn about various hypothesis tests.\n",
    "\n",
    "Having completed this unit, you are now able to:\n",
    "\n",
    "- Understand the theory behind hypothesis testing\n",
    "- Form a null and alternative hypothesis for a hypothesis test\n",
    "- Interpret a p-value\n",
    "- Implement many different hypothesis tests in Python, including 1- and 2-sample t-tests, ANOVA, Tukey’s range test, a Binomial test, and a Chi-Square test\n",
    "- Determine an appropriate sample size for a hypothesis test\n",
    "- Determine the best hypothesis test for a given experiment\n",
    "\n",
    "If you are interested in learning more about these topics, here are some additional resources:\n",
    "\n",
    "- Online Book Chapter: [Logic of Hypothesis Testing](https://onlinestatbook.com/2/logic_of_hypothesis_testing/logic_hypothesis.html)\n",
    "- Article: [Hypothesis Testing](https://www.statisticshowto.com/probability-and-statistics/hypothesis-testing/)\n"
   ]
  }
 ],
 "metadata": {
  "interpreter": {
   "hash": "e7370f93d1d0cde622a1f8e1c04877d8463912d04d973331ad4851f04de6915a"
  },
  "kernelspec": {
   "display_name": "Python 3.10.2 64-bit",
   "language": "python",
   "name": "python3"
  },
  "language_info": {
   "name": "python",
   "version": "3.10.2"
  },
  "orig_nbformat": 4
 },
 "nbformat": 4,
 "nbformat_minor": 2
}

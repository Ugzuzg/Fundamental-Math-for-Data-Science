{
 "cells": [
  {
   "cell_type": "markdown",
   "metadata": {},
   "source": [
    "# Confidence Intervals\n",
    "\n",
    "So far, we’ve inspected the null distribution and calculated the minimum and maximum values. While the number of purchases in each simulated sample ranged roughly from 25 to 75 by random chance, upon further inspection of the distribution, we saw that those extreme values happened very rarely.\n",
    "\n",
    "By reporting an interval covering 95% of the values instead of the full range, we can say something like: “we are 95% confident that, if each visitor has a 10% chance of making a purchase, a random sample of 500 visitors will make between 37 and 63 purchases.” We can use the `np.percentile()` function to calculate this 95% interval as follows:\n",
    "\n",
    "```python\n",
    "np.percentile(outcomes, [2.5,97.5])\n",
    "# output: [37. 63.]\n",
    "```\n",
    "\n",
    "We calculated the 2.5th and 97.5th percentiles so that exactly 5% of the data falls outside those percentiles (2.5% above the 97.5th percentile, and 2.5% below the 2.5th percentile). This leaves us with a range covering 95% of the data.\n",
    "\n",
    "If our observed statistic falls outside this interval, then we can conclude it is unlikely that the null hypothesis is true. In this example, because 41 falls within the 95% interval (37 - 63), it is still reasonably likely that we observed a lower purchase rate by random chance, even though the null hypothesis was true.\n"
   ]
  },
  {
   "cell_type": "markdown",
   "metadata": {},
   "source": [
    "## Instructions\n",
    "\n",
    "1. The code to generate `null_outcomes` has been provided for you. Calculate an interval covering the middle 90% of the values in `null_outcomes`. Save the output in a variable named `null_90CI` and print it out. Is the observed value of 41 purchases inside or outside this interval?\n",
    "\n",
    "    <details>\n",
    "        <summary>Stuck? Get a hint</summary>\n",
    "    \n",
    "    For a 90% interval, we need to calculate the 5th and 95th percentiles.\n",
    "    </details>\n"
   ]
  },
  {
   "cell_type": "code",
   "execution_count": null,
   "metadata": {},
   "outputs": [],
   "source": [
    "import numpy as np\n",
    "import pandas as pd\n",
    "import matplotlib.pyplot as plt\n",
    "\n",
    "null_outcomes = []\n",
    "\n",
    "for i in range(10000):\n",
    "  simulated_monthly_visitors = np.random.choice(['y', 'n'], size=500, p=[0.1, 0.9])\n",
    "\n",
    "  num_purchased = np.sum(simulated_monthly_visitors == 'y')\n",
    "\n",
    "  null_outcomes.append(num_purchased)\n",
    "\n",
    "#calculate the 90% interval here:\n"
   ]
  },
  {
   "cell_type": "markdown",
   "metadata": {},
   "source": [
    "### Solution"
   ]
  },
  {
   "cell_type": "code",
   "execution_count": 3,
   "metadata": {},
   "outputs": [
    {
     "data": {
      "text/plain": [
       "array([39., 61.])"
      ]
     },
     "execution_count": 3,
     "metadata": {},
     "output_type": "execute_result"
    }
   ],
   "source": [
    "import numpy as np\n",
    "import pandas as pd\n",
    "import matplotlib.pyplot as plt\n",
    "\n",
    "null_outcomes = []\n",
    "\n",
    "for i in range(10000):\n",
    "  simulated_monthly_visitors = np.random.choice(['y', 'n'], size=500, p=[0.1, 0.9])\n",
    "\n",
    "  num_purchased = np.sum(simulated_monthly_visitors == 'y')\n",
    "\n",
    "  null_outcomes.append(num_purchased)\n",
    "\n",
    "#calculate the 90% interval here:\n",
    "null_90CI = np.percentile(null_outcomes, [5, 95])\n",
    "null_90CI"
   ]
  }
 ],
 "metadata": {
  "interpreter": {
   "hash": "e7370f93d1d0cde622a1f8e1c04877d8463912d04d973331ad4851f04de6915a"
  },
  "kernelspec": {
   "display_name": "Python 3.10.2 64-bit",
   "language": "python",
   "name": "python3"
  },
  "language_info": {
   "codemirror_mode": {
    "name": "ipython",
    "version": 3
   },
   "file_extension": ".py",
   "mimetype": "text/x-python",
   "name": "python",
   "nbconvert_exporter": "python",
   "pygments_lexer": "ipython3",
   "version": "3.10.2"
  },
  "orig_nbformat": 4
 },
 "nbformat": 4,
 "nbformat_minor": 2
}

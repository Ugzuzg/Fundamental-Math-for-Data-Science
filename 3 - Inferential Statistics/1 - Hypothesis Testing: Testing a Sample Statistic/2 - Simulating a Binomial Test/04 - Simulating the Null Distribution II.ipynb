{
 "cells": [
  {
   "cell_type": "markdown",
   "metadata": {},
   "source": [
    "# Simulating the Null Distribution II\n",
    "\n",
    "In the last exercise, we simulated a random sample of 500 visitors, where each visitor had a 10% chance of making a purchase. When we pressed “Run” a few times, we saw that the number of purchases varied from sample to sample, but was **around** 50.\n",
    "\n",
    "Similarly, we simulated a single random sample of 10 coin flips, where each flip had a 50% chance of coming up heads. We saw that the number of simulated heads was not necessarily 5, but somewhere around 5.\n",
    "\n",
    "By running the same simulated experiment **many** times, we can get a sense for how much a particular outcome (like the number of purchases, or heads) varies by random chance. Consider the following code:\n",
    "\n",
    "```python\n",
    "outcomes = []\n",
    "for i in range(10000): \n",
    "    flips = np.random.choice(['heads', 'tails'], size=10, p=[0.5, 0.5])\n",
    "    num_heads = np.sum(flips == 'heads')\n",
    "    outcomes.append(num_heads)\n",
    "print(outcomes)\n",
    "## output is something like: [3, 4, 5, 8, 5, 6, 4, 5, 3, 2, 8, 5, 7, 4, 4, 5, 4, 3, 6, 5,...]\n",
    "```\n",
    "\n",
    "In this code chunk, we’ve done the following:\n",
    "\n",
    "- initialized an empty list named `outcomes` to store the number of ‘heads’ from simulated samples of coin flips\n",
    "- set up a for-loop to repeat the steps below 10000 times:\n",
    "    - flip a fair coin 10 times\n",
    "    - calculate the number of those 10 flips that came up heads\n",
    "    - append that number onto `outcomes`\n",
    "\n",
    "Note that 10000 is an arbitrarily chosen large number — it’s big enough that it will yield almost all possible outcomes of our experiment, and small enough that the simulation still runs quickly. From inspecting the output, we can see that the number of ‘heads’ varied between 0 and 10:\n",
    "\n",
    "```python\n",
    "min_heads = np.min(outcomes) \n",
    "print(min_heads) #output: 0\n",
    " \n",
    "max_heads = np.max(outcomes)\n",
    "print(max_heads) #output: 10\n",
    "```\n",
    "\n",
    "Thus, if we flip a fair coin 10 times, we could observe anywhere between 0 and 10 heads by random chance.\n"
   ]
  },
  {
   "cell_type": "markdown",
   "metadata": {},
   "source": [
    "## Instructions\n",
    "\n",
    "1. Now let’s ask the same question with regards to purchases: if we run an experiment where we simulate a sample of 500 visitors, each with a 10% chance of making a purchase, and record the number of purchases for that imaginary sample — then repeat that experiment a bunch of times — what are the minimum and maximum number of purchases that we’ll observe by random chance?\n",
    "\n",
    "    The solution code from the last exercise is already saved for you in script.py commented out. This is the code to randomly sample 500 visitors who each have a 10% chance of making a purchase, then save the actual number who made a purchase as `num_purchased`.\n",
    "\n",
    "    Use a for-loop to repeat this process 10000 times. Each time, append the number of simulated visitors who made a purchase to the list `null_outcomes` (which has also been initialized for you in script.py).\n",
    "\n",
    "    <details>\n",
    "        <summary>Stuck? Get a hint</summary>\n",
    "    \n",
    "    Fill in the following code:\n",
    "\n",
    "    ```python\n",
    "    null_outcomes = []\n",
    "    for i in range(___):\n",
    "        week_of_visitors = np.random.choice(['y', 'n'], size=500, p=[.1,.9])\n",
    "        num_purchased = np.sum(week_of_visitors == 'y')\n",
    "        null_outcomes.append(___)\n",
    "    ```\n",
    "    </details>\n",
    "\n",
    "2. Outside of your loop, save the minimum and maximum values in `null_outcomes` as `null_min` and `null_max` respectively, then print them out. How much does the number of purchases seem to be varying by random chance?\n",
    "\n",
    "    <details>\n",
    "        <summary>Stuck? Get a hint</summary>\n",
    "    \n",
    "    Run your code a couple of times to see how variable these numbers are.\n",
    "\n",
    "    ```python\n",
    "    Hint Fill in the following code:\n",
    "\n",
    "    null_min = np.min(null_outcomes)\n",
    "    null_max = np.___(___)\n",
    "    print(null_min)\n",
    "    print(___)\n",
    "    ```\n",
    "    </details>"
   ]
  },
  {
   "cell_type": "code",
   "execution_count": null,
   "metadata": {},
   "outputs": [],
   "source": [
    "import numpy as np\n",
    "import pandas as pd\n",
    "\n",
    "null_outcomes = []\n",
    "\n",
    "#start for loop here:\n",
    "\n",
    "  #simulated_monthly_visitors = np.random.choice(['y', 'n'], size=500, p=[0.1, 0.9])\n",
    "\n",
    "  #num_purchased = np.sum(simulated_monthly_visitors == 'y')\n",
    "\n",
    "\n",
    "\n",
    "#calculate the minimum and maximum values in null_outcomes here:\n",
    "\n"
   ]
  },
  {
   "cell_type": "markdown",
   "metadata": {},
   "source": [
    "### Solution"
   ]
  },
  {
   "cell_type": "code",
   "execution_count": null,
   "metadata": {},
   "outputs": [],
   "source": [
    "import numpy as np\n",
    "import pandas as pd\n",
    "\n",
    "null_outcomes = []\n",
    "\n",
    "#start for loop here:\n",
    "for i in range(10000):\n",
    "  simulated_monthly_visitors = np.random.choice(['y', 'n'], size=500, p=[0.1, 0.9])\n",
    "  num_purchased = np.sum(simulated_monthly_visitors == 'y')\n",
    "  null_outcomes.append(num_purchased)\n",
    "\n",
    "#calculate the minimum and maximum values in null_outcomes here:\n",
    "null_min = min(null_outcomes)\n",
    "null_max = max(null_outcomes)\n",
    "print(null_min, null_max)\n"
   ]
  }
 ],
 "metadata": {
  "interpreter": {
   "hash": "e7370f93d1d0cde622a1f8e1c04877d8463912d04d973331ad4851f04de6915a"
  },
  "kernelspec": {
   "display_name": "Python 3.10.2 64-bit",
   "language": "python",
   "name": "python3"
  },
  "language_info": {
   "codemirror_mode": {
    "name": "ipython",
    "version": 3
   },
   "file_extension": ".py",
   "mimetype": "text/x-python",
   "name": "python",
   "nbconvert_exporter": "python",
   "pygments_lexer": "ipython3",
   "version": "3.10.2"
  },
  "orig_nbformat": 4
 },
 "nbformat": 4,
 "nbformat_minor": 2
}

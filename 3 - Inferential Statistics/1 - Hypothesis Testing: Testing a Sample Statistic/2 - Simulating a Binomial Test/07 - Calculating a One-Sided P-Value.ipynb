{
 "cells": [
  {
   "cell_type": "markdown",
   "metadata": {},
   "source": [
    "# Calculating a One-Sided P-Value\n",
    "\n",
    "*P-value* calculations and interpretations depend on the *alternative hypothesis* of a test, a description of the difference from expectation that we are interested in.\n",
    "\n",
    "For example, let’s return to the 10-coin-flip example from earlier. Suppose that we flipped a coin 10 times and observed only 2 heads. We might run a hypothesis test with the following null and alternative hypotheses:\n",
    "\n",
    "- Null: the probability of heads is 0.5\n",
    "- Alternative: the probability of heads is **less than** 0.5\n",
    "\n",
    "This hypothesis test asks the question: IF the probability of heads is 0.5, what’s the probability of observing 2 or fewer heads among a single sample of 10 coin flips?\n",
    "\n",
    "Earlier, we used a for-loop to repeatedly (10000 times!) flip a fair coin 10 times, and store the number of heads (for each set of 10 flips) in a list named `outcomes`. The probability of observing 2 or fewer heads among 10 coin flips is approximately equal to the proportion of those 10000 experiments where we observed 0, 1, or 2 heads:\n",
    "\n",
    "```python\n",
    "import numpy as np\n",
    "outcomes = np.array(outcomes)\n",
    "p_value = np.sum(outcomes <= 2)/len(outcomes) \n",
    "print(p_value) #output: 0.059\n",
    "```\n",
    "\n",
    "This calculation is equivalent to calculating the proportion of this histogram that is colored in red: \n",
    "\n",
    "![null distribution with bars colored red for values less than or equal to 2](../../assets/one_sided_coin_flip.svg)\n",
    "\n",
    "We estimated that the probability of observing 2 or fewer heads is about 0.059 (5.9%). This probability (0.059) is referred to as a one-sided p-value.\n"
   ]
  },
  {
   "cell_type": "markdown",
   "metadata": {},
   "source": [
    "## Instructions\n",
    "\n",
    "1. The code you wrote to generate `null_outcomes` is available to you in script.py. Use `null_outcomes` to estimate the p-value for a binomial hypothesis test with the following null and alternative hypotheses:\n",
    "\n",
    "    - Null: the probability of a purchase was 10%\n",
    "    - Alternative: the probability of a purchase rate was LESS THAN 10%\n",
    "\n",
    "    In other words, calculate the proportion of values in null_outcomes that are less than or equal to 41 (the observed number of purchases that we calculated earlier). Save this number as a variable named `p_value` and print it out.\n",
    "\n",
    "    Try pressing “Run” a few times; You should see slightly different values of `p_value` each time. What do you think the true probability is?\n",
    "\n",
    "    <details>\n",
    "        <summary>Stuck? Get a hint</summary>\n",
    "    \n",
    "    The p-value should be around 0.1\n",
    "\n",
    "    Fill in the following code:\n",
    "\n",
    "    ```python\n",
    "    null_outcomes = np.array(null_outcomes)\n",
    "    p_value = np.sum(null_outcomes <= ___)/len(null_outcomes) \n",
    "    print(p_value)\n",
    "    ```\n",
    "    </details>"
   ]
  },
  {
   "cell_type": "code",
   "execution_count": null,
   "metadata": {},
   "outputs": [],
   "source": [
    "import numpy as np\n",
    "import pandas as pd\n",
    "\n",
    "null_outcomes = []\n",
    "\n",
    "for i in range(10000):\n",
    "  simulated_monthly_visitors = np.random.choice(['y', 'n'], size=500, p=[0.1, 0.9])\n",
    "\n",
    "  num_purchased = np.sum(simulated_monthly_visitors == 'y')\n",
    "\n",
    "  null_outcomes.append(num_purchased)\n",
    "\n",
    "#calculate the p-value here:\n",
    "\n"
   ]
  },
  {
   "cell_type": "markdown",
   "metadata": {},
   "source": [
    "### Solution"
   ]
  },
  {
   "cell_type": "code",
   "execution_count": 1,
   "metadata": {},
   "outputs": [
    {
     "name": "stdout",
     "output_type": "stream",
     "text": [
      "0.1023\n"
     ]
    }
   ],
   "source": [
    "import numpy as np\n",
    "import pandas as pd\n",
    "\n",
    "null_outcomes = []\n",
    "\n",
    "for i in range(10000):\n",
    "  simulated_monthly_visitors = np.random.choice(['y', 'n'], size=500, p=[0.1, 0.9])\n",
    "\n",
    "  num_purchased = np.sum(simulated_monthly_visitors == 'y')\n",
    "\n",
    "  null_outcomes.append(num_purchased)\n",
    "\n",
    "#calculate the p-value here:\n",
    "null_outcomes = np.array(null_outcomes)\n",
    "p_value = np.sum(null_outcomes <= 41)/len(null_outcomes)\n",
    "print(p_value)"
   ]
  }
 ],
 "metadata": {
  "interpreter": {
   "hash": "e7370f93d1d0cde622a1f8e1c04877d8463912d04d973331ad4851f04de6915a"
  },
  "kernelspec": {
   "display_name": "Python 3.10.2 64-bit",
   "language": "python",
   "name": "python3"
  },
  "language_info": {
   "codemirror_mode": {
    "name": "ipython",
    "version": 3
   },
   "file_extension": ".py",
   "mimetype": "text/x-python",
   "name": "python",
   "nbconvert_exporter": "python",
   "pygments_lexer": "ipython3",
   "version": "3.10.2"
  },
  "orig_nbformat": 4
 },
 "nbformat": 4,
 "nbformat_minor": 2
}

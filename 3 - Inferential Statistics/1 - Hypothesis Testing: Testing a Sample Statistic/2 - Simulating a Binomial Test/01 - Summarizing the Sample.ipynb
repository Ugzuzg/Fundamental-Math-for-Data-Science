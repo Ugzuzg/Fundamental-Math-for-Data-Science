{
 "cells": [
  {
   "cell_type": "markdown",
   "metadata": {},
   "source": [
    "# Summarizing the Sample\n",
    "\n",
    "The marketing department at Live-it-LIVE reports that, during this time of year, about 10% of visitors to Live-it-LIVE.com make a purchase.\n",
    "\n",
    "The monthly report shows every visitor to the site and whether or not they made a purchase. The checkout page had a small bug this month, so the business department wants to know whether the purchase rate dipped below expectation. They’ve asked us to investigate this question.\n",
    "\n",
    "In order to run a hypothesis test to address this, we’ll first need to know two things from the data:\n",
    "\n",
    "- The number of people who visited the website\n",
    "- The number of people who made a purchase on the website\n",
    "\n",
    "Assuming each row of our dataset represents a unique site visitor, we can calculate the number of people who visited the website by finding the number of rows in the data frame. We can then find the number who made a purchase by using a conditional statement to add up the total number of rows where a purchase was made.\n",
    "\n",
    "For example, suppose that the dataset `candy` contains a column named `chocolate` with `'yes'` recorded for every candy that has chocolate in it and `'no'` otherwise. The following code calculates the sample size (the number of candies) and the number of those candies that contain chocolate:\n",
    "\n",
    "```python\n",
    "## sample size (number of rows): \n",
    "samp_size = len(candy)\n",
    " \n",
    "## number with chocolate: \n",
    "total_with_chocolate = np.sum(candy.chocolate == 'yes')\n",
    "```\n"
   ]
  },
  {
   "cell_type": "markdown",
   "metadata": {},
   "source": [
    "## Instructions\n",
    "\n",
    "1. Each row of the dataset `monthly_report` represents a single visitor to Live-it-LIVE.com during the week in question. Use `.head()` to print the first five rows of the data once again and inspect the `'purchase'` column. What are the values and how can you tell whether someone made a purchase?\n",
    "\n",
    "    Note that this will print in both the output terminal and the web browser, but it will look nicer and be easier to read in the web browser.\n",
    "\n",
    "2. Calculate the sample size and assign it to a variable named `sample_size`. Print `sample_size`. How many visitors accessed the website this week?\n",
    "\n",
    "    Note that this will print to the output terminal, not the web browser.\n",
    "\n",
    "    <details>\n",
    "        <summary>Stuck? Get a hint</summary>\n",
    "    \n",
    "    Fill in the following code:\n",
    "\n",
    "    ```python\n",
    "    sample_size = len(___)\n",
    "    print(___)\n",
    "    ```\n",
    "    </details>\n",
    "\n",
    "3. Calculate the number of visitors who made a purchase this week and save it to a variable named `num_purchased`. Print `num_purchased`. How many visitors made a purchase this week?\n",
    "\n",
    "    Note that this will print to the output terminal, not the web browser.\n",
    "\n",
    "    <details>\n",
    "        <summary>Stuck? Get a hint</summary>\n",
    "    \n",
    "    The purchase column of monthly_report indicates whether or not a visitor made a purchase: a value of 'y' means they made a purchase; 'n' means they did not.\n",
    "    \n",
    "    Fill in the following code:\n",
    "    \n",
    "    ```python\n",
    "    num_purchased = np.sum(monthly_report.___ == '___')\n",
    "    print(num_purchased)\n",
    "    ```\n",
    "    </details>\n"
   ]
  },
  {
   "cell_type": "code",
   "execution_count": null,
   "metadata": {},
   "outputs": [],
   "source": [
    "import numpy as np\n",
    "import pandas as pd\n",
    "\n",
    "monthly_report = pd.read_csv('../../data/monthly_report.csv')"
   ]
  },
  {
   "cell_type": "markdown",
   "metadata": {},
   "source": [
    "### Solution"
   ]
  },
  {
   "cell_type": "code",
   "execution_count": 1,
   "metadata": {},
   "outputs": [
    {
     "name": "stdout",
     "output_type": "stream",
     "text": [
      "             timestamp purchase                       item\n",
      "0  2020-01-17 17:23:06        y  cue cards - love actually\n",
      "1  2020-01-25 17:09:39        n                        NaN\n",
      "2  2020-01-25 05:22:01        n                        NaN\n",
      "3  2020-01-18 04:33:40        y      t-rex - jurassic park\n",
      "4  2020-01-24 17:24:52        n                        NaN\n",
      "500\n",
      "41\n"
     ]
    }
   ],
   "source": [
    "import numpy as np\n",
    "import pandas as pd\n",
    "\n",
    "monthly_report = pd.read_csv('../../data/monthly_report.csv')\n",
    "\n",
    "#print the head of monthly_report:\n",
    "print(monthly_report.head())\n",
    "\n",
    "#calculate and print sample_size:\n",
    "sample_size = len(monthly_report)\n",
    "print(sample_size)\n",
    "\n",
    "#calculate and print num_purchased:\n",
    "num_purchased = len(monthly_report[monthly_report['purchase'] == 'y'])\n",
    "print(num_purchased)"
   ]
  }
 ],
 "metadata": {
  "interpreter": {
   "hash": "e7370f93d1d0cde622a1f8e1c04877d8463912d04d973331ad4851f04de6915a"
  },
  "kernelspec": {
   "display_name": "Python 3.10.2 64-bit",
   "language": "python",
   "name": "python3"
  },
  "language_info": {
   "codemirror_mode": {
    "name": "ipython",
    "version": 3
   },
   "file_extension": ".py",
   "mimetype": "text/x-python",
   "name": "python",
   "nbconvert_exporter": "python",
   "pygments_lexer": "ipython3",
   "version": "3.10.2"
  },
  "orig_nbformat": 4
 },
 "nbformat": 4,
 "nbformat_minor": 2
}

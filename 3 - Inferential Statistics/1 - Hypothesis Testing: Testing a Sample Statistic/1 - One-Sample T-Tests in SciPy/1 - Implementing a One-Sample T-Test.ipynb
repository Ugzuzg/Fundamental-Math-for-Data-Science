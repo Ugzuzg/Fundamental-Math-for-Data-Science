{
 "cells": [
  {
   "cell_type": "markdown",
   "metadata": {},
   "source": [
    "# Implementing a One-Sample T-Test\n",
    "\n",
    "In the last exercise, we inspected a sample of 50 purchase prices at BuyPie and saw that the average was 980 Rupees. Suppose that we want to run a one-sample t-test with the following null and alternative hypotheses:\n",
    "\n",
    "- Null: The average cost of a BuyPie order is 1000 Rupees\n",
    "- Alternative: The average cost of a BuyPie order is **not** 1000 Rupees.\n",
    "\n",
    "SciPy has a function called `ttest_1samp()`, which performs a one-sample t-test for you. `ttest_1samp()` requires two inputs, a sample distribution (eg. the list of the 50 observed purchase prices) and a mean to test against (eg. `1000`):\n",
    "\n",
    "```python\n",
    "tstat, pval = ttest_1samp(sample_distribution, expected_mean)\n",
    "```\n",
    "\n",
    "The function uses your sample distribution to determine the sample size and estimate the amount of variation in the population — which are used to estimate the null distribution. It returns two outputs: the t-statistic (which we won’t cover in this course), and the p-value.\n"
   ]
  },
  {
   "cell_type": "markdown",
   "metadata": {},
   "source": [
    "## Instructions\n",
    "\n",
    "1. Use `ttest_1samp()` to run the hypothesis test described above (null: the average price is 1000 Rupees; alternative: the average price is **not** 1000 Rupees).\n",
    "\n",
    "    Store the p-value in a variable called `pval`. Remember that it is the second output of the `ttest_1samp()` function. We won’t use the first output, the t-statistic, so you can store it in a variable with whatever name you’d like.\n",
    "\n",
    "    <details>\n",
    "        <summary>Stuck? Get a hint</summary>\n",
    "    \n",
    "    Fill in the following code:\n",
    "\n",
    "    ```python\n",
    "    tstat, pval = ttest_1samp(prices, ___)\n",
    "    ```\n",
    "    </details>\n",
    "\n",
    "2. Print out `pval` to the console.\n",
    "\n",
    "    Does the p-value you got make sense, knowing the mean of prices and having inspected the data? (Look at the hint for an answer to this question).\n",
    " \n",
    "    <details>\n",
    "        <summary>Stuck? Get a hint</summary>\n",
    "    \n",
    "    P-values are probabilities, so they should be between 0 and 1. This p-value is the probability of observing an average purchase price less than 980 OR more than 1020 among a sample of 50 purchases. If you run the test correctly, you should see a p-value of 0.49 or 49%.\n",
    "\n",
    "    Given that the mean purchase price in this sample was 980, which is not very far from 1000, we probably expect this p-value to be relatively large. The only reason it COULD be small (eg., <.05) is if purchase prices had very little variation (eg., they were all within a few Rupees of 980). We can see from the data print out that this is not the case. Therefore, a p-value around 0.49 makes sense!\n",
    "    </details>\n"
   ]
  },
  {
   "cell_type": "code",
   "execution_count": null,
   "metadata": {},
   "outputs": [],
   "source": [
    "from scipy.stats import ttest_1samp\n",
    "import numpy as np\n",
    "\n",
    "prices = np.genfromtxt(\"../../data/prices.csv\")\n",
    "print(prices)\n",
    "\n",
    "prices_mean = np.mean(prices)\n",
    "print(\"mean of prices: \" + str(prices_mean))\n",
    "\n",
    "# use ttest_1samp to calculate pval\n",
    "\n",
    "# print pval"
   ]
  },
  {
   "cell_type": "markdown",
   "metadata": {},
   "source": [
    "### Solution"
   ]
  },
  {
   "cell_type": "code",
   "execution_count": null,
   "metadata": {},
   "outputs": [],
   "source": [
    "from scipy.stats import ttest_1samp\n",
    "import numpy as np\n",
    "\n",
    "prices = np.genfromtxt(\"../../data/prices.csv\")\n",
    "print(prices)\n",
    "\n",
    "prices_mean = np.mean(prices)\n",
    "print(\"mean of prices: \" + str(prices_mean))\n",
    "\n",
    "# use ttest_1samp to calculate pval\n",
    "tstat, pval = ttest_1samp(prices, 1000)\n",
    "\n",
    "# print pval\n",
    "print(pval)"
   ]
  }
 ],
 "metadata": {
  "interpreter": {
   "hash": "e7370f93d1d0cde622a1f8e1c04877d8463912d04d973331ad4851f04de6915a"
  },
  "kernelspec": {
   "display_name": "Python 3.10.2 64-bit",
   "language": "python",
   "name": "python3"
  },
  "language_info": {
   "codemirror_mode": {
    "name": "ipython",
    "version": 3
   },
   "file_extension": ".py",
   "mimetype": "text/x-python",
   "name": "python",
   "nbconvert_exporter": "python",
   "pygments_lexer": "ipython3",
   "version": "3.10.2"
  },
  "orig_nbformat": 4
 },
 "nbformat": 4,
 "nbformat_minor": 2
}

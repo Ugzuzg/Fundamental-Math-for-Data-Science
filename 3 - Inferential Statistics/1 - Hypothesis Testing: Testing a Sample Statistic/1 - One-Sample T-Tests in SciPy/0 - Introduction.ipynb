{
 "cells": [
  {
   "cell_type": "markdown",
   "metadata": {},
   "source": [
    "# Introduction\n",
    "\n",
    "In this lesson, we’ll walk through the implementation of a *one-sample t-test* in Python. One-sample t-tests are used for comparing a sample average to a hypothetical population average. For example, a one-sample t-test might be used to address questions such as:\n",
    "\n",
    "- Is the average amount of time that visitors spend on a website different from 5 minutes?\n",
    "- Is the average amount of money that customers spend on a purchase more than 10 USD?\n",
    "\n",
    "As an example, let’s imagine the fictional business BuyPie, which sends ingredients for pies to your household so that you can make them from scratch. Suppose that a product manager wants online BuyPie orders to cost around 1000 Rupees on average. In the past day, 50 people made an online purchase and the average payment per order was less than 1000 Rupees. Are people really spending less than 1000 Rupees on average? Or is this the result of chance and a small sample size?\n"
   ]
  },
  {
   "cell_type": "markdown",
   "metadata": {},
   "source": [
    "## Instructions\n",
    "\n",
    "1. We have provided a small dataset called `prices`, representing the purchase prices of customers to BuyPie.com in the past day.\n",
    "\n",
    "    First, print out `prices` to the console and examine the numbers. How much variation is there in the purchase prices? Can you estimate the mean by looking at these numbers?\n",
    "\n",
    "    <details>\n",
    "        <summary>Stuck? Get a hint</summary>\n",
    "    \n",
    "    Use `print(prices)` to print the list of prices.\n",
    "    </details>\n",
    "\n",
    "2. Calculate the mean of `prices` using `np.mean()`. Store it in a variable called `prices_mean` and print it out.\n",
    "\n",
    "    What is the average purchase price for these 50 purchases? Is it a lot less than 1000? Or only a little less?\n",
    "\n",
    "    <details>\n",
    "        <summary>Stuck? Get a hint</summary>\n",
    "    \n",
    "    Use `np.mean(prices)` to calculate the mean of prices. Save the output as `prices_mean` and print it out.\n",
    "    </details>\n"
   ]
  },
  {
   "cell_type": "code",
   "execution_count": 4,
   "metadata": {},
   "outputs": [],
   "source": [
    "import numpy as np\n",
    "\n",
    "prices = np.genfromtxt(\"../../data/prices.csv\")\n",
    "\n",
    "# print prices:\n",
    "\n",
    "# calculate prices_mean and print it out:"
   ]
  },
  {
   "cell_type": "markdown",
   "metadata": {},
   "source": [
    "### Solution"
   ]
  },
  {
   "cell_type": "code",
   "execution_count": 3,
   "metadata": {},
   "outputs": [
    {
     "name": "stdout",
     "output_type": "stream",
     "text": [
      "[ 978. 1080.  999.  855. 1105.  961.  899. 1061.  880. 1455.  505.  936.\n",
      " 1024.  982.  840.  930.  829.  504.  955. 1380. 1361. 1130.  946.  973.\n",
      " 1076. 1131.  810.  734. 1275.  867.  962.  865.  709. 1216.  735.  768.\n",
      "  757. 1060.  715.  839.  999. 1259. 1194. 1082. 1129. 1255.  931. 1236.\n",
      "  921.  907.]\n",
      "980.0\n"
     ]
    }
   ],
   "source": [
    "import numpy as np\n",
    "\n",
    "prices = np.genfromtxt(\"../../data/prices.csv\")\n",
    "\n",
    "# print prices:\n",
    "print(prices)\n",
    "\n",
    "# calculate prices_mean and print it out:\n",
    "prices_mean = np.mean(prices)\n",
    "print(prices_mean)"
   ]
  }
 ],
 "metadata": {
  "interpreter": {
   "hash": "e7370f93d1d0cde622a1f8e1c04877d8463912d04d973331ad4851f04de6915a"
  },
  "kernelspec": {
   "display_name": "Python 3.10.2 64-bit",
   "language": "python",
   "name": "python3"
  },
  "language_info": {
   "codemirror_mode": {
    "name": "ipython",
    "version": 3
   },
   "file_extension": ".py",
   "mimetype": "text/x-python",
   "name": "python",
   "nbconvert_exporter": "python",
   "pygments_lexer": "ipython3",
   "version": "3.10.2"
  },
  "orig_nbformat": 4
 },
 "nbformat": 4,
 "nbformat_minor": 2
}

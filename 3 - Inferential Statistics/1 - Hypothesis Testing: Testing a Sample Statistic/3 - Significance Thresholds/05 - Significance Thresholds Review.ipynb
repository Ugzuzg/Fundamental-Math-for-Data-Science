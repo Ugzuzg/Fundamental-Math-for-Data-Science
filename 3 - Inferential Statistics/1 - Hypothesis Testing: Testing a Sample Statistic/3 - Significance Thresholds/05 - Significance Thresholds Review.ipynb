{
 "cells": [
  {
   "cell_type": "markdown",
   "metadata": {},
   "source": [
    "# Significance Thresholds Review\n",
    "\n",
    "Excellent work! In this lesson you have:\n",
    "\n",
    "- Learned to interpret a p-value using a significance threshold\n",
    "- Explored type I and type II errors in hypothesis testing\n",
    "- Shown that the significance threshold for a hypothesis test is equal to the type I error rate\n",
    "- Seen how multiple hypothesis tests lead to an increased probability of a type I error\n",
    "\n",
    "In the workspace, we’ve borrowed a [comic strip from xkcd](https://xkcd.com/882/) that describes (with a little humor!) the problem of multiple hypothesis tests. The initial question asked in the comic is whether or not there is a link between jelly beans and acne. At first, scientists find no link — but then they run 20 more hypothesis tests looking for a link between specific colors of jelly beans and acne. One of those tests results in a significant p-value — and the final panel of the comic shows that this one test is the only test that gets published. The comic perfectly describes how running multiple hypothesis tests and only reporting significant results is extremely problematic. This has contributed to the *reproducibility crisis* in statistics. At a .05 significance level, approximately 5% of hypothesis tests will result in a false positive; but if we only report those false positives, we end up with a lot of published results that can’t be replicated.\n"
   ]
  },
  {
   "cell_type": "markdown",
   "metadata": {},
   "source": [
    "![](https://imgs.xkcd.com/comics/significant.png)\n",
    "\n",
    "'So, uh, we did the green study again and got no link. It was probably a--' 'RESEARCH CONFLICTED ON GREEN JELLY BEAN/ACNE LINK; MORE STUDY RECOMMENDED!'"
   ]
  }
 ],
 "metadata": {
  "interpreter": {
   "hash": "e7370f93d1d0cde622a1f8e1c04877d8463912d04d973331ad4851f04de6915a"
  },
  "kernelspec": {
   "display_name": "Python 3.10.2 64-bit",
   "language": "python",
   "name": "python3"
  },
  "language_info": {
   "name": "python",
   "version": "3.10.2"
  },
  "orig_nbformat": 4
 },
 "nbformat": 4,
 "nbformat_minor": 2
}

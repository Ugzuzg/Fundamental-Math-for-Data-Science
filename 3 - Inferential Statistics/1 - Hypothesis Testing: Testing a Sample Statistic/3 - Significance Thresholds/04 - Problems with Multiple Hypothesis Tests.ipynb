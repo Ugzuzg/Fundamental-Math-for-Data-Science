{
 "cells": [
  {
   "cell_type": "markdown",
   "metadata": {},
   "source": [
    "# Problems with Multiple Hypothesis Tests\n",
    "\n",
    "While significance thresholds allow a data scientist to control the false positive rate for a single hypothesis test, this starts to break when performing multiple tests as part of a single study.\n",
    "\n",
    "For example, suppose that we are writing a quiz at codecademy that is going to include 10 questions. For each question, we want to know whether the probability of a learner answering the question correctly is different from 70%. We now have to run 10 hypothesis tests, one for each question.\n",
    "\n",
    "If the null hypothesis is true for every hypothesis test (the probability of a correct answer is 70% for every question) and we use a .05 significance level for each test, then:\n",
    "\n",
    "- When we run a hypothesis test for a single question, we have a 95% chance of getting the right answer (a p-value > 0.05) — and a 5% chance of making a type I error.\n",
    "\n",
    "- When we run hypothesis tests for two questions, we have only a 90% chance of getting the right answer for both hypothesis tests (.95*.95 = 0.90) — and a 10% chance of making at least one type I error.\n",
    "\n",
    "- When we run hypothesis tests for all 10 questions, we have a 60% chance of getting the right answer for all ten hypothesis tests (0.95^10 = 0.60) — and a 40% chance of making at least one type I error.\n",
    "\n",
    "To address this problem, it is important to plan research out ahead of time: decide what questions you want to address and figure out how many hypothesis tests you need to run. When running multiple tests, use a lower significance threshold (eg., 0.01) for each test to reduce the probability of making a type I error.\n"
   ]
  },
  {
   "cell_type": "markdown",
   "metadata": {},
   "source": [
    "## Instructions\n",
    "\n",
    "1. In the workspace, code has been provided to create a graph that shows the probability of making at least one type I error among some number of tests with a significance threshold of 0.05.\n",
    "\n",
    "    Approximately how many tests would we have to run at a 0.05 significance level so that the probability of at least one type I error would be 50%? Save your answer as the variable num_tes`ts_50percent (note: this can be approximate; it does not need to be exact!)\n",
    "    \n",
    "    <details>\n",
    "        <summary>Stuck? Get a hint</summary>\n",
    "    \n",
    "    Fill in the following code:\n",
    "    \n",
    "    ```python\n",
    "    num_tests_50percent = _____\n",
    "    ```\n",
    "    </details>\n",
    "\n",
    "2. Change the code to create the plot so that it shows the probability of at least one type I error for multiple tests with a significance threshold of 0.10 (instead of 0.05).\n",
    "\n",
    "    Inspect your new plot. Now how many tests would lead to a probability of a type I error of 50%?\n",
    "\n",
    "    <details>\n",
    "        <summary>Stuck? Get a hint</summary>\n",
    "    \n",
    "    Alter the `sig_threshold` variable to reflect a significance threshold of 0.10:\n",
    "\n",
    "    ```python\n",
    "    sig_threshold = ______\n",
    "    ```\n",
    "    </details>"
   ]
  },
  {
   "cell_type": "code",
   "execution_count": 1,
   "metadata": {},
   "outputs": [
    {
     "data": {
      "image/png": "[encoded data removed]",
      "text/plain": [
       "<Figure size 432x288 with 1 Axes>"
      ]
     },
     "metadata": {
      "needs_background": "light"
     },
     "output_type": "display_data"
    }
   ],
   "source": [
    "# Import libraries\n",
    "import numpy as np\n",
    "import matplotlib.pyplot as plt\n",
    "\n",
    "# Set a correct value for num_tests_50percent\n",
    "num_tests_50percent = None\n",
    "\n",
    "\n",
    "# Create the plot\n",
    "sig_threshold = 0.05\n",
    "num_tests = np.array(range(50))\n",
    "probabilities = 1-((1-sig_threshold)**num_tests)\n",
    "plt.plot(num_tests, probabilities)\n",
    "\n",
    "# Edit title and axis labels\n",
    "plt.title('Type I Error Rate for Multiple Tests', fontsize=15)\n",
    "# Label the y-axis\n",
    "plt.ylabel('Probability of at Least One Type I Error', fontsize=12)\n",
    "# Label the x-axis\n",
    "plt.xlabel('Number of Tests', fontsize=12)\n",
    "\n",
    "# Show the plot                \n",
    "plt.show()"
   ]
  }
 ],
 "metadata": {
  "interpreter": {
   "hash": "e7370f93d1d0cde622a1f8e1c04877d8463912d04d973331ad4851f04de6915a"
  },
  "kernelspec": {
   "display_name": "Python 3.10.2 64-bit",
   "language": "python",
   "name": "python3"
  },
  "language_info": {
   "codemirror_mode": {
    "name": "ipython",
    "version": 3
   },
   "file_extension": ".py",
   "mimetype": "text/x-python",
   "name": "python",
   "nbconvert_exporter": "python",
   "pygments_lexer": "ipython3",
   "version": "3.10.2"
  },
  "orig_nbformat": 4
 },
 "nbformat": 4,
 "nbformat_minor": 2
}

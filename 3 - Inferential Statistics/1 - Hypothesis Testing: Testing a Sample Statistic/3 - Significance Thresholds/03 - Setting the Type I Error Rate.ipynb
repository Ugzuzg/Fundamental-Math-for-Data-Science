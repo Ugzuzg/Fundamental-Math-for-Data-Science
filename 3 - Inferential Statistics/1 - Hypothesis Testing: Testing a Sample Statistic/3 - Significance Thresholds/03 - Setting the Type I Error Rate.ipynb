{
 "cells": [
  {
   "cell_type": "markdown",
   "metadata": {},
   "source": [
    "# Setting the Type I Error Rate\n",
    "\n",
    "It turns out that, when we run a hypothesis test with a significance threshold, the significance threshold is equal to the type I error (false positive) rate for the test. To see this, we can use a simulation.\n",
    "\n",
    "Recall our quiz question example: the null hypothesis is that the probability of getting a quiz question correct is equal to 70%. We’ll make a type I error if the null hypothesis is correct (the true probability of a correct answer is 70%), but we get a significant p-value anyways.\n",
    "\n",
    "Now, consider the following simulation code:\n",
    "\n",
    "```python\n",
    "false_positives = 0\n",
    "sig_threshold = 0.05\n",
    " \n",
    "for i in range(1000):\n",
    "    sim_sample = np.random.choice(['correct', 'incorrect'], size=100, p=[0.7, 0.3])\n",
    "    num_correct = np.sum(sim_sample == 'correct')\n",
    "    p_val = binom_test(num_correct, 100, 0.7)\n",
    "    if p_val < sig_threshold:\n",
    "        false_positives += 1\n",
    " \n",
    "print(false_positives/1000) #Output: 0.0512\n",
    "```\n",
    "\n",
    "This code does the following:\n",
    "\n",
    "- Set the significance threshold equal to 0.05 and a counter for false positives equal to zero.\n",
    "- Repeat these steps 1000 times:\n",
    "    - Simulate 100 learners, where each learner has a 70% chance of answering a quiz question correctly.\n",
    "    - Calculate the number of simulated learners who answered the question correctly. Note that, because each learner has a 70% chance of answering correctly, this number will likely be around 70, but will vary every time by random chance.\n",
    "    - Run a binomial test for the simulated sample where the null hypothesis is that the probability of a correct answer is 70% (0.7). Note that, every time we run this test, the null hypothesis is true because we simulated our data so that the probability of a correct answer is 70%.\n",
    "    - Add 1 to our false positives counter every time we make a type I error (the p-value is significant).\n",
    "- Print the proportion of our 1000 tests (on simulated samples) that resulted in a false positive.\n",
    "\n",
    "Note that the proportion of false positive tests is very similar to the value of the significance threshold (0.05).\n"
   ]
  },
  {
   "cell_type": "markdown",
   "metadata": {},
   "source": [
    "## Instructions\n",
    "\n",
    "1. The code from the narrative has been provided for you in script.py with one small change: the code to create `sim_sample` has been altered so that the simulated learners each have an 80% chance of answering the question correctly. Change the call to `binom_test()` so that, for each simulated dataset, you’re running a binomial test where the **null hypothesis is true**. Press “Run”.\n",
    "\n",
    "    If you’ve done this correctly, you should see that the proportion of tests resulting in a false positive is close to the significance threshold (0.05).\n",
    "\n",
    "    <details>\n",
    "        <summary>Stuck? Get a hint</summary>\n",
    "    \n",
    "    The third input to `binom_test()` is the null probability of “success” (in this case, the null probability of a correct answer). We want this to be equal to the true probability of a correct answer, which we’ve defined in our call to `np.random.choice()` when creating `sim_sample`.\n",
    "    </details>\n",
    "\n",
    "2. Now, change the significance threshold to `0.01` and press “Run”.\n",
    "\n",
    "    Note that the proportion of simulations that result in a type I error should now be close to 0.01.\n",
    "    \n",
    "    <details>\n",
    "        <summary>Stuck? Get a hint</summary>\n",
    "    \n",
    "    Fill in the following code\n",
    "    \n",
    "    ```python\n",
    "    sig_threshold = _____\n",
    "    ```\n",
    "    </details>"
   ]
  },
  {
   "cell_type": "code",
   "execution_count": null,
   "metadata": {},
   "outputs": [],
   "source": [
    "# Import libraries\n",
    "import numpy as np\n",
    "from scipy.stats import binom_test\n",
    "\n",
    "# Initialize num_errors\n",
    "false_positives = 0\n",
    "# Set significance threshold value\n",
    "sig_threshold = 0.05\n",
    "\n",
    "# Run binomial tests & record errors\n",
    "for i in range(1000):\n",
    "    sim_sample = np.random.choice(['correct', 'incorrect'], size=100, p=[0.8, 0.2])\n",
    "    num_correct = np.sum(sim_sample == 'correct')\n",
    "    p_val = binom_test(num_correct, 100, .7)\n",
    "    if p_val < sig_threshold:\n",
    "        false_positives += 1\n",
    "\n",
    "# Print proportion of type I errors \n",
    "print(false_positives/1000)"
   ]
  },
  {
   "cell_type": "markdown",
   "metadata": {},
   "source": [
    "### Solution"
   ]
  },
  {
   "cell_type": "code",
   "execution_count": null,
   "metadata": {},
   "outputs": [],
   "source": [
    "# Import libraries\n",
    "import numpy as np\n",
    "from scipy.stats import binom_test\n",
    "\n",
    "# Initialize num_errors\n",
    "false_positives = 0\n",
    "# Set significance threshold value\n",
    "sig_threshold = 0.01\n",
    "\n",
    "# Run binomial tests & record errors\n",
    "for i in range(1000):\n",
    "    sim_sample = np.random.choice(['correct', 'incorrect'], size=100, p=[0.8, 0.2])\n",
    "    num_correct = np.sum(sim_sample == 'correct')\n",
    "    p_val = binom_test(num_correct, 100, .8)\n",
    "    if p_val < sig_threshold:\n",
    "        false_positives += 1\n",
    "\n",
    "# Print proportion of type I errors \n",
    "print(false_positives/1000)"
   ]
  }
 ],
 "metadata": {
  "interpreter": {
   "hash": "e7370f93d1d0cde622a1f8e1c04877d8463912d04d973331ad4851f04de6915a"
  },
  "kernelspec": {
   "display_name": "Python 3.10.2 64-bit",
   "language": "python",
   "name": "python3"
  },
  "language_info": {
   "codemirror_mode": {
    "name": "ipython",
    "version": 3
   },
   "file_extension": ".py",
   "mimetype": "text/x-python",
   "name": "python",
   "nbconvert_exporter": "python",
   "pygments_lexer": "ipython3",
   "version": "3.10.2"
  },
  "orig_nbformat": 4
 },
 "nbformat": 4,
 "nbformat_minor": 2
}

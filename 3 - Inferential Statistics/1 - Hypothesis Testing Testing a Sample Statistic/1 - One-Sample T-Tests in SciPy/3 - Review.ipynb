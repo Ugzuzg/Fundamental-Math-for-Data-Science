{
 "cells": [
  {
   "cell_type": "markdown",
   "metadata": {},
   "source": [
    "# Review\n",
    "\n",
    "Congratulations! You now know how to implement a one-sample t-test in Python and verify the assumptions of the test. To recap, here are some of the things you learned:\n",
    "\n",
    "- One-sample t-tests are used for comparing a sample mean to an expected population mean\n",
    "- A one-sample t-test can be implemented in Python using the SciPy `ttest_1samp()` function\n",
    "- Assumptions of a one-sample t-test include:\n",
    "    - The sample was randomly drawn from the population of interest\n",
    "    - The observations in the sample are independent\n",
    "    - The sample size is large “enough” or the sample data is normally distributed\n"
   ]
  },
  {
   "cell_type": "markdown",
   "metadata": {},
   "source": [
    "## Instructions\n",
    "\n",
    "As a final exercise, some data has been loaded for you with purchase prices for consecutive days at BuyPie. You can access the first day using `daily_prices[0]`, the second using `daily_prices[1]`, etc.. To practice running a one-sample t-test and inspecting the resulting p-value, try the following:\n",
    "\n",
    "1. Calculate and print out a p-value for day 1 where the null hypothesis is that the average purchase price was 1000 Rupees and the alternative hypothesis is that the average purchase price was **not** 1000 Rupees. Print out the p-value.\n",
    "\n",
    "2. Run the same hypothesis tests for days 1-10 (the fastest way to do this is with a for-loop!) and print out the resulting p-values. What’s the smallest p-value you observe for those 10 days?\n",
    "\n",
    "3. Try changing the null hypothesis so that the expected population mean that you’re testing against is **different** from 1000. Try any numbers that you want. How do your p-values change?"
   ]
  },
  {
   "cell_type": "code",
   "execution_count": null,
   "metadata": {},
   "outputs": [],
   "source": [
    "from scipy.stats import ttest_1samp\n",
    "import numpy as np\n",
    "\n",
    "daily_prices = np.genfromtxt(\"../../data/daily_prices.csv\", delimiter=\",\")"
   ]
  },
  {
   "cell_type": "markdown",
   "metadata": {},
   "source": [
    "### Solution"
   ]
  },
  {
   "cell_type": "code",
   "execution_count": null,
   "metadata": {},
   "outputs": [],
   "source": [
    "from scipy.stats import ttest_1samp\n",
    "import numpy as np\n",
    "\n",
    "daily_prices = np.genfromtxt(\"../../data/daily_prices.csv\", delimiter=\",\")\n",
    "\n",
    "# day 1:\n",
    "tstat, pval = ttest_1samp(daily_prices[0], 1000)\n",
    "print(\"day 1 p-value:\")\n",
    "print(pval)\n",
    "\n",
    "# 10 days:\n",
    "for i in range(10):\n",
    "  tstat, pval = ttest_1samp(daily_prices[i], 1000)\n",
    "  print(\"day\",i+1, \"p-value:\")\n",
    "  print(pval)\n",
    "\n",
    "# 10 days with a different null hypothesis\n",
    "print(\"day 1-10 with a different alternative hypothesis:\")\n",
    "for i in range(10):\n",
    "  tstat, pval = ttest_1samp(daily_prices[i], 950)\n",
    "  print(\"day\",i+1, \"p-value:\")\n",
    "  print(pval)\n",
    "\n"
   ]
  }
 ],
 "metadata": {
  "interpreter": {
   "hash": "e7370f93d1d0cde622a1f8e1c04877d8463912d04d973331ad4851f04de6915a"
  },
  "kernelspec": {
   "display_name": "Python 3.10.2 64-bit",
   "language": "python",
   "name": "python3"
  },
  "language_info": {
   "codemirror_mode": {
    "name": "ipython",
    "version": 3
   },
   "file_extension": ".py",
   "mimetype": "text/x-python",
   "name": "python",
   "nbconvert_exporter": "python",
   "pygments_lexer": "ipython3",
   "version": "3.10.2"
  },
  "orig_nbformat": 4
 },
 "nbformat": 4,
 "nbformat_minor": 2
}

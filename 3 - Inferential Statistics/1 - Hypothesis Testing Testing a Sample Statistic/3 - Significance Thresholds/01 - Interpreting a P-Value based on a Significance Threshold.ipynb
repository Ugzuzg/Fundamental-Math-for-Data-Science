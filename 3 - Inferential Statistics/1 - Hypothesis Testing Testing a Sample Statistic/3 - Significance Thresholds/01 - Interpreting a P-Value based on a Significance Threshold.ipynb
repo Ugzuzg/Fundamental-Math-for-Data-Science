{
 "cells": [
  {
   "cell_type": "markdown",
   "metadata": {},
   "source": [
    "# Interpreting a P-Value based on a Significance Threshold\n",
    "\n",
    "Let’s return to the quiz question example from the previous exercise — we want to remove our quiz question from our website if the probability of a correct response is different from 70%. Suppose we collected data from 100 learners and ran a binomial hypothesis test with the following null and alternative hypotheses:\n",
    "\n",
    "- Null: The probability that a learner gets the question correct is 70%.\n",
    "- Alternative: The probability that a learner gets the question correct is **not** 70%.\n",
    "\n",
    "Assuming that we set a *significance threshold* of 0.05 for this test:\n",
    "\n",
    "- If the p-value is less than 0.05, the p-value is significant. We will “reject the null hypothesis” and conclude that the probability of a correct answer is significantly different from 70%. This would lead us to re-rewrite the question.\n",
    "- If the p-value is greater than 0.05, the p-value is not significant. We will not be able to reject the null hypothesis, and will conclude that the probability of a correct answer is not significantly different from 70%. This would lead us to leave the question on the site.\n",
    "\n"
   ]
  },
  {
   "cell_type": "markdown",
   "metadata": {},
   "source": [
    "## Instructions\n",
    "\n",
    "1. Suppose that we ran the binomial hypothesis test described in this exercise and calculated a p-value of 0.062. Using a significance threshold of 0.05, should we remove the question from our site? Change the value of `remove_question_1` to `'yes'` or `'no'` to indicate your answer.\n",
    "\n",
    "    <details>\n",
    "        <summary>Stuck? Get a hint</summary>\n",
    "    \n",
    "    If the p-value is significant (less than 0.05), then the correct response rate is significantly different from 70% and we want to remove the question from the site. If the p-value is not significant (greater than 0.05), the response rate is not significantly different from 70% and the question can stay.\n",
    "\n",
    "    Choose a value for `remove_question_1`:\n",
    "\n",
    "    ```python\n",
    "    remove_question_1 = 'yes'\n",
    "    ```\n",
    "\n",
    "    OR\n",
    "\n",
    "    ```python\n",
    "    remove_question_1 = 'no'\n",
    "    ```\n",
    "    </details>\n",
    "\n",
    "2. We ran the same hypothesis test for a different question and calculated a p-value of 0.013. Again using a significance threshold of 0.05, should we remove this question from our site? Change the value of `remove_question_2` to `'yes'` or `'no'` to indicate your answer.\n",
    "\n",
    "    <details>\n",
    "        <summary>Stuck? Get a hint</summary>\n",
    "    \n",
    "    If the p-value is significant (less than 0.05), then the correct response rate is significantly different from 70% and we want to remove the question from the site. If the p-value is not significant (greater than 0.05), the response rate is not significantly different from 70% and the question can stay.\n",
    "    </details>\n"
   ]
  },
  {
   "cell_type": "code",
   "execution_count": null,
   "metadata": {},
   "outputs": [],
   "source": [
    "# P-Value for first Hypothesis Test\n",
    "p_value1 = .062\n",
    "# Set the correct value for remove_question_1\n",
    "remove_question_1 = None\n",
    "\n",
    "# P-Value for second Hypothesis Test\n",
    "p_value2 = 0.013\n",
    "# Set the correct value for remove_question_2\n",
    "remove_question_2 = None"
   ]
  },
  {
   "cell_type": "markdown",
   "metadata": {},
   "source": [
    "### Solution"
   ]
  },
  {
   "cell_type": "code",
   "execution_count": null,
   "metadata": {},
   "outputs": [],
   "source": [
    "# P-Value for first Hypothesis Test\n",
    "p_value1 = .062\n",
    "# Set the correct value for remove_question_1\n",
    "remove_question_1 = 'no'\n",
    "\n",
    "# P-Value for second Hypothesis Test\n",
    "p_value2 = 0.013\n",
    "# Set the correct value for remove_question_2\n",
    "remove_question_2 = 'yes'"
   ]
  }
 ],
 "metadata": {
  "interpreter": {
   "hash": "e7370f93d1d0cde622a1f8e1c04877d8463912d04d973331ad4851f04de6915a"
  },
  "kernelspec": {
   "display_name": "Python 3.10.2 64-bit",
   "language": "python",
   "name": "python3"
  },
  "language_info": {
   "name": "python",
   "version": "3.10.2"
  },
  "orig_nbformat": 4
 },
 "nbformat": 4,
 "nbformat_minor": 2
}

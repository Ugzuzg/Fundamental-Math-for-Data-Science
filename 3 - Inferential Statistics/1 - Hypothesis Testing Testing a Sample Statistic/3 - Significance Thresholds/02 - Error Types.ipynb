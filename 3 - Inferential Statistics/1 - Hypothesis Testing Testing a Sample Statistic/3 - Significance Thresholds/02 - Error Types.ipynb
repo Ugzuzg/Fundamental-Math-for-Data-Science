{
 "cells": [
  {
   "cell_type": "markdown",
   "metadata": {},
   "source": [
    "# Error Types\n",
    "\n",
    "Whenever we run a hypothesis test using a significance threshold, we expose ourselves to making two different kinds of mistakes: *type I errors* (false positives) and *type II errors* (false negatives):\n",
    "\n",
    "| Null hypothesis: | is true | is false |\n",
    "| -- | -- | -- |\n",
    "| P-value significant | Type I Error | Correct! |\n",
    "| P-value not significant | Correct! | Type II error |\n",
    "\n",
    "Consider the quiz question hypothesis test described in the previous exercises:\n",
    "\n",
    "- Null: The probability that a learner answers a question correctly is 70%.\n",
    "- Alternative: The probability that a learner answers a question correctly is **not** 70%.\n",
    "\n",
    "Suppose, for a moment, that the true probability of a learner answering the question correctly **is** 70% (if we showed the question to ALL learners, exactly 70% would answer it correctly). This puts us in the first column of the table above (the null hypothesis “is true”). If we run a test and calculate a significant p-value, we will make type I error (also called a false positive because the p-value is falsely significant), leading us to remove the question when we don’t need to.\n",
    "\n",
    "On the other hand, if the true probability of getting the question correct **is not** 70%, the null hypothesis “is false” (the right-most column of our table). If we run a test and calculate a non-significant p-value, we make a type II error, leading us to leave the question on our site when we should have taken it down.\n"
   ]
  },
  {
   "cell_type": "markdown",
   "metadata": {},
   "source": [
    "## Instructions\n",
    "\n",
    "1. Suppose that the average score on a standardized test is 50 points. A researcher wants to know whether students who take this test in an ergonomically designed chair score significantly differently from the general population of test-takers. The researcher randomly assigns 100 students to take the test in an ergonomic chair. Then, the researcher runs a hypothesis test with a significance threshold of 0.05 and the following null and alternative hypotheses:\n",
    "\n",
    "    - Null: The mean score for students who take the test in an ergonomic chair **is** 50 points.\n",
    "    - Alternative: The mean score for students who take the test in an ergonomic chair **is not** 50 points.\n",
    "\n",
    "    Suppose that the truth (which the researcher doesn’t know) is: if every student took the test in an ergonomic chair, the average score for all test-takers would be 52 points.\n",
    "\n",
    "    Based on their sample of only 100 students, the researcher calculates a p-value of 0.07. In script.py, change the value of outcome to:\n",
    "\n",
    "    - `'correct'` if the researcher will come to the *correct* conclusion based on this test\n",
    "    - `'type one'` if the researcher will make a *type I error* based on this test\n",
    "    - `'type two'` if the researcher will make a *type II error* based on this test\n",
    "\n",
    "    <details>\n",
    "        <summary>Stuck? Get a hint</summary>\n",
    "    \n",
    "    Note that the true average score for students who take the test in an ergonomic chair is 52 points. The null hypothesis for our test is that the average score is 50 points. Therefore, the researcher is running a hypothesis test where the null hypothesis is false. A p-value of 0.07 is greater than the significance threshold, and would lead the researcher to conclude (incorrectly) that the average score for students in an ergonomic chair is not significantly different from 50 points.\n",
    "    </details>\n"
   ]
  },
  {
   "cell_type": "code",
   "execution_count": null,
   "metadata": {},
   "outputs": [],
   "source": [
    "# Set the correct value for outcome\n",
    "outcome = None"
   ]
  },
  {
   "cell_type": "markdown",
   "metadata": {},
   "source": [
    "### Solution"
   ]
  },
  {
   "cell_type": "code",
   "execution_count": null,
   "metadata": {},
   "outputs": [],
   "source": [
    "# Set the correct value for outcome\n",
    "outcome = 'type two'"
   ]
  }
 ],
 "metadata": {
  "interpreter": {
   "hash": "e7370f93d1d0cde622a1f8e1c04877d8463912d04d973331ad4851f04de6915a"
  },
  "kernelspec": {
   "display_name": "Python 3.10.2 64-bit",
   "language": "python",
   "name": "python3"
  },
  "language_info": {
   "name": "python",
   "version": "3.10.2"
  },
  "orig_nbformat": 4
 },
 "nbformat": 4,
 "nbformat_minor": 2
}

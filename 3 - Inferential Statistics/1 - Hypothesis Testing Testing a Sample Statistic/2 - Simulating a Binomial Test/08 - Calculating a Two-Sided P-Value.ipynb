{
 "cells": [
  {
   "cell_type": "markdown",
   "metadata": {},
   "source": [
    "# Calculating a Two-Sided P-Value\n",
    "\n",
    "In the previous exercise, we calculated a one-sided p-value. In this exercise, we’ll estimate a p-value for a 2-sided test, which is the default setting for many functions in Python (and other languages, like R!).\n",
    "\n",
    "In our 10-coin-flip experiment, remember that we observed 2 heads, which is 3 less than the expected value of 5 (50% of 10) if the null hypothesis is true. The two sided test focuses on the number of heads being three **different** from expectation, rather than just **less than**. The hypothesis test now asks the following question:\n",
    "\n",
    "Suppose that the true probability of heads is 50%. What is the probability of observing **either** two or fewer heads OR eight or more heads? (Note that two and eight are both three away from five). The calculation now estimates the proportion of the null histogram that is colored in red:\n",
    "\n",
    "![null distribution for 10 coin flips with a probability of heads equal to 0.5, and all bars above x-values <=2 or >=8 are shaded red, illustrating a two-sided hypothesis test](../../assets/two_sided_coin_flip.svg)\n",
    "\n",
    "This proportion can be calculated in Python as follows. Note that the `|` symbol is similar to `'or'`, but works for comparing multiple values at once.\n",
    "\n",
    "```python\n",
    "import numpy as np\n",
    "outcomes = np.array(outcomes)\n",
    "p_value = np.sum((outcomes <= 2) | (outcomes >= 8))/len(outcomes)\n",
    "print(p_value) #output: 0.12\n",
    "```\n",
    "\n",
    "We end up with a p-value that is twice as large as the one-sided p-value.\n"
   ]
  },
  {
   "cell_type": "markdown",
   "metadata": {},
   "source": [
    "## Instructions\n",
    "\n",
    "1. The code you wrote to generate `null_outcomes` is available to you in script.py. Use `null_outcomes` to calculate the p-value for a two-sided test (alternative hypothesis is that the purchase probability was DIFFERENT FROM 10%). Remember that, if the purchase rate is 10%, we expect 50 of the 500 visitors to make a purchase.\n",
    "\n",
    "    In other words, calculate the proportion of values in `null_outcomes` that are less than or equal to 41 (the number of purchases we observed in our sample, which is 9 fewer than 50) OR greater than or equal to 59 (which is 9 purchases more than 50). Save this number as a variable named `p_value` and print it out.\n",
    "\n",
    "    Again, try pressing run a few times to observe a few different estimates of `p_value`. What do you think the true p-value is for this test?\n",
    "\n",
    "    <details>\n",
    "        <summary>Stuck? Get a hint</summary>\n",
    "    \n",
    "    The p-value should be around 0.20.\n",
    "\n",
    "    Fill in the following code:\n",
    "\n",
    "    ```python\n",
    "    null_outcomes = np.array(null_outcomes)\n",
    "    p_value = np.sum((null_outcomes <= ___) | (null_outcomes >= ___))/len(null_outcomes)\n",
    "    print(p_value)\n",
    "    ```\n",
    "    </details>"
   ]
  },
  {
   "cell_type": "code",
   "execution_count": null,
   "metadata": {},
   "outputs": [],
   "source": [
    "import numpy as np\n",
    "import pandas as pd\n",
    "\n",
    "null_outcomes = []\n",
    "\n",
    "for i in range(10000):\n",
    "  simulated_monthly_visitors = np.random.choice(['y', 'n'], size=500, p=[0.1, 0.9])\n",
    "\n",
    "  num_purchased = np.sum(simulated_monthly_visitors == 'y')\n",
    "\n",
    "  null_outcomes.append(num_purchased)\n",
    "\n",
    "#calculate the p-value here:\n",
    "\n"
   ]
  },
  {
   "cell_type": "markdown",
   "metadata": {},
   "source": [
    "### Solution"
   ]
  },
  {
   "cell_type": "code",
   "execution_count": 1,
   "metadata": {},
   "outputs": [
    {
     "name": "stdout",
     "output_type": "stream",
     "text": [
      "0.2071\n"
     ]
    }
   ],
   "source": [
    "import numpy as np\n",
    "import pandas as pd\n",
    "\n",
    "null_outcomes = []\n",
    "\n",
    "for i in range(10000):\n",
    "  simulated_monthly_visitors = np.random.choice(['y', 'n'], size=500, p=[0.1, 0.9])\n",
    "\n",
    "  num_purchased = np.sum(simulated_monthly_visitors == 'y')\n",
    "\n",
    "  null_outcomes.append(num_purchased)\n",
    "\n",
    "#calculate the p-value here:\n",
    "null_outcomes = np.array(null_outcomes)\n",
    "p_value = np.sum((null_outcomes <= 41) | (null_outcomes >= 59))/len(null_outcomes)\n",
    "print(p_value)"
   ]
  }
 ],
 "metadata": {
  "interpreter": {
   "hash": "e7370f93d1d0cde622a1f8e1c04877d8463912d04d973331ad4851f04de6915a"
  },
  "kernelspec": {
   "display_name": "Python 3.10.2 64-bit",
   "language": "python",
   "name": "python3"
  },
  "language_info": {
   "codemirror_mode": {
    "name": "ipython",
    "version": 3
   },
   "file_extension": ".py",
   "mimetype": "text/x-python",
   "name": "python",
   "nbconvert_exporter": "python",
   "pygments_lexer": "ipython3",
   "version": "3.10.2"
  },
  "orig_nbformat": 4
 },
 "nbformat": 4,
 "nbformat_minor": 2
}

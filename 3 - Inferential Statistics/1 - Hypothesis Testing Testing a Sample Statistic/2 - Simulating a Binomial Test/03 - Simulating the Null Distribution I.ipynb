{
 "cells": [
  {
   "cell_type": "markdown",
   "metadata": {},
   "source": [
    "# Simulating the Null Distribution I\n",
    "\n",
    "The first step in running a hypothesis test is to form a *null hypothesis*. For the question of whether the purchase rate at Live-it-LIVE.com was different from 10% this month, the null hypothesis describes a world in which the true probability of a visitor making a purchase was exactly 10%, but by random chance, we observed that only 41 visitors (8.2%) made a purchase.\n",
    "\n",
    "Let’s return to the coin flip example from the previous exercise. We can simulate 10 coin flips and print out the number of those flips that came up heads using the following code:\n",
    "\n",
    "```python\n",
    "flips = np.random.choice(['heads', 'tails'], size=10, p=[0.5, 0.5])\n",
    "num_heads = np.sum(flips == 'heads')\n",
    "print(num_heads)\n",
    "## output: 4\n",
    "```\n",
    "\n",
    "If we run this code a few times, we’ll likely see different results each time. This will give us get a sense for the range in the number of heads that could occur by random chance, even if the coin is fair. We’re more likely to see numbers like four, five, or six, but maybe we’ll see something more extreme every once in a while — ten heads in a row, or even zero!\n"
   ]
  },
  {
   "cell_type": "markdown",
   "metadata": {},
   "source": [
    "## Instructions\n",
    "\n",
    "1. In script.py, you’ll see the code we used in the previous exercise to generate `simulated_monthly_visitors`, a list of 500 simulated outcomes, `'y'` (with probability 0.1) or `'n'`, indicating whether each imaginary site visitor made a purchase.\n",
    "\n",
    "    Add a line of code to calculate the number of those simulated visitors who made a purchase. Save the result as `num_purchased` and print it out.\n",
    "\n",
    "    <details>\n",
    "        <summary>Stuck? Get a hint</summary>\n",
    "    \n",
    "    Fill in the following code:\n",
    "\n",
    "    ```python\n",
    "    num_purchased = np.sum(simulated_monthly_visitors == ___)\n",
    "    print(num_purchased)\n",
    "    ```\n",
    "    </details>\n",
    "\n",
    "2. Inspect the value of `num_purchased` from the previous instruction. Is it close to 50 (which is what we would expect for a purchase probability of 10%)? Less than? Greater than? Now try pressing “Run” a few more times and see what other values of `num_purchased` you observe. What’s the farthest number from 50 that you observe after pressing “Run” 5 times?\n"
   ]
  },
  {
   "cell_type": "code",
   "execution_count": 1,
   "metadata": {},
   "outputs": [],
   "source": [
    "import numpy as np\n",
    "import pandas as pd\n",
    "\n",
    "monthly_report = pd.read_csv('../../data/monthly_report.csv')\n",
    "\n",
    "#simulate 500 visitors:\n",
    "simulated_monthly_visitors = np.random.choice(['y', 'n'], size=500, p=[0.1, 0.9])\n",
    "\n",
    "#calculate the number of simulated visitors who made a purchase:\n"
   ]
  },
  {
   "cell_type": "markdown",
   "metadata": {},
   "source": [
    "### Solution"
   ]
  },
  {
   "cell_type": "code",
   "execution_count": null,
   "metadata": {},
   "outputs": [],
   "source": [
    "import numpy as np\n",
    "import pandas as pd\n",
    "\n",
    "monthly_report = pd.read_csv('../../data/monthly_report.csv')\n",
    "\n",
    "#simulate 500 visitors:\n",
    "simulated_monthly_visitors = np.random.choice(['y', 'n'], size=500, p=[0.1, 0.9])\n",
    "\n",
    "#calculate the number of simulated visitors who made a purchase:\n",
    "num_purchased = np.sum(simulated_monthly_visitors == 'y')\n",
    "print(num_purchased)"
   ]
  }
 ],
 "metadata": {
  "interpreter": {
   "hash": "e7370f93d1d0cde622a1f8e1c04877d8463912d04d973331ad4851f04de6915a"
  },
  "kernelspec": {
   "display_name": "Python 3.10.2 64-bit",
   "language": "python",
   "name": "python3"
  },
  "language_info": {
   "codemirror_mode": {
    "name": "ipython",
    "version": 3
   },
   "file_extension": ".py",
   "mimetype": "text/x-python",
   "name": "python",
   "nbconvert_exporter": "python",
   "pygments_lexer": "ipython3",
   "version": "3.10.2"
  },
  "orig_nbformat": 4
 },
 "nbformat": 4,
 "nbformat_minor": 2
}

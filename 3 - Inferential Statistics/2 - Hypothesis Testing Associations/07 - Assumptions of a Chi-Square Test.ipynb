{
 "cells": [
  {
   "cell_type": "markdown",
   "metadata": {},
   "source": [
    "# Assumptions of a Chi-Square Test\n",
    "\n",
    "Before we use a Chi-Square test, we need to be sure that the following things are true:\n",
    "\n",
    "## 1. The observations should be independently randomly sampled from the population\n",
    "\n",
    "This is also true of 2-sample t-tests, ANOVA, and Tukey. The purpose of this assumption is to ensure that the sample is representative of the population of interest.\n",
    "\n",
    "## 2. The categories of both variables must be mutually exclusive\n",
    "\n",
    "In other words, individual observations should only fall into one category per variable. This means that categorical variables like “college major”, where students can have multiple different college majors, would not be appropriate for a Chi-Square test.\n",
    "\n",
    "## 3. The groups should be independent\n",
    "\n",
    "Similar to 2-sample t-tests, ANOVA, and Tukey, a Chi-Square test also shouldn’t be used if either of the categorical variables splits observations into groups that can influence one another. For example, a Chi-Square test would **not** be appropriate if one of the variables represents three different time points.\n"
   ]
  },
  {
   "cell_type": "markdown",
   "metadata": {},
   "source": [
    "## Instructions\n",
    "\n",
    "1. Researchers are running a study to test a new vaccine for Covid-19 in adults. A sample of 1000 adults (you can assume that they are randomly sampled adults, or at least representative of the population) are randomly split into two groups: half get a vaccine, while the other half get a placebo. Everyone is monitored for six months to see if they develop symptoms of Covid-19. The first few rows of the resulting dataset looks like this:\n",
    "\n",
    "    | Group | Outcome |\n",
    "    | -- | -- |\n",
    "    | vaccine | not sick |\n",
    "    | vaccine | not sick |\n",
    "    | placebo | sick |\n",
    "    | placebo | not sick |\n",
    "\n",
    "    The researchers want to use this data to determine whether their vaccine will be effective at preventing illness in the general population of adults (eg., is whether or not someone got a vaccine associated with whether or not they got sick?).\n",
    "\n",
    "    Is a Chi-Square test appropriate to address this question? Change the value of `checkpoint_1` to `True` if a Chi-Square test is appropriate and `False` if it is not.\n",
    "\n",
    "    <details>\n",
    "        <summary>Stuck? Get a hint</summary>\n",
    "    \n",
    "    This research question addresses an association between two categorical variables. The sample is representative of the population, the categories are mutually exclusive (each person gets a placebo or vaccine but not both; each person gets sick or doesn’t get sick), and the groups are independent.\n",
    "    </details>\n",
    "\n",
    "2. Researchers are interested in studying the effect of a 10 minute yoga regimen on self-reported mood in adults. In order to test this, a representative sample of 1000 adults are asked to complete a survey where they rate their current happiness level as “very low”, “low”, “neutral”, “high”, or “very high”. Each person then completes a 10 minute yoga regimen, then responds to the same survey once again. The first few rows of data from this study look like this:\n",
    "\n",
    "    | Person ID | Time | Happiness |\n",
    "    | -- | -- | -- |\n",
    "    | 1 | before yoga | low |\n",
    "    | 1 | after yoga | neutral |\n",
    "    | 2 | before yoga | neutral |\n",
    "    | 2 | after yoga | high |\n",
    "\n",
    "    The researchers want to know if 10 minutes of yoga can help improve self-reported mood for adults in the general population (eg., is whether or not someone has just completed 10 minutes of yoga associated with their self-reported happiness level?).\n",
    "\n",
    "    Is a Chi-Square test appropriate to address this question? Change the value of `checkpoint_2` to `True` if a Chi-Square test is appropriate and `False` if it is not.\n",
    "\n",
    "    <details>\n",
    "        <summary>Stuck? Get a hint</summary>\n",
    "    \n",
    "    Note that one of the categorical variables has to do with time (before or after yoga). This variable splits observations into groups that are not independent: someone’s happiness level before yoga can clearly influence their happiness level after yoga.\n",
    "    </details>\n"
   ]
  },
  {
   "cell_type": "code",
   "execution_count": null,
   "metadata": {},
   "outputs": [],
   "source": [
    "checkpoint_1 = None\n",
    "\n",
    "checkpoint_2 = None"
   ]
  },
  {
   "cell_type": "markdown",
   "metadata": {},
   "source": [
    "### Solution"
   ]
  },
  {
   "cell_type": "code",
   "execution_count": null,
   "metadata": {},
   "outputs": [],
   "source": [
    "# \n",
    "checkpoint_1 = True\n",
    "\n",
    "checkpoint_2 = False"
   ]
  }
 ],
 "metadata": {
  "interpreter": {
   "hash": "e7370f93d1d0cde622a1f8e1c04877d8463912d04d973331ad4851f04de6915a"
  },
  "kernelspec": {
   "display_name": "Python 3.10.2 64-bit",
   "language": "python",
   "name": "python3"
  },
  "language_info": {
   "name": "python",
   "version": "3.10.2"
  },
  "orig_nbformat": 4
 },
 "nbformat": 4,
 "nbformat_minor": 2
}

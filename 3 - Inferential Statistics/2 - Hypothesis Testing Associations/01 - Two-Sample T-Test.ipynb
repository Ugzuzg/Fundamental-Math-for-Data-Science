{
 "cells": [
  {
   "cell_type": "markdown",
   "metadata": {},
   "source": [
    "# Two-Sample T-Test\n",
    "\n",
    "Suppose that a company is considering a new color-scheme for their website. They think that visitors will spend more time on the site if it is brightly colored. To test this theory, the company shows the old and new versions of the website to 50 site visitors, each — and finds that, on average, visitors spent 2 minutes longer on the new version compared to the old. Will this be true of future visitors as well? Or could this have happened by random chance among the 100 people in this sample?\n",
    "\n",
    "One way of testing this is with a *2-sample t-test*. The null hypothesis for this test is that average length of a visit does not differ based on the color of the website. In other words, if we could observe all site visitors in two alternate universes (one where they see each version of the site), the average visiting times in these universes would be equal.\n",
    "\n",
    "We can use SciPy’s `ttest_ind()` function to perform a 2-sample t-test. It takes the values for each group as inputs and returns the t-statistic (not covered in this course) and a p-value:\n",
    "\n",
    "```python\n",
    "from scipy.stats import ttest_ind\n",
    "tstat, pval = ttest_ind(times_version1, times_version2)\n",
    "```\n",
    "\n",
    "By default, `ttest_ind()` runs a two-sided test.\n"
   ]
  },
  {
   "cell_type": "markdown",
   "metadata": {},
   "source": [
    "## Instructions\n",
    "\n",
    "1. The company randomly sampled 100 site visitors. They showed the old version of their website to half of their sample and the new version to the other half. The amount of time (in minutes) that each visitor spent on the website was recorded.\n",
    "\n",
    "    An overlaid histogram showing the amount of time spent on the website by visitors to the new and old versions has already been created for you in script.py. Press “Run” and inspect the histograms. Based on this picture, do you think there is a significant association between the version of the website a visitor saw and how long they spent on the site?\n",
    "\n",
    "    <details>\n",
    "        <summary>Stuck? Get a hint</summary>\n",
    "    \n",
    "    There is a fair amount of overlap, but it does seem like visitors to the new website are spending slightly more time on the site (the orange distribution is shifted slightly to the right of the blue distribution).\n",
    "    </details>\n",
    "\n",
    "2. The data from this study has already been saved for you in script.py: the time spent by the 50 visitors to the old version is saved as `old`; the time spent by visitors to the new version is saved as `new`. Run a two-sample t-test comparing these groups and save the p-value as pval, then print it out.\n",
    "\n",
    "    <details>\n",
    "        <summary>Stuck? Get a hint</summary>\n",
    "    \n",
    "    Use the following syntax:\n",
    "\n",
    "    ```python\n",
    "    tstat, pval = ttest_ind(___, ___)\n",
    "    print(pval)\n",
    "    ```\n",
    "    </details>\n",
    "\n",
    "3. Using a significance threshold of 0.05, is there a significant difference between the average amount of time visitors are spending on the old and new versions of the website? In script.py set the value of significant equal to True if there is a significant difference and False if not.\n",
    "\n",
    "    <details>\n",
    "        <summary>Stuck? Get a hint</summary>\n",
    "    \n",
    "    If the p-value is less than 0.05, we can conclude there is a significant difference.\n",
    "    </details>\n"
   ]
  },
  {
   "cell_type": "code",
   "execution_count": 1,
   "metadata": {},
   "outputs": [
    {
     "data": {
      "image/png": "[encoded data removed]",
      "text/plain": [
       "<Figure size 432x288 with 1 Axes>"
      ]
     },
     "metadata": {
      "needs_background": "light"
     },
     "output_type": "display_data"
    }
   ],
   "source": [
    "import pandas as pd\n",
    "import matplotlib.pyplot as plt\n",
    "from scipy.stats import ttest_ind\n",
    "data = pd.read_csv('../data/version_time.csv')\n",
    "\n",
    "#separate out times for  two versions\n",
    "old = data.time_minutes[data.version=='old']\n",
    "new = data.time_minutes[data.version=='new']\n",
    "\n",
    "#run the t-test here:\n",
    "\n",
    "\n",
    "#determine significance\n",
    "significant = None\n",
    "\n",
    "#plot overlapping histograms\n",
    "plt.hist(old, alpha=.8, label='old')\n",
    "plt.hist(new, alpha=.8, label='new')\n",
    "plt.legend()\n",
    "plt.show()"
   ]
  },
  {
   "cell_type": "markdown",
   "metadata": {},
   "source": [
    "### Solution"
   ]
  },
  {
   "cell_type": "code",
   "execution_count": null,
   "metadata": {},
   "outputs": [],
   "source": [
    "import pandas as pd\n",
    "import matplotlib.pyplot as plt\n",
    "from scipy.stats import ttest_ind\n",
    "data = pd.read_csv('../data/version_time.csv')\n",
    "\n",
    "#separate out times for  two versions\n",
    "old = data.time_minutes[data.version=='old']\n",
    "new = data.time_minutes[data.version=='new']\n",
    "\n",
    "#run the t-test here:\n",
    "tstat, pval = ttest_ind(old, new)\n",
    "print(pval)\n",
    "\n",
    "#determine significance\n",
    "significant = pval < 0.05\n",
    "print(significant)\n",
    "\n",
    "#plot overlapping histograms\n",
    "plt.hist(old, alpha=.8, label='old')\n",
    "plt.hist(new, alpha=.8, label='new')\n",
    "plt.legend()\n",
    "plt.show()"
   ]
  }
 ],
 "metadata": {
  "interpreter": {
   "hash": "e7370f93d1d0cde622a1f8e1c04877d8463912d04d973331ad4851f04de6915a"
  },
  "kernelspec": {
   "display_name": "Python 3.10.2 64-bit",
   "language": "python",
   "name": "python3"
  },
  "language_info": {
   "codemirror_mode": {
    "name": "ipython",
    "version": 3
   },
   "file_extension": ".py",
   "mimetype": "text/x-python",
   "name": "python",
   "nbconvert_exporter": "python",
   "pygments_lexer": "ipython3",
   "version": "3.10.2"
  },
  "orig_nbformat": 4
 },
 "nbformat": 4,
 "nbformat_minor": 2
}

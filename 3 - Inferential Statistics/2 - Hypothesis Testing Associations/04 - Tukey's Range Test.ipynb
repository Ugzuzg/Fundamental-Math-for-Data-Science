{
 "cells": [
  {
   "cell_type": "markdown",
   "metadata": {},
   "source": [
    "# Tukey's Range Test\n",
    "\n",
    "Let’s say that we have performed an ANOVA to compare sales at the three VeryAnts stores. We calculated a p-value less than 0.05 and concluded that there is a significant difference between at least one pair of stores.\n",
    "\n",
    "Now, we want to find out **which** pair of stores are different. This is where Tukey’s range test comes in handy!\n",
    "\n",
    "In Python, we can perform Tukey’s range test using the `statsmodels` function `pairwise_tukeyhsd()`. For example, suppose we are again comparing video-game scores for math majors, writing majors, and psychology majors. We have a dataset named `data` with two columns: `score` and `major`. We could run Tukey’s range test with a type I error rate of 0.05 as follows:\n",
    "\n",
    "```python\n",
    "from statsmodels.stats.multicomp import pairwise_tukeyhsd\n",
    "tukey_results = pairwise_tukeyhsd(data.score, data.major, 0.05)\n",
    "print(tukey_results)\n",
    "```\n",
    "\n",
    "Output:\n",
    "\n",
    "```\n",
    "Multiple Comparison of Means - Tukey HSD,FWER=0.05\n",
    "==========================================\n",
    "group1 group2 meandiff lower upper reject\n",
    "------------------------------------------ \n",
    "  math  psych    3.32 -0.11  6.74  False \n",
    "  math  write    5.23  2.03  8.43  True\n",
    " psych  write   -2.12 -5.25  1.01  False \n",
    "------------------------------------------\n",
    "```\n",
    "\n",
    "Tukey’s range test is similar to running three separate 2-sample t-tests, except that it runs all of these tests simultaneously in order to preserve the type I error rate.\n",
    "\n",
    "The function output is a table, with one row per pair-wise comparison. For every comparison where `reject` is `True`, we “reject the null hypothesis” and conclude there is a significant difference between those two groups. For example, in the output above, we would conclude that there is a significant difference between scores for math and writing majors, but no significant difference in scores for the other comparisons.\n"
   ]
  },
  {
   "cell_type": "markdown",
   "metadata": {},
   "source": [
    "## Instructions\n",
    "\n",
    "1. The `veryants` dataset is provided for you once again in script.py. The `Store` column represents the store that a sale was made at (`'A'`, `'B'`, or `'C'`) and the `Sale` column represents the cost of a sale in U.S.D.\n",
    "\n",
    "    Run Tukey’s range test with a type I error rate of `0.05` to determine whether average sales are different at any pair of two stores and save the result as `tukey_results`, then print it out.\n",
    "\n",
    "    <details>\n",
    "        <summary>Stuck? Get a hint</summary>\n",
    "    \n",
    "    Use the following syntax:\n",
    "\n",
    "    ```python\n",
    "    tukey_results = pairwise_tukeyhsd(___, ___, 0.05)\n",
    "    print(tukey_results)\n",
    "    ```\n",
    "    </details>\n",
    "\n",
    "2. Inspect the output from the test you just ran. For which pairs of stores did you find a significant difference in average sales?\n",
    "\n",
    "    Assign the values of `a_b_significant`, `a_c_significant` `b_c_significant` to `True` if the test indicates a significant difference in sales at the indicated pair of stores and `False` if not.\n",
    "\n",
    "    Recall that when we ran three t-tests, we found significant differences for the A vs. B and A vs. C comparisons. Do we get the same result with this test?\n",
    "\n",
    "    <details>\n",
    "        <summary>Stuck? Get a hint</summary>\n",
    "    \n",
    "    Look at the `reject` column of the output. If `reject` is `True` then there is a significant difference between those groups.\n",
    "    </details>\n"
   ]
  },
  {
   "cell_type": "code",
   "execution_count": null,
   "metadata": {},
   "outputs": [],
   "source": [
    "from statsmodels.stats.multicomp import pairwise_tukeyhsd\n",
    "import pandas as pd\n",
    "\n",
    "# store the data\n",
    "veryants = pd.read_csv('../data/veryants.csv')\n",
    "\n",
    "# run tukey's test\n",
    "tukey_results = None\n",
    "print(tukey_results)\n",
    "\n",
    "# determine significance\n",
    "a_b_significant = None\n",
    "a_c_significant = None\n",
    "b_c_significant = None"
   ]
  },
  {
   "cell_type": "markdown",
   "metadata": {},
   "source": [
    "### Solution"
   ]
  },
  {
   "cell_type": "code",
   "execution_count": null,
   "metadata": {},
   "outputs": [],
   "source": [
    "from statsmodels.stats.multicomp import pairwise_tukeyhsd\n",
    "import pandas as pd\n",
    "\n",
    "# store the data\n",
    "veryants = pd.read_csv('../data/veryants.csv')\n",
    "\n",
    "# run tukey's test\n",
    "tukey_results = pairwise_tukeyhsd(veryants['Sale'], veryants['Store'], 0.05)\n",
    "print(tukey_results)\n",
    "\n",
    "# determine significance\n",
    "a_b_significant = True\n",
    "a_c_significant = False\n",
    "b_c_significant = False"
   ]
  }
 ],
 "metadata": {
  "interpreter": {
   "hash": "e7370f93d1d0cde622a1f8e1c04877d8463912d04d973331ad4851f04de6915a"
  },
  "kernelspec": {
   "display_name": "Python 3.10.2 64-bit",
   "language": "python",
   "name": "python3"
  },
  "language_info": {
   "codemirror_mode": {
    "name": "ipython",
    "version": 3
   },
   "file_extension": ".py",
   "mimetype": "text/x-python",
   "name": "python",
   "nbconvert_exporter": "python",
   "pygments_lexer": "ipython3",
   "version": "3.10.2"
  },
  "orig_nbformat": 4
 },
 "nbformat": 4,
 "nbformat_minor": 2
}

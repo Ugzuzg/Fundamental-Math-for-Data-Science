{
 "cells": [
  {
   "cell_type": "markdown",
   "metadata": {},
   "source": [
    "# ANOVA\n",
    "\n",
    "In the last exercise, we ran three separate 2-sample t-tests to investigate an association between a quantitative variable (amount spent per sale) and a non-binary categorical variable (location of VeryAnts visited, with options A, B, and C). The problem with this approach is that it inflates our probability of a type I error; the more tests we run, the worse the problem becomes!\n",
    "\n",
    "In this situation, one approach is to instead use ANOVA (Analysis of Variance). ANOVA tests the null hypothesis that all groups have the same population mean (eg., the true average price of a sale is the same at every location of VeryAnts).\n",
    "\n",
    "In Python, we can use the SciPy function `f_oneway()` to perform an ANOVA. `f_oneway()` has two outputs: the F-statistic (not covered in this course) and the p-value. If we were comparing scores on a video-game for math majors, writing majors, and psychology majors, we could run an ANOVA test with this line:\n",
    "\n",
    "```python\n",
    "from scipy.stats import f_oneway\n",
    "fstat, pval = f_oneway(scores_mathematicians, scores_writers, scores_psychologists)\n",
    "```\n",
    "\n",
    "If the p-value is below our significance threshold, we can conclude that at least one pair of our groups earned significantly different scores on average; however, we won’t know which pair until we investigate further!\n"
   ]
  },
  {
   "cell_type": "markdown",
   "metadata": {},
   "source": [
    "## Instructions\n",
    "\n",
    "1. The same data from the previous exercise is available to you in the workspace: costs of sales made at three locations of VeryAnts (saved as `a`, `b`, and `c`).\n",
    "\n",
    "    Perform an ANOVA test on `a`, `b`, and `c` and store the p-value in a variable called `pval`, then print it out.\n",
    "\n",
    "    <details>\n",
    "        <summary>Stuck? Get a hint</summary>\n",
    "    \n",
    "    Use the following syntax:\n",
    "\n",
    "    ```python\n",
    "    fstat, pval = f_oneway(___, ___, ___)\n",
    "    ```\n",
    "    </details>\n",
    "\n",
    "2. At a .05 significance level, does this p-value lead you to reject the null hypothesis (and conclude that at least one pair of stores have significantly different average sales)?\n",
    "\n",
    "    Change the value of `significant` to `True` if the p-value indicates at least one pair of stores have significantly different sales and `False` otherwise.\n"
   ]
  },
  {
   "cell_type": "code",
   "execution_count": null,
   "metadata": {},
   "outputs": [],
   "source": [
    "from scipy.stats import f_oneway\n",
    "import pandas as pd\n",
    "\n",
    "# store the data\n",
    "veryants = pd.read_csv('../data/veryants.csv')\n",
    "a = veryants.Sale[veryants.Store == 'A']\n",
    "b = veryants.Sale[veryants.Store == 'B']\n",
    "c = veryants.Sale[veryants.Store == 'C']\n",
    "\n",
    "# run ANOVA\n",
    "\n",
    "\n",
    "# determine significance\n"
   ]
  },
  {
   "cell_type": "markdown",
   "metadata": {},
   "source": [
    "### Solution"
   ]
  },
  {
   "cell_type": "code",
   "execution_count": null,
   "metadata": {},
   "outputs": [],
   "source": [
    "from scipy.stats import f_oneway\n",
    "import pandas as pd\n",
    "\n",
    "# store the data\n",
    "veryants = pd.read_csv('../data/veryants.csv')\n",
    "a = veryants.Sale[veryants.Store == 'A']\n",
    "b = veryants.Sale[veryants.Store == 'B']\n",
    "c = veryants.Sale[veryants.Store == 'C']\n",
    "\n",
    "# run ANOVA\n",
    "fstat, pval = f_oneway(a, b, c)\n",
    "print(pval)\n",
    "\n",
    "# determine significance\n",
    "significant = pval < .05\n",
    "print(significant)"
   ]
  }
 ],
 "metadata": {
  "interpreter": {
   "hash": "e7370f93d1d0cde622a1f8e1c04877d8463912d04d973331ad4851f04de6915a"
  },
  "kernelspec": {
   "display_name": "Python 3.10.2 64-bit",
   "language": "python",
   "name": "python3"
  },
  "language_info": {
   "codemirror_mode": {
    "name": "ipython",
    "version": 3
   },
   "file_extension": ".py",
   "mimetype": "text/x-python",
   "name": "python",
   "nbconvert_exporter": "python",
   "pygments_lexer": "ipython3",
   "version": "3.10.2"
  },
  "orig_nbformat": 4
 },
 "nbformat": 4,
 "nbformat_minor": 2
}

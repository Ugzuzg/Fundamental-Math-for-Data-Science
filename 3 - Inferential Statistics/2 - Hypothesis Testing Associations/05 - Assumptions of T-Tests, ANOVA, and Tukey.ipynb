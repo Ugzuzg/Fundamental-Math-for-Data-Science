{
 "cells": [
  {
   "cell_type": "markdown",
   "metadata": {},
   "source": [
    "# Assumptions of T-Tests, ANOVA, and Tukey\n",
    "\n",
    "Before we use a two sample t-test, ANOVA, or Tukey’s range test, we need to be sure that the following things are true:\n",
    "\n",
    "## 1. The observations should be independently randomly sampled from the population\n",
    "\n",
    "Suppose the population we are interested in is all visitors to a website. Random sampling will help ensure that our sample is representative of the population we care about. For example, if we only sample site visitors on Halloween, those visitors may behave differently from the general population. In practice, this can be a challenging assumption to meet, but it’s important to be aware of.\n",
    "\n",
    "## 2. The standard deviations of the groups should be equal\n",
    "\n",
    "For example, if we’re comparing time spent on a website for two versions of a homepage, we first want to make sure that the standard deviation of time spent on version 1 is roughly equal to the standard deviation of time spent on version 2. To check this assumption, it is normally sufficient to divide one standard deviation by the other and see if the ratio is “close” to 1. Generally, a ratio between 0.9 and 1.1 should suffice.\n",
    "\n",
    "That said, there is also a way to run a 2-sample t-test without assuming equal standard deviations — for example, by setting the `equal_var` parameter in the `scipy.stats.ttest_ind()` function equal to `False`. Running the test in this way has some disadvantages (it essentially makes it harder to reject the null hypothesis even when there is a true difference between groups), so it’s important to check for equal standard deviations before running the test.\n",
    "\n",
    "## 3. The data should be normally distributed…ish\n",
    "\n",
    "Data analysts in the real world often still perform these tests on data that are not normally distributed. This is usually not a problem if sample size is large, but it depends on how non-normal the data is. In general, the bigger the sample size, the safer you are!\n",
    "\n",
    "## 4. The groups created by the categorical variable must be independent\n",
    "\n",
    "Here are some examples where the groups are **not** independent:\n",
    "\n",
    "- the number of goals scored per soccer player before, during, and after undergoing a rigorous training regimen (not independent because the same players are measured in each category)\n",
    "- years of schooling completed by a group of adults compared to their parents (not independent because kids and their parents can influence one another)\n",
    "\n"
   ]
  },
  {
   "cell_type": "markdown",
   "metadata": {},
   "source": [
    "## Instructions\n",
    "\n",
    "1. Suppose that we want to run a two-sample t-test to compare the sample means for two groups (saved as `dist_1` and `dist_2` in the workspace).\n",
    "\n",
    "    Before running the test, we want to check whether the ratio of standard deviations for these groups is equal. Use the NumPy `std()` function to divide the standard deviation of `dist_1` by the standard deviation of `dist_2` and save the result as `ratio`, then print it out.\n",
    "\n",
    "    Are the standard deviations roughly equal?\n",
    "\n",
    "    <details>\n",
    "        <summary>Stuck? Get a hint</summary>\n",
    "    \n",
    "    NumPy has already been loaded in script.py as `np`; therefore, we can use `np.std(dist_1)` to calculate the standard deviation of the first distribution.\n",
    "\n",
    "    The ratio of standard deviations is approximately `0.62` — outside the range of 0.9-1.1, which we said would indicate equal standard deviations. Thus, the standard deviations do not appear to be equal.\n",
    "    </details>\n",
    "\n",
    "2. Code has already been provided for you in the workspace to create an overlaid histogram of these two distributions. Inspect the distributions. Are they approximately normal? If so, set the value of `normal_assumption` equal to `True` in script.py; otherwise set normal_assumption equal to `False`.\n",
    "\n",
    "    <details>\n",
    "        <summary>Stuck? Get a hint</summary>\n",
    "    \n",
    "    Look for things like a multi-modal distribution (multiple ‘humps’), highly skewed data, or outliers. As long as you don’t see any of those things, you can assume that the normality assumption is met.\n",
    "    </details>\n"
   ]
  },
  {
   "cell_type": "code",
   "execution_count": 3,
   "metadata": {},
   "outputs": [
    {
     "data": {
      "image/png": "[encoded data removed]",
      "text/plain": [
       "<Figure size 432x288 with 1 Axes>"
      ]
     },
     "metadata": {
      "needs_background": "light"
     },
     "output_type": "display_data"
    }
   ],
   "source": [
    "import numpy as np\n",
    "import matplotlib.pyplot as plt\n",
    "\n",
    "dist_1 = np.genfromtxt(\"../data/1.csv\")\n",
    "dist_2 = np.genfromtxt(\"../data/2.csv\")\n",
    "\n",
    "#calculate ratio of standard deviations:\n",
    "\n",
    "\n",
    "#check normality assumption\n",
    "normal_assumption = None\n",
    "\n",
    "#plot histograms of each distribution\n",
    "plt.hist(dist_1, alpha = .8, density = True, label = 'dist 1')\n",
    "plt.hist(dist_2, alpha = .8, density = True, label = 'dist 2')\n",
    "plt.legend()\n",
    "plt.show()"
   ]
  },
  {
   "cell_type": "markdown",
   "metadata": {},
   "source": [
    "### Solution"
   ]
  },
  {
   "cell_type": "code",
   "execution_count": null,
   "metadata": {},
   "outputs": [],
   "source": [
    "import numpy as np\n",
    "import matplotlib.pyplot as plt\n",
    "\n",
    "dist_1 = np.genfromtxt(\"../data/1.csv\")\n",
    "dist_2 = np.genfromtxt(\"../data/2.csv\")\n",
    "\n",
    "#calculate ratio of standard deviations:\n",
    "ratio = np.std(dist_1) / np.std(dist_2)\n",
    "print(ratio)\n",
    "\n",
    "#check normality assumption\n",
    "normal_assumption = True\n",
    "print(normal_assumption)\n",
    "\n",
    "#plot histograms of each distribution\n",
    "plt.hist(dist_1, alpha = .8, density = True, label = 'dist 1')\n",
    "plt.hist(dist_2, alpha = .8, density = True, label = 'dist 2')\n",
    "plt.legend()\n",
    "plt.show()"
   ]
  }
 ],
 "metadata": {
  "interpreter": {
   "hash": "e7370f93d1d0cde622a1f8e1c04877d8463912d04d973331ad4851f04de6915a"
  },
  "kernelspec": {
   "display_name": "Python 3.10.2 64-bit",
   "language": "python",
   "name": "python3"
  },
  "language_info": {
   "codemirror_mode": {
    "name": "ipython",
    "version": 3
   },
   "file_extension": ".py",
   "mimetype": "text/x-python",
   "name": "python",
   "nbconvert_exporter": "python",
   "pygments_lexer": "ipython3",
   "version": "3.10.2"
  },
  "orig_nbformat": 4
 },
 "nbformat": 4,
 "nbformat_minor": 2
}

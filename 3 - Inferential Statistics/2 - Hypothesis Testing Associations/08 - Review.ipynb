{
 "cells": [
  {
   "cell_type": "markdown",
   "metadata": {},
   "source": [
    "# Review\n",
    "\n",
    "In this lesson, we have reviewed a few different ways to run a hypothesis test for an association between two variables:\n",
    "\n",
    "- Two Sample T-Tests (for an association between a quantitative variable and a binary categorical variable)\n",
    "- ANOVA and Tukey Tests (for an association between a quantitative variable and a non-binary categorical variable)\n",
    "- Chi-Square Tests (for an association between two categorical variables)\n",
    "\n",
    "You are now equipped to use and interpret the results of each of these tests!\n",
    "\n",
    "## Instructions\n",
    "\n",
    "Take a look at the diagram provided for you in the workspace. The picture summarizes the four different hypothesis tests we’ve covered in this lesson and when to use them. Think of an association that you might be interested in exploring — in your own work or daily life! Can you identify which hypothesis test would be best suited to address your question?\n",
    "\n",
    "![](../assets/hypothesis-testing-association-test.svg)"
   ]
  }
 ],
 "metadata": {
  "interpreter": {
   "hash": "e7370f93d1d0cde622a1f8e1c04877d8463912d04d973331ad4851f04de6915a"
  },
  "kernelspec": {
   "display_name": "Python 3.10.2 64-bit",
   "language": "python",
   "name": "python3"
  },
  "language_info": {
   "name": "python",
   "version": "3.10.2"
  },
  "orig_nbformat": 4
 },
 "nbformat": 4,
 "nbformat_minor": 2
}

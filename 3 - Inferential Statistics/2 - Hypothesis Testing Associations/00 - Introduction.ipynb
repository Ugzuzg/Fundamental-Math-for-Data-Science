{
 "cells": [
  {
   "cell_type": "markdown",
   "metadata": {},
   "source": [
    "# Introduction\n",
    "\n",
    "In this lesson, we’ll use hypothesis tests to make inference about population-level associations between two variables.\n",
    "\n",
    "We will cover four different hypothesis tests:\n",
    "\n",
    "- Two Sample T-Tests (for an association between a quantitative variable and a binary categorical variable)\n",
    "- ANOVA and Tukey Tests (for an association between a quantitative variable and a non-binary categorical variable)\n",
    "- Chi-Square Tests (for an association between two categorical variables)\n",
    "\n"
   ]
  },
  {
   "cell_type": "markdown",
   "metadata": {},
   "source": [
    "## Instructions\n",
    "\n",
    "The applet provided for you in the workspace simulates the following scenario:\n",
    "\n",
    "- A Project Manager (PM) wants to know whether website visitors spend more time on one version of a homepage (version 1) or another (version 2).\n",
    "- In order to address this question, they randomly assign a sample of visitors to see one version or the other and record how long each visitor spends on the site.\n",
    "- Then, the PM runs a two-sample t-test with a significance threshold of 0.05. A p-value less than 0.05 would suggest that visitors are spending significantly different amounts of time on the two homepages.\n",
    "\n",
    "In the applet, you get to control the population level values! In other words, if the PM could show the two versions of the homepage to every possible past and future website visitor, you get to decide what the average amount of time spent on each version would be.\n",
    "\n",
    "When you click “Generate”, the applet will re-sample a new set of visitors from your chosen populations (using the sample size that you specify), run a 2-sample t-test, and determine whether the means are significantly different.\n",
    "\n",
    "Try the following:\n",
    "\n",
    "- Press “Generate” a few times. Note that these sample distributions are different enough that the p-value is significant every time.\n",
    "- Change the mean of version 2 so that it is equal to the mean for version 1. Press “Generate” a few times and note how the p-values are now mostly not significant.\n",
    "- Change the means of version 1 and version 2 so that they are only different by 0.5 (eg., 2.5 and 3), but leave the standard deviations set to 1 for both groups. Press “Generate” a few times and notice that the test still detects a difference most of the time.\n",
    "- Now change the standard deviations to 3 for both versions and press “Generate”. Notice how the sample distributions are now much flatter (there is more variation). Press “Generate” a few times and notice how the test no longer finds a difference every time, even though the difference is still 0.5.\n",
    "- Play around with the sample size, standard deviations, and means. What kinds of differences can the test detect? Notice how both the magnitude of differences and variation in the data plays a role.\n",
    "\n"
   ]
  },
  {
   "cell_type": "markdown",
   "metadata": {},
   "source": [
    "<iframe src=\"https://32ac5ddca9654494a415cb7ff684634e.cc-propeller.cloud/2-sample-t-test.html\" width=\"100%\" height=\"550px\" style=\"border: 0\">"
   ]
  }
 ],
 "metadata": {
  "interpreter": {
   "hash": "e7370f93d1d0cde622a1f8e1c04877d8463912d04d973331ad4851f04de6915a"
  },
  "kernelspec": {
   "display_name": "Python 3.10.2 64-bit",
   "language": "python",
   "name": "python3"
  },
  "language_info": {
   "name": "python",
   "version": "3.10.2"
  },
  "orig_nbformat": 4
 },
 "nbformat": 4,
 "nbformat_minor": 2
}

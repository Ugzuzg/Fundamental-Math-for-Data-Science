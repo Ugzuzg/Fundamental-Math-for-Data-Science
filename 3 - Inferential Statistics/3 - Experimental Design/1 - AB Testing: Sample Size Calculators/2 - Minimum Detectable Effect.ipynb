{
 "cells": [
  {
   "cell_type": "markdown",
   "metadata": {},
   "source": [
    "# Minimum Detectable Effect\n",
    "\n",
    "Suppose we’re running an A/B Test to find out if a new website layout drives more subscriptions than the current one. If the new layout is only a tiny percent better, would we really care?\n",
    "\n",
    "In order to detect precise differences, we need a very large sample size. In order to choose a sample size, we need to know the smallest difference that we actually care to measure. This “smallest difference” is our desired *minimum detectable effect*. This is also sometimes referred to as *desired lift*.\n",
    "\n",
    "Minimum detectable effect or lift is generally expressed as a percent of the baseline conversion rate. Suppose that 6% of customers currently subscribe to our website (that’s our baseline conversion rate). Changing a website layout is hard, so we only think that it’s worth doing if at least 8% of our customers would subscribe with the new layout. To calculate this as a percentage of our baseline:\n",
    "\n",
    "```python\n",
    "baseline = 6\n",
    "new = 8\n",
    "min_detectable_effect = (new - baseline) / baseline * 100\n",
    "print(min_detectable_effect) #output: 33.0\n",
    "```\n",
    "\n",
    "Our minimum detectable effect/desired lift is 33%.\n"
   ]
  },
  {
   "cell_type": "markdown",
   "metadata": {},
   "source": [
    "## Instructions\n",
    "\n",
    "1. Suppose you have a baseline conversion rate of `8%` and want to implement a new website design if it will increase the conversion rate to `12%`. What is your minimum detectable effect? Save that number into a variable called `mde` and print it out.\n"
   ]
  },
  {
   "cell_type": "code",
   "execution_count": null,
   "metadata": {},
   "outputs": [],
   "source": [
    "# calculate mde and print it out:"
   ]
  },
  {
   "cell_type": "markdown",
   "metadata": {},
   "source": [
    "### Solution"
   ]
  },
  {
   "cell_type": "code",
   "execution_count": 1,
   "metadata": {},
   "outputs": [
    {
     "name": "stdout",
     "output_type": "stream",
     "text": [
      "50.0\n"
     ]
    }
   ],
   "source": [
    "# calculate mde and print it out:\n",
    "mde = (12 - 8) / 8 * 100\n",
    "print(mde)"
   ]
  }
 ],
 "metadata": {
  "interpreter": {
   "hash": "e7370f93d1d0cde622a1f8e1c04877d8463912d04d973331ad4851f04de6915a"
  },
  "kernelspec": {
   "display_name": "Python 3.10.2 64-bit",
   "language": "python",
   "name": "python3"
  },
  "language_info": {
   "codemirror_mode": {
    "name": "ipython",
    "version": 3
   },
   "file_extension": ".py",
   "mimetype": "text/x-python",
   "name": "python",
   "nbconvert_exporter": "python",
   "pygments_lexer": "ipython3",
   "version": "3.10.2"
  },
  "orig_nbformat": 4
 },
 "nbformat": 4,
 "nbformat_minor": 2
}

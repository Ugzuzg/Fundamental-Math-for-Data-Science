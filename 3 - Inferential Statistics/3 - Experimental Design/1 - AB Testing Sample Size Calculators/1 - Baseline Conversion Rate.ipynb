{
 "cells": [
  {
   "cell_type": "markdown",
   "metadata": {},
   "source": [
    "# Baseline Conversion Rate\n",
    "\n",
    "A/B tests usually compare an option that we’re currently using to a new option that we suspect might be better. In order to compare the two options, we need a metric. Often, our metric will be the percent of users who take a certain action after interacting with one of our options. For instance:\n",
    "\n",
    "- The percent of customers who **buy a t-shirt** after visiting one of two versions of a website\n",
    "- The percent of users who **click** on one of two versions of an ad\n",
    "\n",
    "In the t-shirt example above, the *baseline conversion rate* is our estimate for the percent of people who will buy a shirt under the current website design.\n",
    "\n",
    "We can generally calculate a baseline by looking at historical data for the option that we’re currently using. For example, suppose that 2000 people visited a website over the past three months and 320 of those visitors purchased a shirt. We could estimate the baseline rate as follows:\n",
    "\n",
    "```python\n",
    "baseline = 320/2000*100\n",
    "print(baseline) #output: 16.0\n",
    "```\n",
    "\n",
    "This number may be written as a proportion (eg., 0.16) or a percent (eg., 16%).\n"
   ]
  },
  {
   "cell_type": "markdown",
   "metadata": {},
   "source": [
    "## Instructions\n",
    "\n",
    "1. Suppose that an online media company wants to run an A/B test to see if a re-designed subscribe button will make site visitors more likely click “subscribe”. Some historical data is saved for you in script.py:\n",
    "\n",
    "    - `number_of_site_visitors` is the number of people who visited the site over the past month\n",
    "    - `number_of_converted_visitors` is the number who clicked “subscribe”.\n",
    "\n",
    "    Use these two variables to calculate the baseline conversion rate and save the result as a variable named `baseline_rate`, then print it out. Report the percentage, not the proportion.\n",
    "\n",
    "    <details>\n",
    "        <summary>Stuck? Get a hint</summary>\n",
    "    \n",
    "    Divide the number of converted visitors by the number of total visitors and multiply by 100.\n",
    "    </details>\n"
   ]
  },
  {
   "cell_type": "code",
   "execution_count": null,
   "metadata": {},
   "outputs": [],
   "source": [
    "number_of_site_visitors = 2000.0\n",
    "number_of_converted_visitors = 1300.0\n",
    "\n",
    "# calculate baseline_rate and print it out:"
   ]
  },
  {
   "cell_type": "markdown",
   "metadata": {},
   "source": [
    "### Solution"
   ]
  },
  {
   "cell_type": "code",
   "execution_count": 1,
   "metadata": {},
   "outputs": [
    {
     "name": "stdout",
     "output_type": "stream",
     "text": [
      "65.0\n"
     ]
    }
   ],
   "source": [
    "number_of_site_visitors = 2000.0\n",
    "number_of_converted_visitors = 1300.0\n",
    "\n",
    "# calculate baseline_rate and print it out:\n",
    "baseline_rate = number_of_converted_visitors / number_of_site_visitors * 100\n",
    "print(baseline_rate)"
   ]
  }
 ],
 "metadata": {
  "interpreter": {
   "hash": "e7370f93d1d0cde622a1f8e1c04877d8463912d04d973331ad4851f04de6915a"
  },
  "kernelspec": {
   "display_name": "Python 3.10.2 64-bit",
   "language": "python",
   "name": "python3"
  },
  "language_info": {
   "codemirror_mode": {
    "name": "ipython",
    "version": 3
   },
   "file_extension": ".py",
   "mimetype": "text/x-python",
   "name": "python",
   "nbconvert_exporter": "python",
   "pygments_lexer": "ipython3",
   "version": "3.10.2"
  },
  "orig_nbformat": 4
 },
 "nbformat": 4,
 "nbformat_minor": 2
}

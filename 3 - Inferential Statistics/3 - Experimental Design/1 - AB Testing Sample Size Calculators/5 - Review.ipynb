{
 "cells": [
  {
   "cell_type": "markdown",
   "metadata": {},
   "source": [
    "# Review\n",
    "\n",
    "Congratulations! You now know how to use a sample size calculator to figure out an appropriate sample size for an A/B Test! As a reminder, you learned about the following inputs to a sample-size calculator:\n",
    "\n",
    "- Baseline Conversion Rate\n",
    "- Minimum Detectable Effect\n",
    "- Significance Threshold\n"
   ]
  },
  {
   "cell_type": "markdown",
   "metadata": {},
   "source": [
    "## Instructions\n",
    "\n",
    "As a final exercise, let’s put everything together into a single calculation. Suppose that you are running a business and want to see if a new advertisement will drive more clicks on your website. Currently, about 10% of people who see your ad are clicking on it. You want to run the new ad if at least 14% of people will click the new ad. When you run your Chi-Square test after collecting your data, you plan to use a significance threshold of 0.05, so that your chances of a false positive are relatively low. Try the following:\n",
    "\n",
    "- Based on the description above, identify the baseline conversion rate and significance threshold\n",
    "- Based on the description above, calculate the minimum detectable effect (hint: it’s not 4%!)\n",
    "- Plug in your baseline, minimum detectable effect, and significance threshold to the provided calculator\n",
    "- Calculate the total sample size needed for this experiment (note: this calculator assumes that exactly half of the sample will see each version of the ad)\n"
   ]
  },
  {
   "cell_type": "code",
   "execution_count": 2,
   "metadata": {},
   "outputs": [
    {
     "name": "stdout",
     "output_type": "stream",
     "text": [
      "baseline:  None\n",
      "Minimum Detectable Effect:  None\n",
      "significance threshold:  None\n",
      "sample size:  None\n"
     ]
    }
   ],
   "source": [
    "# calculate baseline:\n",
    "baseline = None\n",
    "print(\"baseline: \", baseline)\n",
    "\n",
    "# calculate MDE:\n",
    "MDE = None\n",
    "print(\"Minimum Detectable Effect: \", MDE)\n",
    "\n",
    "# calculate significance threshold:\n",
    "sig_threshold = None\n",
    "print(\"significance threshold: \", sig_threshold)\n",
    "\n",
    "# calculate total sample size: \n",
    "samp_size= None\n",
    "print(\"sample size: \", samp_size)"
   ]
  },
  {
   "cell_type": "markdown",
   "metadata": {},
   "source": [
    "### Solution"
   ]
  },
  {
   "cell_type": "code",
   "execution_count": 1,
   "metadata": {},
   "outputs": [
    {
     "name": "stdout",
     "output_type": "stream",
     "text": [
      "baseline:  10\n",
      "Minimum Detectable Effect:  40.0\n",
      "significance threshold:  5\n",
      "sample size:  2060\n"
     ]
    }
   ],
   "source": [
    "# calculate baseline:\n",
    "baseline = 10\n",
    "print(\"baseline: \", baseline)\n",
    "\n",
    "# calculate MDE:\n",
    "MDE = (14 - 10)/10 * 100\n",
    "print(\"Minimum Detectable Effect: \", MDE)\n",
    "\n",
    "# calculate significance threshold:\n",
    "sig_threshold = 5\n",
    "print(\"significance threshold: \", sig_threshold)\n",
    "\n",
    "# calculate total sample size: \n",
    "samp_size= \t2060\n",
    "print(\"sample size: \", samp_size)"
   ]
  }
 ],
 "metadata": {
  "interpreter": {
   "hash": "e7370f93d1d0cde622a1f8e1c04877d8463912d04d973331ad4851f04de6915a"
  },
  "kernelspec": {
   "display_name": "Python 3.10.2 64-bit",
   "language": "python",
   "name": "python3"
  },
  "language_info": {
   "codemirror_mode": {
    "name": "ipython",
    "version": 3
   },
   "file_extension": ".py",
   "mimetype": "text/x-python",
   "name": "python",
   "nbconvert_exporter": "python",
   "pygments_lexer": "ipython3",
   "version": "3.10.2"
  },
  "orig_nbformat": 4
 },
 "nbformat": 4,
 "nbformat_minor": 2
}

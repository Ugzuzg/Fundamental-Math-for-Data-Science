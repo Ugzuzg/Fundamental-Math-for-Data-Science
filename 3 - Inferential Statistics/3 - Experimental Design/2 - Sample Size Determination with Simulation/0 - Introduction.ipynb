{
 "cells": [
  {
   "cell_type": "markdown",
   "metadata": {},
   "source": [
    "# Introduction\n",
    "\n",
    "In this lesson, we will use simulation to understand some of the considerations for setting up an A/B test: sample size, power, and the false positive rate. But before we think about designing an A/B test, let’s first remind ourselves how to conduct the test itself, **after** planning and collecting data.\n",
    "\n",
    "Suppose that a media company currently has a weekly newsletter email and wants to see if using the recipient’s first name in the email subject will cause more people to open the email (ie. “Bob! Checkout this week’s updates” vs “Checkout this week’s updates”). They randomly assign a group of 100 recipients to receive one of the two email subjects and record whether or not each recipient opened the email. The first few rows of their data might look something like this:\n",
    "| Email | Opened |\n",
    "| -- | -- |\n",
    "| name | yes |\n",
    "| name | no |\n",
    "| control | yes |\n",
    "| control | yes |\n",
    "| name | no |\n",
    "\n",
    "In order to run a hypothesis test to decide whether there is a significant difference in the open rate for these emails, we would run a Chi-Square test. To accomplish this, we would first create a contingency table for the `Email` and `Opened` variables in the above table:\n",
    "\n",
    "```python\n",
    "X = pd.crosstab(data.Email, data.Opened)\n",
    "print(X)\n",
    "```\n",
    "\n",
    "Output:\n",
    "\n",
    "| Opened | no | yes |\n",
    "| -- | -- | -- |\n",
    "| **Email** | | |\n",
    "| control | 23 | 27 |\n",
    "| name | 16 | 34 |\n",
    "\n",
    "We would then use this table to run a Chi-Square test and get a p-value:\n",
    "\n",
    "```python\n",
    "chi2, pval, dof, expected = chi2_contingency(X)\n",
    "print(pval) #Output: 0.2186\n",
    "```\n",
    "\n",
    "Based on the p-value, we would make a decision about which email to use; a small p-value would provide evidence that the open rates are significantly different for the two groups, while a large p-value would suggest no significant difference.\n"
   ]
  },
  {
   "cell_type": "markdown",
   "metadata": {},
   "source": [
    "## Instructions\n",
    "\n",
    "1. Run the code in script.py to see the first five rows of data.\n",
    "\n",
    "2. Suppose that you are running an A/B test comparing two versions of a checkout page (version A or version B) to see whether there is a significantly different purchase rate for one version compared to the other. Data from this experiment has been loaded for you in script.py as a dataframe named `data`. Use this data to create a contingency table and save the result as `ab_contingency`, then print out the result.\n",
    "\n",
    "    <details>\n",
    "        <summary>Stuck? Get a hint</summary>\n",
    "\n",
    "    Use the `pd.crosstab()` function with the two columns of the dataframe `Web_Version` and `Purchased` as the two input variables.\n",
    "    </details>\n",
    "\n",
    "3. Use ab_contingency to run a Chi-Square test using `chi2_contingency()` and save the p-value as a variable named `pval`. Print out `pval`.\n",
    "\n",
    "    <details>\n",
    "        <summary>Stuck? Get a hint</summary>\n",
    "    \n",
    "    `chi2_contigency()` takes a contingency table like the one you just made as an input, and has 4 outputs, the 2nd of which is `pval`.\n",
    "\n",
    "    Fill in the following code:\n",
    "\n",
    "    ```python\n",
    "    chi2, pval, dof, expected = chi2_contingency(ab_contingency)\n",
    "    ```\n",
    "    </details>"
   ]
  },
  {
   "cell_type": "code",
   "execution_count": null,
   "metadata": {},
   "outputs": [],
   "source": [
    "import pandas as pd\n",
    "from scipy.stats import chi2_contingency\n",
    "\n",
    "data = pd.read_csv(\"../../assets/ab_data.csv\")\n",
    "print(data.head())\n",
    "\n",
    "# calculate contingency table here\n",
    "\n",
    "\n",
    "# run your chi square test here"
   ]
  },
  {
   "cell_type": "markdown",
   "metadata": {},
   "source": [
    "### Solution"
   ]
  },
  {
   "cell_type": "code",
   "execution_count": 3,
   "metadata": {},
   "outputs": [
    {
     "name": "stdout",
     "output_type": "stream",
     "text": [
      "  Web_Version Purchased\n",
      "0           A        no\n",
      "1           A        no\n",
      "2           A       yes\n",
      "3           A       yes\n",
      "4           A       yes\n",
      "Purchased    no  yes\n",
      "Web_Version         \n",
      "A            24   26\n",
      "B            15   35\n",
      "0.10096676200907678\n"
     ]
    }
   ],
   "source": [
    "import pandas as pd\n",
    "from scipy.stats import chi2_contingency\n",
    "\n",
    "data = pd.read_csv(\"../../assets/ab_data.csv\")\n",
    "print(data.head())\n",
    "\n",
    "# calculate contingency table here\n",
    "ab_contingency = pd.crosstab(data.Web_Version, data.Purchased)\n",
    "print(ab_contingency)\n",
    "\n",
    "# run your chi square test here\n",
    "chi2, pval, dof, expected = chi2_contingency(ab_contingency)\n",
    "print(pval)"
   ]
  }
 ],
 "metadata": {
  "interpreter": {
   "hash": "e7370f93d1d0cde622a1f8e1c04877d8463912d04d973331ad4851f04de6915a"
  },
  "kernelspec": {
   "display_name": "Python 3.10.2 64-bit",
   "language": "python",
   "name": "python3"
  },
  "language_info": {
   "codemirror_mode": {
    "name": "ipython",
    "version": 3
   },
   "file_extension": ".py",
   "mimetype": "text/x-python",
   "name": "python",
   "nbconvert_exporter": "python",
   "pygments_lexer": "ipython3",
   "version": "3.10.2"
  },
  "orig_nbformat": 4
 },
 "nbformat": 4,
 "nbformat_minor": 2
}

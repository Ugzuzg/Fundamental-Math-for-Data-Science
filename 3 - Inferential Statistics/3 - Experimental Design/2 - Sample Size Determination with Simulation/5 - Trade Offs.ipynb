{
 "cells": [
  {
   "cell_type": "markdown",
   "metadata": {},
   "source": [
    "# Trade Offs\n",
    "\n",
    "At this point, let’s return to the point of view of a product manager who is actually planning this A/B test. Suppose that the product manager wants to be able to accurately detect a lift of 30% (or higher), but also wants to avoid false positives (they don’t want to change the email subjects unless there’s actually a difference between them). To plan their test, the product manager needs to consider the following:\n",
    "\n",
    "- Increasing the sample size increases the power of the test (the probability of detecting a difference if there **is** one); however, larger sample sizes require more time and resources.\n",
    "- Increasing the significance threshold also increases the power of the test; however, it simultaneously increases the false positive rate (the probability of detecting a difference when there **isn’t** one).\n",
    "\n",
    "Finally, if the project manager chooses a larger minimum detectable effect/lift, then they’ll be able to decrease the sample size without decreasing power. However, if they set up their test to detect a minimum lift of 30% (for example), they may not be able to detect smaller differences that are still meaningful.\n"
   ]
  },
  {
   "cell_type": "markdown",
   "metadata": {},
   "source": [
    "## Instructions\n",
    "\n",
    "1. The simulation code from the previous exercises is provided for you in script.py. Currently, the simulation is set up to use an open rate of 50% for the control email, and a lift of 30% for the name email subject. Set the sample size of 100 and press “Run” and make note of the proportion of significant results (which is the power of the test).\n",
    "\n",
    "    <details>\n",
    "        <summary>Stuck? Get a hint</summary>\n",
    "    \n",
    "    Make sure the sample size variable, `sample_size`, is set to 100.\n",
    "    </details>\n",
    "\n",
    "2. Now increase the sample size to `500` and press “Run” again. Note that the power of the test also increases.\n",
    "\n",
    "    <details>\n",
    "        <summary>Stuck? Get a hint</summary>\n",
    "    \n",
    "    Change the variable `sample_size` to 500.\n",
    "    </details>\n",
    "\n",
    "3. Next, increase the significance threshold to `0.10`. Note that the power of the test increases even more.\n",
    "\n",
    "    <details>\n",
    "        <summary>Stuck? Get a hint</summary>\n",
    "    \n",
    "    Change the variable `significance_threshold` to 0.10.\n",
    "    </details>\n",
    "\n",
    "4. Finally, increase the lift to 40%. Note that again, the power of the test increases.\n",
    "\n",
    "    <details>\n",
    "        <summary>Stuck? Get a hint</summary>\n",
    "    \n",
    "    Change the `lift` variable to 0.40.\n",
    "    </details>\n"
   ]
  },
  {
   "cell_type": "code",
   "execution_count": null,
   "metadata": {},
   "outputs": [],
   "source": [
    "import numpy as np\n",
    "import pandas as pd\n",
    "from scipy.stats import chi2_contingency\n",
    "\n",
    "# preset values\n",
    "significance_threshold = 0.05\n",
    "sample_size = 100\n",
    "lift = .3\n",
    "control_rate = .5\n",
    "name_rate = (1 + lift) * control_rate\n",
    "\n",
    "# initialize an empty list of results\n",
    "results = []\n",
    "\n",
    "# start the loop\n",
    "for i in range(100):\n",
    "  # simulate data:\n",
    "  sample_control = np.random.choice(['yes', 'no'],  size=int(sample_size/2), p=[control_rate, 1-control_rate])\n",
    "  sample_name = np.random.choice(['yes', 'no'], size=int(sample_size/2), p=[name_rate, 1-name_rate])\n",
    "  group = ['control']*int(sample_size/2) + ['name']*int(sample_size/2)\n",
    "  outcome = list(sample_control) + list(sample_name)\n",
    "  sim_data = {\"Email\": group, \"Opened\": outcome}\n",
    "  sim_data = pd.DataFrame(sim_data)\n",
    "\n",
    "  # run the test\n",
    "  ab_contingency = pd.crosstab(np.array(sim_data.Email), np.array(sim_data.Opened))\n",
    "  chi2, pval, dof, expected = chi2_contingency(ab_contingency)\n",
    "  result = ('significant' if pval < significance_threshold else 'not significant')\n",
    "\n",
    "  # append the result to our results list:\n",
    "  results.append(result)\n",
    "\n",
    "# calculate proportion of significant results:\n",
    "print(\"Proportion of significant results:\")\n",
    "results =  np.array(results)\n",
    "print(np.sum(results == 'significant')/100)"
   ]
  }
 ],
 "metadata": {
  "interpreter": {
   "hash": "e7370f93d1d0cde622a1f8e1c04877d8463912d04d973331ad4851f04de6915a"
  },
  "kernelspec": {
   "display_name": "Python 3.10.2 64-bit",
   "language": "python",
   "name": "python3"
  },
  "language_info": {
   "name": "python",
   "version": "3.10.2"
  },
  "orig_nbformat": 4
 },
 "nbformat": 4,
 "nbformat_minor": 2
}

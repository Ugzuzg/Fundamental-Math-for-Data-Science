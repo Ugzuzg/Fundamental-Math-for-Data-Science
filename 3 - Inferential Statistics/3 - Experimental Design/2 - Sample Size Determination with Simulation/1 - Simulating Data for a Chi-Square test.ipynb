{
 "cells": [
  {
   "cell_type": "markdown",
   "metadata": {},
   "source": [
    "# Simulating Data for a Chi-Square test\n",
    "\n",
    "In the last exercise, we used some data from an A/B test to run a Chi-Square test. In the next few exercises, we’ll build up a simulation to understand the considerations that go into choosing a sample size for that test.\n",
    "\n",
    "Again consider the A/B test example from the previous exercise, comparing email subjects with and without the recipient’s first name. Suppose we know that visitors have a 50% chance of opening the control email and a 65% chance of opening the name email (30% lift!).\n",
    "\n",
    "Here we use **lift** to refer to the inherent difference in the distributions of our two groups of data. In the *A/B Testing: Sample Size Calculators* lesson, we learned that **minimum detectable effect** is the smallest size of the difference between the two groups that we want our test to be able to detect. If we set up our experiment with a minimum detectable effect of at least 20%, our statistical test should detect a difference with a “lift” or “effect” of 20% or greater. In this lesson we are going to simulate data that has a lift of 30% to demonstrate how the inherent lift impacts the power of our statistical test.\n",
    "\n",
    "We can use the aforementioned probabilities to simulate a dataset of 100 email recipients as follows:\n",
    "\n",
    "```python\n",
    "sample_control = np.random.choice(['yes', 'no'], size=50, p=[.5, .5])\n",
    "sample_name = np.random.choice(['yes', 'no'], size=50, p=[.65, .35])\n",
    "```\n",
    "\n",
    "This gives us two simulated samples, of 50 recipients each, who hypothetically saw the name or control email subject. Each one looks something like `['yes' 'no' 'no' 'no' 'yes' 'yes' ...]`, where `'yes'` corresponds to an opened email.\n",
    "\n",
    "Next, we can assemble these arrays into a data frame that looks a lot like the one we saw in exercise 1:\n",
    "\n",
    "```python\n",
    "group = ['control']*50 + ['name']*50\n",
    "outcome = list(sample_control) + list(sample_name)\n",
    "sim_data = {\"Email\": group, \"Opened\": outcome}\n",
    "sim_data = pd.DataFrame(sim_data)\n",
    "print(sim_data.head())\n",
    "```\n",
    "\n",
    "Output:\n",
    "\n",
    "| Email | Opened |\n",
    "| -- | -- |\n",
    "| control | no |\n",
    "| control | yes |\n",
    "| control | yes |\n",
    "| control | no |\n",
    "| control | no |\n",
    "\n",
    "Because of how we created this data frame, all of the “control” observations will be listed first, followed by all of the “name” observations.\n"
   ]
  },
  {
   "cell_type": "markdown",
   "metadata": {},
   "source": [
    "## Instructions\n",
    "\n",
    "1. In script.py, you’ll see the code from the narrative, which can be used to simulate a dataset for a Chi-Square test. You’ll notice that we’ve replaced all hard-coded numbers with the following variables: `sample_size`, `control_rate`, and `name_rate` (which is calculated using `control_rate` and `lift`).\n",
    "\n",
    "    Change the sample size to 4 and press “Run”. Inspect the output. Does it look as expected?\n",
    "\n",
    "    <details>\n",
    "        <summary>Stuck? Get a hint</summary>\n",
    "    \n",
    "    The dataset ab_data should have 4 rows with 2 controls & names in the `Email` column and randomized yes or nos in the `Opened` column.\n",
    "    </details>\n",
    "\n",
    "2. Press “Run” a few more times and notice how the data changes each time even though you haven’t changed the code. This happens because we’ve provided probabilities for the outcomes; (opened or not), rather than specific values.\n"
   ]
  },
  {
   "cell_type": "code",
   "execution_count": null,
   "metadata": {},
   "outputs": [],
   "source": [
    "import numpy as np\n",
    "import pandas as pd\n",
    "\n",
    "sample_size = # fill in sample size here\n",
    "lift = .3\n",
    "control_rate = .5\n",
    "name_rate = (1 + lift) * control_rate\n",
    "\n",
    "sample_control = np.random.choice(['yes', 'no'], size=int(sample_size/2), p=[control_rate,1-control_rate])\n",
    "sample_name = np.random.choice(['yes', 'no'], size=int(sample_size/2), p=[name_rate, 1-name_rate])\n",
    "\n",
    "group = ['control']*int(sample_size/2) + ['name']*int(sample_size/2)\n",
    "outcome = list(sample_control) + list(sample_name)\n",
    "sim_data = {\"Button\": group, \"Opened\": outcome}\n",
    "sim_data = pd.DataFrame(sim_data)\n",
    "print(sim_data)"
   ]
  }
 ],
 "metadata": {
  "interpreter": {
   "hash": "e7370f93d1d0cde622a1f8e1c04877d8463912d04d973331ad4851f04de6915a"
  },
  "kernelspec": {
   "display_name": "Python 3.10.2 64-bit",
   "language": "python",
   "name": "python3"
  },
  "language_info": {
   "codemirror_mode": {
    "name": "ipython",
    "version": 3
   },
   "file_extension": ".py",
   "mimetype": "text/x-python",
   "name": "python",
   "nbconvert_exporter": "python",
   "pygments_lexer": "ipython3",
   "version": "3.10.2"
  },
  "orig_nbformat": 4
 },
 "nbformat": 4,
 "nbformat_minor": 2
}

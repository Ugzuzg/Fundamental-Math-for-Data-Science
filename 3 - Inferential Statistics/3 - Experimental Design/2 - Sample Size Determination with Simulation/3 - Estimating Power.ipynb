{
 "cells": [
  {
   "cell_type": "markdown",
   "metadata": {},
   "source": [
    "# Estimating Power\n",
    "\n",
    "In the last exercise, we learned how to simulate a dataset for a Chi-Square test, run the test, and then output a result: ‘significant’ or ‘not significant’. In this exercise, we’ll repeat that process many times so that we can inspect the relative frequency of each outcome.\n",
    "\n",
    "To do this, we’ll start by creating an empty list to store the results of our repeated experiments. Next, we’ll move all of our simulation code (to create a sample dataset, run a Chi-Square test, and determine a result) inside of a for-loop. In each iteration of the loop, we’ll append the outcome to our results list so that we can inspect it later.\n",
    "\n",
    "The outline of the code looks something like this:\n",
    "\n",
    "```\n",
    "Set the sample size and subscription probabilities\n",
    "Create an empty list named `results`\n",
    "\n",
    "Repeat 100 times in a for-loop:\n",
    "   Simulate a dataset\n",
    "   Run a Chi-Square test\n",
    "   Use the p-value to determine significance\n",
    "   Append the result ('significant' or 'not significant') to `results`\n",
    "```\n",
    "\n",
    "Finally, we can inspect `results` by calculating the proportion of simulated tests where the result was `'significant'`:\n",
    "\n",
    "```python\n",
    "results =  np.array(results)\n",
    "print(np.sum(results == 'significant')/100)\n",
    "```\n",
    "\n"
   ]
  },
  {
   "cell_type": "markdown",
   "metadata": {},
   "source": [
    "## Instructions\n",
    "\n",
    "1. In script.py, we’ve copied over the code from the previous exercise and moved the simulation inside a for-loop as described in the narrative. We’ve also initialized an empty list named `results`.\n",
    "\n",
    "    Below the determination of `result`, but still inside the for-loop, add a line of code to append `result` onto `results`.\n",
    "\n",
    "    <details>\n",
    "        <summary>Stuck? Get a hint</summary>\n",
    "    \n",
    "    `results` is a list, so you can use the `.append()` method to append a value to it. Make sure to keep this inside the for-loop by indenting to keep it inline with the rest of the code in the for-loop.\n",
    "    </details>\n",
    "\n",
    "2. Outside of the for-loop, add a line of code to print the proportion of `results` that are `'significant'`. Press “Run” a few times (note: you’ll see slightly different numbers each time because this is a random process). Approximately what proportion of the results were significant (would have led us to switch to the new, name email subject)?\n",
    "\n",
    "    <details>\n",
    "        <summary>Stuck? Get a hint</summary>\n",
    "    \n",
    "    To find the proportion of results that were significant, you can add the 1s and divide by the total number of simulations. The code is similar to what we used above:\n",
    "\n",
    "    ```python\n",
    "    results = np.array(results)\n",
    "    print(np.sum(results == 'significant')/100)\n",
    "    ```\n",
    "\n",
    "    Don’t forget to convert the list into an array before summing.\n",
    "    </details>"
   ]
  },
  {
   "cell_type": "code",
   "execution_count": null,
   "metadata": {},
   "outputs": [],
   "source": [
    "import numpy as np\n",
    "import pandas as pd\n",
    "from scipy.stats import chi2_contingency\n",
    "\n",
    "# preset values\n",
    "significance_threshold = 0.05\n",
    "sample_size = 100\n",
    "lift = .3\n",
    "control_rate = .5\n",
    "name_rate = (1 + lift) * control_rate\n",
    "\n",
    "# initialize an empty list of results\n",
    "results = []\n",
    "\n",
    "# start the loop\n",
    "for i in range(100):\n",
    "  # simulate data:\n",
    "  sample_control = np.random.choice(['yes', 'no'],  size=int(sample_size/2), p=[control_rate, 1-control_rate])\n",
    "  sample_name = np.random.choice(['yes', 'no'], size=int(sample_size/2), p=[name_rate, 1-name_rate])\n",
    "  group = ['control']*int(sample_size/2) + ['name']*int(sample_size/2)\n",
    "  outcome = list(sample_control) + list(sample_name)\n",
    "  sim_data = {\"Email\": group, \"Opened\": outcome}\n",
    "  sim_data = pd.DataFrame(sim_data)\n",
    "\n",
    "  # run the test\n",
    "  ab_contingency = pd.crosstab(np.array(sim_data.Email), np.array(sim_data.Opened))\n",
    "  chi2, pval, dof, expected = chi2_contingency(ab_contingency)\n",
    "  result = ('significant' if pval < significance_threshold else 'not significant')\n",
    "\n",
    "  # append the result to our results list here:\n",
    "  \n",
    "\n",
    "# calculate proportion of significant results here:\n",
    "print(\"Proportion of significant results:\")\n",
    "\n"
   ]
  }
 ],
 "metadata": {
  "interpreter": {
   "hash": "e7370f93d1d0cde622a1f8e1c04877d8463912d04d973331ad4851f04de6915a"
  },
  "kernelspec": {
   "display_name": "Python 3.10.2 64-bit",
   "language": "python",
   "name": "python3"
  },
  "language_info": {
   "name": "python",
   "version": "3.10.2"
  },
  "orig_nbformat": 4
 },
 "nbformat": 4,
 "nbformat_minor": 2
}

{
 "cells": [
  {
   "cell_type": "markdown",
   "metadata": {},
   "source": [
    "# Introduction: Inferential Statistics\n",
    "\n",
    "**Find out what you’ll learn in Inferential Statistics and why it’s important.**\n",
    "\n",
    "## Welcome to Inferential Statistics\n",
    "\n",
    "In this unit, we will cover a few hypothesis tests that can be used to make inferences about population(s). We’ll cover ways of implementing these hypothesis tests in Python and simulate some hypothesis tests without pre-built functions.\n",
    "\n",
    "### Why is this important?\n",
    "\n",
    "Descriptive statistics and inferential statistics are two subfields of statistics. Descriptive statistics includes topics covered earlier in this path, including numerical and visual summaries of data. Hypothesis testing, on the other hand, is a form of inferential statistics, which is used to draw inferences about a population using a smaller sample of data.\n",
    "\n",
    "This is important because descriptive statistics can tell us about the data that we have, but sometimes we can’t collect all of the data that we need to answer our questions. For example, maybe we want to know whether people who get a vaccine are less likely to get a disease. We can’t vaccinate every single person in the world to test this, so we’ll have to vaccinate a smaller sample of people instead. Then, if the vaccine seems to work in our sample, we need to know whether that could have been a random fluke &mdash or if it’s likely to be true for the rest of the population. This is where hypothesis testing can help!\n",
    "\n",
    "### What will you learn?\n",
    "\n",
    "At the end of this module, you will be able to:\n",
    "\n",
    "- Implement a One-Sample T-Test using Python\n",
    "- Understand how hypothesis tests work and simulate your own Binomial test\n"
   ]
  }
 ],
 "metadata": {
  "interpreter": {
   "hash": "e7370f93d1d0cde622a1f8e1c04877d8463912d04d973331ad4851f04de6915a"
  },
  "kernelspec": {
   "display_name": "Python 3.10.2 64-bit",
   "language": "python",
   "name": "python3"
  },
  "language_info": {
   "name": "python",
   "version": "3.10.2"
  },
  "orig_nbformat": 4
 },
 "nbformat": 4,
 "nbformat_minor": 2
}

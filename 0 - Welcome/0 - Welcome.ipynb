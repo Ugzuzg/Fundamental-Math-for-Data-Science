{
 "cells": [
  {
   "cell_type": "markdown",
   "metadata": {},
   "source": [
    "# Welcome to Fundamental Math for Data Science\n",
    "**See what you’ll learn in Fundamental Math for Data Science.**\n",
    "\n",
    "Welcome to the Fundamental Math for Data Science Skill Path! Let’s go over what you will find along this Path:\n",
    "- Probability\n",
    "- Descriptive Statistics\n",
    "- Inferential Statistics\n",
    "- Linear Algebra\n",
    "- Differential Calculus\n",
    "\n",
    "In each of these sections, you will dive into the fundamental math concepts needed to start your journey into data science and be prepared to put your skills to the test with fun quizzes and projects.\n",
    "\n",
    "After this Path, you will be able to:\n",
    "- describe different types of random events and quantify uncertainty\n",
    "- summarize data using central tendency, spread, and other measurements\n",
    "- implement binomial and one-sample t-tests in Python\n",
    "- perform operations with matrices and vectors both by hand and using NumPy\n",
    "- Analyze mathematical functions using limits and derivatives\n",
    "\n",
    "You will demonstrate your knowledge in a cumulative problem set at the end of the Path. You can complete the problem set either in parallel with or after taking the prerequisite content—it’s up to you!\n",
    "\n",
    "We’re excited for you to begin this journey!\n"
   ]
  }
 ],
 "metadata": {
  "interpreter": {
   "hash": "e7370f93d1d0cde622a1f8e1c04877d8463912d04d973331ad4851f04de6915a"
  },
  "kernelspec": {
   "display_name": "Python 3.10.2 64-bit",
   "language": "python",
   "name": "python3"
  },
  "language_info": {
   "codemirror_mode": {
    "name": "ipython",
    "version": 3
   },
   "file_extension": ".py",
   "mimetype": "text/x-python",
   "name": "python",
   "nbconvert_exporter": "python",
   "pygments_lexer": "ipython3",
   "version": "3.10.2"
  },
  "orig_nbformat": 4
 },
 "nbformat": 4,
 "nbformat_minor": 2
}

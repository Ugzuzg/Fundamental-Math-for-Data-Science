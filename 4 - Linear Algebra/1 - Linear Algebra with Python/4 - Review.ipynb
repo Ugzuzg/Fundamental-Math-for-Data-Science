{
 "cells": [
  {
   "cell_type": "markdown",
   "metadata": {},
   "source": [
    "# Review\n",
    "\n",
    "Congratulations! You have completed your journey into linear algebra operations with NumPy.\n",
    "\n",
    "The Python library NumPy provides a powerful tool to programmatically perform linear algebra. A fundamental building block of NumPy, the NumPy array, allows us to represent vectors and matrices. These arrays can perform operations directly, such as addition and scalar multiplication using `+` and `*`, rerspectively.\n",
    "\n",
    "NumPy also has built-in functions that allow us to perform more advanced operations like dot products, transposes, and matrix multiplication.\n",
    "\n",
    "Finally, NumPy has a `numpy.linalg` sublibrary that provides more advanced functionality. This includes finding the norm (or magnitude/length) of a vector, finding the inverse of a square matrix, and solving a system of linear equations in Ax=b form.\n",
    "\n",
    "All this functionality will allow us to use Python and NumPy to solve many linear algebra problems, including linear regression, in future lessons and articles.\n",
    "\n"
   ]
  },
  {
   "cell_type": "markdown",
   "metadata": {},
   "source": [
    "## Instructions\n",
    "\n",
    "In script.py is a similar system of linear equations as the previous exercise. However, this time there are four unknowns variables instead of three!\n",
    "\n",
    "Using what you have learned in this lesson, find the unknowns `a`, `b`, `c`, and `d`. If you get stuck, refer back to the previous exercise or take a peek at solution.py.\n"
   ]
  },
  {
   "cell_type": "code",
   "execution_count": null,
   "metadata": {},
   "outputs": [],
   "source": [
    "import numpy as np\n",
    "\n",
    "# Given\n",
    "'''\n",
    "2a + 3d - 2c = 4\n",
    "-c + 4b - a = 1\n",
    "2d - 2c + 3a - b = 2\n",
    "-2a + 3c - b = -2\n",
    "'''"
   ]
  },
  {
   "cell_type": "markdown",
   "metadata": {},
   "source": [
    "### Solution"
   ]
  },
  {
   "cell_type": "code",
   "execution_count": 1,
   "metadata": {},
   "outputs": [
    {
     "name": "stdout",
     "output_type": "stream",
     "text": [
      "[-1.5        -0.59090909 -1.86363636  1.09090909]\n"
     ]
    }
   ],
   "source": [
    "import numpy as np\n",
    "\n",
    "# Given\n",
    "'''\n",
    "2a + 3d - 2c = 4\n",
    "-c + 4b - a = 1\n",
    "2d - 2c + 3a - b = 2\n",
    "-2a + 3c - b = -2\n",
    "'''\n",
    "A = np.array([\n",
    "  [2, 0, -2, 3],\n",
    "  [-1, 4, -1, 0],\n",
    "  [3, -1, -2, 2],\n",
    "  [-2, -1, 3, 0],\n",
    "])\n",
    "b = np.array([4, 1, 2, -2])\n",
    "print(np.linalg.solve(A, b))"
   ]
  }
 ],
 "metadata": {
  "interpreter": {
   "hash": "e7370f93d1d0cde622a1f8e1c04877d8463912d04d973331ad4851f04de6915a"
  },
  "kernelspec": {
   "display_name": "Python 3.10.2 64-bit",
   "language": "python",
   "name": "python3"
  },
  "language_info": {
   "codemirror_mode": {
    "name": "ipython",
    "version": 3
   },
   "file_extension": ".py",
   "mimetype": "text/x-python",
   "name": "python",
   "nbconvert_exporter": "python",
   "pygments_lexer": "ipython3",
   "version": "3.10.2"
  },
  "orig_nbformat": 4
 },
 "nbformat": 4,
 "nbformat_minor": 2
}

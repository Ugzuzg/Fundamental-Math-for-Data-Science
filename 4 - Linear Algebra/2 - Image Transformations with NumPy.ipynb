{
 "cells": [
  {
   "cell_type": "markdown",
   "metadata": {},
   "source": [
    "# Image Transformations with NumPy\n",
    "\n",
    "In this project, we are going to create and transform images using the power of NumPy arrays and linear algebra. We will see how we can represent NumPy arrays as images and transform those images by treating them as matrices.\n",
    "\n",
    "Note that a solution.py file is loaded for you in the workspace, which contains the solution code for this project. We highly recommend that you complete the project on your own without checking the solution, but feel free to take a look if you get stuck or want to check your answers when you’re done!\n"
   ]
  },
  {
   "cell_type": "markdown",
   "metadata": {},
   "source": [
    "## Tasks\n",
    "\n",
    "### Using the Helper Function\n",
    "\n",
    "1. In script.py, there are two things preloaded for you:\n",
    "\n",
    "    - `heart_img`: a NumPy array representing a 7x7 matrix of RGB values\n",
    "    - `show_image()`: a helper function that will allow you to show images easily throughout your project\n",
    "\n",
    "    We are going to use `show_image()` to reveal the photo `heart_img` represents. Before we do so, let’s go over the functionality of `show_image()`.\n",
    "\n",
    "    `show_image()` takes in two parameters:\n",
    "\n",
    "    - `image`: a NumPy array of RGB values\n",
    "    - `name_identifier`: a string to title your photo (this will make it easy to keep track of what is being plotted throughout your project)\n",
    "\n",
    "    Use `show_image()` to plot `heart_img` with the title `\"Heart Image\"`. If you get stuck, click the hint for help.\n",
    "\n",
    "    <details>\n",
    "        <summary>Stuck? Get a hint</summary>\n",
    "    \n",
    "    To show `heart_img` in the web browser, use the following line of code:\n",
    "\n",
    "    ```python\n",
    "    show_image(heart_img, \"Heart Image\")\n",
    "    ```\n",
    "    </details>\n",
    "\n",
    "2. You should now see the following plot in the web browser:\n",
    "\n",
    "    ![A 7x7 pixel grayscale image of a heart](./assets/heart-image.png)\n",
    "\n",
    "    Can you figure out how the NumPy array `heart_img` creates that image you see? Take some time to think.\n",
    "\n",
    "    Notice that `heart_img` is a 7x7 matrix and that the heart image itself is 7x7 pixels. Using `show_image()`, we mapped each value inheart_img` to a 7x7 square matrix with grayscale colors that range from 0 (black) to 255 (white).\n",
    "\n",
    "    With this in mind, what are the `heart_img` values of the following sections of the heart image we see?\n",
    "\n",
    "    - (6, 6) — bottom right\n",
    "    - (3, 3) — center\n",
    "    - (1, 3) — right below top center\n",
    "\n",
    "    Click the answer to see the answers!\n",
    "\n",
    "    <details>\n",
    "        <summary>Stuck? Get a hint</summary>\n",
    "    \n",
    "    The answers are:\n",
    "\n",
    "    - (6, 6) — 255 (White)\n",
    "    - (3, 3) — 255/2 (Gray)\n",
    "    - (1, 3) — 0 (Black)\n",
    "    </details>\n",
    "\n"
   ]
  },
  {
   "cell_type": "markdown",
   "metadata": {},
   "source": [
    "### Image Transformations\n",
    "\n",
    "3. Now that we understand how a NumPy array maps to an image let’s do some fun image transformations!\n",
    "\n",
    "    Since our image is a matrix, we can do transformations based on linear algebra.\n",
    "\n",
    "    First, let’s invert the colors of our heart image.\n",
    "\n",
    "    - Create a new variable called `inverted_heart_img` that subtracts each value in `heart_img` from 255.\n",
    "    - Show inverted_heart_img with the plot title `“Inverted Heart Image.”`\n",
    "\n",
    "    <details>\n",
    "        <summary>Stuck? Get a hint</summary>\n",
    "    \n",
    "    `inverted_heart_img` should be defined as the following:\n",
    "\n",
    "    ```python\n",
    "    inverted_heart_img = 255 - heart_img\n",
    "    ```\n",
    "\n",
    "    This will invert each color of our pixel. Any white pixel (0) will be turned black (255). Any black pixel (255) will be turned white (0). The gray pixels actually stay the same since 255-(255/2) = 255/2.\n",
    "\n",
    "    To show `inverted_heart_img` use the following line of code:\n",
    "\n",
    "    ```python\n",
    "    show_image(inverted_heart_img, \"Inverted Heart\")\n",
    "    ```\n",
    "    </details>\n",
    "\n",
    "4. You should now see the following plot in the web browser:\n",
    "\n",
    "    ![Photo of 7x7 pixel grayscale heart that is inverted in color from the previous image](./assets/inverted-heart.png)\n",
    "\n",
    "    Notice that the white pixels are now black, the black pixels are now white, while the gray pixels are the same since 255-(255/2) = 255/2\n",
    "\n",
    "    Let’s do another image transformation. This time let’s plot a rotation of `heart_img`.\n",
    "\n",
    "    - Create a new variable called `rotated_heart_img` that swaps the rows and columns of `heart_img`.\n",
    "    - Show rotated_heart_img with the plot title `“Rotated Heart Image.”`\n",
    "\n",
    "    <details>\n",
    "        <summary>Stuck? Get a hint</summary>\n",
    "    \n",
    "    To swap the rows and columns (a transpose) of a NumPy matrix, use the `.T` attribute. For example, if we had a matrix called `image_matrix`, we do the following:\n",
    "\n",
    "    ```python\n",
    "    rotated_image_matrix = image_matrix.T\n",
    "    ```\n",
    "\n",
    "    This gives us the transpose of `image_matrix`.\n",
    "    </details>\n",
    "\n",
    "5. You should now see the following plot in the web browser:\n",
    "\n",
    "    ![A 7x7 pixel grayscale image of a rotated heart](./assets/rotated-heart.png)\n",
    "\n",
    "    The rows of `heart_img` have now become the columns of `rotated_heart_img` as we plotted the transpose of `heart_img`.\n",
    "\n",
    "    Let’s dive into some more complicated operations next!\n",
    "\n"
   ]
  },
  {
   "cell_type": "markdown",
   "metadata": {},
   "source": [
    "### More Advanced Operations\n",
    "\n",
    "6. Below the comment `# Random Image`, we have the following variable:\n",
    "\n",
    "    ```python\n",
    "    random_img = np.random.randint(0,255, (7,7))\n",
    "    ```\n",
    "\n",
    "    Plot that image using `show_image()` with the title “Random Image.”\n",
    "\n",
    "7. We want to solve for the matrix that creates `heart_img` given the following equation:\n",
    "\n",
    "    $$\n",
    "    random\\_img \\cdot x = heart\\_img\n",
    "    $$\n",
    "\n",
    "    Create a variable called `x` that is the solution to this equation. If you are not sure how to do this, check the hint for some guidance.\n",
    "\n",
    "    Plot `x` using `show_image()` with the title “x.”\n",
    "\n",
    "    <details>\n",
    "        <summary>Stuck? Get a hint</summary>\n",
    "    \n",
    "    We need to use NumPy’s `linalg.solve()` method. Given the following equation:\n",
    "\n",
    "    $$\n",
    "    Ax = b\n",
    "    $$\n",
    "\n",
    "    We can solve for x with the following line of code:\n",
    "\n",
    "    ```python\n",
    "    x = linalg.solve(A, b)\n",
    "    ```\n",
    "    </details>\n",
    "\n",
    "8. Create a variable called `solved_heart_img` that is equal to the product of `random_img` and `x`.\n",
    "\n",
    "    Plot `solved_heart_img` with the plot title “Solved Heart Image.”\n",
    "\n",
    "    What image do you see in the web browser?\n",
    "\n",
    "    <details>\n",
    "        <summary>Stuck? Get a hint</summary>\n",
    "    \n",
    "    To find the product of two NumPy arrays `A` and `x`, we use the following line of code\n",
    "\n",
    "    ```python\n",
    "    product = np.matmul(A, x)\n",
    "    ```\n",
    "\n",
    "    or\n",
    "\n",
    "    ```python\n",
    "    product = A@x\n",
    "    ```\n",
    "\n",
    "    When you plot it, you should see the original heart image!\n",
    "    </details>\n"
   ]
  },
  {
   "cell_type": "markdown",
   "metadata": {},
   "source": [
    "### Extra\n",
    "\n",
    "9. Congrats! You have finished your exploration of image transformations with NumPy and linear algebra. If you want to continue the fun, here are some more things you can try:\n",
    "\n",
    "    - Create a new shape with a NumPy array.\n",
    "    - Transform your image with a permutation matrix.\n",
    "    - Change the color scheme from grayscale. Check the `cmap` parameter of the `imshow()` function.\n",
    "    - Create a complicated image with more pixels and/or a shape that is not a square matrix.\n",
    "\n",
    "    These are just some of the things you can do. Happy coding!\n"
   ]
  },
  {
   "cell_type": "code",
   "execution_count": null,
   "metadata": {},
   "outputs": [],
   "source": [
    "import numpy as np\n",
    "import matplotlib.pyplot as plt\n",
    "\n",
    "heart_img = np.array([[255,0,0,255,0,0,255],\n",
    "              [0,255/2,255/2,0,255/2,255/2,0],\n",
    "          [0,255/2,255/2,255/2,255/2,255/2,0],\n",
    "          [0,255/2,255/2,255/2,255/2,255/2,0],\n",
    "              [255,0,255/2,255/2,255/2,0,255],\n",
    "                  [255,255,0,255/2,0,255,255],\n",
    "                  [255,255,255,0,255,255,255]])\n",
    "\n",
    "# This is a helper function that makes it easy for you to show images!\n",
    "def show_image(image, name_identifier):\n",
    "  plt.imshow(image, cmap=\"gray\")\n",
    "  plt.title(name_identifier)\n",
    "  plt.show()\n",
    "\n",
    "# Show heart image\n",
    "\n",
    "\n",
    "# Invert color\n",
    "\n",
    "\n",
    "# Rotate heart\n",
    "\n",
    "\n",
    "# Random Image\n",
    "\n",
    "\n",
    "# Solve for heart image\n",
    "\n"
   ]
  },
  {
   "cell_type": "markdown",
   "metadata": {},
   "source": [
    "### Solution"
   ]
  },
  {
   "cell_type": "code",
   "execution_count": 1,
   "metadata": {},
   "outputs": [
    {
     "data": {
      "image/png": "[encoded data removed]",
      "text/plain": [
       "<Figure size 432x288 with 1 Axes>"
      ]
     },
     "metadata": {
      "needs_background": "light"
     },
     "output_type": "display_data"
    },
    {
     "data": {
      "image/png": "[encoded data removed]",
      "text/plain": [
       "<Figure size 432x288 with 1 Axes>"
      ]
     },
     "metadata": {
      "needs_background": "light"
     },
     "output_type": "display_data"
    },
    {
     "data": {
      "image/png": "[encoded data removed]",
      "text/plain": [
       "<Figure size 432x288 with 1 Axes>"
      ]
     },
     "metadata": {
      "needs_background": "light"
     },
     "output_type": "display_data"
    },
    {
     "data": {
      "image/png": "[encoded data removed]",
      "text/plain": [
       "<Figure size 432x288 with 1 Axes>"
      ]
     },
     "metadata": {
      "needs_background": "light"
     },
     "output_type": "display_data"
    },
    {
     "data": {
      "image/png": "[encoded data removed]",
      "text/plain": [
       "<Figure size 432x288 with 1 Axes>"
      ]
     },
     "metadata": {
      "needs_background": "light"
     },
     "output_type": "display_data"
    },
    {
     "data": {
      "image/png": "[encoded data removed]",
      "text/plain": [
       "<Figure size 432x288 with 1 Axes>"
      ]
     },
     "metadata": {
      "needs_background": "light"
     },
     "output_type": "display_data"
    }
   ],
   "source": [
    "import numpy as np\n",
    "import matplotlib.pyplot as plt\n",
    "\n",
    "heart_img = np.array([[255,0,0,255,0,0,255],\n",
    "              [0,255/2,255/2,0,255/2,255/2,0],\n",
    "          [0,255/2,255/2,255/2,255/2,255/2,0],\n",
    "          [0,255/2,255/2,255/2,255/2,255/2,0],\n",
    "              [255,0,255/2,255/2,255/2,0,255],\n",
    "                  [255,255,0,255/2,0,255,255],\n",
    "                  [255,255,255,0,255,255,255]])\n",
    "\n",
    "# This is a helper function that makes it easy for you to show images!\n",
    "def show_image(image, name_identifier):\n",
    "  plt.imshow(image, cmap=\"gray\")\n",
    "  plt.title(name_identifier)\n",
    "  plt.show()\n",
    "\n",
    "# Show heart image\n",
    "show_image(heart_img, \"Heart\")\n",
    "\n",
    "# Invert color\n",
    "inverted_heart_img = 255 - heart_img\n",
    "show_image(inverted_heart_img, \"Inverted Heart\")\n",
    "\n",
    "# Rotate heart\n",
    "rotated_heart_img = heart_img.T\n",
    "show_image(rotated_heart_img, \"Rotated Heart\")\n",
    "\n",
    "# Random Image\n",
    "random_img = np.random.randint(0,255, (7,7))\n",
    "show_image(random_img, \"Random Image\")\n",
    "\n",
    "# Solve for heart image\n",
    "x = np.linalg.solve(random_img, heart_img)\n",
    "solved_heart_img = np.matmul(random_img, x)\n",
    "show_image(x, \"x\")\n",
    "show_image(solved_heart_img, \"Solved Heart Image\")"
   ]
  }
 ],
 "metadata": {
  "interpreter": {
   "hash": "e7370f93d1d0cde622a1f8e1c04877d8463912d04d973331ad4851f04de6915a"
  },
  "kernelspec": {
   "display_name": "Python 3.10.2 64-bit",
   "language": "python",
   "name": "python3"
  },
  "language_info": {
   "codemirror_mode": {
    "name": "ipython",
    "version": 3
   },
   "file_extension": ".py",
   "mimetype": "text/x-python",
   "name": "python",
   "nbconvert_exporter": "python",
   "pygments_lexer": "ipython3",
   "version": "3.10.2"
  },
  "orig_nbformat": 4
 },
 "nbformat": 4,
 "nbformat_minor": 2
}

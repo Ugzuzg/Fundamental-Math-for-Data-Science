{
 "cells": [
  {
   "cell_type": "markdown",
   "metadata": {},
   "source": [
    "# Gauss-Jordan Elimination\n",
    "\n",
    "Now that we have our system of linear equations in augmented matrix form, we can solve for the unknown variables using a technique called *Gauss-Jordan Elimination*. In regular algebra, we may try to solve the system by combining equations to eliminate variables until we can solve for a single one. Having one variable solved for then allows us to solve for a second variable, and we can continue that process until all variables are solved for.\n",
    "\n",
    "The same goal can be used for solving for the unknown variables when in the matrix representation. We start with forming our augmented matrix.\n",
    "\n",
    "$$\n",
    "\\begin{bmatrix} a_{1} & b_{1} & c_{1} \\bigm| d_{1} \\\\ a_{2} & b_{2} & c_{2} \\bigm| d_{2} \\\\ a_{3} & b_{3} & c_{3} \\bigm| d_{3} \\\\ \\end{bmatrix}\n",
    "$$\n",
    "\n",
    "To solve for the system, we want to put our augmented matrix into something called *row echelon form* where all elements below the diagonal are equal to zero. This looks like the following:\n",
    "\n",
    "$$\n",
    "\\begin{bmatrix} a_{1} & b_{1} & c_{1} \\bigm| d_{1} \\\\ a_{2} & b_{2} & c_{2} \\bigm| d_{2} \\\\ a_{3} & b_{3} & c_{3} \\bigm| d_{3} \\\\ \\end{bmatrix} \\rightarrow \\begin{bmatrix} 1 & b_{1}' & c_{1}' \\bigm| d_{1}' \\\\ 0 & 1 & c_{2}' \\bigm| d_{2}' \\\\ 0 & 0 & 1 \\hspace{1.25mm} \\bigm| d_{3}' \\\\ \\end{bmatrix}\n",
    "$$\n",
    "\n",
    "Note that the values with apostrophes in the *row echelon form* matrix mean that they have been changed in the process of updating the matrix. Once in this form we can rewrite our original equation as:\n",
    "\n",
    "$$\n",
    "x + b_{1}' y + c_{1}'z = d_{1}' \\\\ y + c_{2}'z = d_{2}' \\\\ z = d_{3}'\n",
    "$$\n",
    "\n",
    "This allows us to solve the equations directly using simple algebra. But how do we get to this form?\n",
    "\n",
    "To get to row echelon form we swap rows and/or add or subtract rows against other rows. A typical strategy is to add or subtract row 1 against all rows below in order to make all elements in column 1 equal to 0 under the diagonal. Once this is achieved, we can do the same with row 2 and all rows below to make all elements below the diagonal in column 2 equal to 0.\n",
    "\n",
    "Once all elements below the diagonal are equal to 0, we can simply solve for the variable values, starting at the bottom of the matrix and working our way up.\n",
    "\n",
    "It’s important to realize that not all systems of equations are solvable! For example, we can perform Gauss-Jordan Elimination and end up with the following augmented matrix.\n",
    "\n",
    "$$\n",
    "\\begin{bmatrix} 1 & -2 & -2 \\bigm| 5 \\\\ \\bf 0 & 3 & -1 \\bigm| 3 \\\\ \\bf 0 & \\bf 0 & \\enspace\\; {\\bf 0 } \\bigm| 2 \\end{bmatrix}\n",
    "$$\n",
    "\n",
    "This final augmented matrix here suggests that 0z = 2, which is impossible!\n"
   ]
  },
  {
   "cell_type": "markdown",
   "metadata": {},
   "source": [
    "## Instructions\n",
    "\n",
    "Let’s walk through an example of Gauss-Jordan elimination going through the animation on the right step-by-step.\n",
    "\n",
    "1. Step 1. Put system of equations into augmented matrix form.\n",
    "\n",
    "2. Step 2. Cancel out the first two entries in row 2 by adding the values of row 1 to row 2.\n",
    "\n",
    "3. Step 3. Cancel out the first entry in row 3 by adding the values of row 1 to one-half of each value in row 3.\n",
    "\n",
    "4. Step 4. Swap row 2 and row 3.\n",
    "\n",
    "5. Step 5. Normalize the diagonals (make them all equal 1). Multiply each value in row 2 by 1/2 and each value in row 3 by -1.\n",
    "\n",
    "6. Step 6. Put augmented matrix into system of equations form. "
   ]
  },
  {
   "cell_type": "markdown",
   "metadata": {},
   "source": [
    "<iframe src=\"https://static-assets.codecademy.com/skillpaths/ds-math/gauss-jordan-elimination/animation.html\" width=\"100%\" height=\"600px\" style=\"border: 0\">"
   ]
  }
 ],
 "metadata": {
  "interpreter": {
   "hash": "e7370f93d1d0cde622a1f8e1c04877d8463912d04d973331ad4851f04de6915a"
  },
  "kernelspec": {
   "display_name": "Python 3.10.2 64-bit",
   "language": "python",
   "name": "python3"
  },
  "language_info": {
   "name": "python",
   "version": "3.10.2"
  },
  "orig_nbformat": 4
 },
 "nbformat": 4,
 "nbformat_minor": 2
}

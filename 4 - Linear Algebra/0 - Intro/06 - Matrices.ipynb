{
 "cells": [
  {
   "cell_type": "markdown",
   "metadata": {},
   "source": [
    "# Matrices\n",
    "\n",
    "Now that we’ve learned about vector quantities, we can expand upon those lessons and focus on matrices. A *matrix* is a quantity with *m* rows and *n* columns of data. For example, we can combine multiple vectors into a matrix where each column of that matrix is one of the vectors.\n",
    "\n",
    "To the right, you can see a comparison between scalars, vectors, and matrices for context.\n",
    "\n",
    "We can also think of vectors as single-column matrices in their own right. Matrices are helpful because they allow us to perform operations on large amounts of data, such as representing entire systems of equations in a single matrix quantity.\n",
    "\n",
    "Matrices can be represented by using square brackets that enclose the rows and columns of data (elements). The shape of a matrix is said to be *mxn*, where there are *m* rows and *n* columns. When representing matrices as a variable, we denote the matrix with a capital letter and a particular matrix element as the matrix variable with an “*m,n*” determined by the element’s location. Let’s look at an example of this. Consider the matrix below.\n",
    "\n",
    "$$\n",
    "A= \\begin{bmatrix} a & b & c \\\\ d & e & f \\\\ g & h & i \\end{bmatrix}\n",
    "$$\n",
    "\n",
    "The value corresponding to the first row and second column is *b*.\n",
    "\n",
    "$$\n",
    "A_{1,2} = b\n",
    "$$\n",
    "\n",
    "What is the value corresponding to the second row and third column?\n",
    "\n",
    "$$\n",
    "A_{2,3} = ?\n",
    "$$\n",
    "\n",
    "<details>\n",
    "    <summary>Solution</summary>\n",
    "\n",
    "f\n",
    "</details>"
   ]
  },
  {
   "cell_type": "markdown",
   "metadata": {},
   "source": [
    "![](./assets/Matrix-reference-diagram.svg)"
   ]
  }
 ],
 "metadata": {
  "interpreter": {
   "hash": "e7370f93d1d0cde622a1f8e1c04877d8463912d04d973331ad4851f04de6915a"
  },
  "kernelspec": {
   "display_name": "Python 3.10.2 64-bit",
   "language": "python",
   "name": "python3"
  },
  "language_info": {
   "name": "python",
   "version": "3.10.2"
  },
  "orig_nbformat": 4
 },
 "nbformat": 4,
 "nbformat_minor": 2
}

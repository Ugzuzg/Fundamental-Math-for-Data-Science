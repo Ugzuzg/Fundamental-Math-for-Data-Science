{
 "cells": [
  {
   "cell_type": "markdown",
   "metadata": {},
   "source": [
    "# Matrix Operations\n",
    "\n",
    "Like with vectors, there are fundamental operations we can perform on matrices that enable the linear transformations needed for linear algebra. We can again both multiply entire matrices by a scalar value, as well as add or subtract matrices with equal shapes.\n",
    "\n",
    "$$\n",
    "2 \\begin{bmatrix} a_{1} & b_{1} \\\\ a_{2} & b_{2} \\end{bmatrix} + 3 \\begin{bmatrix} c_{1} & d_{1} \\\\ c_{2} & d_{2} \\end{bmatrix} = \\begin{bmatrix} 2a_{1} + 3c_{1} & 2b_{1} + 3d_{1} \\\\ 2a_{2} + 3c_{2} & 2b_{2} + 3d_{2} \\end{bmatrix}\n",
    "$$\n",
    "\n",
    "A new and important operation we can now perform is matrix multiplication. Matrix multiplication works by computing the dot product between each row of the first matrix and each column of the second matrix. For example, in computing *AB = C*, element (1,2) of the matrix product *C* will be the dot product of row 1 of matrix *A* and column 2 of matrix *B*. The animation to the right walks through the multiplication of two matrices showing the dot product between each row and column.\n",
    "\n",
    "An important rule about matrix multiplication is that the shapes of the two matrices *AB* must be such that the number of columns in *A* is equal to the number of rows in *B*. With this condition satisfied, the resulting matrix product will be the shape of *rowsA x columnsB*. For example, in the animation to the right, the product of a 2x3 matrix and a 3x2 matrix ends up being a 2x2 matrix.\n",
    "\n",
    "Based on how we compute the product matrix with dot products and the importance of having correctly shaped matrices, we can see that matrix multiplication is not commutative, *AB ≠ BA*. However, we can also see that matrix multiplication is associative, *A(BC) = (AB)C*.\n"
   ]
  },
  {
   "cell_type": "markdown",
   "metadata": {},
   "source": [
    "## Instructions\n",
    "\n",
    "Here are some optional matrix algebra practice questions!\n",
    "\n",
    "### Matrix Addition Practice Question\n",
    "\n",
    "$$\n",
    "\\begin{bmatrix} 1 & 6 \\\\ 3 & 2 \\end{bmatrix} + \\begin{bmatrix} 2 & 1 \\\\ 5 & 6 \\end{bmatrix}\n",
    "$$\n",
    "\n",
    "<details>\n",
    "    <summary>Answer</summary>\n",
    "\n",
    "$$\n",
    "\\begin{bmatrix} 3 & 7 \\\\ 8 & 8 \\end{bmatrix}\n",
    "$$\n",
    "</details>\n",
    "\n",
    "### Scalar Multiplication Practice Question\n",
    "\n",
    "$$\n",
    "2 \\cdot \\begin{bmatrix} 3 & 5 \\\\ -2 & 12 \\end{bmatrix}\n",
    "$$\n",
    "\n",
    "<details>\n",
    "    <summary>Answer</summary>\n",
    "\n",
    "$$\n",
    "\\begin{bmatrix} 6 & 10 \\\\ -4 & 24 \\end{bmatrix}\n",
    "$$\n",
    "</details>\n",
    "\n",
    "### Matrix Multiplication Practice Question\n",
    "\n",
    "$$\n",
    "\\begin{bmatrix} 1 & 6 \\\\ 3 & 2 \\end{bmatrix} \\cdot \\begin{bmatrix} 2 & 1 \\\\ 5 & 6 \\end{bmatrix}\n",
    "$$\n",
    "\n",
    "<details>\n",
    "    <summary>Answer</summary>\n",
    "\n",
    "$$\n",
    "\\begin{bmatrix} 32 & 37 \\\\ 16 & 15 \\end{bmatrix}\n",
    "$$\n",
    "</details>\n"
   ]
  },
  {
   "cell_type": "markdown",
   "metadata": {},
   "source": [
    "<iframe src=\"https://content.codecademy.com/courses/deeplearning-with-tensorflow/deep-learning-math/matrix_interactive/index.html\" width=\"100%\" height=\"600px\" style=\"border: 0\">"
   ]
  }
 ],
 "metadata": {
  "interpreter": {
   "hash": "e7370f93d1d0cde622a1f8e1c04877d8463912d04d973331ad4851f04de6915a"
  },
  "kernelspec": {
   "display_name": "Python 3.10.2 64-bit",
   "language": "python",
   "name": "python3"
  },
  "language_info": {
   "name": "python",
   "version": "3.10.2"
  },
  "orig_nbformat": 4
 },
 "nbformat": 4,
 "nbformat_minor": 2
}

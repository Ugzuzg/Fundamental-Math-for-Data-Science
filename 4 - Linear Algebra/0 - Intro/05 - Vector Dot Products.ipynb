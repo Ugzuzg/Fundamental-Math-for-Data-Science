{
 "cells": [
  {
   "cell_type": "markdown",
   "metadata": {},
   "source": [
    "# Vector Dot Products\n",
    "\n",
    "An important vector operation in linear algebra is the *dot product*. A dot product takes two equal dimension vectors and returns a single scalar value by summing the products of the vectors’ corresponding components. This can be written out formulaically as:\n",
    "\n",
    "$$\n",
    "a \\cdot b = \\sum\\limits_{i=1}^{n} a_{i}b_{i}\n",
    "$$\n",
    "\n",
    "The dot product operation is both commutative *(a · b = b · a)* and distributive *(a · (b+c) = a · b + a · c)*.\n",
    "\n",
    "The resulting scalar value represents how much one vector “goes into” the other vector. If two vectors are perpendicular (or orthogonal), their dot product is equal to 0, as neither vector “goes into the other.”\n",
    "\n",
    "Let’s take a look at an example dot product. Consider the following two vectors:\n",
    "\n",
    "$$\n",
    "a = \\begin{bmatrix} 3 \\\\ 2 \\\\ -3 \\end{bmatrix}, b = \\begin{bmatrix} 0 \\\\ -3 \\\\ -6 \\end{bmatrix}\n",
    "$$\n",
    "\n",
    "To find the dot product between these two vectors, we do the following:\n",
    "\n",
    "$$\n",
    "a \\cdot b = 3*0 + 2*-3 + -3*-6 = 12\n",
    "$$\n",
    "\n",
    "The dot product can also be used to find the magnitude of a vector and the angle between two vectors. To find the magnitude, we can reference Exercise 2 and see that the magnitude of a vector is simply the square root of a vector’s dot product with itself.\n",
    "\n",
    "$$\n",
    "||a|| = \\sqrt{a \\cdot a}\n",
    "$$\n",
    "\n",
    "To find the angle between two vectors, we rely on the dot product between the two vectors and use the following equation.\n",
    "\n",
    "$$\n",
    "\\theta = \\arccos{ \\frac{a \\cdot b}{||a|| ||b||}}\n",
    "$$\n",
    "\n",
    "Let’s look at the same two vectors from above:\n",
    "\n",
    "$$\n",
    "a = \\begin{bmatrix} 3 \\\\ 2 \\\\ -3 \\end{bmatrix} b = \\begin{bmatrix} 0 \\\\ -3 \\\\ -6 \\end{bmatrix}\n",
    "$$\n",
    "\n",
    "To find the angle between these two vectors, we do the following:\n",
    "\n",
    "$$\n",
    "\\theta = \\arccos{ \\frac{3*0 + 2*-3 + -3*-6 }{\\sqrt{(3)^2+(2)^2+(-3)^2}*\\sqrt{(0)^2+(-3)^2+(-6)^2}}}\n",
    "$$\n",
    "\n",
    "Solving this, we end up with:\n",
    "\n",
    "$$\n",
    "\\theta = 67.58 \\degree\n",
    "$$\n"
   ]
  },
  {
   "cell_type": "markdown",
   "metadata": {},
   "source": [
    "## Instructions\n",
    "\n",
    "We have another exciting vector applet for you! This time this one shows the dot product and angle between two vectors. Play around with it to get a sense of how it works.\n",
    "\n",
    "Using the applet, attempt to do the following:\n",
    "\n",
    "- Find two vectors that are orthogonal (perpendicular to each other).\n",
    "- Figure out when the dot product between two vectors is highest. (Hint: when does a vector “go into” another vector the most?)\n",
    "\n",
    "Now let’s use it to help with the following practice problem.\n",
    "\n",
    "Find the dot product and angle between the following sets of vectors:\n",
    "\n",
    "$$\n",
    "a = \\begin{bmatrix} -17 \\\\ 22 \\end{bmatrix}, b = \\begin{bmatrix} 0 \\\\ 32 \\end{bmatrix}\n",
    "$$\n",
    "\n",
    "Does your answer correspond to what you find in the applet? (Note: it may be tough to get to the exact values, but you can use approximate values to check your answer!)\n"
   ]
  },
  {
   "cell_type": "markdown",
   "metadata": {},
   "source": [
    "<iframe src=\"https://static-assets.codecademy.com/skillpaths/ds-math/vector-dot-product/index.html\" width=\"100%\" height=\"600px\" style=\"border: 0\">"
   ]
  }
 ],
 "metadata": {
  "interpreter": {
   "hash": "e7370f93d1d0cde622a1f8e1c04877d8463912d04d973331ad4851f04de6915a"
  },
  "kernelspec": {
   "display_name": "Python 3.10.2 64-bit",
   "language": "python",
   "name": "python3"
  },
  "language_info": {
   "name": "python",
   "version": "3.10.2"
  },
  "orig_nbformat": 4
 },
 "nbformat": 4,
 "nbformat_minor": 2
}

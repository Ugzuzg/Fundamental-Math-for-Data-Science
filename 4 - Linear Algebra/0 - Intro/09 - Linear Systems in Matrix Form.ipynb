{
 "cells": [
  {
   "cell_type": "markdown",
   "metadata": {},
   "source": [
    "# Linear Systems in Matrix Form\n",
    "\n",
    "An extremely useful application of matrices is for solving systems of linear equations. Consider the following system of equations in its algebraic form.\n",
    "\n",
    "$$\n",
    "a_1 x + b_1 y + c_1 z = d_1 \\\\ a_2 x + b_2 y + c_2 z = d_2 \\\\ a_3 x + b_3 y + c_3 z = d_3\n",
    "$$\n",
    "\n",
    "This system of equations can be represented using vectors and their linear combination operations that we discussed in the previous exercise. We combine the coefficients of the same unknown variables, as well as the equation solutions, into vectors. These vectors are then scalar multiplied by their unknown variable and summed.\n",
    "\n",
    "$$\n",
    "x \\begin{bmatrix} a_1 \\\\ a_2 \\\\ a_3 \\\\ \\end{bmatrix} + y \\begin{bmatrix} b_1 \\\\ b_2 \\\\ b_3 \\\\ \\end{bmatrix} + z \\begin{bmatrix} c_1 \\\\ c_2 \\\\ c_3 \\\\ \\end{bmatrix} = \\begin{bmatrix} d_1 \\\\ d_2 \\\\ d_3 \\\\ \\end{bmatrix}\n",
    "$$\n",
    "\n",
    "Our final goal is going to be to represent this system in form *Ax = b*, using matrices and vectors. As we learned earlier, we can combine vectors to create a matrix, which we’ll do with the coefficient vectors to create matrix *A*. We can also convert the unknown variables into vector *x*. We end up with the following *Ax = b* form:\n",
    "\n",
    "$$\n",
    "\\begin{bmatrix} a_1 & b_1 & c_1 \\\\ a_2 & b_2 & c_2 \\\\ a_3 & b_3 & c_3 \\\\ \\end{bmatrix} \\begin{bmatrix} x \\\\ y \\\\ z \\\\ \\end{bmatrix} = \\begin{bmatrix} d_1 \\\\ d_2 \\\\ d_3 \\\\ \\end{bmatrix}\n",
    "$$\n",
    "\n",
    "Click below if you would like to see how these two expressions are equivalent:\n",
    "\n",
    "$$\n",
    "\\begin{bmatrix} a_1 & b_1 & c_1 \\\\ a_2 & b_2 & c_2 \\\\ a_3 & b_3 & c_3 \\\\ \\end{bmatrix} \\begin{bmatrix} x \\\\ y \\\\ z \\\\ \\end{bmatrix} = x \\begin{bmatrix} a_1 \\\\ a_2 \\\\ a_3 \\\\ \\end{bmatrix} + y \\begin{bmatrix} b_1 \\\\ b_2 \\\\ b_3 \\\\ \\end{bmatrix} + z \\begin{bmatrix} c_1 \\\\ c_2 \\\\ c_3 \\\\ \\end{bmatrix}\n",
    "$$\n",
    "\n",
    "<details>\n",
    "    <summary>Click to see proof</summary>\n",
    "\n",
    "1. First Step: Matrix Multiplication\n",
    "\n",
    "$$\n",
    "\\begin{bmatrix} a_1 & b_1 & c_1 \\\\ a_2 & b_2 & c_2 \\\\ a_3 & b_3 & c_3 \\\\ \\end{bmatrix} \\begin{bmatrix} x \\\\ y \\\\ z \\\\ \\end{bmatrix} = \\begin{bmatrix} a_1x+b_1y+c_1z\\\\ a_2x+b_2y+c_2z \\\\ a_3x+b_3y+c_3z \\\\ \\end{bmatrix}\n",
    "$$\n",
    "\n",
    "2. Second Step: Separate Terms\n",
    "\n",
    "$$\n",
    "\\begin{bmatrix} a_1x+b_1y+c_1z\\\\ a_2x+b_2y+c_2z \\\\ a_3x+b_3y+c_3z \\\\ \\end{bmatrix} = \\begin{bmatrix} a_1x \\\\ a_2x \\\\ a_3x \\end{bmatrix} + \\begin{bmatrix} b_1y \\\\ b_2y \\\\ b_3y \\end{bmatrix} + \\begin{bmatrix} c_1z \\\\ c_2z \\\\ c_3z \\end{bmatrix}\n",
    "$$\n",
    "\n",
    "3. Third Step: Take out the Coefficients\n",
    "\n",
    "$$\n",
    "\\begin{bmatrix} a_1x \\\\ a_2x \\\\ a_3x \\end{bmatrix} + \\begin{bmatrix} b_1y \\\\ b_2y \\\\ b_3y \\end{bmatrix} + \\begin{bmatrix} c_1z \\\\ c_2z \\\\ c_3z \\end{bmatrix} = x\\begin{bmatrix} a_1 \\\\ a_2 \\\\ a_3 \\end{bmatrix} + y\\begin{bmatrix} b_1 \\\\ b_2 \\\\ b_3 \\end{bmatrix} + z\\begin{bmatrix} c_1 \\\\ c_2 \\\\ c_3 \\end{bmatrix}\n",
    "$$\n",
    "\n",
    "4. Therefore, we can say:\n",
    "\n",
    "$$\n",
    "\\begin{bmatrix} a_1 & b_1 & c_1 \\\\ a_2 & b_2 & c_2 \\\\ a_3 & b_3 & c_3 \\\\ \\end{bmatrix} \\begin{bmatrix} x \\\\ y \\\\ z \\\\ \\end{bmatrix} = x\\begin{bmatrix} a_1 \\\\ a_2 \\\\ a_3 \\end{bmatrix} + y\\begin{bmatrix} b_1 \\\\ b_2 \\\\ b_3 \\end{bmatrix} + z\\begin{bmatrix} c_1 \\\\ c_2 \\\\ c_3 \\end{bmatrix}\n",
    "$$\n",
    "</details>\n",
    "\n",
    "We can also write Ax = b in the following form:\n",
    "\n",
    "$$\n",
    "Ax = b \\rightarrow \\begin{bmatrix} A \\bigm| b \\end{bmatrix}\n",
    "$$\n",
    "\n",
    "This means we can write our *Ax = b* equation above as:\n",
    "\n",
    "$$\n",
    "\\begin{bmatrix} a_1 & b_1 & c_1 \\\\ a_2 & b_2 & c_2 \\\\ a_3 & b_3 & c_3 \\\\ \\end{bmatrix} \\begin{bmatrix} x \\\\ y \\\\ z \\\\ \\end{bmatrix} = \\begin{bmatrix} d_1 \\\\ d_2 \\\\ d_3 \\\\ \\end{bmatrix} \\rightarrow \\begin{bmatrix} a_{1} & b_{1} & c_{1} \\bigm| d_{1} \\\\ a_{2} & b_{2} & c_{2} \\bigm| d_{2} \\\\ a_{3} & b_{3} & c_{3} \\bigm| d_{3} \\\\ \\end{bmatrix}\n",
    "$$\n",
    "\n",
    "This is what is known as an *augmented matrix*, and we will use these in the following exercises to solve for linear systems!\n"
   ]
  },
  {
   "cell_type": "markdown",
   "metadata": {},
   "source": [
    "## Instructions\n",
    "\n",
    "To the right is a blank augmented matrix. In each of the boxes, you can type in a number. Type in numbers such that the augmented matrix represents the following system of linear equations:\n",
    "\n",
    "$$\n",
    "-3x + 2z = 4 \\\\ -5y + 10z = 6 \\\\ 2x + 3y - 3z = 8\n",
    "$$\n",
    "\n",
    "When each number has been typed in correctly, the matrix should turn green and signal that you have the correct augmented matrix!\n",
    "\n",
    "If you get stuck, you can click below to see the solution.\n",
    "\n",
    "<details>\n",
    "    <summary>Solution</summary>\n",
    "\n",
    "![The solution matrix](./assets/augmented-matrix.png)\n",
    "</details>\n"
   ]
  },
  {
   "cell_type": "markdown",
   "metadata": {},
   "source": [
    "<iframe src=\"https://static-assets.codecademy.com/skillpaths/ds-math/linear-system/index.html\" width=\"100%\" height=\"600px\" style=\"border: 0\">"
   ]
  }
 ],
 "metadata": {
  "interpreter": {
   "hash": "e7370f93d1d0cde622a1f8e1c04877d8463912d04d973331ad4851f04de6915a"
  },
  "kernelspec": {
   "display_name": "Python 3.10.2 64-bit",
   "language": "python",
   "name": "python3"
  },
  "language_info": {
   "name": "python",
   "version": "3.10.2"
  },
  "orig_nbformat": 4
 },
 "nbformat": 4,
 "nbformat_minor": 2
}

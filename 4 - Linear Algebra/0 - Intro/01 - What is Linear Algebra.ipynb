{
 "cells": [
  {
   "cell_type": "markdown",
   "metadata": {},
   "source": [
    "# What is Linear Algebra?\n",
    "\n",
    "**Learn about what linear algebra is and how it is relevant for data science!**\n",
    "\n",
    "Linear algebra focuses on the mathematics surrounding linear operations and solving systems of linear equations. While most of us learned about basic linear operations in algebra classes in high school and middle school, “linear algebra” extends these lessons to apply to multi-dimensional data.\n",
    "\n",
    "The reality is that many engineering optimization problems can be reduced to systems of linear equations, albeit systems with many equations and many variables. By simplifying problems, we can solve for a solution or set of solutions.\n",
    "\n",
    "Let’s imagine a problem where we can do this. We have a section of town containing four roads and four intersections. We are trying to find the number of cars along the roads in between the intersections and have data about the number of cars departing intersections outside this road system. How can we find out our missing car counts?\n",
    "\n",
    "To solve the problem mathematically, we can realize that this system can be modeled as a system of linear equations since the number of cars entering an intersection must equal the number leaving an intersection. We can visualize the data on the diagram below.\n",
    "\n",
    "![title](./assets/road-diagram.svg)\n",
    "\n",
    "This creates a straightforward system, written out below— one that we can solve without linear algebra techniques.\n",
    "\n",
    "$$\n",
    "20+d = 50+a \\\\ 25+a = 30+b \\\\ 60+b = 30+c \\\\ 40+c = 35+d\n",
    "$$\n",
    "\n",
    "Now, what if we extend this problem to the entire city of Manhattan? And now only provide inconsistent intersection counts, requiring us to solve for many unknown road segment car counts? In this case, we can still set the problem up as an extensive system of linear equations, but we quickly realize that solving for those unknown car counts by hand is impossible. This is where linear algebra will come in and allow us to solve these complex problems.\n",
    "\n",
    "## Coming Up\n",
    "\n",
    "In the upcoming content, we will look at two important linear algebra data structures that can store high-dimensional data. This data can be actual numerical data like one might see on a spreadsheet or representative data like if we need to represent a large system of equations. We will learn how to perform various operations between these data structures and use these techniques to solve systems of linear equations.\n",
    "\n",
    "As mentioned earlier, linear algebra is fundamental because it allows us to mathematically operate on large amounts of data, which is vital to modern data science techniques. There are many real-world applications of linear algebra, some of which we will cover in the coming exercises and lessons, including:\n",
    "\n",
    "- Solving systems of linear equations, especially those with many variables and cannot be reasonably solved by hand.\n",
    "- Efficient computation of linear transformation on large quantities of data. Throughout this lesson, we will go into great detail on data structures that hold large amounts of data (vectors and matrices) and their various operations that allow us to apply linear transforms. Computer programs and hardware like GPU’s have been optimized around these linear algebra data structures to enable much of the high-performance computing advances.\n",
    "- Computer graphics, especially video games, rely heavily on linear algebra to render images quickly and efficiently.\n",
    "- Machine learning and advances in deep learning, whose foundations are matrix and vector multiplication and addition.\n",
    "\n",
    "Happy coding!\n"
   ]
  }
 ],
 "metadata": {
  "interpreter": {
   "hash": "e7370f93d1d0cde622a1f8e1c04877d8463912d04d973331ad4851f04de6915a"
  },
  "kernelspec": {
   "display_name": "Python 3.10.2 64-bit",
   "language": "python",
   "name": "python3"
  },
  "language_info": {
   "name": "python",
   "version": "3.10.2"
  },
  "orig_nbformat": 4
 },
 "nbformat": 4,
 "nbformat_minor": 2
}

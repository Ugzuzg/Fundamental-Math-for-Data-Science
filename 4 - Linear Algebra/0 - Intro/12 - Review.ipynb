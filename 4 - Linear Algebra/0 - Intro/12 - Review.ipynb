{
 "cells": [
  {
   "cell_type": "markdown",
   "metadata": {},
   "source": [
    "# Review\n",
    "\n",
    "In this lesson, we learned about the fundamental building blocks of linear algebra: vectors and matrices, their important operations, and how to use them to solve important problems.\n",
    "\n",
    "We discussed that vectors are quantities that include both direction and magnitude, and can hold two or more elements of data. These vectors can be multiplied by scalars and be added together with other vectors of the same dimension. Additionally, we found that the dot product, the amount that one vector goes into the other, can be calculated as the sum of the product of corresponding elements.\n",
    "\n",
    "We then transitioned to matrices, which are quantities that hold rows and columns of data. Matrices can be constructed by combining vectors as the columns of a matrix. Matrices also have similar operations to vectors in terms of scalar multiplication and the addition of same-sized matrices. We were also introduced to matrix multiplication, where the product of two matrices is determined by taking the dot products of the rows and columns of the two matrices being multiplied.\n",
    "\n",
    "Finally, we learned how to use both vectors and matrices to efficiently solve systems of linear equations. A traditional set of *n* equations for *n* unknown variables can be represented in the form *Ax = b*. Solving for *x* in this form is done by using Gauss-Jordan elimination. We additionally use Gauss-Jordan elimination to find the potential inverse of square matrices.\n"
   ]
  },
  {
   "cell_type": "markdown",
   "metadata": {},
   "source": [
    "![](./assets/lin-alg-graph.webp)"
   ]
  }
 ],
 "metadata": {
  "interpreter": {
   "hash": "e7370f93d1d0cde622a1f8e1c04877d8463912d04d973331ad4851f04de6915a"
  },
  "kernelspec": {
   "display_name": "Python 3.10.2 64-bit",
   "language": "python",
   "name": "python3"
  },
  "language_info": {
   "name": "python",
   "version": "3.10.2"
  },
  "orig_nbformat": 4
 },
 "nbformat": 4,
 "nbformat_minor": 2
}

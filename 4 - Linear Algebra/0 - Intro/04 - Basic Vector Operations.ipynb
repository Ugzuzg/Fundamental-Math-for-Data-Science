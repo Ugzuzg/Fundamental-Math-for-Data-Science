{
 "cells": [
  {
   "cell_type": "markdown",
   "metadata": {},
   "source": [
    "# Basic Vector Operations\n",
    "\n",
    "Now that we know what a vector is and how to represent one, we can begin to perform various operations on vectors and between different vectors. As we’ve previously discussed, the basis of linear algebra is the linear combinations we can generate between vectors (and matrices).\n",
    "\n",
    "## Scalar Multiplication\n",
    "\n",
    "Any vector can be multiplied by a scalar, which results in every element of that vector being multiplied by that scalar individually.\n",
    "\n",
    "$$\n",
    "k \\begin{bmatrix} x \\\\ y \\\\ z \\end{bmatrix} = \\begin{bmatrix} kx \\\\ ky \\\\ kz \\end{bmatrix}\n",
    "$$\n",
    "\n",
    "Multiplying vectors by scalars is an *associative operation*, meaning that rearranging the parentheses in the expression does not change the result. For example, we can say *2(a3) = (2a)3*.\n",
    "\n",
    "## Vector Addition and Subtraction\n",
    "\n",
    "Vectors can be added and subtracted from each other when they are of the same dimension (same number of components). Doing so adds or subtracts corresponding elements, resulting in a new vector of the same dimension as the two being summed or subtracted. Below is an example of three-dimensional vectors being added and subtracted together.\n",
    "\n",
    "$$\n",
    "\\begin{bmatrix} x_{1} \\\\ y_{1} \\\\ z_{1} \\end{bmatrix} + 2 \\begin{bmatrix} x_{2} \\\\ y_{2} \\\\ z_{2} \\end{bmatrix} - 3 \\begin{bmatrix} x_{3} \\\\ y_{3} \\\\ z_{3} \\end{bmatrix} = \\begin{bmatrix} x_{1} + 2x_{2} - 3x_{3} \\\\ y_{1} + 2y_{2} - 3y_{3}\\\\ z_{1} + 2z_{2} - 3z_{3} \\end{bmatrix}\n",
    "$$\n",
    "\n",
    "Vector addition is *commutative*, meaning the order of the terms does not matter. For example, we can say *(a+b = b+a)*. Vector addition is also associative, meaning that *(a + (b+c) = (a+b) + c)*.\n"
   ]
  },
  {
   "cell_type": "markdown",
   "metadata": {},
   "source": [
    "## Instructions\n",
    "\n",
    "The applet to the right is very similar to the one from the previous exercise. However, this one allows you to play around with two vectors (red and blue) and view their resulting summation. To drag either *vector a* (red) or *vector b* (blue) around, click on the arrowhead and move it with your mouse. *Vector a + b* (purple) will move based on the resulting summation (but you cannot move it directly with your mouse).\n",
    "\n",
    "Below are some practice problems. For the vector summation ones, you can use the applet to help.\n",
    "\n",
    "### Practice Problems\n",
    "\n",
    "Answer the following scalar multiplication problem. Click the solution below to verify your answer.\n",
    "\n",
    "$$\n",
    "3 \\begin{bmatrix} 2 \\\\ -7 \\\\ 1 \\end{bmatrix}\n",
    "$$\n",
    "\n",
    "<details>\n",
    "    <summary>Solution</summary>\n",
    "\n",
    "![The final answer is v = ](./assets/vector-ops-solution-1.png)\n",
    "</details>\n",
    "\n",
    "Answer the following vector addition problem. Click the solution below to verify your answer. Feel free to use the applet to verify it as well!\n",
    "\n",
    "$$\n",
    "\\begin{bmatrix} 10 \\\\ -7 \\\\ \\end{bmatrix} + \\begin{bmatrix} -14 \\\\ 7 \\\\ \\end{bmatrix}\n",
    "$$\n",
    "\n",
    "<details>\n",
    "    <summary>Solution</summary>\n",
    "\n",
    "![The final answer](./assets/vector-solution-2.png)\n",
    "</details>\n",
    "\n",
    "Finally, let’s do a more challenging one!\n",
    "\n",
    "$$\n",
    "\\begin{bmatrix} 14 \\\\ -3 \\\\ 2 \\end{bmatrix} + 7 \\begin{bmatrix} -1 \\\\ 3 \\\\ -5 \\end{bmatrix} - 5 \\begin{bmatrix} 6 \\\\ -4 \\\\ -1 \\end{bmatrix}\n",
    "$$\n",
    "\n",
    "<details>\n",
    "    <summary>Solution</summary>\n",
    "\n",
    "![The final answer ](./assets/vector-op-solution-3.png)\n",
    "</details>\n"
   ]
  },
  {
   "cell_type": "markdown",
   "metadata": {},
   "source": [
    "<iframe src=\"https://static-assets.codecademy.com/skillpaths/ds-math/addition-vectors/index.html\" width=\"100%\" height=\"600px\" style=\"border: 0\">"
   ]
  }
 ],
 "metadata": {
  "interpreter": {
   "hash": "e7370f93d1d0cde622a1f8e1c04877d8463912d04d973331ad4851f04de6915a"
  },
  "kernelspec": {
   "display_name": "Python 3.10.2 64-bit",
   "language": "python",
   "name": "python3"
  },
  "language_info": {
   "name": "python",
   "version": "3.10.2"
  },
  "orig_nbformat": 4
 },
 "nbformat": 4,
 "nbformat_minor": 2
}

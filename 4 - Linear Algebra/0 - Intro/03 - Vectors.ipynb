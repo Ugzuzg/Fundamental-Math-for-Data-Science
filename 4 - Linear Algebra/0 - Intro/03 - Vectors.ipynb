{
 "cells": [
  {
   "cell_type": "markdown",
   "metadata": {},
   "source": [
    "# Vectors\n",
    "\n",
    "The fundamental building blocks of linear algebra are *vectors*. Vectors are defined as quantities having both direction and magnitude, compared to *scalar* quantities that only have magnitude. In order to have direction and magnitude, vector quantities consist of two or more elements of data. The *dimensionality* of a vector is determined by the number of numerical elements in that vector. For example, a vector with four elements would have a dimensionality of four.\n",
    "\n",
    "Let’s take a look at examples of a scalar versus a vector. A car driving at a speed of 40mph is a scalar quantity. Describing the car driving 40mph to the east would represent a two-dimensional vector quantity since it has a magnitude in both the *x* and *y* directions.\n",
    "\n",
    "Vectors can be represented as a series of numbers enclosed in parentheses, angle brackets, or square brackets. In this lesson, we will use square brackets for consistency. For example, a three-dimensional vector is written as:\n",
    "\n",
    "$$\n",
    "v = \\begin{bmatrix} x \\\\ y \\\\ z \\end{bmatrix}\n",
    "$$\n",
    "\n",
    "The magnitude (or length) of a vector, *||v||*, can be calculated with the following formula:\n",
    "\n",
    "$$\n",
    "||v|| = \\sqrt{\\sum\\limits_{i=1}^{n} v_{i}^2}\n",
    "$$\n",
    "\n",
    "This formulates translates to the sum of each vector component squared, which can be also written out as:\n",
    "\n",
    "$$\n",
    "||v|| = \\sqrt{v_{1}^2 + v_{2}^2 + \\dots + v_{n}^2}\n",
    "$$\n",
    "\n",
    "Let’s look at an example. We are told that a ball is traveling through the air and given the velocities of that ball in its *x*, *y*, and *z* directions in a standard Cartesian coordinate system. The velocity component values are:\n",
    "\n",
    "- x = -12\n",
    "- y = 8\n",
    "- z = -2\n",
    "\n",
    "Convert the velocities into a vector, and find the total speed of the ball. (Hint: the speed of the ball is the magnitude of the velocity vector!)\n",
    "\n",
    "Click the dropdown below to check your answers!\n",
    "\n",
    "<details>\n",
    "    <summary>Solution</summary>\n",
    "\n",
    "![](./assets/vector-solution.webp)\n",
    "</details>\n",
    "\n"
   ]
  },
  {
   "cell_type": "markdown",
   "metadata": {},
   "source": [
    "## Instructions\n",
    "\n",
    "The applet to the right allows you to play around with the *x* and *y* components of a vector. By clicking on the arrowhead of the red vector you can drag it around the *xy*-plane. You will notice that the magnitude is automatically calculated for you as well. Note that the magnitude is always positive.\n",
    "\n",
    "Use this applet and/or mathematical calculation to find the magnitudes of the following vectors:\n",
    "\n",
    "$$\n",
    "a = \\begin{bmatrix} 3 \\\\ - 4\\\\ \\end{bmatrix}\n",
    "$$\n",
    "\n",
    "$$\n",
    "b = \\begin{bmatrix} 0 \\\\ 26 \\\\ \\end{bmatrix}\n",
    "$$\n",
    "\n",
    "$$\n",
    "c = \\begin{bmatrix} 26 \\\\ 0 \\\\ \\end{bmatrix}\n",
    "$$\n",
    "\n",
    "$$\n",
    "d = \\begin{bmatrix} -12 \\\\ 13 \\\\ \\end{bmatrix}\n",
    "$$\n",
    "\n",
    "Note: It may be hard to get to exact values with the applet, but you can use approximations to help verify your mathematical calculations.\n"
   ]
  },
  {
   "cell_type": "markdown",
   "metadata": {},
   "source": [
    "<iframe src=\"https://static-assets.codecademy.com/skillpaths/ds-math/vectors-magnitude/index.html\" width=\"100%\" height=\"600px\" style=\"border: 0\">"
   ]
  }
 ],
 "metadata": {
  "interpreter": {
   "hash": "e7370f93d1d0cde622a1f8e1c04877d8463912d04d973331ad4851f04de6915a"
  },
  "kernelspec": {
   "display_name": "Python 3.10.2 64-bit",
   "language": "python",
   "name": "python3"
  },
  "language_info": {
   "name": "python",
   "version": "3.10.2"
  },
  "orig_nbformat": 4
 },
 "nbformat": 4,
 "nbformat_minor": 2
}

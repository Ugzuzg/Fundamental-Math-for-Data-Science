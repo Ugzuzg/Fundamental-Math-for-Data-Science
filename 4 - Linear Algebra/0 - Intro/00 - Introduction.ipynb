{
 "cells": [
  {
   "cell_type": "markdown",
   "metadata": {},
   "source": [
    "# Introduction: Linear Algebra\n",
    "\n",
    "**Find out what you’ll learn about linear algebra and why it’s important.**\n",
    "\n",
    "## Welcome to Linear Algebra\n",
    "\n",
    "In this unit, we will cover fundamental linear algebra operations for vectors and matrices — including how to represent and solve linear systems of equations.\n",
    "\n",
    "### Why is this important?\n",
    "\n",
    "Vectors and matrices are fundamental building blocks of data science as they are used to organize and manipulate data we feed through learning models. Whether you are just starting your journey in data science or have already played around with machine learning models, learning linear algebra fundamentals is key to your success in understanding advanced data science material.\n",
    "\n",
    "There are many real-world applications of linear algebra, some of which we will cover in the coming exercises and lessons, including:\n",
    "\n",
    "- Efficient computation of linear transformation on large quantities of data. Computer programs and hardware like GPUs have been optimized around these linear algebra data structures to enable much of the high-performance computing advances.\n",
    "- Computer graphics, especially video games, rely heavily on linear algebra to render images quickly and efficiently.\n",
    "- Machine learning and advances in deep learning, whose foundations are matrix and vector multiplication and addition.\n",
    "\n",
    "### What will you learn?\n",
    "\n",
    "At the end of this module, you will be able to:\n",
    "\n",
    "- Perform basic mathematical operations between scalars, vectors, and matrices.\n",
    "- Use vectors and matrices to represent and solve linear systems of equations.\n"
   ]
  }
 ],
 "metadata": {
  "interpreter": {
   "hash": "e7370f93d1d0cde622a1f8e1c04877d8463912d04d973331ad4851f04de6915a"
  },
  "kernelspec": {
   "display_name": "Python 3.10.2 64-bit",
   "language": "python",
   "name": "python3"
  },
  "language_info": {
   "name": "python",
   "version": "3.10.2"
  },
  "orig_nbformat": 4
 },
 "nbformat": 4,
 "nbformat_minor": 2
}

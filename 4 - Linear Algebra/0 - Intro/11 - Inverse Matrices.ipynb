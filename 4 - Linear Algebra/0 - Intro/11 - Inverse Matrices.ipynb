{
 "cells": [
  {
   "cell_type": "markdown",
   "metadata": {},
   "source": [
    "# Inverse Matrices\n",
    "\n",
    "The *inverse of a matrix, A^-1*, is one where the following equation is true:\n",
    "\n",
    "$$\n",
    "AA^{-1} = A^{-1}A = I\n",
    "$$\n",
    "\n",
    "This means that the product of a matrix and its inverse (in either order) is equal to the identity matrix.\n",
    "\n",
    "The inverse matrix is useful in many contexts, one of which includes solving equations with matrices. Imagine we have the following equation:\n",
    "\n",
    "$$\n",
    "xA = BC\n",
    "$$\n",
    "\n",
    "If we are trying to solve for *x*, we need to find a way to isolate that variable. Since we cannot divide matrices, we can multiply both right sides of the equation by the inverse of *A*, resulting in the following:\n",
    "\n",
    "$$\n",
    "xAA^{-1} = BCA^{-1} \\rightarrow x = BCA^{-1}\n",
    "$$\n",
    "\n",
    "An important consideration to keep in mind is that not all matrices have inverses. Those matrices that do not have an inverse are referred to as *singular matrices*.\n",
    "\n",
    "To find the inverse matrix, we can again use Gauss-Jordan elimination. Knowing that *AA^-1 = I*, we can create the augmented matrix *[ A | I ]*, where we attempt to perform row operations such that *[ A | I ] -> [ I | A-1 ]*.\n",
    "\n",
    "One method to find the necessary row operations to convert *A -> I* is to start by creating an upper triangular matrix first, and then work on converting the elements above the diagonal afterward (starting from the bottom right side of the matrix). If the matrix is invertible, this should lead to a matrix with elements equal to 0 except along the diagonal. Each row can then be multiplied by a scalar that leads to the diagonal elements equaling 1 to create the identity matrix.\n"
   ]
  },
  {
   "cell_type": "markdown",
   "metadata": {},
   "source": [
    "## Instructions\n",
    "\n",
    "Let’s walk through an example of solving for an inverse matrix.\n",
    "\n",
    "We have the following matrix:\n",
    "\n",
    "$$\n",
    "A = \\begin{bmatrix} 0 & 2 & 1 \\\\ -1 & -2 & 0 \\\\ -1 & 1 & 2 \\end{bmatrix}\n",
    "$$\n",
    "\n",
    "We will solve for the inverse matrix by going from the form *[ A | I ] –> [ I | A^-1 ]*\n",
    "\n",
    "Let’s follow along with each step of the animation.\n",
    "\n",
    "Step 1. Put system of equations into [ A | I ] form.\n",
    "\n",
    "Step 2. Swap row 1 and row 3.\n",
    "\n",
    "Step 3. Subtract the values of row 1 from the values of row 2 to cancel out the first entry in row 2.\n",
    "\n",
    "Step 4. Cancel out the first two entries of row 3 by adding 3/2 of each value of row 3 to row 2.\n",
    "\n",
    "Step 5. Cancel out the second entry of row 1 by adding triple of each value of row 1 to row 2.\n",
    "\n",
    "Step 6. Cancel out the third entry of row 2 by adding row 3 to -1/4 of each value of row 2.\n",
    "\n",
    "Step 7. Cancel out the third entry of row 1 by adding row 3 to 1/8 of each value of row 1.\n",
    "\n",
    "Step 8.\n",
    "Normalize the diagonals. Each value of row 1 is multiplied by -8/3. Each value of row 2 is multiplied by 4/3. Each value of row 3 is multiplied by -2. We are now in [ I | A^-1 ] form!\n",
    "\n",
    "The inverse matrix is:\n",
    "\n",
    "$$\n",
    "\\begin{bmatrix} -4 & -3 & 2 \\\\ 2 & 1 & -1 \\\\ -3 & -2 & 2 \\\\ \\end{bmatrix}\n",
    "$$\n",
    "\n"
   ]
  },
  {
   "cell_type": "markdown",
   "metadata": {},
   "source": [
    "<iframe src=\"https://static-assets.codecademy.com/skillpaths/ds-math/inverse-matrix-solve/animation.html\" width=\"100%\" height=\"600px\" style=\"border: 0\">"
   ]
  }
 ],
 "metadata": {
  "interpreter": {
   "hash": "e7370f93d1d0cde622a1f8e1c04877d8463912d04d973331ad4851f04de6915a"
  },
  "kernelspec": {
   "display_name": "Python 3.10.2 64-bit",
   "language": "python",
   "name": "python3"
  },
  "language_info": {
   "name": "python",
   "version": "3.10.2"
  },
  "orig_nbformat": 4
 },
 "nbformat": 4,
 "nbformat_minor": 2
}

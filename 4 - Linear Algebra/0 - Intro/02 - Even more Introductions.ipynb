{
 "cells": [
  {
   "cell_type": "markdown",
   "metadata": {},
   "source": [
    "# Introduction\n",
    "\n",
    "Linear algebra is a branch of mathematics that studies linear transformations, including the use of vectors and matrices. Linear algebra enables us to solve problems like linear regression, as well as computational problems that concern large amounts of data (machine learning, computer graphics, etc.).\n",
    "\n",
    "In this lesson, we will learn about the following topics:\n",
    "\n",
    "- Vectors and their basic operations\n",
    "- The dot product between vectors\n",
    "- Matrices and their basic operations\n",
    "- Matrix multiplication and special matrices\n",
    "- Gauss-Jordan Elimination to solve systems of linear equations\n",
    "- Gauss-Jordan Elimination to solve for inverse matrices\n",
    "\n",
    "These topics will give us a solid foundation in linear algebra, providing a strong base to solve more complicated problems like linear regression in future content.\n"
   ]
  },
  {
   "cell_type": "markdown",
   "metadata": {},
   "source": [
    "![](./assets/lin-alg-graph.webp)"
   ]
  }
 ],
 "metadata": {
  "interpreter": {
   "hash": "e7370f93d1d0cde622a1f8e1c04877d8463912d04d973331ad4851f04de6915a"
  },
  "kernelspec": {
   "display_name": "Python 3.10.2 64-bit",
   "language": "python",
   "name": "python3"
  },
  "language_info": {
   "name": "python",
   "version": "3.10.2"
  },
  "orig_nbformat": 4
 },
 "nbformat": 4,
 "nbformat_minor": 2
}

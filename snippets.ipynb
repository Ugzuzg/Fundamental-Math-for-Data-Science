{
 "cells": [
  {
   "cell_type": "markdown",
   "metadata": {},
   "source": [
    "    <details>\n",
    "        <summary>Stuck? Get a hint</summary>\n",
    "    \n",
    "    </details>\n"
   ]
  },
  {
   "cell_type": "markdown",
   "metadata": {},
   "source": [
    "<style>\n",
    ":checked + span {\n",
    "    color: red;\n",
    "}\n",
    ".correct_answer:checked + span {\n",
    "        color: green;\n",
    "}\n",
    "</style>\n",
    "\n",
    "1. Which of the following is the correct way to interpret the parameters `n` and `p` of the binomial distribution?\n",
    "\n",
    "    <div>\n",
    "        <label>\n",
    "            <input type=\"radio\" name=\"quiz1\">\n",
    "            <span>\n",
    "                <code>n</code> is the number of successes we expect to see from all of the trials, and <code>p</code> is the probability of success in each trial.\n",
    "            </span>\n",
    "        </label>\n",
    "    </div>\n",
    "    <div>\n",
    "        <label>\n",
    "            <input class=\"correct_answer\" type=\"radio\" name=\"quiz1\">\n",
    "            <span>\n",
    "                <code>n</code> is the number of trials, and <code>p</code> is the probability of success in each trial.\n",
    "            </span>\n",
    "        </label>\n",
    "    </div>\n",
    "    <div>\n",
    "        <label>\n",
    "            <input type=\"radio\" name=\"quiz1\">\n",
    "            <span>\n",
    "                <code>n</code> is the number of trials, and <code>p</code> is the probability of success over all trials.\n",
    "            </span>\n",
    "        </label>\n",
    "    </div>\n",
    "    <div>\n",
    "        <label>\n",
    "            <input type=\"radio\" name=\"quiz1\">\n",
    "            <span>\n",
    "                <code>n</code> is the number of successes we expect to see from all of the trials, and <code>p</code> is the probability of success over all trials.\n",
    "            </span>\n",
    "        </label>\n",
    "    </div>"
   ]
  }
 ],
 "metadata": {
  "language_info": {
   "name": "python"
  },
  "orig_nbformat": 4
 },
 "nbformat": 4,
 "nbformat_minor": 2
}
